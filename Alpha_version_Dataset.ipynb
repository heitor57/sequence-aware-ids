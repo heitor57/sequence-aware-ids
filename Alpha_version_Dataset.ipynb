{
  "cells": [
    {
      "cell_type": "markdown",
      "metadata": {
        "id": "Bapaz0nWMFKi"
      },
      "source": [
        "# Packages Installs and environment preparation"
      ]
    },
    {
      "cell_type": "code",
      "execution_count": 7,
      "metadata": {
        "id": "jczLjgSfSWeL"
      },
      "outputs": [],
      "source": [
        "# !7z x data/20200425_UOWM_IEC104_Dataset_m_sp_na_1_DoS.7z\n",
        "# !7z x data/20200426_UOWM_IEC104_Dataset_c_ci_na_1.7z\n",
        "# !7z x data/20200426_UOWM_IEC104_Dataset_c_ci_na_1_DoS.7z\n",
        "# !7z x data/20200427_UOWM_IEC104_Dataset_c_se_na_1.7z\n",
        "# !7z x data/20200428_UOWM_IEC104_Dataset_c_sc_na_1.7z\n",
        "# !7z x data/20200428_UOWM_IEC104_Dataset_c_se_na_1_DoS.7z\n",
        "# !7z x data/20200429_UOWM_IEC104_Dataset_c_sc_na_1_DoS.7z\n",
        "# !7z x data/20200605_UOWM_IEC104_Dataset_c_rd_na_1.7z\n",
        "# !7z x data/20200608_UOWM_IEC104_Dataset_mitm_drop.7z\n",
        "# !7z x data/20200606_UOWM_IEC104_Dataset_c_rp_na_1_DoS.7z\n",
        "# !7z x data/20200605_UOWM_IEC104_Dataset_c_rd_na_1_DoS.7z\n",
        "# !7z x data/20200606_UOWM_IEC104_Dataset_c_rp_na_1.7z"
      ]
    },
    {
      "cell_type": "markdown",
      "metadata": {
        "id": "-c29MaM2rpqr"
      },
      "source": [
        "# Imports"
      ]
    },
    {
      "cell_type": "code",
      "execution_count": 8,
      "metadata": {
        "colab": {
          "base_uri": "https://localhost:8080/"
        },
        "id": "VrkVnQL3LZqc",
        "outputId": "54fd20f5-e83c-498d-a334-a310dc1a0e20"
      },
      "outputs": [],
      "source": [
        "from scapy.all import *\n",
        "import pandas as pd\n",
        "# from catboost import CatBoostClassifier\n",
        "# import shap\n",
        "import seaborn as sns\n",
        "# import feature_engine\n",
        "# import feature_engine.encoding\n",
        "import numpy as np\n",
        "# from catboost import Pool\n",
        "import matplotlib.pyplot as plt\n",
        "import matplotlib.ticker as mtick\n",
        "from collections import defaultdict\n",
        "import os\n",
        "# from google.colab import drive\n",
        "# drive.mount('/content/drive')"
      ]
    },
    {
      "cell_type": "markdown",
      "metadata": {
        "id": "Pv1A1aOSjRJB"
      },
      "source": [
        "## Code"
      ]
    },
    {
      "cell_type": "code",
      "execution_count": 9,
      "metadata": {
        "colab": {
          "base_uri": "https://localhost:8080/",
          "height": 38
        },
        "id": "Og05ZbSHKOdG",
        "outputId": "bcb300fa-94cd-4c75-a92c-d75bdf2f6f31"
      },
      "outputs": [
        {
          "data": {
            "text/plain": [
              "'m_sp_na_1_DoS'"
            ]
          },
          "execution_count": 9,
          "metadata": {},
          "output_type": "execute_result"
        }
      ],
      "source": [
        "def get_attack_directory_attack(path):\n",
        "  return path.split('Dataset_')[1]\n",
        "attacks_directories= [\n",
        "                      '20200425_UOWM_IEC104_Dataset_m_sp_na_1_DoS',\n",
        "                      '20200426_UOWM_IEC104_Dataset_c_ci_na_1',\n",
        "                      '20200427_UOWM_IEC104_Dataset_c_se_na_1',\n",
        "                      '20200428_UOWM_IEC104_Dataset_c_sc_na_1',\n",
        "                      '20200605_UOWM_IEC104_Dataset_c_rd_na_1',\n",
        "                      '20200606_UOWM_IEC104_Dataset_c_rp_na_1',\n",
        "                      '20200426_UOWM_IEC104_Dataset_c_ci_na_1_DoS',\n",
        "                      '20200605_UOWM_IEC104_Dataset_c_rd_na_1_DoS',\n",
        "                      '20200606_UOWM_IEC104_Dataset_c_rp_na_1_DoS',\n",
        "                      '20200428_UOWM_IEC104_Dataset_c_se_na_1_DoS',\n",
        "                      '20200429_UOWM_IEC104_Dataset_c_sc_na_1_DoS',\n",
        "                                            # '20200608_UOWM_IEC104_Dataset_mitm_drop'\n",
        "                                            ]\n",
        "devices_to_read = ['qtester','attacker1','attacker2','attacker3']\n",
        "\n",
        "# if '20200425_UOWM_IEC104_Dataset_m_sp_na_1_DoS':\n",
        "#   not\n",
        "get_attack_directory_attack(attacks_directories[0])"
      ]
    },
    {
      "cell_type": "code",
      "execution_count": 10,
      "metadata": {
        "colab": {
          "base_uri": "https://localhost:8080/",
          "height": 523
        },
        "id": "llFq5KkCJTQR",
        "outputId": "0aff67c5-b45d-4783-9048-484fc58fa6c4"
      },
      "outputs": [],
      "source": [
        "a={}\n",
        "for attack_directory in attacks_directories:\n",
        "  for device_to_read in devices_to_read:\n",
        "    pcap_file = f\"data/{attack_directory}/{attack_directory}_{device_to_read}/{attack_directory}_{device_to_read}_iec104_only.pcap\"\n",
        "    if device_to_read != 'qtester' and attack_directory == '20200425_UOWM_IEC104_Dataset_m_sp_na_1_DoS':\n",
        "      continue\n",
        "    packets=rdpcap(pcap_file,count=200)\n",
        "    for packet in packets:\n",
        "      a[len(packet[TCP].payload)] = 1\n",
        "MAX_IEC104_PAYLOAD_BYTES = max(a)"
      ]
    },
    {
      "cell_type": "code",
      "execution_count": 11,
      "metadata": {},
      "outputs": [
        {
          "data": {
            "text/plain": [
              "88"
            ]
          },
          "execution_count": 11,
          "metadata": {},
          "output_type": "execute_result"
        }
      ],
      "source": [
        "MAX_IEC104_PAYLOAD_BYTES"
      ]
    },
    {
      "cell_type": "code",
      "execution_count": 12,
      "metadata": {},
      "outputs": [
        {
          "name": "stdout",
          "output_type": "stream",
          "text": [
            "20200425_UOWM_IEC104_Dataset_m_sp_na_1_DoS\n",
            "20200426_UOWM_IEC104_Dataset_c_ci_na_1\n",
            "20200427_UOWM_IEC104_Dataset_c_se_na_1\n",
            "20200428_UOWM_IEC104_Dataset_c_sc_na_1\n",
            "20200605_UOWM_IEC104_Dataset_c_rd_na_1\n",
            "20200606_UOWM_IEC104_Dataset_c_rp_na_1\n",
            "20200426_UOWM_IEC104_Dataset_c_ci_na_1_DoS\n",
            "20200605_UOWM_IEC104_Dataset_c_rd_na_1_DoS\n",
            "20200606_UOWM_IEC104_Dataset_c_rp_na_1_DoS\n",
            "20200428_UOWM_IEC104_Dataset_c_se_na_1_DoS\n",
            "20200429_UOWM_IEC104_Dataset_c_sc_na_1_DoS\n"
          ]
        }
      ],
      "source": [
        "from pathlib import Path\n",
        "all_packets = []\n",
        "for attack_directory in attacks_directories:\n",
        "#   dfs=[]\n",
        "  print(attack_directory)\n",
        "  for device_to_read in devices_to_read:\n",
        "    if device_to_read != 'qtester' and attack_directory == '20200425_UOWM_IEC104_Dataset_m_sp_na_1_DoS':\n",
        "      continue\n",
        "    pcap_file = f\"./data/{attack_directory}/{attack_directory}_{device_to_read}/{attack_directory}_{device_to_read}_iec104_only.pcap\"\n",
        "    # print(device_to_read,attack_directory)\n",
        "    # df = pd.read_csv(f'/content/{os.path.basename(pcap_file)}.npt', index_col=0)\n",
        "    packets=rdpcap(pcap_file)\n",
        "    if device_to_read != 'qtester':\n",
        "      label = get_attack_directory_attack(attack_directory)\n",
        "    else:\n",
        "      label = 'normal'\n",
        "    all_packets.append([packets,label,get_attack_directory_attack(attack_directory)])\n",
        "    # df['label'] = label\n",
        "    # print(df.columns)\n",
        "    # print(df.index)\n",
        "    # df['flow'] =  df['flow']+'_'+df['label']\n",
        "    # df.index = df.index.map(lambda x: x +'_'+ get_attack_directory_attack(attack_directory))\n",
        "    # df['flow']=df['flow']\n",
        "    # print(df.head())\n",
        "    # dfs.append(df)\n",
        "#   df = pd.concat(dfs)\n",
        "#   df.to_parquet(f\"./data/iec104v2_15.parquet\")"
      ]
    },
    {
      "cell_type": "code",
      "execution_count": 13,
      "metadata": {},
      "outputs": [],
      "source": [
        "def tcp_packet_to_binary(tcp_packet):\n",
        "    \"\"\"\n",
        "    Converts a TCP packet into a binary sequence.\n",
        "    \n",
        "    Args:\n",
        "        tcp_packet (TCP): The TCP packet to be converted.\n",
        "    \n",
        "    Returns:\n",
        "        numpy.ndarray: The binary sequence representing the TCP packet.\n",
        "    \"\"\"\n",
        "    # Extract fields from the TCP packet\n",
        "    sport = tcp_packet.sport\n",
        "    dport = tcp_packet.dport\n",
        "    seq = tcp_packet.seq\n",
        "    ack = tcp_packet.ack\n",
        "    dataofs_reserved = (tcp_packet.dataofs << 4) | tcp_packet.reserved\n",
        "    flags = tcp_packet.flags\n",
        "    window = tcp_packet.window\n",
        "    chksum = tcp_packet.chksum\n",
        "    urgptr = tcp_packet.urgptr\n",
        "\n",
        "    # Convert each field to binary and concatenate to form the binary sequence\n",
        "    binary_sequence = (\n",
        "        format(sport, '016b') +\n",
        "        format(dport, '016b') +\n",
        "        format(seq, '032b') +\n",
        "        format(ack, '032b') +\n",
        "        format(dataofs_reserved, '08b') +\n",
        "        format(flags, '08b') +\n",
        "        format(window, '016b') +\n",
        "        format(chksum, '016b') +\n",
        "        format(urgptr, '016b')\n",
        "    )\n",
        "    \n",
        "    # Convert the binary string to a NumPy array\n",
        "    binary_array = np.array([int(bit) for bit in binary_sequence], dtype=int)\n",
        "    \n",
        "    return binary_array\n",
        "\n",
        "\n",
        "def ipv4_packet_to_binary(ip_packet):\n",
        "    \"\"\"\n",
        "    Converts an IPv4 packet into a binary sequence.\n",
        "    \n",
        "    Args:\n",
        "        ip_packet (IP): The IPv4 packet to be converted.\n",
        "    \n",
        "    Returns:\n",
        "        numpy.ndarray: The binary sequence representing the IPv4 packet.\n",
        "    \"\"\"\n",
        "    # First, ensure that the packet is an IP packet\n",
        "    if not (IP in ip_packet):\n",
        "        raise ValueError(\"The provided packet is not an IP packet.\")\n",
        "    \n",
        "    # Extract source and destination IP addresses and split them into octets\n",
        "    try:\n",
        "        src_ip = ip_packet.src.split('.')\n",
        "        dst_ip = ip_packet.dst.split('.')\n",
        "    except AttributeError:\n",
        "        raise ValueError(\"The packet does not contain standard IP fields.\")\n",
        "\n",
        "    # Convert each field to binary and concatenate to form the binary sequence\n",
        "    binary_sequence = (\n",
        "        format((ip_packet.version << 4) | ip_packet.ihl, '08b') +\n",
        "        format(ip_packet.tos, '08b') +\n",
        "        format(ip_packet.len, '016b') +\n",
        "        format(ip_packet.id, '016b') +\n",
        "        format((ip_packet.flags << 13) | ip_packet.frag, '016b') +\n",
        "        format(ip_packet.ttl, '08b') +\n",
        "        format(ip_packet.proto, '08b') +\n",
        "        format(ip_packet.chksum, '016b') +\n",
        "        ''.join([format(int(octet), '08b') for octet in src_ip]) +\n",
        "        ''.join([format(int(octet), '08b') for octet in dst_ip])\n",
        "    )\n",
        "\n",
        "    # Convert the binary string to a NumPy array\n",
        "    binary_array = np.array([int(bit) for bit in binary_sequence], dtype=int)\n",
        "    \n",
        "    return binary_array"
      ]
    },
    {
      "cell_type": "code",
      "execution_count": 14,
      "metadata": {},
      "outputs": [],
      "source": [
        "def session_extractor(packet,attack):\n",
        "    return str(sorted([attack, \"TCP\", packet[\"IP\"].src, packet[\"TCP\"].sport,\n",
        "                                    packet[\"IP\"].dst, packet[\"TCP\"].dport], key=str))"
      ]
    },
    {
      "cell_type": "code",
      "execution_count": 15,
      "metadata": {},
      "outputs": [],
      "source": [
        "# ipv4_packet_to_binary(all_packets[0][0][0])"
      ]
    },
    {
      "cell_type": "code",
      "execution_count": 25,
      "metadata": {},
      "outputs": [
        {
          "name": "stdout",
          "output_type": "stream",
          "text": [
            "['192.168.1.20', '192.168.1.21', 2404, 50045, 'TCP', 'm_sp_na_1_DoS'] <PacketList: TCP:26601 UDP:0 ICMP:0 Other:0>\n"
          ]
        }
      ],
      "source": [
        "dfs= []\n",
        "for packets, label, attack_directory_attack in all_packets:\n",
        "    session_dict = packets.sessions(lambda x: session_extractor(x,attack_directory_attack))\n",
        "    for k,v in session_dict.items():\n",
        "        print(k,v)\n",
        "        break\n",
        "    # dfs.append(pd.concat({flow_key: build_dataframe(flow) for flow_key, flow in session_dict.items()}))\n",
        "    break"
      ]
    },
    {
      "cell_type": "code",
      "execution_count": 33,
      "metadata": {},
      "outputs": [
        {
          "name": "stdout",
          "output_type": "stream",
          "text": [
            "['192.168.1.21', '192.168.1.28', 2404, 33491, 'TCP', 'c_ci_na_1'] <PacketList: TCP:9 UDP:0 ICMP:0 Other:0>\n",
            "DF\n",
            "DF\n",
            "DF\n",
            "DF\n",
            "DF\n",
            "DF\n",
            "DF\n",
            "DF\n",
            "DF\n"
          ]
        }
      ],
      "source": [
        "dfs= []\n",
        "packets, label, attack_directory_attack = all_packets[2]\n",
        "session_dict = packets.sessions(lambda x: session_extractor(x,attack_directory_attack))\n",
        "for k,v in session_dict.items():\n",
        "    print(k,v)\n",
        "    for i in v:\n",
        "        print(i.flags)\n",
        "    break\n",
        "    # break\n",
        "# dfs.append(pd.concat({flow_key: build_dataframe(flow) for flow_key, flow in session_dict.items()}))\n"
      ]
    },
    {
      "cell_type": "code",
      "execution_count": 17,
      "metadata": {},
      "outputs": [],
      "source": [
        "# dfs.append(pd.concat([build_dataframe(flow) for flow_key, flow in session_dict.items()]))\n"
      ]
    },
    {
      "cell_type": "code",
      "execution_count": 18,
      "metadata": {},
      "outputs": [],
      "source": [
        "# dfs= []\n",
        "# for packets, label, attack_directory_attack in all_packets:\n",
        "#     session_dict = packets.sessions(lambda x: session_extractor(x,attack_directory_attack))\n",
        "#     dfs.append(pd.concat({flow_key: build_dataframe(flow) for flow_key, flow in session_dict.items()}))\n",
        "#     break"
      ]
    },
    {
      "cell_type": "code",
      "execution_count": 19,
      "metadata": {},
      "outputs": [],
      "source": [
        "dfs= pd"
      ]
    },
    {
      "cell_type": "code",
      "execution_count": 20,
      "metadata": {},
      "outputs": [],
      "source": [
        "pcap_file = f\"./data/{attack_directory}/{attack_directory}_{device_to_read}/{attack_directory}_{device_to_read}_iec104_only.pcap\"\n",
        "packets=rdpcap(pcap_file)"
      ]
    },
    {
      "cell_type": "code",
      "execution_count": null,
      "metadata": {},
      "outputs": [],
      "source": []
    },
    {
      "cell_type": "code",
      "execution_count": 21,
      "metadata": {},
      "outputs": [],
      "source": [
        "# # LAST_PACKET_TIME = defaultdict(lambda: 0)  \n",
        "# # TIMEOUT = 0.00000001\n",
        "# def session_extractor(packet,attack):\n",
        "#     return str(sorted([attack, \"TCP\", packet[\"IP\"].src, packet[\"TCP\"].sport,\n",
        "#                                     packet[\"IP\"].dst, packet[\"TCP\"].dport], key=str))\n",
        "# session_dict =packets.sessions(session_extractor)\n",
        "# # len(session_dict)"
      ]
    },
    {
      "cell_type": "code",
      "execution_count": 22,
      "metadata": {},
      "outputs": [
        {
          "ename": "NameError",
          "evalue": "name 'session_dict' is not defined",
          "output_type": "error",
          "traceback": [
            "\u001b[0;31m---------------------------------------------------------------------------\u001b[0m",
            "\u001b[0;31mNameError\u001b[0m                                 Traceback (most recent call last)",
            "Cell \u001b[0;32mIn[22], line 1\u001b[0m\n\u001b[0;32m----> 1\u001b[0m \u001b[38;5;28mlen\u001b[39m(\u001b[43msession_dict\u001b[49m)\n",
            "\u001b[0;31mNameError\u001b[0m: name 'session_dict' is not defined"
          ]
        }
      ],
      "source": [
        "len(session_dict)"
      ]
    },
    {
      "cell_type": "code",
      "execution_count": null,
      "metadata": {},
      "outputs": [],
      "source": [
        "session_dict[\"['192.168.1.19', '192.168.1.29', 2404, 42239, 'TCP']_1588157787\"].show()"
      ]
    },
    {
      "cell_type": "code",
      "execution_count": null,
      "metadata": {},
      "outputs": [],
      "source": []
    },
    {
      "cell_type": "code",
      "execution_count": null,
      "metadata": {},
      "outputs": [
        {
          "ename": "ValueError",
          "evalue": "All arrays must be of the same length",
          "output_type": "error",
          "traceback": [
            "\u001b[0;31m---------------------------------------------------------------------------\u001b[0m",
            "\u001b[0;31mValueError\u001b[0m                                Traceback (most recent call last)",
            "Cell \u001b[0;32mIn[65], line 1\u001b[0m\n\u001b[0;32m----> 1\u001b[0m \u001b[43mpd\u001b[49m\u001b[38;5;241;43m.\u001b[39;49m\u001b[43mDataFrame\u001b[49m\u001b[43m(\u001b[49m\u001b[43msession_dict\u001b[49m\u001b[43m)\u001b[49m\n",
            "File \u001b[0;32m~/miniconda3/lib/python3.12/site-packages/pandas/core/frame.py:767\u001b[0m, in \u001b[0;36mDataFrame.__init__\u001b[0;34m(self, data, index, columns, dtype, copy)\u001b[0m\n\u001b[1;32m    761\u001b[0m     mgr \u001b[38;5;241m=\u001b[39m \u001b[38;5;28mself\u001b[39m\u001b[38;5;241m.\u001b[39m_init_mgr(\n\u001b[1;32m    762\u001b[0m         data, axes\u001b[38;5;241m=\u001b[39m{\u001b[38;5;124m\"\u001b[39m\u001b[38;5;124mindex\u001b[39m\u001b[38;5;124m\"\u001b[39m: index, \u001b[38;5;124m\"\u001b[39m\u001b[38;5;124mcolumns\u001b[39m\u001b[38;5;124m\"\u001b[39m: columns}, dtype\u001b[38;5;241m=\u001b[39mdtype, copy\u001b[38;5;241m=\u001b[39mcopy\n\u001b[1;32m    763\u001b[0m     )\n\u001b[1;32m    765\u001b[0m \u001b[38;5;28;01melif\u001b[39;00m \u001b[38;5;28misinstance\u001b[39m(data, \u001b[38;5;28mdict\u001b[39m):\n\u001b[1;32m    766\u001b[0m     \u001b[38;5;66;03m# GH#38939 de facto copy defaults to False only in non-dict cases\u001b[39;00m\n\u001b[0;32m--> 767\u001b[0m     mgr \u001b[38;5;241m=\u001b[39m \u001b[43mdict_to_mgr\u001b[49m\u001b[43m(\u001b[49m\u001b[43mdata\u001b[49m\u001b[43m,\u001b[49m\u001b[43m \u001b[49m\u001b[43mindex\u001b[49m\u001b[43m,\u001b[49m\u001b[43m \u001b[49m\u001b[43mcolumns\u001b[49m\u001b[43m,\u001b[49m\u001b[43m \u001b[49m\u001b[43mdtype\u001b[49m\u001b[38;5;241;43m=\u001b[39;49m\u001b[43mdtype\u001b[49m\u001b[43m,\u001b[49m\u001b[43m \u001b[49m\u001b[43mcopy\u001b[49m\u001b[38;5;241;43m=\u001b[39;49m\u001b[43mcopy\u001b[49m\u001b[43m,\u001b[49m\u001b[43m \u001b[49m\u001b[43mtyp\u001b[49m\u001b[38;5;241;43m=\u001b[39;49m\u001b[43mmanager\u001b[49m\u001b[43m)\u001b[49m\n\u001b[1;32m    768\u001b[0m \u001b[38;5;28;01melif\u001b[39;00m \u001b[38;5;28misinstance\u001b[39m(data, ma\u001b[38;5;241m.\u001b[39mMaskedArray):\n\u001b[1;32m    769\u001b[0m     \u001b[38;5;28;01mfrom\u001b[39;00m \u001b[38;5;21;01mnumpy\u001b[39;00m\u001b[38;5;21;01m.\u001b[39;00m\u001b[38;5;21;01mma\u001b[39;00m \u001b[38;5;28;01mimport\u001b[39;00m mrecords\n",
            "File \u001b[0;32m~/miniconda3/lib/python3.12/site-packages/pandas/core/internals/construction.py:503\u001b[0m, in \u001b[0;36mdict_to_mgr\u001b[0;34m(data, index, columns, dtype, typ, copy)\u001b[0m\n\u001b[1;32m    499\u001b[0m     \u001b[38;5;28;01melse\u001b[39;00m:\n\u001b[1;32m    500\u001b[0m         \u001b[38;5;66;03m# dtype check to exclude e.g. range objects, scalars\u001b[39;00m\n\u001b[1;32m    501\u001b[0m         arrays \u001b[38;5;241m=\u001b[39m [x\u001b[38;5;241m.\u001b[39mcopy() \u001b[38;5;28;01mif\u001b[39;00m \u001b[38;5;28mhasattr\u001b[39m(x, \u001b[38;5;124m\"\u001b[39m\u001b[38;5;124mdtype\u001b[39m\u001b[38;5;124m\"\u001b[39m) \u001b[38;5;28;01melse\u001b[39;00m x \u001b[38;5;28;01mfor\u001b[39;00m x \u001b[38;5;129;01min\u001b[39;00m arrays]\n\u001b[0;32m--> 503\u001b[0m \u001b[38;5;28;01mreturn\u001b[39;00m \u001b[43marrays_to_mgr\u001b[49m\u001b[43m(\u001b[49m\u001b[43marrays\u001b[49m\u001b[43m,\u001b[49m\u001b[43m \u001b[49m\u001b[43mcolumns\u001b[49m\u001b[43m,\u001b[49m\u001b[43m \u001b[49m\u001b[43mindex\u001b[49m\u001b[43m,\u001b[49m\u001b[43m \u001b[49m\u001b[43mdtype\u001b[49m\u001b[38;5;241;43m=\u001b[39;49m\u001b[43mdtype\u001b[49m\u001b[43m,\u001b[49m\u001b[43m \u001b[49m\u001b[43mtyp\u001b[49m\u001b[38;5;241;43m=\u001b[39;49m\u001b[43mtyp\u001b[49m\u001b[43m,\u001b[49m\u001b[43m \u001b[49m\u001b[43mconsolidate\u001b[49m\u001b[38;5;241;43m=\u001b[39;49m\u001b[43mcopy\u001b[49m\u001b[43m)\u001b[49m\n",
            "File \u001b[0;32m~/miniconda3/lib/python3.12/site-packages/pandas/core/internals/construction.py:114\u001b[0m, in \u001b[0;36marrays_to_mgr\u001b[0;34m(arrays, columns, index, dtype, verify_integrity, typ, consolidate)\u001b[0m\n\u001b[1;32m    111\u001b[0m \u001b[38;5;28;01mif\u001b[39;00m verify_integrity:\n\u001b[1;32m    112\u001b[0m     \u001b[38;5;66;03m# figure out the index, if necessary\u001b[39;00m\n\u001b[1;32m    113\u001b[0m     \u001b[38;5;28;01mif\u001b[39;00m index \u001b[38;5;129;01mis\u001b[39;00m \u001b[38;5;28;01mNone\u001b[39;00m:\n\u001b[0;32m--> 114\u001b[0m         index \u001b[38;5;241m=\u001b[39m \u001b[43m_extract_index\u001b[49m\u001b[43m(\u001b[49m\u001b[43marrays\u001b[49m\u001b[43m)\u001b[49m\n\u001b[1;32m    115\u001b[0m     \u001b[38;5;28;01melse\u001b[39;00m:\n\u001b[1;32m    116\u001b[0m         index \u001b[38;5;241m=\u001b[39m ensure_index(index)\n",
            "File \u001b[0;32m~/miniconda3/lib/python3.12/site-packages/pandas/core/internals/construction.py:677\u001b[0m, in \u001b[0;36m_extract_index\u001b[0;34m(data)\u001b[0m\n\u001b[1;32m    675\u001b[0m lengths \u001b[38;5;241m=\u001b[39m \u001b[38;5;28mlist\u001b[39m(\u001b[38;5;28mset\u001b[39m(raw_lengths))\n\u001b[1;32m    676\u001b[0m \u001b[38;5;28;01mif\u001b[39;00m \u001b[38;5;28mlen\u001b[39m(lengths) \u001b[38;5;241m>\u001b[39m \u001b[38;5;241m1\u001b[39m:\n\u001b[0;32m--> 677\u001b[0m     \u001b[38;5;28;01mraise\u001b[39;00m \u001b[38;5;167;01mValueError\u001b[39;00m(\u001b[38;5;124m\"\u001b[39m\u001b[38;5;124mAll arrays must be of the same length\u001b[39m\u001b[38;5;124m\"\u001b[39m)\n\u001b[1;32m    679\u001b[0m \u001b[38;5;28;01mif\u001b[39;00m have_dicts:\n\u001b[1;32m    680\u001b[0m     \u001b[38;5;28;01mraise\u001b[39;00m \u001b[38;5;167;01mValueError\u001b[39;00m(\n\u001b[1;32m    681\u001b[0m         \u001b[38;5;124m\"\u001b[39m\u001b[38;5;124mMixing dicts with non-Series may lead to ambiguous ordering.\u001b[39m\u001b[38;5;124m\"\u001b[39m\n\u001b[1;32m    682\u001b[0m     )\n",
            "\u001b[0;31mValueError\u001b[0m: All arrays must be of the same length"
          ]
        }
      ],
      "source": [
        "from pathlib import Path\n",
        "for attack_directory in attacks_directories:\n",
        "  dfs=[]\n",
        "  for device_to_read in devices_to_read:\n",
        "    if device_to_read != 'qtester' and attack_directory == '20200425_UOWM_IEC104_Dataset_m_sp_na_1_DoS':\n",
        "      continue\n",
        "    pcap_file = f\"./data/{attack_directory}/{attack_directory}_{device_to_read}/{attack_directory}_{device_to_read}_iec104_only.pcap\"\n",
        "    # print(device_to_read,attack_directory)\n",
        "    # df = pd.read_csv(f'/content/{os.path.basename(pcap_file)}.npt', index_col=0)\n",
        "    packets=rdpcap(pcap_file)\n",
        "    if device_to_read != 'qtester':\n",
        "      label = get_attack_directory_attack(attack_directory)\n",
        "    else:\n",
        "      label = 'normal'\n",
        "\n",
        "    df['label'] = label\n",
        "    # print(df.columns)\n",
        "    # print(df.index)\n",
        "    # df['flow'] =  df['flow']+'_'+df['label']\n",
        "    df.index = df.index.map(lambda x: x +'_'+ get_attack_directory_attack(attack_directory))\n",
        "    # df['flow']=df['flow']\n",
        "    # print(df.head())\n",
        "    dfs.append(df)\n",
        "  df = pd.concat(dfs)\n",
        "  df.to_parquet(f\"./data/iec104v2_15.parquet\")"
      ]
    },
    {
      "cell_type": "code",
      "execution_count": null,
      "metadata": {},
      "outputs": [],
      "source": [
        "\n",
        "from pathlib import Path\n",
        "\n",
        "for attack_directory in attacks_directories:\n",
        "  dfs=[]\n",
        "  for device_to_read in devices_to_read:\n",
        "    if device_to_read != 'qtester' and attack_directory == '20200425_UOWM_IEC104_Dataset_m_sp_na_1_DoS':\n",
        "      continue\n",
        "    pcap_file = f\"/content/{attack_directory}/{attack_directory}_{device_to_read}/{attack_directory}_{device_to_read}_iec104_only.pcap\"\n",
        "    # print(device_to_read,attack_directory)\n",
        "    # df = pd.read_csv(f'/content/{os.path.basename(pcap_file)}.npt', index_col=0)\n",
        "    packets=rdpcap(pcap_file)\n",
        "    if device_to_read != 'qtester':\n",
        "      label = get_attack_directory_attack(attack_directory)\n",
        "    else:\n",
        "      label = 'normal'\n",
        "\n",
        "    df['label'] = label\n",
        "    # print(df.columns)\n",
        "    # print(df.index)\n",
        "    # df['flow'] =  df['flow']+'_'+df['label']\n",
        "    df.index = df.index.map(lambda x: x +'_'+ get_attack_directory_attack(attack_directory))\n",
        "    # df['flow']=df['flow']\n",
        "    # print(df.head())\n",
        "    dfs.append(df)\n",
        "  df = pd.concat(dfs)\n",
        "  df.to_parquet(f\"/content/drive/My Drive/IEC104/{attack_directory}.parquet\")"
      ]
    },
    {
      "cell_type": "code",
      "execution_count": null,
      "metadata": {},
      "outputs": [],
      "source": []
    },
    {
      "cell_type": "code",
      "execution_count": null,
      "metadata": {
        "id": "pyqSUEccnJW0"
      },
      "outputs": [],
      "source": [
        "!wc -l /content/20200429_UOWM_IEC104_Dataset_c_sc_na_1_DoS_attacker2_iec104_only.pcap.npt\n",
        "!head /content/20200429_UOWM_IEC104_Dataset_c_sc_na_1_DoS_attacker2_iec104_only.pcap.npt"
      ]
    },
    {
      "cell_type": "code",
      "execution_count": null,
      "metadata": {
        "id": "u3SqA05XXtcm"
      },
      "outputs": [],
      "source": [
        "# datasets=[]\n",
        "# store=pd.HDFStore('iec104_all.h5')\n",
        "# #     for df in dfs:\n",
        "# #\n",
        "# #     #del dfs\n",
        "# #     df=store.select('iec104')\n",
        "# #     store.close()\n",
        "# #     os.remove('iec104_all.h5')\n",
        "# #     return df\n",
        "# for attack_directory in attacks_directories:\n",
        "#   for device_to_read in devices_to_read:\n",
        "#     if device_to_read != 'qtester' and attack_directory == '20200425_UOWM_IEC104_Dataset_m_sp_na_1_DoS':\n",
        "#       continue\n",
        "#     pcap_file = f\"/content/{attack_directory}/{attack_directory}_{device_to_read}/{attack_directory}_{device_to_read}_iec104_only.pcap\"\n",
        "#     # print(device_to_read,attack_directory)\n",
        "#     df = pd.read_csv(f'/content/{os.path.basename(pcap_file)}.npt', index_col=0)\n",
        "#     if device_to_read != 'qtester':\n",
        "#       df['label'] = get_attack_directory_attack(attack_directory)\n",
        "#     else:\n",
        "#       df['label'] = 'normal'\n",
        "#     store.append('iec104',df,data_columns=df.columns)\n",
        "#     # df['flow']=df['flow']\n",
        "#     # print(df.head())\n",
        "#     # datasets.append(df)\n",
        "# store.close()"
      ]
    },
    {
      "cell_type": "code",
      "execution_count": null,
      "metadata": {
        "id": "JQMnlwP6V8dI"
      },
      "outputs": [],
      "source": [
        "# def hdf_save(dfs):\n",
        "#     store=pd.HDFStore('iec104_all.h5')\n",
        "#     for df in dfs:\n",
        "#         store.append('iec104',df,data_columns=df.columns)\n",
        "#     #del dfs\n",
        "#     df=store.select('iec104')\n",
        "#     store.close()\n",
        "#     os.remove('iec104_all.h5')\n",
        "#     return df\n",
        "# hdf_save(datasets)"
      ]
    },
    {
      "cell_type": "code",
      "execution_count": null,
      "metadata": {
        "id": "ZTOwsFKoZoxj"
      },
      "outputs": [],
      "source": [
        "# datasets=[]\n",
        "from pathlib import Path\n",
        "\n",
        "for attack_directory in attacks_directories:\n",
        "  dfs=[]\n",
        "  for device_to_read in devices_to_read:\n",
        "    if device_to_read != 'qtester' and attack_directory == '20200425_UOWM_IEC104_Dataset_m_sp_na_1_DoS':\n",
        "      continue\n",
        "    pcap_file = f\"/content/{attack_directory}/{attack_directory}_{device_to_read}/{attack_directory}_{device_to_read}_iec104_only.pcap\"\n",
        "    # print(device_to_read,attack_directory)\n",
        "    df = pd.read_csv(f'/content/{os.path.basename(pcap_file)}.npt', index_col=0)\n",
        "\n",
        "    if device_to_read != 'qtester':\n",
        "      label = get_attack_directory_attack(attack_directory)\n",
        "    else:\n",
        "      label = 'normal'\n",
        "\n",
        "    df['label'] = label\n",
        "    # print(df.columns)\n",
        "    # print(df.index)\n",
        "    # df['flow'] =  df['flow']+'_'+df['label']\n",
        "    df.index = df.index.map(lambda x: x +'_'+ get_attack_directory_attack(attack_directory))\n",
        "    # df['flow']=df['flow']\n",
        "    # print(df.head())\n",
        "    dfs.append(df)\n",
        "  df = pd.concat(dfs)\n",
        "  df.to_parquet(f\"/content/drive/My Drive/IEC104/{attack_directory}.parquet\")"
      ]
    },
    {
      "cell_type": "code",
      "execution_count": null,
      "metadata": {
        "id": "rwMOH5Pqg9pN"
      },
      "outputs": [],
      "source": [
        "# datasets=[]\n",
        "# for attack_directory in attacks_directories:\n",
        "#   for device_to_read in devices_to_read:\n",
        "#     if device_to_read != 'qtester' and attack_directory == '20200425_UOWM_IEC104_Dataset_m_sp_na_1_DoS':\n",
        "#       continue\n",
        "#     pcap_file = f\"/content/{attack_directory}/{attack_directory}_{device_to_read}/{attack_directory}_{device_to_read}_iec104_only.pcap\"\n",
        "#     # print(device_to_read,attack_directory)\n",
        "#     df = pd.read_csv(f'/content/{os.path.basename(pcap_file)}.npt', index_col=0)\n",
        "#     if device_to_read != 'qtester':\n",
        "#       df['label'] = get_attack_directory_attack(attack_directory)\n",
        "#     else:\n",
        "#       df['label'] = 'normal'\n",
        "#     # df['flow']=df['flow']\n",
        "#     # print(df.head())\n",
        "#     datasets.append(df)"
      ]
    },
    {
      "cell_type": "code",
      "execution_count": null,
      "metadata": {
        "id": "Sy85fxnqiiqR"
      },
      "outputs": [],
      "source": [
        "# # df = pd.concat(datasets)\n",
        "# # df.head(3)\n",
        "# df = pd.DataFrame()  # Initialize an empty DataFrame to store the concatenated data\n",
        "\n",
        "# for dataset in datasets:\n",
        "#     df = pd.concat([df, dataset])\n",
        "#     del dataset  # Delete the original dataset to free up memory"
      ]
    },
    {
      "cell_type": "code",
      "execution_count": null,
      "metadata": {
        "id": "FQbzZ-7BBxHe"
      },
      "outputs": [],
      "source": [
        "# df.shape"
      ]
    },
    {
      "cell_type": "code",
      "execution_count": null,
      "metadata": {
        "id": "AkSRDv0olxwR"
      },
      "outputs": [],
      "source": [
        "# df.to_parquet(\"/content/drive/My Drive/IEC104/iec104.parquet\")"
      ]
    }
  ],
  "metadata": {
    "colab": {
      "provenance": []
    },
    "kernelspec": {
      "display_name": "Python 3 (ipykernel)",
      "language": "python",
      "name": "python3"
    },
    "language_info": {
      "codemirror_mode": {
        "name": "ipython",
        "version": 3
      },
      "file_extension": ".py",
      "mimetype": "text/x-python",
      "name": "python",
      "nbconvert_exporter": "python",
      "pygments_lexer": "ipython3",
      "version": "3.12.2"
    }
  },
  "nbformat": 4,
  "nbformat_minor": 0
}
