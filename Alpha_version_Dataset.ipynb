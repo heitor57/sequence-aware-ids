{
  "cells": [
    {
      "cell_type": "markdown",
      "metadata": {
        "id": "Bapaz0nWMFKi"
      },
      "source": [
        "# Packages Installs and environment preparation"
      ]
    },
    {
      "cell_type": "code",
      "execution_count": 11,
      "metadata": {
        "id": "jczLjgSfSWeL"
      },
      "outputs": [
        {
          "name": "stdout",
          "output_type": "stream",
          "text": [
            "\n",
            "7-Zip [64] 15.09 beta : Copyright (c) 1999-2015 Igor Pavlov : 2015-10-16\n",
            "p7zip Version 15.09 beta (locale=pt_BR.UTF-8,Utf16=on,HugeFiles=on,64 bits,32 CPUs x64)\n",
            "\n",
            "Scanning the drive for archives:\n",
            "  0M Sca        1 file, 69419855 bytes (67 MiB)\n",
            "\n",
            "Extracting archive: data/20200425_UOWM_IEC104_Dataset_m_sp_na_1_DoS.7z\n",
            "--\n",
            "Path = data/20200425_UOWM_IEC104_Dataset_m_sp_na_1_DoS.7z\n",
            "Type = 7z\n",
            "Physical Size = 69419855\n",
            "Headers Size = 1420\n",
            "Method = LZMA:23\n",
            "Solid = +\n",
            "Blocks = 1\n",
            "\n",
            "      0% 1 - 20200425_UOWM_IEC104_Dataset_m . oS_iecserver1_iec104_only.pc                                                                        3% 2 - 20200425_UOWM_IEC104_Dataset_m_ . et_m_sp_na_1_DoS_iecserver1.pca                                                                            5% 2 - 20200425_UOWM_IEC104_Dataset_m_ . et_m_sp_na_1_DoS_iecserver1.pca                                                                            8% 2 - 20200425_UOWM_IEC104_Dataset_m_ . et_m_sp_na_1_DoS_iecserver1.pca                                                                            8% 3 - 20200425_UOWM_IEC104_Dataset_m_sp . _na_1_DoS_iecserver1.pcap_Flow.cs                                                                                9% 4 - 20200425_UOWM_IEC104_Dataset_m_ . erver1_iec104_only.pcap_Flow.cs                                                                           12% 7 - 20200425_UOWM_IEC104_Dataset_m_ . et_m_sp_na_1_DoS_iecserver2.pca                                                                           15% 7 - 20200425_UOWM_IEC104_Dataset_m_ . et_m_sp_na_1_DoS_iecserver2.pca                                                                           17% 7 - 20200425_UOWM_IEC104_Dataset_m_ . et_m_sp_na_1_DoS_iecserver2.pca                                                                           18% 8 - 20200425_UOWM_IEC104_Dataset_m_ . erver2_iec104_only.pcap_Flow.cs                                                                           21% 10 - 20200425_UOWM_IEC104_Dataset_m_ . piec104_network_flow_leayer.cs                                                                           23% 11 - 20200425_UOWM_IEC104_Dataset_m_ . et_m_sp_na_1_DoS_iecserver3.pc                                                                           26% 11 - 20200425_UOWM_IEC104_Dataset_m_ . et_m_sp_na_1_DoS_iecserver3.pc                                                                           28% 11 - 20200425_UOWM_IEC104_Dataset_m_ . et_m_sp_na_1_DoS_iecserver3.pc                                                                           31% 12 - 20200425_UOWM_IEC104_Dataset_m . oS_iecserver3_iec104_only.pca                                                                         33% 15 - 20200425_UOWM_IEC104_Dataset_m_ . piec104_network_flow_leayer.cs                                                                           36% 17 - 20200425_UOWM_IEC104_Dataset_m_ . et_m_sp_na_1_DoS_iecserver4.pc                                                                           40% 17 - 20200425_UOWM_IEC104_Dataset_m_ . et_m_sp_na_1_DoS_iecserver4.pc                                                                           41% 18 - 20200425_UOWM_IEC104_Dataset_m . oS_iecserver4_iec104_only.pca                                                                         43% 20 - 20200425_UOWM_IEC104_Dataset_m_ . erver4_iec104_only.pcap_Flow.c                                                                           48% 21 - 20200425_UOWM_IEC104_Dataset_m_ . et_m_sp_na_1_DoS_iecserver5.pc                                                                           52% 21 - 20200425_UOWM_IEC104_Dataset_m_ . et_m_sp_na_1_DoS_iecserver5.pc                                                                           53% 22 - 20200425_UOWM_IEC104_Dataset_m . oS_iecserver5_iec104_only.pca                                                                         56% 24 - 20200425_UOWM_IEC104_Dataset_ . 1_DoS_iecserver5.pcap_Flow.c                                                                       57% 26 - 20200425_UOWM_IEC104_Dataset_m_ . et_m_sp_na_1_DoS_iecserver6.pc                                                                           60% 26 - 20200425_UOWM_IEC104_Dataset_m_ . et_m_sp_na_1_DoS_iecserver6.pc                                                                           62% 26 - 20200425_UOWM_IEC104_Dataset_m_ . et_m_sp_na_1_DoS_iecserver6.pc                                                                           65% 26 - 20200425_UOWM_IEC104_Dataset_m_ . et_m_sp_na_1_DoS_iecserver6.pc                                                                           66% 26 - 20200425_UOWM_IEC104_Dataset_m_ . et_m_sp_na_1_DoS_iecserver6.pc                                                                           67% 27 - 20200425_UOWM_IEC104_Dataset_m . oS_iecserver6_iec104_only.pca                                                                         69% 30 - 20200425_UOWM_IEC104_Dataset_m_ . piec104_network_flow_leayer.cs                                                                           72% 31 - 20200425_UOWM_IEC104_Dataset_m_ . et_m_sp_na_1_DoS_iecserver7.pc                                                                           76% 31 - 20200425_UOWM_IEC104_Dataset_m_ . et_m_sp_na_1_DoS_iecserver7.pc                                                                           77% 32 - 20200425_UOWM_IEC104_Dataset_m . oS_iecserver7_iec104_only.pca                                                                         79% 35 - 20200425_UOWM_IEC104_Dataset_m_ . piec104_network_flow_leayer.cs                                                                           83% 36 - 20200425_UOWM_IEC104_Dataset_m . aset_m_sp_na_1_DoS_qtester.pc                                                                         85% 36 - 20200425_UOWM_IEC104_Dataset_m . aset_m_sp_na_1_DoS_qtester.pc                                                                         88% 36 - 20200425_UOWM_IEC104_Dataset_m . aset_m_sp_na_1_DoS_qtester.pc                                                                         92% 36 - 20200425_UOWM_IEC104_Dataset_m . aset_m_sp_na_1_DoS_qtester.pc                                                                         95% 36 - 20200425_UOWM_IEC104_Dataset_m . aset_m_sp_na_1_DoS_qtester.pc                                                                         95% 37 - 20200425_UOWM_IEC104_Dataset_m_s . na_1_DoS_qtester_iec104_only.pc                                                                             98% 37 - 20200425_UOWM_IEC104_Dataset_m_s . na_1_DoS_qtester_iec104_only.pc                                                                             98% 38 - 20200425_UOWM_IEC104_Dataset_m . ester_iec104_only.pcap_Flow.c                                                                        100% 4      Everything is Ok\n",
            "\n",
            "Folders: 9\n",
            "Files: 41\n",
            "Size:       514877294\n",
            "Compressed: 69419855\n"
          ]
        }
      ],
      "source": [
        "# !7z x data/20200425_UOWM_IEC104_Dataset_m_sp_na_1_DoS.7z\n",
        "# !7z x data/20200426_UOWM_IEC104_Dataset_c_ci_na_1.7z\n",
        "# !7z x data/20200426_UOWM_IEC104_Dataset_c_ci_na_1_DoS.7z\n",
        "# !7z x data/20200427_UOWM_IEC104_Dataset_c_se_na_1.7z\n",
        "# !7z x data/20200428_UOWM_IEC104_Dataset_c_sc_na_1.7z\n",
        "# !7z x data/20200428_UOWM_IEC104_Dataset_c_se_na_1_DoS.7z\n",
        "# !7z x data/20200429_UOWM_IEC104_Dataset_c_sc_na_1_DoS.7z\n",
        "# !7z x data/20200605_UOWM_IEC104_Dataset_c_rd_na_1.7z\n",
        "# !7z x data/20200608_UOWM_IEC104_Dataset_mitm_drop.7z\n",
        "# !7z x data/20200606_UOWM_IEC104_Dataset_c_rp_na_1_DoS.7z\n",
        "# !7z x data/20200605_UOWM_IEC104_Dataset_c_rd_na_1_DoS.7z\n",
        "# !7z x data/20200606_UOWM_IEC104_Dataset_c_rp_na_1.7z"
      ]
    },
    {
      "cell_type": "markdown",
      "metadata": {
        "id": "-c29MaM2rpqr"
      },
      "source": [
        "# Imports"
      ]
    },
    {
      "cell_type": "code",
      "execution_count": 7,
      "metadata": {
        "colab": {
          "base_uri": "https://localhost:8080/"
        },
        "id": "VrkVnQL3LZqc",
        "outputId": "54fd20f5-e83c-498d-a334-a310dc1a0e20"
      },
      "outputs": [],
      "source": [
        "from scapy.all import *\n",
        "import pandas as pd\n",
        "# from catboost import CatBoostClassifier\n",
        "# import shap\n",
        "import seaborn as sns\n",
        "# import feature_engine\n",
        "# import feature_engine.encoding\n",
        "import numpy as np\n",
        "# from catboost import Pool\n",
        "import matplotlib.pyplot as plt\n",
        "import matplotlib.ticker as mtick\n",
        "from collections import defaultdict\n",
        "import os\n",
        "# from google.colab import drive\n",
        "# drive.mount('/content/drive')"
      ]
    },
    {
      "cell_type": "markdown",
      "metadata": {
        "id": "Pv1A1aOSjRJB"
      },
      "source": [
        "## Code"
      ]
    },
    {
      "cell_type": "code",
      "execution_count": 8,
      "metadata": {
        "colab": {
          "base_uri": "https://localhost:8080/",
          "height": 38
        },
        "id": "Og05ZbSHKOdG",
        "outputId": "bcb300fa-94cd-4c75-a92c-d75bdf2f6f31"
      },
      "outputs": [
        {
          "data": {
            "text/plain": [
              "'m_sp_na_1_DoS'"
            ]
          },
          "execution_count": 8,
          "metadata": {},
          "output_type": "execute_result"
        }
      ],
      "source": [
        "def get_attack_directory_attack(path):\n",
        "  return path.split('Dataset_')[1]\n",
        "attacks_directories= [\n",
        "                      '20200425_UOWM_IEC104_Dataset_m_sp_na_1_DoS',\n",
        "                      '20200426_UOWM_IEC104_Dataset_c_ci_na_1',\n",
        "                      '20200427_UOWM_IEC104_Dataset_c_se_na_1',\n",
        "                      '20200428_UOWM_IEC104_Dataset_c_sc_na_1',\n",
        "                      '20200605_UOWM_IEC104_Dataset_c_rd_na_1',\n",
        "                      '20200606_UOWM_IEC104_Dataset_c_rp_na_1',\n",
        "                      '20200426_UOWM_IEC104_Dataset_c_ci_na_1_DoS',\n",
        "                      '20200605_UOWM_IEC104_Dataset_c_rd_na_1_DoS',\n",
        "                      '20200606_UOWM_IEC104_Dataset_c_rp_na_1_DoS',\n",
        "                      '20200428_UOWM_IEC104_Dataset_c_se_na_1_DoS',\n",
        "                      '20200429_UOWM_IEC104_Dataset_c_sc_na_1_DoS',\n",
        "                                            # '20200608_UOWM_IEC104_Dataset_mitm_drop'\n",
        "                                            ]\n",
        "devices_to_read = ['qtester','attacker1','attacker2','attacker3']\n",
        "\n",
        "# if '20200425_UOWM_IEC104_Dataset_m_sp_na_1_DoS':\n",
        "#   not\n",
        "get_attack_directory_attack(attacks_directories[0])"
      ]
    },
    {
      "cell_type": "code",
      "execution_count": 133,
      "metadata": {
        "colab": {
          "base_uri": "https://localhost:8080/",
          "height": 523
        },
        "id": "llFq5KkCJTQR",
        "outputId": "0aff67c5-b45d-4783-9048-484fc58fa6c4"
      },
      "outputs": [],
      "source": [
        "a={}\n",
        "for attack_directory in attacks_directories:\n",
        "  for device_to_read in devices_to_read:\n",
        "    pcap_file = f\"data/{attack_directory}/{attack_directory}_{device_to_read}/{attack_directory}_{device_to_read}_iec104_only.pcap\"\n",
        "    if device_to_read != 'qtester' and attack_directory == '20200425_UOWM_IEC104_Dataset_m_sp_na_1_DoS':\n",
        "      continue\n",
        "    packets=rdpcap(pcap_file,count=200)\n",
        "    for packet in packets:\n",
        "      a[len(packet[TCP].payload)] = 1\n",
        "MAX_IEC104_PAYLOAD_BYTES = max(a)"
      ]
    },
    {
      "cell_type": "code",
      "execution_count": 134,
      "metadata": {},
      "outputs": [
        {
          "data": {
            "text/plain": [
              "88"
            ]
          },
          "execution_count": 134,
          "metadata": {},
          "output_type": "execute_result"
        }
      ],
      "source": [
        "MAX_IEC104_PAYLOAD_BYTES"
      ]
    },
    {
      "cell_type": "code",
      "execution_count": 190,
      "metadata": {},
      "outputs": [
        {
          "name": "stdout",
          "output_type": "stream",
          "text": [
            "20200425_UOWM_IEC104_Dataset_m_sp_na_1_DoS\n",
            "20200426_UOWM_IEC104_Dataset_c_ci_na_1\n",
            "20200427_UOWM_IEC104_Dataset_c_se_na_1\n",
            "20200428_UOWM_IEC104_Dataset_c_sc_na_1\n",
            "20200605_UOWM_IEC104_Dataset_c_rd_na_1\n",
            "20200606_UOWM_IEC104_Dataset_c_rp_na_1\n",
            "20200426_UOWM_IEC104_Dataset_c_ci_na_1_DoS\n",
            "20200605_UOWM_IEC104_Dataset_c_rd_na_1_DoS\n",
            "20200606_UOWM_IEC104_Dataset_c_rp_na_1_DoS\n",
            "20200428_UOWM_IEC104_Dataset_c_se_na_1_DoS\n",
            "20200429_UOWM_IEC104_Dataset_c_sc_na_1_DoS\n"
          ]
        }
      ],
      "source": [
        "from pathlib import Path\n",
        "all_packets = []\n",
        "for attack_directory in attacks_directories:\n",
        "#   dfs=[]\n",
        "  print(attack_directory)\n",
        "  for device_to_read in devices_to_read:\n",
        "    if device_to_read != 'qtester' and attack_directory == '20200425_UOWM_IEC104_Dataset_m_sp_na_1_DoS':\n",
        "      continue\n",
        "    pcap_file = f\"./data/{attack_directory}/{attack_directory}_{device_to_read}/{attack_directory}_{device_to_read}_iec104_only.pcap\"\n",
        "    # print(device_to_read,attack_directory)\n",
        "    # df = pd.read_csv(f'/content/{os.path.basename(pcap_file)}.npt', index_col=0)\n",
        "    packets=rdpcap(pcap_file)\n",
        "    if device_to_read != 'qtester':\n",
        "      label = get_attack_directory_attack(attack_directory)\n",
        "    else:\n",
        "      label = 'normal'\n",
        "    all_packets.append([packets,label,get_attack_directory_attack(attack_directory)])\n",
        "    # df['label'] = label\n",
        "    # print(df.columns)\n",
        "    # print(df.index)\n",
        "    # df['flow'] =  df['flow']+'_'+df['label']\n",
        "    # df.index = df.index.map(lambda x: x +'_'+ get_attack_directory_attack(attack_directory))\n",
        "    # df['flow']=df['flow']\n",
        "    # print(df.head())\n",
        "    # dfs.append(df)\n",
        "#   df = pd.concat(dfs)\n",
        "#   df.to_parquet(f\"./data/iec104v2_15.parquet\")"
      ]
    },
    {
      "cell_type": "code",
      "execution_count": 200,
      "metadata": {},
      "outputs": [],
      "source": [
        "from scapy.all import IP, TCP\n",
        "import binascii\n",
        "def build_dataframe(packet_list):\n",
        "\n",
        "    \"\"\"\n",
        "    This function takes in a scapy PacketList object and \n",
        "    builds a pandas dataframe.\n",
        "\n",
        "    Args:\n",
        "        packet_list (PacketList): A scapy PacketList object.\n",
        "    \n",
        "    \"\"\"\n",
        "    ip_fields = [field.name for field in IP().fields_desc]\n",
        "    tcp_fields = [field.name for field in TCP().fields_desc]\n",
        "\n",
        "    dataframe_fields = ip_fields + ['time'] + tcp_fields + ['size','payload','payload_raw','payload_hex']\n",
        "\n",
        "    # Create blank DataFrame\n",
        "    df = pd.DataFrame(columns=dataframe_fields)\n",
        "    for packet in packet_list[IP]:\n",
        "        # Field array for each row of DataFrame\n",
        "        field_values = []\n",
        "        # Add all IP fields to dataframe\n",
        "        for field in ip_fields:\n",
        "            if field == 'options':\n",
        "                # Retrieving number of options defined in IP Header\n",
        "                field_values.append(len(packet[IP].fields[field]))\n",
        "            else:\n",
        "                field_values.append(packet[IP].fields[field])\n",
        "\n",
        "        field_values.append(packet.time)\n",
        "\n",
        "        layer_type = type(packet[IP].payload)\n",
        "        for field in tcp_fields:\n",
        "            try:\n",
        "                if field == 'options':\n",
        "                    field_values.append(len(packet[layer_type].fields[field]))\n",
        "                else:\n",
        "                    field_values.append(packet[layer_type].fields[field])\n",
        "            except:\n",
        "                field_values.append(None)\n",
        "        \n",
        "        # Append payload\n",
        "        field_values.append(len(packet))\n",
        "        field_values.append(len(packet[layer_type].payload))\n",
        "        field_values.append(packet[layer_type].payload.original)\n",
        "        field_values.append(binascii.hexlify(packet[layer_type].payload.original))\n",
        "        # Add row to DF\n",
        "        df_append = pd.DataFrame([field_values], columns=dataframe_fields)\n",
        "        df = pd.concat([df, df_append], axis=0)\n",
        "        \n",
        "    # Reset Index\n",
        "    df = df.reset_index()\n",
        "    # Drop old index column\n",
        "    df = df.drop(columns=\"index\")\n",
        "    return df"
      ]
    },
    {
      "cell_type": "code",
      "execution_count": 222,
      "metadata": {},
      "outputs": [],
      "source": [
        "def tcp_packet_to_binary(tcp_packet):\n",
        "    \"\"\"\n",
        "    Converts a TCP packet into a binary sequence.\n",
        "    \n",
        "    Args:\n",
        "        tcp_packet (TCP): The TCP packet to be converted.\n",
        "    \n",
        "    Returns:\n",
        "        numpy.ndarray: The binary sequence representing the TCP packet.\n",
        "    \"\"\"\n",
        "    # Extract fields from the TCP packet\n",
        "    sport = tcp_packet.sport\n",
        "    dport = tcp_packet.dport\n",
        "    seq = tcp_packet.seq\n",
        "    ack = tcp_packet.ack\n",
        "    dataofs_reserved = (tcp_packet.dataofs << 4) | tcp_packet.reserved\n",
        "    flags = tcp_packet.flags\n",
        "    window = tcp_packet.window\n",
        "    chksum = tcp_packet.chksum\n",
        "    urgptr = tcp_packet.urgptr\n",
        "\n",
        "    # Convert each field to binary and concatenate to form the binary sequence\n",
        "    binary_sequence = (\n",
        "        format(sport, '016b') +\n",
        "        format(dport, '016b') +\n",
        "        format(seq, '032b') +\n",
        "        format(ack, '032b') +\n",
        "        format(dataofs_reserved, '08b') +\n",
        "        format(flags, '08b') +\n",
        "        format(window, '016b') +\n",
        "        format(chksum, '016b') +\n",
        "        format(urgptr, '016b')\n",
        "    )\n",
        "    \n",
        "    # Convert the binary string to a NumPy array\n",
        "    binary_array = np.array([int(bit) for bit in binary_sequence], dtype=int)\n",
        "    \n",
        "    return binary_array\n",
        "\n",
        "\n",
        "def ipv4_packet_to_binary(ip_packet):\n",
        "    \"\"\"\n",
        "    Converts an IPv4 packet into a binary sequence.\n",
        "    \n",
        "    Args:\n",
        "        ip_packet (IP): The IPv4 packet to be converted.\n",
        "    \n",
        "    Returns:\n",
        "        numpy.ndarray: The binary sequence representing the IPv4 packet.\n",
        "    \"\"\"\n",
        "    # First, ensure that the packet is an IP packet\n",
        "    if not (IP in ip_packet):\n",
        "        raise ValueError(\"The provided packet is not an IP packet.\")\n",
        "    \n",
        "    # Extract source and destination IP addresses and split them into octets\n",
        "    try:\n",
        "        src_ip = ip_packet.src.split('.')\n",
        "        dst_ip = ip_packet.dst.split('.')\n",
        "    except AttributeError:\n",
        "        raise ValueError(\"The packet does not contain standard IP fields.\")\n",
        "\n",
        "    # Convert each field to binary and concatenate to form the binary sequence\n",
        "    binary_sequence = (\n",
        "        format((ip_packet.version << 4) | ip_packet.ihl, '08b') +\n",
        "        format(ip_packet.tos, '08b') +\n",
        "        format(ip_packet.len, '016b') +\n",
        "        format(ip_packet.id, '016b') +\n",
        "        format((ip_packet.flags << 13) | ip_packet.frag, '016b') +\n",
        "        format(ip_packet.ttl, '08b') +\n",
        "        format(ip_packet.proto, '08b') +\n",
        "        format(ip_packet.chksum, '016b') +\n",
        "        ''.join([format(int(octet), '08b') for octet in src_ip]) +\n",
        "        ''.join([format(int(octet), '08b') for octet in dst_ip])\n",
        "    )\n",
        "\n",
        "    # Convert the binary string to a NumPy array\n",
        "    binary_array = np.array([int(bit) for bit in binary_sequence], dtype=int)\n",
        "    \n",
        "    return binary_array"
      ]
    },
    {
      "cell_type": "code",
      "execution_count": 223,
      "metadata": {},
      "outputs": [],
      "source": [
        "def session_extractor(packet,attack):\n",
        "    return str(sorted([attack, \"TCP\", packet[\"IP\"].src, packet[\"TCP\"].sport,\n",
        "                                    packet[\"IP\"].dst, packet[\"TCP\"].dport], key=str))"
      ]
    },
    {
      "cell_type": "code",
      "execution_count": 225,
      "metadata": {},
      "outputs": [
        {
          "ename": "ValueError",
          "evalue": "invalid literal for int() with base 10: '08:00:27:27:bf:c4'",
          "output_type": "error",
          "traceback": [
            "\u001b[0;31m---------------------------------------------------------------------------\u001b[0m",
            "\u001b[0;31mValueError\u001b[0m                                Traceback (most recent call last)",
            "Cell \u001b[0;32mIn[225], line 1\u001b[0m\n\u001b[0;32m----> 1\u001b[0m \u001b[43mipv4_packet_to_binary\u001b[49m\u001b[43m(\u001b[49m\u001b[43mall_packets\u001b[49m\u001b[43m[\u001b[49m\u001b[38;5;241;43m0\u001b[39;49m\u001b[43m]\u001b[49m\u001b[43m[\u001b[49m\u001b[38;5;241;43m0\u001b[39;49m\u001b[43m]\u001b[49m\u001b[43m[\u001b[49m\u001b[38;5;241;43m0\u001b[39;49m\u001b[43m]\u001b[49m\u001b[43m)\u001b[49m\n",
            "Cell \u001b[0;32mIn[222], line 72\u001b[0m, in \u001b[0;36mipv4_packet_to_binary\u001b[0;34m(ip_packet)\u001b[0m\n\u001b[1;32m     60\u001b[0m     \u001b[38;5;28;01mraise\u001b[39;00m \u001b[38;5;167;01mValueError\u001b[39;00m(\u001b[38;5;124m\"\u001b[39m\u001b[38;5;124mThe packet does not contain standard IP fields.\u001b[39m\u001b[38;5;124m\"\u001b[39m)\n\u001b[1;32m     62\u001b[0m \u001b[38;5;66;03m# Convert each field to binary and concatenate to form the binary sequence\u001b[39;00m\n\u001b[1;32m     63\u001b[0m binary_sequence \u001b[38;5;241m=\u001b[39m (\n\u001b[1;32m     64\u001b[0m     \u001b[38;5;28mformat\u001b[39m((ip_packet\u001b[38;5;241m.\u001b[39mversion \u001b[38;5;241m<<\u001b[39m \u001b[38;5;241m4\u001b[39m) \u001b[38;5;241m|\u001b[39m ip_packet\u001b[38;5;241m.\u001b[39mihl, \u001b[38;5;124m'\u001b[39m\u001b[38;5;124m08b\u001b[39m\u001b[38;5;124m'\u001b[39m) \u001b[38;5;241m+\u001b[39m\n\u001b[1;32m     65\u001b[0m     \u001b[38;5;28mformat\u001b[39m(ip_packet\u001b[38;5;241m.\u001b[39mtos, \u001b[38;5;124m'\u001b[39m\u001b[38;5;124m08b\u001b[39m\u001b[38;5;124m'\u001b[39m) \u001b[38;5;241m+\u001b[39m\n\u001b[1;32m     66\u001b[0m     \u001b[38;5;28mformat\u001b[39m(ip_packet\u001b[38;5;241m.\u001b[39mlen, \u001b[38;5;124m'\u001b[39m\u001b[38;5;124m016b\u001b[39m\u001b[38;5;124m'\u001b[39m) \u001b[38;5;241m+\u001b[39m\n\u001b[1;32m     67\u001b[0m     \u001b[38;5;28mformat\u001b[39m(ip_packet\u001b[38;5;241m.\u001b[39mid, \u001b[38;5;124m'\u001b[39m\u001b[38;5;124m016b\u001b[39m\u001b[38;5;124m'\u001b[39m) \u001b[38;5;241m+\u001b[39m\n\u001b[1;32m     68\u001b[0m     \u001b[38;5;28mformat\u001b[39m((ip_packet\u001b[38;5;241m.\u001b[39mflags \u001b[38;5;241m<<\u001b[39m \u001b[38;5;241m13\u001b[39m) \u001b[38;5;241m|\u001b[39m ip_packet\u001b[38;5;241m.\u001b[39mfrag, \u001b[38;5;124m'\u001b[39m\u001b[38;5;124m016b\u001b[39m\u001b[38;5;124m'\u001b[39m) \u001b[38;5;241m+\u001b[39m\n\u001b[1;32m     69\u001b[0m     \u001b[38;5;28mformat\u001b[39m(ip_packet\u001b[38;5;241m.\u001b[39mttl, \u001b[38;5;124m'\u001b[39m\u001b[38;5;124m08b\u001b[39m\u001b[38;5;124m'\u001b[39m) \u001b[38;5;241m+\u001b[39m\n\u001b[1;32m     70\u001b[0m     \u001b[38;5;28mformat\u001b[39m(ip_packet\u001b[38;5;241m.\u001b[39mproto, \u001b[38;5;124m'\u001b[39m\u001b[38;5;124m08b\u001b[39m\u001b[38;5;124m'\u001b[39m) \u001b[38;5;241m+\u001b[39m\n\u001b[1;32m     71\u001b[0m     \u001b[38;5;28mformat\u001b[39m(ip_packet\u001b[38;5;241m.\u001b[39mchksum, \u001b[38;5;124m'\u001b[39m\u001b[38;5;124m016b\u001b[39m\u001b[38;5;124m'\u001b[39m) \u001b[38;5;241m+\u001b[39m\n\u001b[0;32m---> 72\u001b[0m     \u001b[38;5;124m'\u001b[39m\u001b[38;5;124m'\u001b[39m\u001b[38;5;241m.\u001b[39mjoin([\u001b[38;5;28mformat\u001b[39m(\u001b[38;5;28;43mint\u001b[39;49m\u001b[43m(\u001b[49m\u001b[43moctet\u001b[49m\u001b[43m)\u001b[49m, \u001b[38;5;124m'\u001b[39m\u001b[38;5;124m08b\u001b[39m\u001b[38;5;124m'\u001b[39m) \u001b[38;5;28;01mfor\u001b[39;00m octet \u001b[38;5;129;01min\u001b[39;00m src_ip]) \u001b[38;5;241m+\u001b[39m\n\u001b[1;32m     73\u001b[0m     \u001b[38;5;124m'\u001b[39m\u001b[38;5;124m'\u001b[39m\u001b[38;5;241m.\u001b[39mjoin([\u001b[38;5;28mformat\u001b[39m(\u001b[38;5;28mint\u001b[39m(octet), \u001b[38;5;124m'\u001b[39m\u001b[38;5;124m08b\u001b[39m\u001b[38;5;124m'\u001b[39m) \u001b[38;5;28;01mfor\u001b[39;00m octet \u001b[38;5;129;01min\u001b[39;00m dst_ip])\n\u001b[1;32m     74\u001b[0m )\n\u001b[1;32m     76\u001b[0m \u001b[38;5;66;03m# Convert the binary string to a NumPy array\u001b[39;00m\n\u001b[1;32m     77\u001b[0m binary_array \u001b[38;5;241m=\u001b[39m np\u001b[38;5;241m.\u001b[39marray([\u001b[38;5;28mint\u001b[39m(bit) \u001b[38;5;28;01mfor\u001b[39;00m bit \u001b[38;5;129;01min\u001b[39;00m binary_sequence], dtype\u001b[38;5;241m=\u001b[39m\u001b[38;5;28mint\u001b[39m)\n",
            "\u001b[0;31mValueError\u001b[0m: invalid literal for int() with base 10: '08:00:27:27:bf:c4'"
          ]
        }
      ],
      "source": [
        "# ipv4_packet_to_binary(all_packets[0][0][0])"
      ]
    },
    {
      "cell_type": "code",
      "execution_count": null,
      "metadata": {},
      "outputs": [],
      "source": [
        "# dfs= []\n",
        "# for packets, label, attack_directory_attack in all_packets:\n",
        "#     session_dict = packets.sessions(lambda x: session_extractor(x,attack_directory_attack))\n",
        "#     dfs.append(pd.concat({flow_key: build_dataframe(flow) for flow_key, flow in session_dict.items()}))\n",
        "#     break"
      ]
    },
    {
      "cell_type": "code",
      "execution_count": 204,
      "metadata": {},
      "outputs": [
        {
          "ename": "KeyboardInterrupt",
          "evalue": "",
          "output_type": "error",
          "traceback": [
            "\u001b[0;31m---------------------------------------------------------------------------\u001b[0m",
            "\u001b[0;31mKeyboardInterrupt\u001b[0m                         Traceback (most recent call last)",
            "Cell \u001b[0;32mIn[204], line 1\u001b[0m\n\u001b[0;32m----> 1\u001b[0m dfs\u001b[38;5;241m.\u001b[39mappend(pd\u001b[38;5;241m.\u001b[39mconcat([\u001b[43mbuild_dataframe\u001b[49m\u001b[43m(\u001b[49m\u001b[43mflow\u001b[49m\u001b[43m)\u001b[49m \u001b[38;5;28;01mfor\u001b[39;00m flow_key, flow \u001b[38;5;129;01min\u001b[39;00m session_dict\u001b[38;5;241m.\u001b[39mitems()]))\n",
            "Cell \u001b[0;32mIn[200], line 50\u001b[0m, in \u001b[0;36mbuild_dataframe\u001b[0;34m(packet_list)\u001b[0m\n\u001b[1;32m     48\u001b[0m     \u001b[38;5;66;03m# Add row to DF\u001b[39;00m\n\u001b[1;32m     49\u001b[0m     df_append \u001b[38;5;241m=\u001b[39m pd\u001b[38;5;241m.\u001b[39mDataFrame([field_values], columns\u001b[38;5;241m=\u001b[39mdataframe_fields)\n\u001b[0;32m---> 50\u001b[0m     df \u001b[38;5;241m=\u001b[39m pd\u001b[38;5;241m.\u001b[39mconcat([df, df_append], axis\u001b[38;5;241m=\u001b[39m\u001b[38;5;241m0\u001b[39m)\n\u001b[1;32m     52\u001b[0m \u001b[38;5;66;03m# Reset Index\u001b[39;00m\n\u001b[1;32m     53\u001b[0m df \u001b[38;5;241m=\u001b[39m df\u001b[38;5;241m.\u001b[39mreset_index()\n",
            "\u001b[0;31mKeyboardInterrupt\u001b[0m: "
          ]
        }
      ],
      "source": [
        "# dfs.append(pd.concat([build_dataframe(flow) for flow_key, flow in session_dict.items()]))\n"
      ]
    },
    {
      "cell_type": "code",
      "execution_count": 206,
      "metadata": {},
      "outputs": [
        {
          "ename": "KeyboardInterrupt",
          "evalue": "",
          "output_type": "error",
          "traceback": [
            "\u001b[0;31m---------------------------------------------------------------------------\u001b[0m",
            "\u001b[0;31mKeyboardInterrupt\u001b[0m                         Traceback (most recent call last)",
            "Cell \u001b[0;32mIn[206], line 3\u001b[0m\n\u001b[1;32m      1\u001b[0m dfs\u001b[38;5;241m=\u001b[39m []\n\u001b[1;32m      2\u001b[0m \u001b[38;5;28;01mfor\u001b[39;00m packets, label, attack_directory_attack \u001b[38;5;129;01min\u001b[39;00m all_packets:\n\u001b[0;32m----> 3\u001b[0m     session_dict \u001b[38;5;241m=\u001b[39m \u001b[43mpackets\u001b[49m\u001b[38;5;241;43m.\u001b[39;49m\u001b[43msessions\u001b[49m\u001b[43m(\u001b[49m\u001b[38;5;28;43;01mlambda\u001b[39;49;00m\u001b[43m \u001b[49m\u001b[43mx\u001b[49m\u001b[43m:\u001b[49m\u001b[43m \u001b[49m\u001b[43msession_extractor\u001b[49m\u001b[43m(\u001b[49m\u001b[43mx\u001b[49m\u001b[43m,\u001b[49m\u001b[43mattack_directory_attack\u001b[49m\u001b[43m)\u001b[49m\u001b[43m)\u001b[49m\n\u001b[1;32m      4\u001b[0m     dfs\u001b[38;5;241m.\u001b[39mappend(pd\u001b[38;5;241m.\u001b[39mconcat({flow_key: build_dataframe(flow) \u001b[38;5;28;01mfor\u001b[39;00m flow_key, flow \u001b[38;5;129;01min\u001b[39;00m session_dict\u001b[38;5;241m.\u001b[39mitems()}))\n\u001b[1;32m      5\u001b[0m     \u001b[38;5;28;01mbreak\u001b[39;00m\n",
            "File \u001b[0;32m~/miniconda3/lib/python3.12/site-packages/scapy/plist.py:677\u001b[0m, in \u001b[0;36m_PacketList.sessions\u001b[0;34m(self, session_extractor)\u001b[0m\n\u001b[1;32m    675\u001b[0m sessions \u001b[38;5;241m=\u001b[39m defaultdict(\u001b[38;5;28mself\u001b[39m\u001b[38;5;241m.\u001b[39m\u001b[38;5;18m__class__\u001b[39m)  \u001b[38;5;66;03m# type: DefaultDict[str, _PacketList[_Inner]]  # noqa: E501\u001b[39;00m\n\u001b[1;32m    676\u001b[0m \u001b[38;5;28;01mfor\u001b[39;00m p \u001b[38;5;129;01min\u001b[39;00m \u001b[38;5;28mself\u001b[39m\u001b[38;5;241m.\u001b[39mres:\n\u001b[0;32m--> 677\u001b[0m     sess \u001b[38;5;241m=\u001b[39m \u001b[43msession_extractor\u001b[49m\u001b[43m(\u001b[49m\n\u001b[1;32m    678\u001b[0m \u001b[43m        \u001b[49m\u001b[38;5;28;43mself\u001b[39;49m\u001b[38;5;241;43m.\u001b[39;49m\u001b[43m_elt2pkt\u001b[49m\u001b[43m(\u001b[49m\u001b[43mp\u001b[49m\u001b[43m)\u001b[49m\n\u001b[1;32m    679\u001b[0m \u001b[43m    \u001b[49m\u001b[43m)\u001b[49m\n\u001b[1;32m    680\u001b[0m     sessions[sess]\u001b[38;5;241m.\u001b[39mappend(p)\n\u001b[1;32m    681\u001b[0m \u001b[38;5;28;01mreturn\u001b[39;00m \u001b[38;5;28mdict\u001b[39m(sessions)\n",
            "Cell \u001b[0;32mIn[206], line 3\u001b[0m, in \u001b[0;36m<lambda>\u001b[0;34m(x)\u001b[0m\n\u001b[1;32m      1\u001b[0m dfs\u001b[38;5;241m=\u001b[39m []\n\u001b[1;32m      2\u001b[0m \u001b[38;5;28;01mfor\u001b[39;00m packets, label, attack_directory_attack \u001b[38;5;129;01min\u001b[39;00m all_packets:\n\u001b[0;32m----> 3\u001b[0m     session_dict \u001b[38;5;241m=\u001b[39m packets\u001b[38;5;241m.\u001b[39msessions(\u001b[38;5;28;01mlambda\u001b[39;00m x: \u001b[43msession_extractor\u001b[49m\u001b[43m(\u001b[49m\u001b[43mx\u001b[49m\u001b[43m,\u001b[49m\u001b[43mattack_directory_attack\u001b[49m\u001b[43m)\u001b[49m)\n\u001b[1;32m      4\u001b[0m     dfs\u001b[38;5;241m.\u001b[39mappend(pd\u001b[38;5;241m.\u001b[39mconcat({flow_key: build_dataframe(flow) \u001b[38;5;28;01mfor\u001b[39;00m flow_key, flow \u001b[38;5;129;01min\u001b[39;00m session_dict\u001b[38;5;241m.\u001b[39mitems()}))\n\u001b[1;32m      5\u001b[0m     \u001b[38;5;28;01mbreak\u001b[39;00m\n",
            "Cell \u001b[0;32mIn[201], line 3\u001b[0m, in \u001b[0;36msession_extractor\u001b[0;34m(packet, attack)\u001b[0m\n\u001b[1;32m      1\u001b[0m \u001b[38;5;28;01mdef\u001b[39;00m \u001b[38;5;21msession_extractor\u001b[39m(packet,attack):\n\u001b[1;32m      2\u001b[0m     \u001b[38;5;28;01mreturn\u001b[39;00m \u001b[38;5;28mstr\u001b[39m(\u001b[38;5;28msorted\u001b[39m([attack, \u001b[38;5;124m\"\u001b[39m\u001b[38;5;124mTCP\u001b[39m\u001b[38;5;124m\"\u001b[39m, packet[\u001b[38;5;124m\"\u001b[39m\u001b[38;5;124mIP\u001b[39m\u001b[38;5;124m\"\u001b[39m]\u001b[38;5;241m.\u001b[39msrc, packet[\u001b[38;5;124m\"\u001b[39m\u001b[38;5;124mTCP\u001b[39m\u001b[38;5;124m\"\u001b[39m]\u001b[38;5;241m.\u001b[39msport,\n\u001b[0;32m----> 3\u001b[0m                                     \u001b[43mpacket\u001b[49m\u001b[43m[\u001b[49m\u001b[38;5;124;43m\"\u001b[39;49m\u001b[38;5;124;43mIP\u001b[39;49m\u001b[38;5;124;43m\"\u001b[39;49m\u001b[43m]\u001b[49m\u001b[38;5;241m.\u001b[39mdst, packet[\u001b[38;5;124m\"\u001b[39m\u001b[38;5;124mTCP\u001b[39m\u001b[38;5;124m\"\u001b[39m]\u001b[38;5;241m.\u001b[39mdport], key\u001b[38;5;241m=\u001b[39m\u001b[38;5;28mstr\u001b[39m))\n",
            "File \u001b[0;32m~/miniconda3/lib/python3.12/site-packages/scapy/packet.py:1319\u001b[0m, in \u001b[0;36mPacket.__getitem__\u001b[0;34m(self, cls)\u001b[0m\n\u001b[1;32m   1317\u001b[0m \u001b[38;5;28;01melse\u001b[39;00m:\n\u001b[1;32m   1318\u001b[0m     lname \u001b[38;5;241m=\u001b[39m \u001b[38;5;28mcls\u001b[39m\n\u001b[0;32m-> 1319\u001b[0m     ret \u001b[38;5;241m=\u001b[39m \u001b[38;5;28;43mself\u001b[39;49m\u001b[38;5;241;43m.\u001b[39;49m\u001b[43mgetlayer\u001b[49m\u001b[43m(\u001b[49m\u001b[38;5;28;43mcls\u001b[39;49m\u001b[43m)\u001b[49m\n\u001b[1;32m   1320\u001b[0m \u001b[38;5;28;01mif\u001b[39;00m ret \u001b[38;5;129;01mis\u001b[39;00m \u001b[38;5;28;01mNone\u001b[39;00m:\n\u001b[1;32m   1321\u001b[0m     \u001b[38;5;28;01mif\u001b[39;00m \u001b[38;5;28misinstance\u001b[39m(lname, \u001b[38;5;28mtype\u001b[39m):\n",
            "File \u001b[0;32m~/miniconda3/lib/python3.12/site-packages/scapy/packet.py:1242\u001b[0m, in \u001b[0;36mPacket.getlayer\u001b[0;34m(self, cls, nb, _track, _subclass, **flt)\u001b[0m\n\u001b[1;32m   1239\u001b[0m                         \u001b[38;5;28;01mreturn\u001b[39;00m ret\n\u001b[1;32m   1240\u001b[0m         \u001b[38;5;28;01mreturn\u001b[39;00m \u001b[38;5;28mself\u001b[39m\u001b[38;5;241m.\u001b[39mpayload\u001b[38;5;241m.\u001b[39mhaslayer(\u001b[38;5;28mcls\u001b[39m, _subclass\u001b[38;5;241m=\u001b[39m_subclass)\n\u001b[0;32m-> 1242\u001b[0m     \u001b[38;5;28;01mdef\u001b[39;00m \u001b[38;5;21mgetlayer\u001b[39m(\u001b[38;5;28mself\u001b[39m,\n\u001b[1;32m   1243\u001b[0m                  \u001b[38;5;28mcls\u001b[39m,  \u001b[38;5;66;03m# type: Union[int, Type[Packet], str]\u001b[39;00m\n\u001b[1;32m   1244\u001b[0m                  nb\u001b[38;5;241m=\u001b[39m\u001b[38;5;241m1\u001b[39m,  \u001b[38;5;66;03m# type: int\u001b[39;00m\n\u001b[1;32m   1245\u001b[0m                  _track\u001b[38;5;241m=\u001b[39m\u001b[38;5;28;01mNone\u001b[39;00m,  \u001b[38;5;66;03m# type: Optional[List[int]]\u001b[39;00m\n\u001b[1;32m   1246\u001b[0m                  _subclass\u001b[38;5;241m=\u001b[39m\u001b[38;5;28;01mNone\u001b[39;00m,  \u001b[38;5;66;03m# type: Optional[bool]\u001b[39;00m\n\u001b[1;32m   1247\u001b[0m                  \u001b[38;5;241m*\u001b[39m\u001b[38;5;241m*\u001b[39mflt  \u001b[38;5;66;03m# type: Any\u001b[39;00m\n\u001b[1;32m   1248\u001b[0m                  ):\n\u001b[1;32m   1249\u001b[0m         \u001b[38;5;66;03m# type: (...) -> Optional[Packet]\u001b[39;00m\n\u001b[1;32m   1250\u001b[0m \u001b[38;5;250m        \u001b[39m\u001b[38;5;124;03m\"\"\"Return the nb^th layer that is an instance of cls, matching flt\u001b[39;00m\n\u001b[1;32m   1251\u001b[0m \u001b[38;5;124;03mvalues.\u001b[39;00m\n\u001b[1;32m   1252\u001b[0m \u001b[38;5;124;03m        \"\"\"\u001b[39;00m\n\u001b[1;32m   1253\u001b[0m         \u001b[38;5;28;01mif\u001b[39;00m _subclass \u001b[38;5;129;01mis\u001b[39;00m \u001b[38;5;28;01mNone\u001b[39;00m:\n",
            "\u001b[0;31mKeyboardInterrupt\u001b[0m: "
          ]
        }
      ],
      "source": [
        "# dfs= []\n",
        "# for packets, label, attack_directory_attack in all_packets:\n",
        "#     session_dict = packets.sessions(lambda x: session_extractor(x,attack_directory_attack))\n",
        "#     dfs.append(pd.concat({flow_key: build_dataframe(flow) for flow_key, flow in session_dict.items()}))\n",
        "#     break"
      ]
    },
    {
      "cell_type": "code",
      "execution_count": null,
      "metadata": {},
      "outputs": [],
      "source": [
        "dfs= pd"
      ]
    },
    {
      "cell_type": "code",
      "execution_count": 192,
      "metadata": {},
      "outputs": [],
      "source": [
        "pcap_file = f\"./data/{attack_directory}/{attack_directory}_{device_to_read}/{attack_directory}_{device_to_read}_iec104_only.pcap\"\n",
        "packets=rdpcap(pcap_file)"
      ]
    },
    {
      "cell_type": "code",
      "execution_count": null,
      "metadata": {},
      "outputs": [],
      "source": []
    },
    {
      "cell_type": "code",
      "execution_count": 194,
      "metadata": {},
      "outputs": [
        {
          "ename": "NameError",
          "evalue": "name 'attack' is not defined",
          "output_type": "error",
          "traceback": [
            "\u001b[0;31m---------------------------------------------------------------------------\u001b[0m",
            "\u001b[0;31mNameError\u001b[0m                                 Traceback (most recent call last)",
            "Cell \u001b[0;32mIn[194], line 6\u001b[0m\n\u001b[1;32m      3\u001b[0m \u001b[38;5;28;01mdef\u001b[39;00m \u001b[38;5;21msession_extractor\u001b[39m(packet):\n\u001b[1;32m      4\u001b[0m     \u001b[38;5;28;01mreturn\u001b[39;00m \u001b[38;5;28mstr\u001b[39m(\u001b[38;5;28msorted\u001b[39m([attack, \u001b[38;5;124m\"\u001b[39m\u001b[38;5;124mTCP\u001b[39m\u001b[38;5;124m\"\u001b[39m, packet[\u001b[38;5;124m\"\u001b[39m\u001b[38;5;124mIP\u001b[39m\u001b[38;5;124m\"\u001b[39m]\u001b[38;5;241m.\u001b[39msrc, packet[\u001b[38;5;124m\"\u001b[39m\u001b[38;5;124mTCP\u001b[39m\u001b[38;5;124m\"\u001b[39m]\u001b[38;5;241m.\u001b[39msport,\n\u001b[1;32m      5\u001b[0m                                     packet[\u001b[38;5;124m\"\u001b[39m\u001b[38;5;124mIP\u001b[39m\u001b[38;5;124m\"\u001b[39m]\u001b[38;5;241m.\u001b[39mdst, packet[\u001b[38;5;124m\"\u001b[39m\u001b[38;5;124mTCP\u001b[39m\u001b[38;5;124m\"\u001b[39m]\u001b[38;5;241m.\u001b[39mdport], key\u001b[38;5;241m=\u001b[39m\u001b[38;5;28mstr\u001b[39m))\n\u001b[0;32m----> 6\u001b[0m session_dict \u001b[38;5;241m=\u001b[39m\u001b[43mpackets\u001b[49m\u001b[38;5;241;43m.\u001b[39;49m\u001b[43msessions\u001b[49m\u001b[43m(\u001b[49m\u001b[43msession_extractor\u001b[49m\u001b[43m)\u001b[49m\n\u001b[1;32m      7\u001b[0m \u001b[38;5;66;03m# len(session_dict)\u001b[39;00m\n",
            "File \u001b[0;32m~/miniconda3/lib/python3.12/site-packages/scapy/plist.py:677\u001b[0m, in \u001b[0;36m_PacketList.sessions\u001b[0;34m(self, session_extractor)\u001b[0m\n\u001b[1;32m    675\u001b[0m sessions \u001b[38;5;241m=\u001b[39m defaultdict(\u001b[38;5;28mself\u001b[39m\u001b[38;5;241m.\u001b[39m\u001b[38;5;18m__class__\u001b[39m)  \u001b[38;5;66;03m# type: DefaultDict[str, _PacketList[_Inner]]  # noqa: E501\u001b[39;00m\n\u001b[1;32m    676\u001b[0m \u001b[38;5;28;01mfor\u001b[39;00m p \u001b[38;5;129;01min\u001b[39;00m \u001b[38;5;28mself\u001b[39m\u001b[38;5;241m.\u001b[39mres:\n\u001b[0;32m--> 677\u001b[0m     sess \u001b[38;5;241m=\u001b[39m \u001b[43msession_extractor\u001b[49m\u001b[43m(\u001b[49m\n\u001b[1;32m    678\u001b[0m \u001b[43m        \u001b[49m\u001b[38;5;28;43mself\u001b[39;49m\u001b[38;5;241;43m.\u001b[39;49m\u001b[43m_elt2pkt\u001b[49m\u001b[43m(\u001b[49m\u001b[43mp\u001b[49m\u001b[43m)\u001b[49m\n\u001b[1;32m    679\u001b[0m \u001b[43m    \u001b[49m\u001b[43m)\u001b[49m\n\u001b[1;32m    680\u001b[0m     sessions[sess]\u001b[38;5;241m.\u001b[39mappend(p)\n\u001b[1;32m    681\u001b[0m \u001b[38;5;28;01mreturn\u001b[39;00m \u001b[38;5;28mdict\u001b[39m(sessions)\n",
            "Cell \u001b[0;32mIn[194], line 4\u001b[0m, in \u001b[0;36msession_extractor\u001b[0;34m(packet)\u001b[0m\n\u001b[1;32m      3\u001b[0m \u001b[38;5;28;01mdef\u001b[39;00m \u001b[38;5;21msession_extractor\u001b[39m(packet):\n\u001b[0;32m----> 4\u001b[0m     \u001b[38;5;28;01mreturn\u001b[39;00m \u001b[38;5;28mstr\u001b[39m(\u001b[38;5;28msorted\u001b[39m([\u001b[43mattack\u001b[49m, \u001b[38;5;124m\"\u001b[39m\u001b[38;5;124mTCP\u001b[39m\u001b[38;5;124m\"\u001b[39m, packet[\u001b[38;5;124m\"\u001b[39m\u001b[38;5;124mIP\u001b[39m\u001b[38;5;124m\"\u001b[39m]\u001b[38;5;241m.\u001b[39msrc, packet[\u001b[38;5;124m\"\u001b[39m\u001b[38;5;124mTCP\u001b[39m\u001b[38;5;124m\"\u001b[39m]\u001b[38;5;241m.\u001b[39msport,\n\u001b[1;32m      5\u001b[0m                                     packet[\u001b[38;5;124m\"\u001b[39m\u001b[38;5;124mIP\u001b[39m\u001b[38;5;124m\"\u001b[39m]\u001b[38;5;241m.\u001b[39mdst, packet[\u001b[38;5;124m\"\u001b[39m\u001b[38;5;124mTCP\u001b[39m\u001b[38;5;124m\"\u001b[39m]\u001b[38;5;241m.\u001b[39mdport], key\u001b[38;5;241m=\u001b[39m\u001b[38;5;28mstr\u001b[39m))\n",
            "\u001b[0;31mNameError\u001b[0m: name 'attack' is not defined"
          ]
        }
      ],
      "source": [
        "# # LAST_PACKET_TIME = defaultdict(lambda: 0)  \n",
        "# # TIMEOUT = 0.00000001\n",
        "# def session_extractor(packet,attack):\n",
        "#     return str(sorted([attack, \"TCP\", packet[\"IP\"].src, packet[\"TCP\"].sport,\n",
        "#                                     packet[\"IP\"].dst, packet[\"TCP\"].dport], key=str))\n",
        "# session_dict =packets.sessions(session_extractor)\n",
        "# # len(session_dict)"
      ]
    },
    {
      "cell_type": "code",
      "execution_count": 189,
      "metadata": {},
      "outputs": [],
      "source": []
    },
    {
      "cell_type": "code",
      "execution_count": null,
      "metadata": {},
      "outputs": [],
      "source": []
    },
    {
      "cell_type": "code",
      "execution_count": 161,
      "metadata": {},
      "outputs": [
        {
          "data": {
            "text/plain": [
              "3680"
            ]
          },
          "execution_count": 161,
          "metadata": {},
          "output_type": "execute_result"
        }
      ],
      "source": [
        "len(session_dict)"
      ]
    },
    {
      "cell_type": "code",
      "execution_count": null,
      "metadata": {},
      "outputs": [],
      "source": [
        "session_dict[\"['192.168.1.19', '192.168.1.29', 2404, 42239, 'TCP']_1588157787\"].show()"
      ]
    },
    {
      "cell_type": "code",
      "execution_count": 72,
      "metadata": {},
      "outputs": [],
      "source": []
    },
    {
      "cell_type": "code",
      "execution_count": 65,
      "metadata": {},
      "outputs": [
        {
          "ename": "ValueError",
          "evalue": "All arrays must be of the same length",
          "output_type": "error",
          "traceback": [
            "\u001b[0;31m---------------------------------------------------------------------------\u001b[0m",
            "\u001b[0;31mValueError\u001b[0m                                Traceback (most recent call last)",
            "Cell \u001b[0;32mIn[65], line 1\u001b[0m\n\u001b[0;32m----> 1\u001b[0m \u001b[43mpd\u001b[49m\u001b[38;5;241;43m.\u001b[39;49m\u001b[43mDataFrame\u001b[49m\u001b[43m(\u001b[49m\u001b[43msession_dict\u001b[49m\u001b[43m)\u001b[49m\n",
            "File \u001b[0;32m~/miniconda3/lib/python3.12/site-packages/pandas/core/frame.py:767\u001b[0m, in \u001b[0;36mDataFrame.__init__\u001b[0;34m(self, data, index, columns, dtype, copy)\u001b[0m\n\u001b[1;32m    761\u001b[0m     mgr \u001b[38;5;241m=\u001b[39m \u001b[38;5;28mself\u001b[39m\u001b[38;5;241m.\u001b[39m_init_mgr(\n\u001b[1;32m    762\u001b[0m         data, axes\u001b[38;5;241m=\u001b[39m{\u001b[38;5;124m\"\u001b[39m\u001b[38;5;124mindex\u001b[39m\u001b[38;5;124m\"\u001b[39m: index, \u001b[38;5;124m\"\u001b[39m\u001b[38;5;124mcolumns\u001b[39m\u001b[38;5;124m\"\u001b[39m: columns}, dtype\u001b[38;5;241m=\u001b[39mdtype, copy\u001b[38;5;241m=\u001b[39mcopy\n\u001b[1;32m    763\u001b[0m     )\n\u001b[1;32m    765\u001b[0m \u001b[38;5;28;01melif\u001b[39;00m \u001b[38;5;28misinstance\u001b[39m(data, \u001b[38;5;28mdict\u001b[39m):\n\u001b[1;32m    766\u001b[0m     \u001b[38;5;66;03m# GH#38939 de facto copy defaults to False only in non-dict cases\u001b[39;00m\n\u001b[0;32m--> 767\u001b[0m     mgr \u001b[38;5;241m=\u001b[39m \u001b[43mdict_to_mgr\u001b[49m\u001b[43m(\u001b[49m\u001b[43mdata\u001b[49m\u001b[43m,\u001b[49m\u001b[43m \u001b[49m\u001b[43mindex\u001b[49m\u001b[43m,\u001b[49m\u001b[43m \u001b[49m\u001b[43mcolumns\u001b[49m\u001b[43m,\u001b[49m\u001b[43m \u001b[49m\u001b[43mdtype\u001b[49m\u001b[38;5;241;43m=\u001b[39;49m\u001b[43mdtype\u001b[49m\u001b[43m,\u001b[49m\u001b[43m \u001b[49m\u001b[43mcopy\u001b[49m\u001b[38;5;241;43m=\u001b[39;49m\u001b[43mcopy\u001b[49m\u001b[43m,\u001b[49m\u001b[43m \u001b[49m\u001b[43mtyp\u001b[49m\u001b[38;5;241;43m=\u001b[39;49m\u001b[43mmanager\u001b[49m\u001b[43m)\u001b[49m\n\u001b[1;32m    768\u001b[0m \u001b[38;5;28;01melif\u001b[39;00m \u001b[38;5;28misinstance\u001b[39m(data, ma\u001b[38;5;241m.\u001b[39mMaskedArray):\n\u001b[1;32m    769\u001b[0m     \u001b[38;5;28;01mfrom\u001b[39;00m \u001b[38;5;21;01mnumpy\u001b[39;00m\u001b[38;5;21;01m.\u001b[39;00m\u001b[38;5;21;01mma\u001b[39;00m \u001b[38;5;28;01mimport\u001b[39;00m mrecords\n",
            "File \u001b[0;32m~/miniconda3/lib/python3.12/site-packages/pandas/core/internals/construction.py:503\u001b[0m, in \u001b[0;36mdict_to_mgr\u001b[0;34m(data, index, columns, dtype, typ, copy)\u001b[0m\n\u001b[1;32m    499\u001b[0m     \u001b[38;5;28;01melse\u001b[39;00m:\n\u001b[1;32m    500\u001b[0m         \u001b[38;5;66;03m# dtype check to exclude e.g. range objects, scalars\u001b[39;00m\n\u001b[1;32m    501\u001b[0m         arrays \u001b[38;5;241m=\u001b[39m [x\u001b[38;5;241m.\u001b[39mcopy() \u001b[38;5;28;01mif\u001b[39;00m \u001b[38;5;28mhasattr\u001b[39m(x, \u001b[38;5;124m\"\u001b[39m\u001b[38;5;124mdtype\u001b[39m\u001b[38;5;124m\"\u001b[39m) \u001b[38;5;28;01melse\u001b[39;00m x \u001b[38;5;28;01mfor\u001b[39;00m x \u001b[38;5;129;01min\u001b[39;00m arrays]\n\u001b[0;32m--> 503\u001b[0m \u001b[38;5;28;01mreturn\u001b[39;00m \u001b[43marrays_to_mgr\u001b[49m\u001b[43m(\u001b[49m\u001b[43marrays\u001b[49m\u001b[43m,\u001b[49m\u001b[43m \u001b[49m\u001b[43mcolumns\u001b[49m\u001b[43m,\u001b[49m\u001b[43m \u001b[49m\u001b[43mindex\u001b[49m\u001b[43m,\u001b[49m\u001b[43m \u001b[49m\u001b[43mdtype\u001b[49m\u001b[38;5;241;43m=\u001b[39;49m\u001b[43mdtype\u001b[49m\u001b[43m,\u001b[49m\u001b[43m \u001b[49m\u001b[43mtyp\u001b[49m\u001b[38;5;241;43m=\u001b[39;49m\u001b[43mtyp\u001b[49m\u001b[43m,\u001b[49m\u001b[43m \u001b[49m\u001b[43mconsolidate\u001b[49m\u001b[38;5;241;43m=\u001b[39;49m\u001b[43mcopy\u001b[49m\u001b[43m)\u001b[49m\n",
            "File \u001b[0;32m~/miniconda3/lib/python3.12/site-packages/pandas/core/internals/construction.py:114\u001b[0m, in \u001b[0;36marrays_to_mgr\u001b[0;34m(arrays, columns, index, dtype, verify_integrity, typ, consolidate)\u001b[0m\n\u001b[1;32m    111\u001b[0m \u001b[38;5;28;01mif\u001b[39;00m verify_integrity:\n\u001b[1;32m    112\u001b[0m     \u001b[38;5;66;03m# figure out the index, if necessary\u001b[39;00m\n\u001b[1;32m    113\u001b[0m     \u001b[38;5;28;01mif\u001b[39;00m index \u001b[38;5;129;01mis\u001b[39;00m \u001b[38;5;28;01mNone\u001b[39;00m:\n\u001b[0;32m--> 114\u001b[0m         index \u001b[38;5;241m=\u001b[39m \u001b[43m_extract_index\u001b[49m\u001b[43m(\u001b[49m\u001b[43marrays\u001b[49m\u001b[43m)\u001b[49m\n\u001b[1;32m    115\u001b[0m     \u001b[38;5;28;01melse\u001b[39;00m:\n\u001b[1;32m    116\u001b[0m         index \u001b[38;5;241m=\u001b[39m ensure_index(index)\n",
            "File \u001b[0;32m~/miniconda3/lib/python3.12/site-packages/pandas/core/internals/construction.py:677\u001b[0m, in \u001b[0;36m_extract_index\u001b[0;34m(data)\u001b[0m\n\u001b[1;32m    675\u001b[0m lengths \u001b[38;5;241m=\u001b[39m \u001b[38;5;28mlist\u001b[39m(\u001b[38;5;28mset\u001b[39m(raw_lengths))\n\u001b[1;32m    676\u001b[0m \u001b[38;5;28;01mif\u001b[39;00m \u001b[38;5;28mlen\u001b[39m(lengths) \u001b[38;5;241m>\u001b[39m \u001b[38;5;241m1\u001b[39m:\n\u001b[0;32m--> 677\u001b[0m     \u001b[38;5;28;01mraise\u001b[39;00m \u001b[38;5;167;01mValueError\u001b[39;00m(\u001b[38;5;124m\"\u001b[39m\u001b[38;5;124mAll arrays must be of the same length\u001b[39m\u001b[38;5;124m\"\u001b[39m)\n\u001b[1;32m    679\u001b[0m \u001b[38;5;28;01mif\u001b[39;00m have_dicts:\n\u001b[1;32m    680\u001b[0m     \u001b[38;5;28;01mraise\u001b[39;00m \u001b[38;5;167;01mValueError\u001b[39;00m(\n\u001b[1;32m    681\u001b[0m         \u001b[38;5;124m\"\u001b[39m\u001b[38;5;124mMixing dicts with non-Series may lead to ambiguous ordering.\u001b[39m\u001b[38;5;124m\"\u001b[39m\n\u001b[1;32m    682\u001b[0m     )\n",
            "\u001b[0;31mValueError\u001b[0m: All arrays must be of the same length"
          ]
        }
      ],
      "source": [
        "from pathlib import Path\n",
        "for attack_directory in attacks_directories:\n",
        "  dfs=[]\n",
        "  for device_to_read in devices_to_read:\n",
        "    if device_to_read != 'qtester' and attack_directory == '20200425_UOWM_IEC104_Dataset_m_sp_na_1_DoS':\n",
        "      continue\n",
        "    pcap_file = f\"./data/{attack_directory}/{attack_directory}_{device_to_read}/{attack_directory}_{device_to_read}_iec104_only.pcap\"\n",
        "    # print(device_to_read,attack_directory)\n",
        "    # df = pd.read_csv(f'/content/{os.path.basename(pcap_file)}.npt', index_col=0)\n",
        "    packets=rdpcap(pcap_file)\n",
        "    if device_to_read != 'qtester':\n",
        "      label = get_attack_directory_attack(attack_directory)\n",
        "    else:\n",
        "      label = 'normal'\n",
        "\n",
        "    df['label'] = label\n",
        "    # print(df.columns)\n",
        "    # print(df.index)\n",
        "    # df['flow'] =  df['flow']+'_'+df['label']\n",
        "    df.index = df.index.map(lambda x: x +'_'+ get_attack_directory_attack(attack_directory))\n",
        "    # df['flow']=df['flow']\n",
        "    # print(df.head())\n",
        "    dfs.append(df)\n",
        "  df = pd.concat(dfs)\n",
        "  df.to_parquet(f\"./data/iec104v2_15.parquet\")"
      ]
    },
    {
      "cell_type": "code",
      "execution_count": null,
      "metadata": {},
      "outputs": [],
      "source": [
        "\n",
        "from pathlib import Path\n",
        "\n",
        "for attack_directory in attacks_directories:\n",
        "  dfs=[]\n",
        "  for device_to_read in devices_to_read:\n",
        "    if device_to_read != 'qtester' and attack_directory == '20200425_UOWM_IEC104_Dataset_m_sp_na_1_DoS':\n",
        "      continue\n",
        "    pcap_file = f\"/content/{attack_directory}/{attack_directory}_{device_to_read}/{attack_directory}_{device_to_read}_iec104_only.pcap\"\n",
        "    # print(device_to_read,attack_directory)\n",
        "    # df = pd.read_csv(f'/content/{os.path.basename(pcap_file)}.npt', index_col=0)\n",
        "    packets=rdpcap(pcap_file)\n",
        "    if device_to_read != 'qtester':\n",
        "      label = get_attack_directory_attack(attack_directory)\n",
        "    else:\n",
        "      label = 'normal'\n",
        "\n",
        "    df['label'] = label\n",
        "    # print(df.columns)\n",
        "    # print(df.index)\n",
        "    # df['flow'] =  df['flow']+'_'+df['label']\n",
        "    df.index = df.index.map(lambda x: x +'_'+ get_attack_directory_attack(attack_directory))\n",
        "    # df['flow']=df['flow']\n",
        "    # print(df.head())\n",
        "    dfs.append(df)\n",
        "  df = pd.concat(dfs)\n",
        "  df.to_parquet(f\"/content/drive/My Drive/IEC104/{attack_directory}.parquet\")"
      ]
    },
    {
      "cell_type": "code",
      "execution_count": null,
      "metadata": {},
      "outputs": [],
      "source": []
    },
    {
      "cell_type": "code",
      "execution_count": null,
      "metadata": {
        "id": "pyqSUEccnJW0"
      },
      "outputs": [],
      "source": [
        "!wc -l /content/20200429_UOWM_IEC104_Dataset_c_sc_na_1_DoS_attacker2_iec104_only.pcap.npt\n",
        "!head /content/20200429_UOWM_IEC104_Dataset_c_sc_na_1_DoS_attacker2_iec104_only.pcap.npt"
      ]
    },
    {
      "cell_type": "code",
      "execution_count": null,
      "metadata": {
        "id": "u3SqA05XXtcm"
      },
      "outputs": [],
      "source": [
        "# datasets=[]\n",
        "# store=pd.HDFStore('iec104_all.h5')\n",
        "# #     for df in dfs:\n",
        "# #\n",
        "# #     #del dfs\n",
        "# #     df=store.select('iec104')\n",
        "# #     store.close()\n",
        "# #     os.remove('iec104_all.h5')\n",
        "# #     return df\n",
        "# for attack_directory in attacks_directories:\n",
        "#   for device_to_read in devices_to_read:\n",
        "#     if device_to_read != 'qtester' and attack_directory == '20200425_UOWM_IEC104_Dataset_m_sp_na_1_DoS':\n",
        "#       continue\n",
        "#     pcap_file = f\"/content/{attack_directory}/{attack_directory}_{device_to_read}/{attack_directory}_{device_to_read}_iec104_only.pcap\"\n",
        "#     # print(device_to_read,attack_directory)\n",
        "#     df = pd.read_csv(f'/content/{os.path.basename(pcap_file)}.npt', index_col=0)\n",
        "#     if device_to_read != 'qtester':\n",
        "#       df['label'] = get_attack_directory_attack(attack_directory)\n",
        "#     else:\n",
        "#       df['label'] = 'normal'\n",
        "#     store.append('iec104',df,data_columns=df.columns)\n",
        "#     # df['flow']=df['flow']\n",
        "#     # print(df.head())\n",
        "#     # datasets.append(df)\n",
        "# store.close()"
      ]
    },
    {
      "cell_type": "code",
      "execution_count": null,
      "metadata": {
        "id": "JQMnlwP6V8dI"
      },
      "outputs": [],
      "source": [
        "# def hdf_save(dfs):\n",
        "#     store=pd.HDFStore('iec104_all.h5')\n",
        "#     for df in dfs:\n",
        "#         store.append('iec104',df,data_columns=df.columns)\n",
        "#     #del dfs\n",
        "#     df=store.select('iec104')\n",
        "#     store.close()\n",
        "#     os.remove('iec104_all.h5')\n",
        "#     return df\n",
        "# hdf_save(datasets)"
      ]
    },
    {
      "cell_type": "code",
      "execution_count": null,
      "metadata": {
        "id": "ZTOwsFKoZoxj"
      },
      "outputs": [],
      "source": [
        "# datasets=[]\n",
        "from pathlib import Path\n",
        "\n",
        "for attack_directory in attacks_directories:\n",
        "  dfs=[]\n",
        "  for device_to_read in devices_to_read:\n",
        "    if device_to_read != 'qtester' and attack_directory == '20200425_UOWM_IEC104_Dataset_m_sp_na_1_DoS':\n",
        "      continue\n",
        "    pcap_file = f\"/content/{attack_directory}/{attack_directory}_{device_to_read}/{attack_directory}_{device_to_read}_iec104_only.pcap\"\n",
        "    # print(device_to_read,attack_directory)\n",
        "    df = pd.read_csv(f'/content/{os.path.basename(pcap_file)}.npt', index_col=0)\n",
        "\n",
        "    if device_to_read != 'qtester':\n",
        "      label = get_attack_directory_attack(attack_directory)\n",
        "    else:\n",
        "      label = 'normal'\n",
        "\n",
        "    df['label'] = label\n",
        "    # print(df.columns)\n",
        "    # print(df.index)\n",
        "    # df['flow'] =  df['flow']+'_'+df['label']\n",
        "    df.index = df.index.map(lambda x: x +'_'+ get_attack_directory_attack(attack_directory))\n",
        "    # df['flow']=df['flow']\n",
        "    # print(df.head())\n",
        "    dfs.append(df)\n",
        "  df = pd.concat(dfs)\n",
        "  df.to_parquet(f\"/content/drive/My Drive/IEC104/{attack_directory}.parquet\")"
      ]
    },
    {
      "cell_type": "code",
      "execution_count": null,
      "metadata": {
        "id": "rwMOH5Pqg9pN"
      },
      "outputs": [],
      "source": [
        "# datasets=[]\n",
        "# for attack_directory in attacks_directories:\n",
        "#   for device_to_read in devices_to_read:\n",
        "#     if device_to_read != 'qtester' and attack_directory == '20200425_UOWM_IEC104_Dataset_m_sp_na_1_DoS':\n",
        "#       continue\n",
        "#     pcap_file = f\"/content/{attack_directory}/{attack_directory}_{device_to_read}/{attack_directory}_{device_to_read}_iec104_only.pcap\"\n",
        "#     # print(device_to_read,attack_directory)\n",
        "#     df = pd.read_csv(f'/content/{os.path.basename(pcap_file)}.npt', index_col=0)\n",
        "#     if device_to_read != 'qtester':\n",
        "#       df['label'] = get_attack_directory_attack(attack_directory)\n",
        "#     else:\n",
        "#       df['label'] = 'normal'\n",
        "#     # df['flow']=df['flow']\n",
        "#     # print(df.head())\n",
        "#     datasets.append(df)"
      ]
    },
    {
      "cell_type": "code",
      "execution_count": null,
      "metadata": {
        "id": "Sy85fxnqiiqR"
      },
      "outputs": [],
      "source": [
        "# # df = pd.concat(datasets)\n",
        "# # df.head(3)\n",
        "# df = pd.DataFrame()  # Initialize an empty DataFrame to store the concatenated data\n",
        "\n",
        "# for dataset in datasets:\n",
        "#     df = pd.concat([df, dataset])\n",
        "#     del dataset  # Delete the original dataset to free up memory"
      ]
    },
    {
      "cell_type": "code",
      "execution_count": null,
      "metadata": {
        "id": "FQbzZ-7BBxHe"
      },
      "outputs": [],
      "source": [
        "# df.shape"
      ]
    },
    {
      "cell_type": "code",
      "execution_count": null,
      "metadata": {
        "id": "AkSRDv0olxwR"
      },
      "outputs": [],
      "source": [
        "# df.to_parquet(\"/content/drive/My Drive/IEC104/iec104.parquet\")"
      ]
    }
  ],
  "metadata": {
    "colab": {
      "provenance": []
    },
    "kernelspec": {
      "display_name": "Python 3 (ipykernel)",
      "language": "python",
      "name": "python3"
    },
    "language_info": {
      "codemirror_mode": {
        "name": "ipython",
        "version": 3
      },
      "file_extension": ".py",
      "mimetype": "text/x-python",
      "name": "python",
      "nbconvert_exporter": "python",
      "pygments_lexer": "ipython3",
      "version": "3.12.2"
    }
  },
  "nbformat": 4,
  "nbformat_minor": 0
}
