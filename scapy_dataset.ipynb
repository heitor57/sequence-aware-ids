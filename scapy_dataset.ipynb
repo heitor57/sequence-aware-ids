{
  "cells": [
    {
      "cell_type": "markdown",
      "metadata": {
        "id": "Bapaz0nWMFKi"
      },
      "source": [
        "# Packages Installs and environment preparation"
      ]
    },
    {
      "cell_type": "code",
      "execution_count": 21,
      "metadata": {
        "id": "jczLjgSfSWeL"
      },
      "outputs": [],
      "source": [
        "# !7z x data/20200425_UOWM_IEC104_Dataset_m_sp_na_1_DoS.7z\n",
        "# !7z x data/20200426_UOWM_IEC104_Dataset_c_ci_na_1.7z\n",
        "# !7z x data/20200426_UOWM_IEC104_Dataset_c_ci_na_1_DoS.7z\n",
        "# !7z x data/20200427_UOWM_IEC104_Dataset_c_se_na_1.7z\n",
        "# !7z x data/20200428_UOWM_IEC104_Dataset_c_sc_na_1.7z\n",
        "# !7z x data/20200428_UOWM_IEC104_Dataset_c_se_na_1_DoS.7z\n",
        "# !7z x data/20200429_UOWM_IEC104_Dataset_c_sc_na_1_DoS.7z\n",
        "# !7z x data/20200605_UOWM_IEC104_Dataset_c_rd_na_1.7z\n",
        "# !7z x data/20200608_UOWM_IEC104_Dataset_mitm_drop.7z\n",
        "# !7z x data/20200606_UOWM_IEC104_Dataset_c_rp_na_1_DoS.7z\n",
        "# !7z x data/20200605_UOWM_IEC104_Dataset_c_rd_na_1_DoS.7z\n",
        "# !7z x data/20200606_UOWM_IEC104_Dataset_c_rp_na_1.7z"
      ]
    },
    {
      "cell_type": "markdown",
      "metadata": {
        "id": "-c29MaM2rpqr"
      },
      "source": [
        "# Imports"
      ]
    },
    {
      "cell_type": "code",
      "execution_count": 22,
      "metadata": {
        "colab": {
          "base_uri": "https://localhost:8080/"
        },
        "id": "VrkVnQL3LZqc",
        "outputId": "54fd20f5-e83c-498d-a334-a310dc1a0e20"
      },
      "outputs": [],
      "source": [
        "from scapy.all import *\n",
        "import pandas as pd\n",
        "# from catboost import CatBoostClassifier\n",
        "# import shap\n",
        "import seaborn as sns\n",
        "# import feature_engine\n",
        "# import feature_engine.encoding\n",
        "import numpy as np\n",
        "# from catboost import Pool\n",
        "import matplotlib.pyplot as plt\n",
        "import matplotlib.ticker as mtick\n",
        "from collections import defaultdict\n",
        "import os\n",
        "# from google.colab import drive\n",
        "# drive.mount('/content/drive')"
      ]
    },
    {
      "cell_type": "markdown",
      "metadata": {
        "id": "Pv1A1aOSjRJB"
      },
      "source": [
        "## Code"
      ]
    },
    {
      "cell_type": "code",
      "execution_count": 23,
      "metadata": {
        "colab": {
          "base_uri": "https://localhost:8080/",
          "height": 38
        },
        "id": "Og05ZbSHKOdG",
        "outputId": "bcb300fa-94cd-4c75-a92c-d75bdf2f6f31"
      },
      "outputs": [
        {
          "data": {
            "text/plain": [
              "'m_sp_na_1_DoS'"
            ]
          },
          "execution_count": 23,
          "metadata": {},
          "output_type": "execute_result"
        }
      ],
      "source": [
        "def get_attack_directory_attack(path):\n",
        "  return path.split('Dataset_')[1]\n",
        "attacks_directories= [\n",
        "                      '20200425_UOWM_IEC104_Dataset_m_sp_na_1_DoS',\n",
        "                      '20200426_UOWM_IEC104_Dataset_c_ci_na_1',\n",
        "                      '20200427_UOWM_IEC104_Dataset_c_se_na_1',\n",
        "                      '20200428_UOWM_IEC104_Dataset_c_sc_na_1',\n",
        "                      '20200605_UOWM_IEC104_Dataset_c_rd_na_1',\n",
        "                      '20200606_UOWM_IEC104_Dataset_c_rp_na_1',\n",
        "                      '20200426_UOWM_IEC104_Dataset_c_ci_na_1_DoS',\n",
        "                      '20200605_UOWM_IEC104_Dataset_c_rd_na_1_DoS',\n",
        "                      '20200606_UOWM_IEC104_Dataset_c_rp_na_1_DoS',\n",
        "                      '20200428_UOWM_IEC104_Dataset_c_se_na_1_DoS',\n",
        "                      '20200429_UOWM_IEC104_Dataset_c_sc_na_1_DoS',\n",
        "                                            # '20200608_UOWM_IEC104_Dataset_mitm_drop'\n",
        "                                            ]\n",
        "devices_to_read = ['qtester','attacker1','attacker2','attacker3']\n",
        "\n",
        "# if '20200425_UOWM_IEC104_Dataset_m_sp_na_1_DoS':\n",
        "#   not\n",
        "get_attack_directory_attack(attacks_directories[0])"
      ]
    },
    {
      "cell_type": "code",
      "execution_count": 24,
      "metadata": {
        "colab": {
          "base_uri": "https://localhost:8080/",
          "height": 523
        },
        "id": "llFq5KkCJTQR",
        "outputId": "0aff67c5-b45d-4783-9048-484fc58fa6c4"
      },
      "outputs": [],
      "source": [
        "a={}\n",
        "for attack_directory in attacks_directories:\n",
        "  for device_to_read in devices_to_read:\n",
        "    pcap_file = f\"data/{attack_directory}/{attack_directory}_{device_to_read}/{attack_directory}_{device_to_read}_iec104_only.pcap\"\n",
        "    if device_to_read != 'qtester' and attack_directory == '20200425_UOWM_IEC104_Dataset_m_sp_na_1_DoS':\n",
        "      continue\n",
        "    packets=rdpcap(pcap_file,count=200)\n",
        "    for packet in packets:\n",
        "      a[len(packet[TCP].payload)] = 1\n",
        "MAX_IEC104_PAYLOAD_BYTES = max(a)"
      ]
    },
    {
      "cell_type": "code",
      "execution_count": 25,
      "metadata": {},
      "outputs": [
        {
          "data": {
            "text/plain": [
              "88"
            ]
          },
          "execution_count": 25,
          "metadata": {},
          "output_type": "execute_result"
        }
      ],
      "source": [
        "MAX_IEC104_PAYLOAD_BYTES"
      ]
    },
    {
      "cell_type": "code",
      "execution_count": 26,
      "metadata": {},
      "outputs": [
        {
          "name": "stdout",
          "output_type": "stream",
          "text": [
            "20200425_UOWM_IEC104_Dataset_m_sp_na_1_DoS\n",
            "20200426_UOWM_IEC104_Dataset_c_ci_na_1\n",
            "20200427_UOWM_IEC104_Dataset_c_se_na_1\n",
            "20200428_UOWM_IEC104_Dataset_c_sc_na_1\n",
            "20200605_UOWM_IEC104_Dataset_c_rd_na_1\n",
            "20200606_UOWM_IEC104_Dataset_c_rp_na_1\n",
            "20200426_UOWM_IEC104_Dataset_c_ci_na_1_DoS\n",
            "20200605_UOWM_IEC104_Dataset_c_rd_na_1_DoS\n",
            "20200606_UOWM_IEC104_Dataset_c_rp_na_1_DoS\n",
            "20200428_UOWM_IEC104_Dataset_c_se_na_1_DoS\n",
            "20200429_UOWM_IEC104_Dataset_c_sc_na_1_DoS\n"
          ]
        }
      ],
      "source": [
        "from pathlib import Path\n",
        "all_packets = []\n",
        "for attack_directory in attacks_directories:\n",
        "#   dfs=[]\n",
        "  print(attack_directory)\n",
        "  for device_to_read in devices_to_read:\n",
        "    if device_to_read != 'qtester' and attack_directory == '20200425_UOWM_IEC104_Dataset_m_sp_na_1_DoS':\n",
        "      continue\n",
        "    pcap_file = f\"./data/{attack_directory}/{attack_directory}_{device_to_read}/{attack_directory}_{device_to_read}_iec104_only.pcap\"\n",
        "    # print(device_to_read,attack_directory)\n",
        "    # df = pd.read_csv(f'/content/{os.path.basename(pcap_file)}.npt', index_col=0)\n",
        "    packets=rdpcap(pcap_file)\n",
        "    if device_to_read != 'qtester':\n",
        "      label = get_attack_directory_attack(attack_directory)\n",
        "    else:\n",
        "      label = 'normal'\n",
        "    if device_to_read == 'qtester' and attack_directory == '20200425_UOWM_IEC104_Dataset_m_sp_na_1_DoS':\n",
        "      label = get_attack_directory_attack(attack_directory)\n",
        "      \n",
        "    all_packets.append([packets,label,get_attack_directory_attack(attack_directory)])\n",
        "    # df['label'] = label\n",
        "    # print(df.columns)\n",
        "    # print(df.index)\n",
        "    # df['flow'] =  df['flow']+'_'+df['label']\n",
        "    # df.index = df.index.map(lambda x: x +'_'+ get_attack_directory_attack(attack_directory))\n",
        "    # df['flow']=df['flow']\n",
        "    # print(df.head())\n",
        "    # dfs.append(df)\n",
        "#   df = pd.concat(dfs)\n",
        "#   df.to_parquet(f\"./data/iec104v2_15.parquet\")"
      ]
    },
    {
      "cell_type": "code",
      "execution_count": 27,
      "metadata": {},
      "outputs": [],
      "source": [
        "def get_sessions_with_timeout(timeout,experiment_attack_directory):\n",
        "    last_packet_time = defaultdict(lambda: 0)  # Initialize last_packet_time dictionary with default value 0\n",
        "    flow_bin = defaultdict(lambda: 0)\n",
        "    def session_extractor(packet):\n",
        "        sess = [experiment_attack_directory,\"TCP\", packet[\"IP\"].src, packet[\"TCP\"].sport,\n",
        "                                   packet[\"IP\"].dst, packet[\"TCP\"].dport]\n",
        "\n",
        "        sess_key = str(sorted(sess, key=str))\n",
        "        current_time = packet.time\n",
        "\n",
        "        # Track original session key time\n",
        "        if current_time - last_packet_time[sess_key] > timeout:\n",
        "            flow_bin[sess_key]+=1\n",
        "            # If the timeout is exceeded, modify the session key to create a new session\n",
        "        sess.append(flow_bin[sess_key])\n",
        "        last_packet_time[sess_key] = current_time\n",
        "        sess_key = str(sorted(sess, key=str))\n",
        "        return sess_key\n",
        "    return session_extractor"
      ]
    },
    {
      "cell_type": "code",
      "execution_count": 30,
      "metadata": {},
      "outputs": [],
      "source": [
        "import binascii\n",
        "def build_dataframe(packet_list):\n",
        "        ip_fields = ['ip_'+field.name for field in IP().fields_desc]\n",
        "        tcp_fields = ['tcp_'+field.name for field in TCP().fields_desc]\n",
        "        ip_fields_raw = [field.name for field in IP().fields_desc]\n",
        "        tcp_fields_raw = [field.name for field in TCP().fields_desc]\n",
        "        # tcp_fields.remove('flags')\n",
        "        # tcp_fields.append('tcp_flags')\n",
        "        # udp_fields = [field.name for field in UDP().fields_desc]\n",
        "\n",
        "        dataframe_fields = ip_fields + ['time'] + tcp_fields + ['size','payload','payload_raw','payload_hex']\n",
        "        # dataframe_fields = list(set(dataframe_fields))\n",
        "\n",
        "        # Create blank DataFrame\n",
        "        df = pd.DataFrame(columns=dataframe_fields)\n",
        "        for packet in packet_list[IP]:\n",
        "            # Field array for each row of DataFrame\n",
        "            field_values = []\n",
        "            # Add all IP fields to dataframe\n",
        "            for field in ip_fields_raw:\n",
        "                if field == 'options':\n",
        "                    # Retrieving number of options defined in IP Header\n",
        "                    field_values.append(len(packet[IP].fields[field]))\n",
        "                else:\n",
        "                    field_values.append(packet[IP].fields[field])\n",
        "\n",
        "            field_values.append(packet.time)\n",
        "\n",
        "            layer_type = type(packet[IP].payload)\n",
        "            for field in tcp_fields_raw:\n",
        "                try:\n",
        "                    if field == 'options':\n",
        "                        field_values.append(len(packet[layer_type].fields[field]))\n",
        "                    else:\n",
        "                        field_values.append(packet[layer_type].fields[field])\n",
        "                except:\n",
        "                    field_values.append(None)\n",
        "            \n",
        "            # Append payload\n",
        "            field_values.append(len(packet))\n",
        "            field_values.append(len(packet[layer_type].payload))\n",
        "            field_values.append(packet[layer_type].payload.original)\n",
        "            field_values.append(binascii.hexlify(packet[layer_type].payload.original))\n",
        "            # Add row to DF\n",
        "            df_append = pd.DataFrame([field_values], columns=dataframe_fields)\n",
        "            df = pd.concat([df, df_append], axis=0)\n",
        "            \n",
        "        # Reset Index\n",
        "        df = df.reset_index()\n",
        "        # Drop old index column\n",
        "        df = df.drop(columns=\"index\")\n",
        "        return df\n"
      ]
    },
    {
      "cell_type": "code",
      "execution_count": 54,
      "metadata": {},
      "outputs": [
        {
          "data": {
            "application/vnd.jupyter.widget-view+json": {
              "model_id": "95ef40d051204d748f39d01cc1c89183",
              "version_major": 2,
              "version_minor": 0
            },
            "text/plain": [
              "Processing Packets:   0%|          | 0/41 [00:00<?, ?it/s]"
            ]
          },
          "metadata": {},
          "output_type": "display_data"
        },
        {
          "data": {
            "application/vnd.jupyter.widget-view+json": {
              "model_id": "05e01d03eccf43dcb8a5d639df1961d1",
              "version_major": 2,
              "version_minor": 0
            },
            "text/plain": [
              "Processing Sessions:   0%|          | 0/17 [00:00<?, ?it/s]"
            ]
          },
          "metadata": {},
          "output_type": "display_data"
        },
        {
          "data": {
            "application/vnd.jupyter.widget-view+json": {
              "model_id": "34526008af90421fae383d9a1431e666",
              "version_major": 2,
              "version_minor": 0
            },
            "text/plain": [
              "Processing Sessions:   0%|          | 0/3039 [00:00<?, ?it/s]"
            ]
          },
          "metadata": {},
          "output_type": "display_data"
        },
        {
          "data": {
            "application/vnd.jupyter.widget-view+json": {
              "model_id": "6acf24bb7c5c4f418ae9e1019df2f03d",
              "version_major": 2,
              "version_minor": 0
            },
            "text/plain": [
              "Processing Sessions:   0%|          | 0/717 [00:00<?, ?it/s]"
            ]
          },
          "metadata": {},
          "output_type": "display_data"
        },
        {
          "data": {
            "application/vnd.jupyter.widget-view+json": {
              "model_id": "deae6e63ca16427eba108e4fde98f038",
              "version_major": 2,
              "version_minor": 0
            },
            "text/plain": [
              "Processing Sessions:   0%|          | 0/150 [00:00<?, ?it/s]"
            ]
          },
          "metadata": {},
          "output_type": "display_data"
        },
        {
          "data": {
            "application/vnd.jupyter.widget-view+json": {
              "model_id": "b43e06a689e246158af92542f5b648b4",
              "version_major": 2,
              "version_minor": 0
            },
            "text/plain": [
              "Processing Sessions:   0%|          | 0/201 [00:00<?, ?it/s]"
            ]
          },
          "metadata": {},
          "output_type": "display_data"
        },
        {
          "data": {
            "application/vnd.jupyter.widget-view+json": {
              "model_id": "d606af8069c34917bd9b235022a27083",
              "version_major": 2,
              "version_minor": 0
            },
            "text/plain": [
              "Processing Sessions:   0%|          | 0/3187 [00:00<?, ?it/s]"
            ]
          },
          "metadata": {},
          "output_type": "display_data"
        },
        {
          "data": {
            "application/vnd.jupyter.widget-view+json": {
              "model_id": "74f393682e7747bb8dc432f08e3be372",
              "version_major": 2,
              "version_minor": 0
            },
            "text/plain": [
              "Processing Sessions:   0%|          | 0/350 [00:00<?, ?it/s]"
            ]
          },
          "metadata": {},
          "output_type": "display_data"
        },
        {
          "data": {
            "application/vnd.jupyter.widget-view+json": {
              "model_id": "19643ecf0f244da9adfc46165fa97bcb",
              "version_major": 2,
              "version_minor": 0
            },
            "text/plain": [
              "Processing Sessions:   0%|          | 0/300 [00:00<?, ?it/s]"
            ]
          },
          "metadata": {},
          "output_type": "display_data"
        },
        {
          "data": {
            "application/vnd.jupyter.widget-view+json": {
              "model_id": "2a88c9f2d0934f84ba1c8b46b33231f9",
              "version_major": 2,
              "version_minor": 0
            },
            "text/plain": [
              "Processing Sessions:   0%|          | 0/422 [00:00<?, ?it/s]"
            ]
          },
          "metadata": {},
          "output_type": "display_data"
        },
        {
          "data": {
            "application/vnd.jupyter.widget-view+json": {
              "model_id": "35aeba3636ab4f43988472c24349e395",
              "version_major": 2,
              "version_minor": 0
            },
            "text/plain": [
              "Processing Sessions:   0%|          | 0/3500 [00:00<?, ?it/s]"
            ]
          },
          "metadata": {},
          "output_type": "display_data"
        },
        {
          "data": {
            "application/vnd.jupyter.widget-view+json": {
              "model_id": "a2af5c6f06c94d9098050f47f34cfcdb",
              "version_major": 2,
              "version_minor": 0
            },
            "text/plain": [
              "Processing Sessions:   0%|          | 0/396 [00:00<?, ?it/s]"
            ]
          },
          "metadata": {},
          "output_type": "display_data"
        },
        {
          "data": {
            "application/vnd.jupyter.widget-view+json": {
              "model_id": "544acf4683e34c3a93571331eb6b57cc",
              "version_major": 2,
              "version_minor": 0
            },
            "text/plain": [
              "Processing Sessions:   0%|          | 0/430 [00:00<?, ?it/s]"
            ]
          },
          "metadata": {},
          "output_type": "display_data"
        },
        {
          "data": {
            "application/vnd.jupyter.widget-view+json": {
              "model_id": "95fe999465204e0683b61982d58242e7",
              "version_major": 2,
              "version_minor": 0
            },
            "text/plain": [
              "Processing Sessions:   0%|          | 0/661 [00:00<?, ?it/s]"
            ]
          },
          "metadata": {},
          "output_type": "display_data"
        },
        {
          "data": {
            "application/vnd.jupyter.widget-view+json": {
              "model_id": "e304c3a4cdeb4b88aad848a1f73d074f",
              "version_major": 2,
              "version_minor": 0
            },
            "text/plain": [
              "Processing Sessions:   0%|          | 0/3749 [00:00<?, ?it/s]"
            ]
          },
          "metadata": {},
          "output_type": "display_data"
        },
        {
          "data": {
            "application/vnd.jupyter.widget-view+json": {
              "model_id": "672d6c10dee044b6bd99ac8e20578564",
              "version_major": 2,
              "version_minor": 0
            },
            "text/plain": [
              "Processing Sessions:   0%|          | 0/414 [00:00<?, ?it/s]"
            ]
          },
          "metadata": {},
          "output_type": "display_data"
        },
        {
          "data": {
            "application/vnd.jupyter.widget-view+json": {
              "model_id": "cec756553f4e493e80f463a49bc72ac5",
              "version_major": 2,
              "version_minor": 0
            },
            "text/plain": [
              "Processing Sessions:   0%|          | 0/466 [00:00<?, ?it/s]"
            ]
          },
          "metadata": {},
          "output_type": "display_data"
        },
        {
          "data": {
            "application/vnd.jupyter.widget-view+json": {
              "model_id": "a914366c38e644cdbc04054e3985aeb1",
              "version_major": 2,
              "version_minor": 0
            },
            "text/plain": [
              "Processing Sessions:   0%|          | 0/558 [00:00<?, ?it/s]"
            ]
          },
          "metadata": {},
          "output_type": "display_data"
        },
        {
          "data": {
            "application/vnd.jupyter.widget-view+json": {
              "model_id": "8a560ffe017541b499fbd171b78a96f4",
              "version_major": 2,
              "version_minor": 0
            },
            "text/plain": [
              "Processing Sessions:   0%|          | 0/3709 [00:00<?, ?it/s]"
            ]
          },
          "metadata": {},
          "output_type": "display_data"
        },
        {
          "data": {
            "application/vnd.jupyter.widget-view+json": {
              "model_id": "f79fc3997ec54085a71a6a8d03ccd4cc",
              "version_major": 2,
              "version_minor": 0
            },
            "text/plain": [
              "Processing Sessions:   0%|          | 0/422 [00:00<?, ?it/s]"
            ]
          },
          "metadata": {},
          "output_type": "display_data"
        },
        {
          "data": {
            "application/vnd.jupyter.widget-view+json": {
              "model_id": "867bc4dabba04e37bcf31dbb3321eee1",
              "version_major": 2,
              "version_minor": 0
            },
            "text/plain": [
              "Processing Sessions:   0%|          | 0/428 [00:00<?, ?it/s]"
            ]
          },
          "metadata": {},
          "output_type": "display_data"
        },
        {
          "data": {
            "application/vnd.jupyter.widget-view+json": {
              "model_id": "aec15847d574481e93d73618369c5987",
              "version_major": 2,
              "version_minor": 0
            },
            "text/plain": [
              "Processing Sessions:   0%|          | 0/600 [00:00<?, ?it/s]"
            ]
          },
          "metadata": {},
          "output_type": "display_data"
        },
        {
          "data": {
            "application/vnd.jupyter.widget-view+json": {
              "model_id": "2652c1bde4e84575a29da25e2be434cc",
              "version_major": 2,
              "version_minor": 0
            },
            "text/plain": [
              "Processing Sessions:   0%|          | 0/2805 [00:00<?, ?it/s]"
            ]
          },
          "metadata": {},
          "output_type": "display_data"
        },
        {
          "data": {
            "application/vnd.jupyter.widget-view+json": {
              "model_id": "b3be4059fe1641ec9923211197c6b3a9",
              "version_major": 2,
              "version_minor": 0
            },
            "text/plain": [
              "Processing Sessions:   0%|          | 0/351 [00:00<?, ?it/s]"
            ]
          },
          "metadata": {},
          "output_type": "display_data"
        },
        {
          "data": {
            "application/vnd.jupyter.widget-view+json": {
              "model_id": "b4a63d568aa94088b74997d83644526c",
              "version_major": 2,
              "version_minor": 0
            },
            "text/plain": [
              "Processing Sessions:   0%|          | 0/429 [00:00<?, ?it/s]"
            ]
          },
          "metadata": {},
          "output_type": "display_data"
        },
        {
          "data": {
            "application/vnd.jupyter.widget-view+json": {
              "model_id": "848cf1eb722a46debe057496a2b00d6d",
              "version_major": 2,
              "version_minor": 0
            },
            "text/plain": [
              "Processing Sessions:   0%|          | 0/782 [00:00<?, ?it/s]"
            ]
          },
          "metadata": {},
          "output_type": "display_data"
        },
        {
          "data": {
            "application/vnd.jupyter.widget-view+json": {
              "model_id": "f5d1f0ca165d448ea674010df8959da2",
              "version_major": 2,
              "version_minor": 0
            },
            "text/plain": [
              "Processing Sessions:   0%|          | 0/2763 [00:00<?, ?it/s]"
            ]
          },
          "metadata": {},
          "output_type": "display_data"
        },
        {
          "data": {
            "application/vnd.jupyter.widget-view+json": {
              "model_id": "3acc174ab96c4a03b49ce154cb8d7672",
              "version_major": 2,
              "version_minor": 0
            },
            "text/plain": [
              "Processing Sessions:   0%|          | 0/708 [00:00<?, ?it/s]"
            ]
          },
          "metadata": {},
          "output_type": "display_data"
        },
        {
          "data": {
            "application/vnd.jupyter.widget-view+json": {
              "model_id": "d813a41ddaa44b9a916537ad1fcd9014",
              "version_major": 2,
              "version_minor": 0
            },
            "text/plain": [
              "Processing Sessions:   0%|          | 0/725 [00:00<?, ?it/s]"
            ]
          },
          "metadata": {},
          "output_type": "display_data"
        },
        {
          "data": {
            "application/vnd.jupyter.widget-view+json": {
              "model_id": "1de7ed8f5a744c12a7341613fe64b2b9",
              "version_major": 2,
              "version_minor": 0
            },
            "text/plain": [
              "Processing Sessions:   0%|          | 0/1070 [00:00<?, ?it/s]"
            ]
          },
          "metadata": {},
          "output_type": "display_data"
        },
        {
          "data": {
            "application/vnd.jupyter.widget-view+json": {
              "model_id": "c91d0287629c4ef9a4092c60323dc5e1",
              "version_major": 2,
              "version_minor": 0
            },
            "text/plain": [
              "Processing Sessions:   0%|          | 0/2783 [00:00<?, ?it/s]"
            ]
          },
          "metadata": {},
          "output_type": "display_data"
        },
        {
          "data": {
            "application/vnd.jupyter.widget-view+json": {
              "model_id": "fea913aa3fcb466b8f469b4460d6f1a3",
              "version_major": 2,
              "version_minor": 0
            },
            "text/plain": [
              "Processing Sessions:   0%|          | 0/712 [00:00<?, ?it/s]"
            ]
          },
          "metadata": {},
          "output_type": "display_data"
        },
        {
          "data": {
            "application/vnd.jupyter.widget-view+json": {
              "model_id": "39a395d3326a46f195fb8d76c8cc2b78",
              "version_major": 2,
              "version_minor": 0
            },
            "text/plain": [
              "Processing Sessions:   0%|          | 0/708 [00:00<?, ?it/s]"
            ]
          },
          "metadata": {},
          "output_type": "display_data"
        },
        {
          "data": {
            "application/vnd.jupyter.widget-view+json": {
              "model_id": "efc664d468394d828b97c59ae236c7b7",
              "version_major": 2,
              "version_minor": 0
            },
            "text/plain": [
              "Processing Sessions:   0%|          | 0/1065 [00:00<?, ?it/s]"
            ]
          },
          "metadata": {},
          "output_type": "display_data"
        },
        {
          "data": {
            "application/vnd.jupyter.widget-view+json": {
              "model_id": "47e05a5fd54449a09a279dc03741cd3f",
              "version_major": 2,
              "version_minor": 0
            },
            "text/plain": [
              "Processing Sessions:   0%|          | 0/2819 [00:00<?, ?it/s]"
            ]
          },
          "metadata": {},
          "output_type": "display_data"
        },
        {
          "data": {
            "application/vnd.jupyter.widget-view+json": {
              "model_id": "2c7fd99e1860412d8992469c60355de8",
              "version_major": 2,
              "version_minor": 0
            },
            "text/plain": [
              "Processing Sessions:   0%|          | 0/449 [00:00<?, ?it/s]"
            ]
          },
          "metadata": {},
          "output_type": "display_data"
        },
        {
          "data": {
            "application/vnd.jupyter.widget-view+json": {
              "model_id": "5bbc8969bb554268a8bc26a066564f7d",
              "version_major": 2,
              "version_minor": 0
            },
            "text/plain": [
              "Processing Sessions:   0%|          | 0/518 [00:00<?, ?it/s]"
            ]
          },
          "metadata": {},
          "output_type": "display_data"
        },
        {
          "data": {
            "application/vnd.jupyter.widget-view+json": {
              "model_id": "45cdf721e9bc46a589d32ca2661ba0d5",
              "version_major": 2,
              "version_minor": 0
            },
            "text/plain": [
              "Processing Sessions:   0%|          | 0/855 [00:00<?, ?it/s]"
            ]
          },
          "metadata": {},
          "output_type": "display_data"
        },
        {
          "data": {
            "application/vnd.jupyter.widget-view+json": {
              "model_id": "01434d526e3a42cc91d1c9e6e3e9c11f",
              "version_major": 2,
              "version_minor": 0
            },
            "text/plain": [
              "Processing Sessions:   0%|          | 0/2433 [00:00<?, ?it/s]"
            ]
          },
          "metadata": {},
          "output_type": "display_data"
        },
        {
          "data": {
            "application/vnd.jupyter.widget-view+json": {
              "model_id": "5baadac94f83425cb71b6e627121539b",
              "version_major": 2,
              "version_minor": 0
            },
            "text/plain": [
              "Processing Sessions:   0%|          | 0/534 [00:00<?, ?it/s]"
            ]
          },
          "metadata": {},
          "output_type": "display_data"
        },
        {
          "data": {
            "application/vnd.jupyter.widget-view+json": {
              "model_id": "c92cfe8aa7264710851bdb87fd5c1f91",
              "version_major": 2,
              "version_minor": 0
            },
            "text/plain": [
              "Processing Sessions:   0%|          | 0/526 [00:00<?, ?it/s]"
            ]
          },
          "metadata": {},
          "output_type": "display_data"
        },
        {
          "data": {
            "application/vnd.jupyter.widget-view+json": {
              "model_id": "76272fd12d73490993ad78cc8a368f3f",
              "version_major": 2,
              "version_minor": 0
            },
            "text/plain": [
              "Processing Sessions:   0%|          | 0/834 [00:00<?, ?it/s]"
            ]
          },
          "metadata": {},
          "output_type": "display_data"
        }
      ],
      "source": [
        "from tqdm.notebook import tqdm\n",
        "import pandas as pd\n",
        "\n",
        "TIMEOUT = 15\n",
        "dfs = []\n",
        "\n",
        "# Outer tqdm loop for processing packets\n",
        "for packets, label, experiment_attack_directory in tqdm(all_packets, desc=\"Processing Packets\"):\n",
        "    # Removed print statements for cleaner output\n",
        "\n",
        "    session_extractor = get_sessions_with_timeout(TIMEOUT, experiment_attack_directory)\n",
        "    session_dict = packets.sessions(session_extractor)\n",
        "    # Removed print statements for cleaner output\n",
        "\n",
        "    session_dfs = dict()\n",
        "    \n",
        "    # Inner tqdm loop for processing sessions\n",
        "    inner_tqdm = tqdm(session_dict.items(), desc=\"Processing Sessions\", leave=False)\n",
        "    for flow_key, flow in inner_tqdm:\n",
        "        # Update the description with the current flow size\n",
        "        inner_tqdm.set_description(f\"Processing flow size: {len(flow)}\")\n",
        "        session_dfs[flow_key] = build_dataframe(flow)\n",
        "        # break\n",
        "        \n",
        "    flow_df = pd.concat(session_dfs)\n",
        "    flow_df['label'] = label\n",
        "    dfs.append(flow_df)\n"
      ]
    },
    {
      "cell_type": "code",
      "execution_count": 55,
      "metadata": {},
      "outputs": [],
      "source": [
        "df = pd.concat(dfs)"
      ]
    },
    {
      "cell_type": "code",
      "execution_count": 56,
      "metadata": {},
      "outputs": [
        {
          "data": {
            "text/plain": [
              "ip_version                             4\n",
              "ip_ihl                                 5\n",
              "ip_tos                                 0\n",
              "ip_len                                46\n",
              "ip_id                               2437\n",
              "ip_flags                              DF\n",
              "ip_frag                                0\n",
              "ip_ttl                               128\n",
              "ip_proto                               6\n",
              "ip_chksum                              0\n",
              "ip_src                      192.168.1.20\n",
              "ip_dst                      192.168.1.21\n",
              "ip_options                             0\n",
              "time                   1587763927.678300\n",
              "tcp_sport                          50045\n",
              "tcp_dport                           2404\n",
              "tcp_seq                       2931287365\n",
              "tcp_ack                       2338122368\n",
              "tcp_dataofs                            5\n",
              "tcp_reserved                           0\n",
              "tcp_flags                             PA\n",
              "tcp_window                         16425\n",
              "tcp_chksum                         33690\n",
              "tcp_urgptr                             0\n",
              "tcp_options                            0\n",
              "size                                  60\n",
              "payload                                6\n",
              "payload_raw     b'h\\x04\\x07\\x00\\x00\\x00'\n",
              "payload_hex              b'680407000000'\n",
              "label                      m_sp_na_1_DoS\n",
              "Name: ([1, '192.168.1.20', '192.168.1.21', 2404, 50045, 'TCP', 'm_sp_na_1_DoS'], 0), dtype: object"
            ]
          },
          "execution_count": 56,
          "metadata": {},
          "output_type": "execute_result"
        }
      ],
      "source": [
        "df.iloc[0]"
      ]
    },
    {
      "cell_type": "code",
      "execution_count": 57,
      "metadata": {},
      "outputs": [
        {
          "data": {
            "text/plain": [
              "Index(['ip_version', 'ip_ihl', 'ip_tos', 'ip_len', 'ip_id', 'ip_flags',\n",
              "       'ip_frag', 'ip_ttl', 'ip_proto', 'ip_chksum', 'ip_src', 'ip_dst',\n",
              "       'ip_options', 'time', 'tcp_sport', 'tcp_dport', 'tcp_seq', 'tcp_ack',\n",
              "       'tcp_dataofs', 'tcp_reserved', 'tcp_flags', 'tcp_window', 'tcp_chksum',\n",
              "       'tcp_urgptr', 'tcp_options', 'size', 'payload', 'payload_raw',\n",
              "       'payload_hex', 'label'],\n",
              "      dtype='object')"
            ]
          },
          "execution_count": 57,
          "metadata": {},
          "output_type": "execute_result"
        }
      ],
      "source": [
        "df.columns"
      ]
    },
    {
      "cell_type": "code",
      "execution_count": 66,
      "metadata": {},
      "outputs": [
        {
          "data": {
            "text/plain": [
              "Flow                                                                      PacketNumber\n",
              "[1, '192.168.1.20', '192.168.1.21', 2404, 50045, 'TCP', 'm_sp_na_1_DoS']  0               DF\n",
              "                                                                          1               DF\n",
              "                                                                          2               DF\n",
              "                                                                          3               DF\n",
              "                                                                          4               DF\n",
              "                                                                                          ..\n",
              "[1, '192.168.1.22', '192.168.1.29', 2404, 39973, 'TCP', 'c_sc_na_1_DoS']  4               DF\n",
              "                                                                          5               DF\n",
              "                                                                          6               DF\n",
              "                                                                          7               DF\n",
              "                                                                          8               DF\n",
              "Name: ip_flags, Length: 518377, dtype: object"
            ]
          },
          "execution_count": 66,
          "metadata": {},
          "output_type": "execute_result"
        }
      ],
      "source": [
        "df['ip_flags']"
      ]
    },
    {
      "cell_type": "code",
      "execution_count": 59,
      "metadata": {},
      "outputs": [
        {
          "data": {
            "text/plain": [
              "(\"[1, '192.168.1.20', '192.168.1.21', 2404, 50045, 'TCP', 'm_sp_na_1_DoS']\", 0)"
            ]
          },
          "execution_count": 59,
          "metadata": {},
          "output_type": "execute_result"
        }
      ],
      "source": [
        "df.index[0]"
      ]
    },
    {
      "cell_type": "code",
      "execution_count": 60,
      "metadata": {},
      "outputs": [],
      "source": [
        "df.index.names = ['Flow', 'PacketNumber']"
      ]
    },
    {
      "cell_type": "code",
      "execution_count": 62,
      "metadata": {},
      "outputs": [
        {
          "data": {
            "text/plain": [
              "(10.89370599978985, 7.0)"
            ]
          },
          "execution_count": 62,
          "metadata": {},
          "output_type": "execute_result"
        }
      ],
      "source": [
        "df.groupby(level='Flow')['ip_id'].count().mean(),df.groupby(level='Flow')['ip_id'].count().median()"
      ]
    },
    {
      "cell_type": "code",
      "execution_count": 68,
      "metadata": {},
      "outputs": [],
      "source": [
        "df['ip_flags']=df['ip_flags'].map(lambda x: str(x))\n",
        "df['tcp_flags']=df['tcp_flags'].map(lambda x: str(x))"
      ]
    },
    {
      "cell_type": "code",
      "execution_count": 69,
      "metadata": {},
      "outputs": [],
      "source": [
        "df.to_parquet(f\"data/iec104v2_{TIMEOUT}.parquet\")"
      ]
    },
    {
      "cell_type": "code",
      "execution_count": 70,
      "metadata": {},
      "outputs": [
        {
          "data": {
            "text/plain": [
              "array([ 3.,  7., 10., 11., 21.])"
            ]
          },
          "execution_count": 70,
          "metadata": {},
          "output_type": "execute_result"
        }
      ],
      "source": [
        "import scipy.stats\n",
        "scipy.stats.mstats.mquantiles(df.groupby(level='Flow')['ip_id'].count(),prob=[0.25,0.5,0.75,0.9,0.99])"
      ]
    },
    {
      "cell_type": "code",
      "execution_count": null,
      "metadata": {
        "id": "AkSRDv0olxwR"
      },
      "outputs": [],
      "source": [
        "# df.to_parquet(\"/content/drive/My Drive/IEC104/iec104.parquet\")"
      ]
    }
  ],
  "metadata": {
    "colab": {
      "provenance": []
    },
    "kernelspec": {
      "display_name": "Python 3 (ipykernel)",
      "language": "python",
      "name": "python3"
    },
    "language_info": {
      "codemirror_mode": {
        "name": "ipython",
        "version": 3
      },
      "file_extension": ".py",
      "mimetype": "text/x-python",
      "name": "python",
      "nbconvert_exporter": "python",
      "pygments_lexer": "ipython3",
      "version": "3.12.2"
    }
  },
  "nbformat": 4,
  "nbformat_minor": 0
}
