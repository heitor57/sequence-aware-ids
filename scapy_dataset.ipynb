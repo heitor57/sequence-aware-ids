{
  "cells": [
    {
      "cell_type": "markdown",
      "metadata": {
        "id": "Bapaz0nWMFKi"
      },
      "source": [
        "# Packages Installs and environment preparation"
      ]
    },
    {
      "cell_type": "code",
      "execution_count": 7,
      "metadata": {
        "id": "jczLjgSfSWeL"
      },
      "outputs": [],
      "source": [
        "# !7z x data/20200425_UOWM_IEC104_Dataset_m_sp_na_1_DoS.7z\n",
        "# !7z x data/20200426_UOWM_IEC104_Dataset_c_ci_na_1.7z\n",
        "# !7z x data/20200426_UOWM_IEC104_Dataset_c_ci_na_1_DoS.7z\n",
        "# !7z x data/20200427_UOWM_IEC104_Dataset_c_se_na_1.7z\n",
        "# !7z x data/20200428_UOWM_IEC104_Dataset_c_sc_na_1.7z\n",
        "# !7z x data/20200428_UOWM_IEC104_Dataset_c_se_na_1_DoS.7z\n",
        "# !7z x data/20200429_UOWM_IEC104_Dataset_c_sc_na_1_DoS.7z\n",
        "# !7z x data/20200605_UOWM_IEC104_Dataset_c_rd_na_1.7z\n",
        "# !7z x data/20200608_UOWM_IEC104_Dataset_mitm_drop.7z\n",
        "# !7z x data/20200606_UOWM_IEC104_Dataset_c_rp_na_1_DoS.7z\n",
        "# !7z x data/20200605_UOWM_IEC104_Dataset_c_rd_na_1_DoS.7z\n",
        "# !7z x data/20200606_UOWM_IEC104_Dataset_c_rp_na_1.7z"
      ]
    },
    {
      "cell_type": "markdown",
      "metadata": {
        "id": "-c29MaM2rpqr"
      },
      "source": [
        "# Imports"
      ]
    },
    {
      "cell_type": "code",
      "execution_count": 2,
      "metadata": {
        "colab": {
          "base_uri": "https://localhost:8080/"
        },
        "id": "VrkVnQL3LZqc",
        "outputId": "54fd20f5-e83c-498d-a334-a310dc1a0e20"
      },
      "outputs": [],
      "source": [
        "from scapy.all import *\n",
        "import pandas as pd\n",
        "# from catboost import CatBoostClassifier\n",
        "# import shap\n",
        "import seaborn as sns\n",
        "# import feature_engine\n",
        "# import feature_engine.encoding\n",
        "import numpy as np\n",
        "# from catboost import Pool\n",
        "import matplotlib.pyplot as plt\n",
        "import matplotlib.ticker as mtick\n",
        "from collections import defaultdict\n",
        "import os\n",
        "# from google.colab import drive\n",
        "# drive.mount('/content/drive')\n",
        "TIMEOUT = 30"
      ]
    },
    {
      "cell_type": "markdown",
      "metadata": {
        "id": "Pv1A1aOSjRJB"
      },
      "source": [
        "# Code"
      ]
    },
    {
      "cell_type": "code",
      "execution_count": 9,
      "metadata": {
        "colab": {
          "base_uri": "https://localhost:8080/",
          "height": 38
        },
        "id": "Og05ZbSHKOdG",
        "outputId": "bcb300fa-94cd-4c75-a92c-d75bdf2f6f31"
      },
      "outputs": [
        {
          "data": {
            "text/plain": [
              "'m_sp_na_1_DoS'"
            ]
          },
          "execution_count": 9,
          "metadata": {},
          "output_type": "execute_result"
        }
      ],
      "source": [
        "def get_attack_directory_attack(path):\n",
        "  return path.split('Dataset_')[1]\n",
        "attacks_directories= [\n",
        "                      '20200425_UOWM_IEC104_Dataset_m_sp_na_1_DoS',\n",
        "                      '20200426_UOWM_IEC104_Dataset_c_ci_na_1',\n",
        "                      '20200427_UOWM_IEC104_Dataset_c_se_na_1',\n",
        "                      '20200428_UOWM_IEC104_Dataset_c_sc_na_1',\n",
        "                      '20200605_UOWM_IEC104_Dataset_c_rd_na_1',\n",
        "                      '20200606_UOWM_IEC104_Dataset_c_rp_na_1',\n",
        "                      '20200426_UOWM_IEC104_Dataset_c_ci_na_1_DoS',\n",
        "                      '20200605_UOWM_IEC104_Dataset_c_rd_na_1_DoS',\n",
        "                      '20200606_UOWM_IEC104_Dataset_c_rp_na_1_DoS',\n",
        "                      '20200428_UOWM_IEC104_Dataset_c_se_na_1_DoS',\n",
        "                      '20200429_UOWM_IEC104_Dataset_c_sc_na_1_DoS',\n",
        "                                            # '20200608_UOWM_IEC104_Dataset_mitm_drop'\n",
        "                                            ]\n",
        "devices_to_read = ['qtester','attacker1','attacker2','attacker3']\n",
        "\n",
        "# if '20200425_UOWM_IEC104_Dataset_m_sp_na_1_DoS':\n",
        "#   not\n",
        "get_attack_directory_attack(attacks_directories[0])"
      ]
    },
    {
      "cell_type": "code",
      "execution_count": 10,
      "metadata": {
        "colab": {
          "base_uri": "https://localhost:8080/",
          "height": 523
        },
        "id": "llFq5KkCJTQR",
        "outputId": "0aff67c5-b45d-4783-9048-484fc58fa6c4"
      },
      "outputs": [],
      "source": [
        "a={}\n",
        "for attack_directory in attacks_directories:\n",
        "  for device_to_read in devices_to_read:\n",
        "    pcap_file = f\"data/{attack_directory}/{attack_directory}_{device_to_read}/{attack_directory}_{device_to_read}_iec104_only.pcap\"\n",
        "    if device_to_read != 'qtester' and attack_directory == '20200425_UOWM_IEC104_Dataset_m_sp_na_1_DoS':\n",
        "      continue\n",
        "    packets=rdpcap(pcap_file,count=200)\n",
        "    for packet in packets:\n",
        "      a[len(packet[TCP].payload)] = 1\n",
        "MAX_IEC104_PAYLOAD_BYTES = max(a)"
      ]
    },
    {
      "cell_type": "code",
      "execution_count": 11,
      "metadata": {},
      "outputs": [
        {
          "data": {
            "text/plain": [
              "88"
            ]
          },
          "execution_count": 11,
          "metadata": {},
          "output_type": "execute_result"
        }
      ],
      "source": [
        "MAX_IEC104_PAYLOAD_BYTES"
      ]
    },
    {
      "cell_type": "code",
      "execution_count": 12,
      "metadata": {},
      "outputs": [
        {
          "name": "stdout",
          "output_type": "stream",
          "text": [
            "20200425_UOWM_IEC104_Dataset_m_sp_na_1_DoS\n",
            "20200426_UOWM_IEC104_Dataset_c_ci_na_1\n",
            "20200427_UOWM_IEC104_Dataset_c_se_na_1\n",
            "20200428_UOWM_IEC104_Dataset_c_sc_na_1\n",
            "20200605_UOWM_IEC104_Dataset_c_rd_na_1\n",
            "20200606_UOWM_IEC104_Dataset_c_rp_na_1\n",
            "20200426_UOWM_IEC104_Dataset_c_ci_na_1_DoS\n",
            "20200605_UOWM_IEC104_Dataset_c_rd_na_1_DoS\n",
            "20200606_UOWM_IEC104_Dataset_c_rp_na_1_DoS\n",
            "20200428_UOWM_IEC104_Dataset_c_se_na_1_DoS\n",
            "20200429_UOWM_IEC104_Dataset_c_sc_na_1_DoS\n"
          ]
        }
      ],
      "source": [
        "from pathlib import Path\n",
        "all_packets = []\n",
        "for attack_directory in attacks_directories:\n",
        "#   dfs=[]\n",
        "  print(attack_directory)\n",
        "  for device_to_read in devices_to_read:\n",
        "    if device_to_read != 'qtester' and attack_directory == '20200425_UOWM_IEC104_Dataset_m_sp_na_1_DoS':\n",
        "      continue\n",
        "    pcap_file = f\"./data/{attack_directory}/{attack_directory}_{device_to_read}/{attack_directory}_{device_to_read}_iec104_only.pcap\"\n",
        "    # print(device_to_read,attack_directory)\n",
        "    # df = pd.read_csv(f'/content/{os.path.basename(pcap_file)}.npt', index_col=0)\n",
        "    packets=rdpcap(pcap_file)\n",
        "    if device_to_read != 'qtester':\n",
        "      label = get_attack_directory_attack(attack_directory)\n",
        "    else:\n",
        "      label = 'normal'\n",
        "    if device_to_read == 'qtester' and attack_directory == '20200425_UOWM_IEC104_Dataset_m_sp_na_1_DoS':\n",
        "      label = get_attack_directory_attack(attack_directory)\n",
        "      \n",
        "    all_packets.append([packets,label,get_attack_directory_attack(attack_directory)])\n",
        "    # df['label'] = label\n",
        "    # print(df.columns)\n",
        "    # print(df.index)\n",
        "    # df['flow'] =  df['flow']+'_'+df['label']\n",
        "    # df.index = df.index.map(lambda x: x +'_'+ get_attack_directory_attack(attack_directory))\n",
        "    # df['flow']=df['flow']\n",
        "    # print(df.head())\n",
        "    # dfs.append(df)\n",
        "#   df = pd.concat(dfs)\n",
        "#   df.to_parquet(f\"./data/iec104v2_15.parquet\")"
      ]
    },
    {
      "cell_type": "code",
      "execution_count": 13,
      "metadata": {},
      "outputs": [],
      "source": [
        "def get_sessions_with_timeout(timeout,experiment_attack_directory):\n",
        "    last_packet_time = defaultdict(lambda: 0)  # Initialize last_packet_time dictionary with default value 0\n",
        "    flow_bin = defaultdict(lambda: 0)\n",
        "    def session_extractor(packet):\n",
        "        sess = [experiment_attack_directory,\"TCP\", packet[\"IP\"].src, packet[\"TCP\"].sport,\n",
        "                                   packet[\"IP\"].dst, packet[\"TCP\"].dport]\n",
        "\n",
        "        sess_key = str(sorted(sess, key=str))\n",
        "        current_time = packet.time\n",
        "\n",
        "        # Track original session key time\n",
        "        if current_time - last_packet_time[sess_key] > timeout:\n",
        "            flow_bin[sess_key]+=1\n",
        "            # If the timeout is exceeded, modify the session key to create a new session\n",
        "        sess.append(flow_bin[sess_key])\n",
        "        last_packet_time[sess_key] = current_time\n",
        "        sess_key = str(sorted(sess, key=str))\n",
        "        return sess_key\n",
        "    return session_extractor"
      ]
    },
    {
      "cell_type": "code",
      "execution_count": 31,
      "metadata": {},
      "outputs": [],
      "source": [
        "def build_dataframe(packet_list):\n",
        "    ip_fields = ['ip_' + field.name for field in IP().fields_desc]\n",
        "    tcp_fields = ['tcp_' + field.name for field in TCP().fields_desc]\n",
        "    ip_fields_raw = [field.name for field in IP().fields_desc]\n",
        "    tcp_fields_raw = [field.name for field in TCP().fields_desc]\n",
        "\n",
        "    dataframe_fields = ip_fields + ['time'] + tcp_fields + ['size', 'payload', 'payload_raw']\n",
        "\n",
        "    rows = []\n",
        "    for packet in packet_list[IP]:\n",
        "        field_values = []\n",
        "        for field in ip_fields_raw:\n",
        "            if field == 'options':\n",
        "                field_values.append(len(packet[IP].fields[field]))\n",
        "            else:\n",
        "                field_values.append(packet[IP].fields[field])\n",
        "\n",
        "        field_values.append(packet.time)\n",
        "\n",
        "        layer_type = type(packet[IP].payload)\n",
        "        for field in tcp_fields_raw:\n",
        "            try:\n",
        "                if field == 'options':\n",
        "                    field_values.append(len(packet[layer_type].fields[field]))\n",
        "                else:\n",
        "                    field_values.append(packet[layer_type].fields[field])\n",
        "            except:\n",
        "                field_values.append(None)\n",
        "\n",
        "        field_values.append(len(packet))\n",
        "        field_values.append(len(packet[layer_type].payload))\n",
        "        field_values.append(packet[layer_type].payload.original)\n",
        "\n",
        "        rows.append(field_values)\n",
        "\n",
        "    df = pd.DataFrame(rows, columns=dataframe_fields)\n",
        "    return df"
      ]
    },
    {
      "cell_type": "code",
      "execution_count": 32,
      "metadata": {},
      "outputs": [
        {
          "data": {
            "application/vnd.jupyter.widget-view+json": {
              "model_id": "d68d3a78f75e44b993e2c882f0338a87",
              "version_major": 2,
              "version_minor": 0
            },
            "text/plain": [
              "Processing Packets:   0%|          | 0/41 [00:00<?, ?it/s]"
            ]
          },
          "metadata": {},
          "output_type": "display_data"
        },
        {
          "data": {
            "application/vnd.jupyter.widget-view+json": {
              "model_id": "21bf03c4f420478f91418292699c7226",
              "version_major": 2,
              "version_minor": 0
            },
            "text/plain": [
              "Processing Sessions:   0%|          | 0/16 [00:00<?, ?it/s]"
            ]
          },
          "metadata": {},
          "output_type": "display_data"
        },
        {
          "data": {
            "application/vnd.jupyter.widget-view+json": {
              "model_id": "5af0b864d75c47ea83d056d515bd561f",
              "version_major": 2,
              "version_minor": 0
            },
            "text/plain": [
              "Processing Sessions:   0%|          | 0/7 [00:00<?, ?it/s]"
            ]
          },
          "metadata": {},
          "output_type": "display_data"
        },
        {
          "data": {
            "application/vnd.jupyter.widget-view+json": {
              "model_id": "4ee561b099744c589f003ed4d9a49003",
              "version_major": 2,
              "version_minor": 0
            },
            "text/plain": [
              "Processing Sessions:   0%|          | 0/110 [00:00<?, ?it/s]"
            ]
          },
          "metadata": {},
          "output_type": "display_data"
        },
        {
          "data": {
            "application/vnd.jupyter.widget-view+json": {
              "model_id": "5b9f297754874e239d742c7b313bf0ec",
              "version_major": 2,
              "version_minor": 0
            },
            "text/plain": [
              "Processing Sessions:   0%|          | 0/132 [00:00<?, ?it/s]"
            ]
          },
          "metadata": {},
          "output_type": "display_data"
        },
        {
          "data": {
            "application/vnd.jupyter.widget-view+json": {
              "model_id": "7621e830c9de42fd96f3dc139d5d1478",
              "version_major": 2,
              "version_minor": 0
            },
            "text/plain": [
              "Processing Sessions:   0%|          | 0/201 [00:00<?, ?it/s]"
            ]
          },
          "metadata": {},
          "output_type": "display_data"
        },
        {
          "data": {
            "application/vnd.jupyter.widget-view+json": {
              "model_id": "1311278cff0045c88ceca7f914f19630",
              "version_major": 2,
              "version_minor": 0
            },
            "text/plain": [
              "Processing Sessions:   0%|          | 0/7 [00:00<?, ?it/s]"
            ]
          },
          "metadata": {},
          "output_type": "display_data"
        },
        {
          "data": {
            "application/vnd.jupyter.widget-view+json": {
              "model_id": "7cefce91324548a0924c1f35d05fef23",
              "version_major": 2,
              "version_minor": 0
            },
            "text/plain": [
              "Processing Sessions:   0%|          | 0/238 [00:00<?, ?it/s]"
            ]
          },
          "metadata": {},
          "output_type": "display_data"
        },
        {
          "data": {
            "application/vnd.jupyter.widget-view+json": {
              "model_id": "a35c0064de75406dbf17d3b89647ed97",
              "version_major": 2,
              "version_minor": 0
            },
            "text/plain": [
              "Processing Sessions:   0%|          | 0/236 [00:00<?, ?it/s]"
            ]
          },
          "metadata": {},
          "output_type": "display_data"
        },
        {
          "data": {
            "application/vnd.jupyter.widget-view+json": {
              "model_id": "fbc95121063749af9d5b225f2c78608c",
              "version_major": 2,
              "version_minor": 0
            },
            "text/plain": [
              "Processing Sessions:   0%|          | 0/336 [00:00<?, ?it/s]"
            ]
          },
          "metadata": {},
          "output_type": "display_data"
        },
        {
          "data": {
            "application/vnd.jupyter.widget-view+json": {
              "model_id": "f277f16036414c37aba4a64038ce687b",
              "version_major": 2,
              "version_minor": 0
            },
            "text/plain": [
              "Processing Sessions:   0%|          | 0/7 [00:00<?, ?it/s]"
            ]
          },
          "metadata": {},
          "output_type": "display_data"
        },
        {
          "data": {
            "application/vnd.jupyter.widget-view+json": {
              "model_id": "6953001993784380b437f538812e1b19",
              "version_major": 2,
              "version_minor": 0
            },
            "text/plain": [
              "Processing Sessions:   0%|          | 0/160 [00:00<?, ?it/s]"
            ]
          },
          "metadata": {},
          "output_type": "display_data"
        },
        {
          "data": {
            "application/vnd.jupyter.widget-view+json": {
              "model_id": "109df4d51c0c43ec81fca25371c8ad1a",
              "version_major": 2,
              "version_minor": 0
            },
            "text/plain": [
              "Processing Sessions:   0%|          | 0/166 [00:00<?, ?it/s]"
            ]
          },
          "metadata": {},
          "output_type": "display_data"
        },
        {
          "data": {
            "application/vnd.jupyter.widget-view+json": {
              "model_id": "70929b65501d48f1802d4cbc6bc908a1",
              "version_major": 2,
              "version_minor": 0
            },
            "text/plain": [
              "Processing Sessions:   0%|          | 0/222 [00:00<?, ?it/s]"
            ]
          },
          "metadata": {},
          "output_type": "display_data"
        },
        {
          "data": {
            "application/vnd.jupyter.widget-view+json": {
              "model_id": "96d9abdf871049a8ace7abe94dd8c7e3",
              "version_major": 2,
              "version_minor": 0
            },
            "text/plain": [
              "Processing Sessions:   0%|          | 0/7 [00:00<?, ?it/s]"
            ]
          },
          "metadata": {},
          "output_type": "display_data"
        },
        {
          "data": {
            "application/vnd.jupyter.widget-view+json": {
              "model_id": "83245b2512614823a3230fc8c468724e",
              "version_major": 2,
              "version_minor": 0
            },
            "text/plain": [
              "Processing Sessions:   0%|          | 0/396 [00:00<?, ?it/s]"
            ]
          },
          "metadata": {},
          "output_type": "display_data"
        },
        {
          "data": {
            "application/vnd.jupyter.widget-view+json": {
              "model_id": "4f51ddb9b7ba40a3a59f13f958b89d09",
              "version_major": 2,
              "version_minor": 0
            },
            "text/plain": [
              "Processing Sessions:   0%|          | 0/398 [00:00<?, ?it/s]"
            ]
          },
          "metadata": {},
          "output_type": "display_data"
        },
        {
          "data": {
            "application/vnd.jupyter.widget-view+json": {
              "model_id": "0d3373b5e2ca4fac952f9b129ac8b332",
              "version_major": 2,
              "version_minor": 0
            },
            "text/plain": [
              "Processing Sessions:   0%|          | 0/549 [00:00<?, ?it/s]"
            ]
          },
          "metadata": {},
          "output_type": "display_data"
        },
        {
          "data": {
            "application/vnd.jupyter.widget-view+json": {
              "model_id": "bc5ef7b1174d45d1a5760eb48b268a24",
              "version_major": 2,
              "version_minor": 0
            },
            "text/plain": [
              "Processing Sessions:   0%|          | 0/7 [00:00<?, ?it/s]"
            ]
          },
          "metadata": {},
          "output_type": "display_data"
        },
        {
          "data": {
            "application/vnd.jupyter.widget-view+json": {
              "model_id": "b1ea2958239e4aec9eb73cdc41adddf6",
              "version_major": 2,
              "version_minor": 0
            },
            "text/plain": [
              "Processing Sessions:   0%|          | 0/422 [00:00<?, ?it/s]"
            ]
          },
          "metadata": {},
          "output_type": "display_data"
        },
        {
          "data": {
            "application/vnd.jupyter.widget-view+json": {
              "model_id": "ed92e11f290e4db097eff5012bdbb8ec",
              "version_major": 2,
              "version_minor": 0
            },
            "text/plain": [
              "Processing Sessions:   0%|          | 0/428 [00:00<?, ?it/s]"
            ]
          },
          "metadata": {},
          "output_type": "display_data"
        },
        {
          "data": {
            "application/vnd.jupyter.widget-view+json": {
              "model_id": "1509c66d342b49cf9739ef31e69671fc",
              "version_major": 2,
              "version_minor": 0
            },
            "text/plain": [
              "Processing Sessions:   0%|          | 0/600 [00:00<?, ?it/s]"
            ]
          },
          "metadata": {},
          "output_type": "display_data"
        },
        {
          "data": {
            "application/vnd.jupyter.widget-view+json": {
              "model_id": "f246a598947d45278a7cd77c9ff7b85a",
              "version_major": 2,
              "version_minor": 0
            },
            "text/plain": [
              "Processing Sessions:   0%|          | 0/7 [00:00<?, ?it/s]"
            ]
          },
          "metadata": {},
          "output_type": "display_data"
        },
        {
          "data": {
            "application/vnd.jupyter.widget-view+json": {
              "model_id": "f48e20215a3c49b9b92aff0119f942c2",
              "version_major": 2,
              "version_minor": 0
            },
            "text/plain": [
              "Processing Sessions:   0%|          | 0/244 [00:00<?, ?it/s]"
            ]
          },
          "metadata": {},
          "output_type": "display_data"
        },
        {
          "data": {
            "application/vnd.jupyter.widget-view+json": {
              "model_id": "d450d6228f5e4646afcf877f3abe7947",
              "version_major": 2,
              "version_minor": 0
            },
            "text/plain": [
              "Processing Sessions:   0%|          | 0/240 [00:00<?, ?it/s]"
            ]
          },
          "metadata": {},
          "output_type": "display_data"
        },
        {
          "data": {
            "application/vnd.jupyter.widget-view+json": {
              "model_id": "4d014644e72d4854ba2b3564b9010470",
              "version_major": 2,
              "version_minor": 0
            },
            "text/plain": [
              "Processing Sessions:   0%|          | 0/366 [00:00<?, ?it/s]"
            ]
          },
          "metadata": {},
          "output_type": "display_data"
        },
        {
          "data": {
            "application/vnd.jupyter.widget-view+json": {
              "model_id": "004ccd2530344c82b2e906280d95783f",
              "version_major": 2,
              "version_minor": 0
            },
            "text/plain": [
              "Processing Sessions:   0%|          | 0/7 [00:00<?, ?it/s]"
            ]
          },
          "metadata": {},
          "output_type": "display_data"
        },
        {
          "data": {
            "application/vnd.jupyter.widget-view+json": {
              "model_id": "15c3af2be0644fb68437b1db785f3174",
              "version_major": 2,
              "version_minor": 0
            },
            "text/plain": [
              "Processing Sessions:   0%|          | 0/706 [00:00<?, ?it/s]"
            ]
          },
          "metadata": {},
          "output_type": "display_data"
        },
        {
          "data": {
            "application/vnd.jupyter.widget-view+json": {
              "model_id": "0ce0ab11d5f44e9ab8894744b216f167",
              "version_major": 2,
              "version_minor": 0
            },
            "text/plain": [
              "Processing Sessions:   0%|          | 0/724 [00:00<?, ?it/s]"
            ]
          },
          "metadata": {},
          "output_type": "display_data"
        },
        {
          "data": {
            "application/vnd.jupyter.widget-view+json": {
              "model_id": "5ba2b34148fe48bc9acd9ff9fd83f9da",
              "version_major": 2,
              "version_minor": 0
            },
            "text/plain": [
              "Processing Sessions:   0%|          | 0/1056 [00:00<?, ?it/s]"
            ]
          },
          "metadata": {},
          "output_type": "display_data"
        },
        {
          "data": {
            "application/vnd.jupyter.widget-view+json": {
              "model_id": "2fbe10fcd8cb4ae389575f8c4971ed78",
              "version_major": 2,
              "version_minor": 0
            },
            "text/plain": [
              "Processing Sessions:   0%|          | 0/7 [00:00<?, ?it/s]"
            ]
          },
          "metadata": {},
          "output_type": "display_data"
        },
        {
          "data": {
            "application/vnd.jupyter.widget-view+json": {
              "model_id": "060d25155bd74e9f97a5822033296a91",
              "version_major": 2,
              "version_minor": 0
            },
            "text/plain": [
              "Processing Sessions:   0%|          | 0/712 [00:00<?, ?it/s]"
            ]
          },
          "metadata": {},
          "output_type": "display_data"
        },
        {
          "data": {
            "application/vnd.jupyter.widget-view+json": {
              "model_id": "baa16e7ca8144edbac44cc9bafb12baa",
              "version_major": 2,
              "version_minor": 0
            },
            "text/plain": [
              "Processing Sessions:   0%|          | 0/708 [00:00<?, ?it/s]"
            ]
          },
          "metadata": {},
          "output_type": "display_data"
        },
        {
          "data": {
            "application/vnd.jupyter.widget-view+json": {
              "model_id": "8547f34c96ce4557ab47bffb2f57fd73",
              "version_major": 2,
              "version_minor": 0
            },
            "text/plain": [
              "Processing Sessions:   0%|          | 0/1065 [00:00<?, ?it/s]"
            ]
          },
          "metadata": {},
          "output_type": "display_data"
        },
        {
          "data": {
            "application/vnd.jupyter.widget-view+json": {
              "model_id": "b141e506cfb947919b482ab180326be7",
              "version_major": 2,
              "version_minor": 0
            },
            "text/plain": [
              "Processing Sessions:   0%|          | 0/7 [00:00<?, ?it/s]"
            ]
          },
          "metadata": {},
          "output_type": "display_data"
        },
        {
          "data": {
            "application/vnd.jupyter.widget-view+json": {
              "model_id": "339fd38c65704d2e99f88afb7b8d8d4b",
              "version_major": 2,
              "version_minor": 0
            },
            "text/plain": [
              "Processing Sessions:   0%|          | 0/324 [00:00<?, ?it/s]"
            ]
          },
          "metadata": {},
          "output_type": "display_data"
        },
        {
          "data": {
            "application/vnd.jupyter.widget-view+json": {
              "model_id": "38eab0acaa064ec8a2016decaf043670",
              "version_major": 2,
              "version_minor": 0
            },
            "text/plain": [
              "Processing Sessions:   0%|          | 0/320 [00:00<?, ?it/s]"
            ]
          },
          "metadata": {},
          "output_type": "display_data"
        },
        {
          "data": {
            "application/vnd.jupyter.widget-view+json": {
              "model_id": "fe4a304164f14459964e5f0c49977520",
              "version_major": 2,
              "version_minor": 0
            },
            "text/plain": [
              "Processing Sessions:   0%|          | 0/577 [00:00<?, ?it/s]"
            ]
          },
          "metadata": {},
          "output_type": "display_data"
        },
        {
          "data": {
            "application/vnd.jupyter.widget-view+json": {
              "model_id": "1914a75631744b93b26ae6fbb7cc1085",
              "version_major": 2,
              "version_minor": 0
            },
            "text/plain": [
              "Processing Sessions:   0%|          | 0/7 [00:00<?, ?it/s]"
            ]
          },
          "metadata": {},
          "output_type": "display_data"
        },
        {
          "data": {
            "application/vnd.jupyter.widget-view+json": {
              "model_id": "a03f5b211f08461b970141e72945919c",
              "version_major": 2,
              "version_minor": 0
            },
            "text/plain": [
              "Processing Sessions:   0%|          | 0/534 [00:00<?, ?it/s]"
            ]
          },
          "metadata": {},
          "output_type": "display_data"
        },
        {
          "data": {
            "application/vnd.jupyter.widget-view+json": {
              "model_id": "ed9c67f4a80b415b9e6f5aab8878e190",
              "version_major": 2,
              "version_minor": 0
            },
            "text/plain": [
              "Processing Sessions:   0%|          | 0/526 [00:00<?, ?it/s]"
            ]
          },
          "metadata": {},
          "output_type": "display_data"
        },
        {
          "data": {
            "application/vnd.jupyter.widget-view+json": {
              "model_id": "4e152bc78ac74ad1b50bc182a1308f8f",
              "version_major": 2,
              "version_minor": 0
            },
            "text/plain": [
              "Processing Sessions:   0%|          | 0/771 [00:00<?, ?it/s]"
            ]
          },
          "metadata": {},
          "output_type": "display_data"
        }
      ],
      "source": [
        "from tqdm.notebook import tqdm\n",
        "import pandas as pd\n",
        "\n",
        "\n",
        "dfs = []\n",
        "\n",
        "# Outer tqdm loop for processing packets\n",
        "for packets, label, experiment_attack_directory in tqdm(all_packets, desc=\"Processing Packets\"):\n",
        "    # Removed print statements for cleaner output\n",
        "\n",
        "    session_extractor = get_sessions_with_timeout(TIMEOUT, experiment_attack_directory)\n",
        "    session_dict = packets.sessions(session_extractor)\n",
        "    # Removed print statements for cleaner output\n",
        "\n",
        "    session_dfs = dict()\n",
        "    \n",
        "    # Inner tqdm loop for processing sessions\n",
        "    inner_tqdm = tqdm(session_dict.items(), desc=\"Processing Sessions\", leave=False)\n",
        "    for flow_key, flow in inner_tqdm:\n",
        "        # Update the description with the current flow size\n",
        "        inner_tqdm.set_description(f\"Processing flow size: {len(flow)}\")\n",
        "        session_dfs[flow_key] = build_dataframe(flow)\n",
        "        # break\n",
        "        \n",
        "    flow_df = pd.concat(session_dfs)\n",
        "    flow_df['label'] = label\n",
        "    dfs.append(flow_df)\n"
      ]
    },
    {
      "cell_type": "code",
      "execution_count": 33,
      "metadata": {},
      "outputs": [],
      "source": [
        "df = pd.concat(dfs)"
      ]
    },
    {
      "cell_type": "code",
      "execution_count": 34,
      "metadata": {},
      "outputs": [
        {
          "data": {
            "text/plain": [
              "ip_version                             4\n",
              "ip_ihl                                 5\n",
              "ip_tos                                 0\n",
              "ip_len                                46\n",
              "ip_id                               2437\n",
              "ip_flags                              DF\n",
              "ip_frag                                0\n",
              "ip_ttl                               128\n",
              "ip_proto                               6\n",
              "ip_chksum                              0\n",
              "ip_src                      192.168.1.20\n",
              "ip_dst                      192.168.1.21\n",
              "ip_options                             0\n",
              "time                   1587763927.678300\n",
              "tcp_sport                          50045\n",
              "tcp_dport                           2404\n",
              "tcp_seq                       2931287365\n",
              "tcp_ack                       2338122368\n",
              "tcp_dataofs                            5\n",
              "tcp_reserved                           0\n",
              "tcp_flags                             PA\n",
              "tcp_window                         16425\n",
              "tcp_chksum                         33690\n",
              "tcp_urgptr                             0\n",
              "tcp_options                            0\n",
              "size                                  60\n",
              "payload                                6\n",
              "payload_raw     b'h\\x04\\x07\\x00\\x00\\x00'\n",
              "label                      m_sp_na_1_DoS\n",
              "Name: ([1, '192.168.1.20', '192.168.1.21', 2404, 50045, 'TCP', 'm_sp_na_1_DoS'], 0), dtype: object"
            ]
          },
          "execution_count": 34,
          "metadata": {},
          "output_type": "execute_result"
        }
      ],
      "source": [
        "df.iloc[0]"
      ]
    },
    {
      "cell_type": "code",
      "execution_count": 35,
      "metadata": {},
      "outputs": [
        {
          "data": {
            "text/plain": [
              "Index(['ip_version', 'ip_ihl', 'ip_tos', 'ip_len', 'ip_id', 'ip_flags',\n",
              "       'ip_frag', 'ip_ttl', 'ip_proto', 'ip_chksum', 'ip_src', 'ip_dst',\n",
              "       'ip_options', 'time', 'tcp_sport', 'tcp_dport', 'tcp_seq', 'tcp_ack',\n",
              "       'tcp_dataofs', 'tcp_reserved', 'tcp_flags', 'tcp_window', 'tcp_chksum',\n",
              "       'tcp_urgptr', 'tcp_options', 'size', 'payload', 'payload_raw', 'label'],\n",
              "      dtype='object')"
            ]
          },
          "execution_count": 35,
          "metadata": {},
          "output_type": "execute_result"
        }
      ],
      "source": [
        "df.columns"
      ]
    },
    {
      "cell_type": "code",
      "execution_count": 36,
      "metadata": {},
      "outputs": [
        {
          "data": {
            "text/plain": [
              "[1, '192.168.1.20', '192.168.1.21', 2404, 50045, 'TCP', 'm_sp_na_1_DoS']  0    DF\n",
              "                                                                          1    DF\n",
              "                                                                          2    DF\n",
              "                                                                          3    DF\n",
              "                                                                          4    DF\n",
              "                                                                               ..\n",
              "[1, '192.168.1.22', '192.168.1.29', 2404, 39973, 'TCP', 'c_sc_na_1_DoS']  4    DF\n",
              "                                                                          5    DF\n",
              "                                                                          6    DF\n",
              "                                                                          7    DF\n",
              "                                                                          8    DF\n",
              "Name: ip_flags, Length: 518377, dtype: object"
            ]
          },
          "execution_count": 36,
          "metadata": {},
          "output_type": "execute_result"
        }
      ],
      "source": [
        "df['ip_flags']"
      ]
    },
    {
      "cell_type": "code",
      "execution_count": 37,
      "metadata": {},
      "outputs": [
        {
          "data": {
            "text/plain": [
              "(\"[1, '192.168.1.20', '192.168.1.21', 2404, 50045, 'TCP', 'm_sp_na_1_DoS']\", 0)"
            ]
          },
          "execution_count": 37,
          "metadata": {},
          "output_type": "execute_result"
        }
      ],
      "source": [
        "df.index[0]"
      ]
    },
    {
      "cell_type": "code",
      "execution_count": 38,
      "metadata": {},
      "outputs": [],
      "source": [
        "df.index.names = ['flow', 'packet_number']"
      ]
    },
    {
      "cell_type": "code",
      "execution_count": 39,
      "metadata": {},
      "outputs": [
        {
          "data": {
            "text/plain": [
              "(38.24813694385007, 8.0)"
            ]
          },
          "execution_count": 39,
          "metadata": {},
          "output_type": "execute_result"
        }
      ],
      "source": [
        "df.groupby(level='flow')['ip_id'].count().mean(),df.groupby(level='flow')['ip_id'].count().median()"
      ]
    },
    {
      "cell_type": "code",
      "execution_count": 40,
      "metadata": {},
      "outputs": [],
      "source": [
        "df['ip_flags']=df['ip_flags'].map(lambda x: str(x))\n",
        "df['tcp_flags']=df['tcp_flags'].map(lambda x: str(x))"
      ]
    },
    {
      "cell_type": "code",
      "execution_count": 4,
      "metadata": {},
      "outputs": [],
      "source": [
        "df.to_parquet(f\"data/iec104_{TIMEOUT}.parquet\")"
      ]
    },
    {
      "cell_type": "code",
      "execution_count": 42,
      "metadata": {},
      "outputs": [
        {
          "data": {
            "text/plain": [
              "array([ 8.,  8.,  9., 10., 26.])"
            ]
          },
          "execution_count": 42,
          "metadata": {},
          "output_type": "execute_result"
        }
      ],
      "source": [
        "import scipy.stats\n",
        "scipy.stats.mstats.mquantiles(df.groupby(level='flow')['ip_id'].count(),prob=[0.25,0.5,0.75,0.9,0.99])"
      ]
    },
    {
      "cell_type": "markdown",
      "metadata": {},
      "source": [
        "# Split"
      ]
    },
    {
      "cell_type": "code",
      "execution_count": 33,
      "metadata": {},
      "outputs": [
        {
          "data": {
            "text/html": [
              "<div>\n",
              "<style scoped>\n",
              "    .dataframe tbody tr th:only-of-type {\n",
              "        vertical-align: middle;\n",
              "    }\n",
              "\n",
              "    .dataframe tbody tr th {\n",
              "        vertical-align: top;\n",
              "    }\n",
              "\n",
              "    .dataframe thead th {\n",
              "        text-align: right;\n",
              "    }\n",
              "</style>\n",
              "<table border=\"1\" class=\"dataframe\">\n",
              "  <thead>\n",
              "    <tr style=\"text-align: right;\">\n",
              "      <th></th>\n",
              "      <th></th>\n",
              "      <th>ip_version</th>\n",
              "      <th>ip_ihl</th>\n",
              "      <th>ip_tos</th>\n",
              "      <th>ip_len</th>\n",
              "      <th>ip_id</th>\n",
              "      <th>ip_flags</th>\n",
              "      <th>ip_frag</th>\n",
              "      <th>ip_ttl</th>\n",
              "      <th>ip_proto</th>\n",
              "      <th>ip_chksum</th>\n",
              "      <th>...</th>\n",
              "      <th>tcp_reserved</th>\n",
              "      <th>tcp_flags</th>\n",
              "      <th>tcp_window</th>\n",
              "      <th>tcp_chksum</th>\n",
              "      <th>tcp_urgptr</th>\n",
              "      <th>tcp_options</th>\n",
              "      <th>size</th>\n",
              "      <th>payload</th>\n",
              "      <th>payload_raw</th>\n",
              "      <th>label</th>\n",
              "    </tr>\n",
              "    <tr>\n",
              "      <th>flow</th>\n",
              "      <th>packet_number</th>\n",
              "      <th></th>\n",
              "      <th></th>\n",
              "      <th></th>\n",
              "      <th></th>\n",
              "      <th></th>\n",
              "      <th></th>\n",
              "      <th></th>\n",
              "      <th></th>\n",
              "      <th></th>\n",
              "      <th></th>\n",
              "      <th></th>\n",
              "      <th></th>\n",
              "      <th></th>\n",
              "      <th></th>\n",
              "      <th></th>\n",
              "      <th></th>\n",
              "      <th></th>\n",
              "      <th></th>\n",
              "      <th></th>\n",
              "      <th></th>\n",
              "      <th></th>\n",
              "    </tr>\n",
              "  </thead>\n",
              "  <tbody>\n",
              "    <tr>\n",
              "      <th>[1, '192.168.1.20', '192.168.1.21', 2404, 50045, 'TCP', 'm_sp_na_1_DoS']</th>\n",
              "      <th>0</th>\n",
              "      <td>4</td>\n",
              "      <td>5</td>\n",
              "      <td>0</td>\n",
              "      <td>46</td>\n",
              "      <td>2437</td>\n",
              "      <td>DF</td>\n",
              "      <td>0</td>\n",
              "      <td>128</td>\n",
              "      <td>6</td>\n",
              "      <td>0</td>\n",
              "      <td>...</td>\n",
              "      <td>0</td>\n",
              "      <td>PA</td>\n",
              "      <td>16425</td>\n",
              "      <td>33690</td>\n",
              "      <td>0</td>\n",
              "      <td>0</td>\n",
              "      <td>60</td>\n",
              "      <td>6</td>\n",
              "      <td>b'h\\x04\\x07\\x00\\x00\\x00'</td>\n",
              "      <td>m_sp_na_1_DoS</td>\n",
              "    </tr>\n",
              "  </tbody>\n",
              "</table>\n",
              "<p>1 rows × 29 columns</p>\n",
              "</div>"
            ],
            "text/plain": [
              "                                                                  ip_version  \\\n",
              "flow                                               packet_number               \n",
              "[1, '192.168.1.20', '192.168.1.21', 2404, 50045... 0                       4   \n",
              "\n",
              "                                                                  ip_ihl  \\\n",
              "flow                                               packet_number           \n",
              "[1, '192.168.1.20', '192.168.1.21', 2404, 50045... 0                   5   \n",
              "\n",
              "                                                                  ip_tos  \\\n",
              "flow                                               packet_number           \n",
              "[1, '192.168.1.20', '192.168.1.21', 2404, 50045... 0                   0   \n",
              "\n",
              "                                                                  ip_len  \\\n",
              "flow                                               packet_number           \n",
              "[1, '192.168.1.20', '192.168.1.21', 2404, 50045... 0                  46   \n",
              "\n",
              "                                                                  ip_id  \\\n",
              "flow                                               packet_number          \n",
              "[1, '192.168.1.20', '192.168.1.21', 2404, 50045... 0               2437   \n",
              "\n",
              "                                                                 ip_flags  \\\n",
              "flow                                               packet_number            \n",
              "[1, '192.168.1.20', '192.168.1.21', 2404, 50045... 0                   DF   \n",
              "\n",
              "                                                                  ip_frag  \\\n",
              "flow                                               packet_number            \n",
              "[1, '192.168.1.20', '192.168.1.21', 2404, 50045... 0                    0   \n",
              "\n",
              "                                                                  ip_ttl  \\\n",
              "flow                                               packet_number           \n",
              "[1, '192.168.1.20', '192.168.1.21', 2404, 50045... 0                 128   \n",
              "\n",
              "                                                                  ip_proto  \\\n",
              "flow                                               packet_number             \n",
              "[1, '192.168.1.20', '192.168.1.21', 2404, 50045... 0                     6   \n",
              "\n",
              "                                                                  ip_chksum  \\\n",
              "flow                                               packet_number              \n",
              "[1, '192.168.1.20', '192.168.1.21', 2404, 50045... 0                      0   \n",
              "\n",
              "                                                                  ...  \\\n",
              "flow                                               packet_number  ...   \n",
              "[1, '192.168.1.20', '192.168.1.21', 2404, 50045... 0              ...   \n",
              "\n",
              "                                                                 tcp_reserved  \\\n",
              "flow                                               packet_number                \n",
              "[1, '192.168.1.20', '192.168.1.21', 2404, 50045... 0                        0   \n",
              "\n",
              "                                                                 tcp_flags  \\\n",
              "flow                                               packet_number             \n",
              "[1, '192.168.1.20', '192.168.1.21', 2404, 50045... 0                    PA   \n",
              "\n",
              "                                                                  tcp_window  \\\n",
              "flow                                               packet_number               \n",
              "[1, '192.168.1.20', '192.168.1.21', 2404, 50045... 0                   16425   \n",
              "\n",
              "                                                                 tcp_chksum  \\\n",
              "flow                                               packet_number              \n",
              "[1, '192.168.1.20', '192.168.1.21', 2404, 50045... 0                  33690   \n",
              "\n",
              "                                                                  tcp_urgptr  \\\n",
              "flow                                               packet_number               \n",
              "[1, '192.168.1.20', '192.168.1.21', 2404, 50045... 0                       0   \n",
              "\n",
              "                                                                  tcp_options  \\\n",
              "flow                                               packet_number                \n",
              "[1, '192.168.1.20', '192.168.1.21', 2404, 50045... 0                        0   \n",
              "\n",
              "                                                                  size  \\\n",
              "flow                                               packet_number         \n",
              "[1, '192.168.1.20', '192.168.1.21', 2404, 50045... 0                60   \n",
              "\n",
              "                                                                  payload  \\\n",
              "flow                                               packet_number            \n",
              "[1, '192.168.1.20', '192.168.1.21', 2404, 50045... 0                    6   \n",
              "\n",
              "                                                                               payload_raw  \\\n",
              "flow                                               packet_number                             \n",
              "[1, '192.168.1.20', '192.168.1.21', 2404, 50045... 0              b'h\\x04\\x07\\x00\\x00\\x00'   \n",
              "\n",
              "                                                                          label  \n",
              "flow                                               packet_number                 \n",
              "[1, '192.168.1.20', '192.168.1.21', 2404, 50045... 0              m_sp_na_1_DoS  \n",
              "\n",
              "[1 rows x 29 columns]"
            ]
          },
          "execution_count": 33,
          "metadata": {},
          "output_type": "execute_result"
        }
      ],
      "source": [
        "df = pd.read_parquet(f\"data/iec104_{TIMEOUT}.parquet\")\n",
        "df.head(1)"
      ]
    },
    {
      "cell_type": "code",
      "execution_count": 31,
      "metadata": {},
      "outputs": [],
      "source": [
        "from feature_engine.encoding import OrdinalEncoder\n",
        "od = OrdinalEncoder(encoding_method='arbitrary')\n",
        "od.fit(df[['label']])\n",
        "df[['label']]= od.transform(df[['label']])\n",
        "tmp = pd.DataFrame(df['label'].unique().reshape(-1, 1),columns=['label'])\n",
        "pd.concat((od.inverse_transform(tmp),tmp),axis=1)\n",
        "df = df.reset_index('packet_number')"
      ]
    },
    {
      "cell_type": "code",
      "execution_count": 32,
      "metadata": {},
      "outputs": [
        {
          "name": "stdout",
          "output_type": "stream",
          "text": [
            "(17346, 30) (4338, 30) (5422, 30)\n",
            "TRAIN 8673 2169 2711\n",
            "(52012, 30) (12999, 30) (16261, 30)\n",
            "TRAIN 8673 2169 2711\n",
            "(72827, 30) (18188, 30) (22752, 30)\n",
            "TRAIN 8673 2169 2711\n",
            "(75081, 30) (18736, 30) (23264, 30)\n",
            "TRAIN 8673 2169 2711\n",
            "(298295, 30) (72810, 30) (58165, 30)\n",
            "TRAIN 8673 2169 2711\n"
          ]
        }
      ],
      "source": [
        "import random\n",
        "from constants import *\n",
        "\n",
        "def generate_dataset(df,number_packets):\n",
        "    if isinstance(number_packets,int):\n",
        "        # df = df.groupby(level='flow').filter(lambda x: len(x) <= number_packets)\n",
        "        df = df[df['packet_number'].isin(list(range(number_packets)))]\n",
        "        df = df.groupby(level='flow').filter(lambda x: len(x) <= number_packets)\n",
        "    else:\n",
        "        pass\n",
        "    df['time']=df['time'].astype(float)\n",
        "\n",
        "    TRAIN_RATE= 0.8\n",
        "   \n",
        "    indexes = list(set(df.index))\n",
        "    random.Random(1).shuffle(indexes)\n",
        "    TRAIN_SIZE = int(len(indexes)*TRAIN_RATE)\n",
        "    TEST_SIZE = len(indexes)-TRAIN_SIZE\n",
        "    TRAIN_SAMPLES = indexes[:TRAIN_SIZE]\n",
        "    TEST_SAMPLES = indexes[:TEST_SIZE]\n",
        "    df_train_initial = df.loc[TRAIN_SAMPLES]\n",
        "    df_test = df.loc[TEST_SAMPLES]\n",
        "    \n",
        "    indexes = list(set(df_train_initial.index))\n",
        "    random.Random(1).shuffle(indexes)\n",
        "    TRAIN_SIZE = int(len(indexes)*TRAIN_RATE)\n",
        "    TEST_SIZE = len(indexes)-TRAIN_SIZE\n",
        "    TRAIN_SAMPLES = indexes[:TRAIN_SIZE]\n",
        "    TEST_SAMPLES = indexes[:TEST_SIZE]\n",
        "    df_train = df_train_initial.loc[TRAIN_SAMPLES]\n",
        "    df_validation = df_train_initial.loc[TEST_SAMPLES]\n",
        "    \n",
        "    print(df_train.shape, df_validation.shape, df_test.shape)\n",
        "    # len(set(df_train.index))\n",
        "    # display(df_train['label'].value_counts())\n",
        "    # display(df_validation['label'].value_counts())\n",
        "    # display(df_test['label'].value_counts())\n",
        "    \n",
        "    print('TRAIN',df_train.index.nunique(),df_validation.index.nunique(),df_test.index.nunique())# df_train.index.nunique(),df_validation.index.nunique(),df_test.index.nunique()\n",
        "    df_train.to_parquet(f'data/iec104_train_{TIMEOUT}_{number_packets}.parquet')\n",
        "    df_validation.to_parquet(f'data/iec104_validation_{TIMEOUT}_{number_packets}.parquet')\n",
        "    df_test.to_parquet(f'data/iec104_test_{TIMEOUT}_{number_packets}.parquet')\n",
        "    \n",
        "for number_packets in NUMBER_PACKETS_OPTIONS:\n",
        "    generate_dataset(df,number_packets)"
      ]
    }
  ],
  "metadata": {
    "colab": {
      "provenance": []
    },
    "kernelspec": {
      "display_name": "Python 3 (ipykernel)",
      "language": "python",
      "name": "python3"
    },
    "language_info": {
      "codemirror_mode": {
        "name": "ipython",
        "version": 3
      },
      "file_extension": ".py",
      "mimetype": "text/x-python",
      "name": "python",
      "nbconvert_exporter": "python",
      "pygments_lexer": "ipython3",
      "version": "3.12.2"
    }
  },
  "nbformat": 4,
  "nbformat_minor": 0
}
