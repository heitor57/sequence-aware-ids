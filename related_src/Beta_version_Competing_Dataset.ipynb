{
  "cells": [
    {
      "cell_type": "markdown",
      "metadata": {
        "id": "Bapaz0nWMFKi"
      },
      "source": [
        "# Packages Installs and environment preparation"
      ]
    },
    {
      "cell_type": "code",
      "execution_count": null,
      "metadata": {
        "id": "ETouZkRyLfe3"
      },
      "outputs": [],
      "source": [
        "!pip install scapy\n",
        "# !pip install feature_engine"
      ]
    },
    {
      "cell_type": "code",
      "source": [
        "# !wget http://godzilla.ime.usp.br/mac6958/smartgrid-security/20200425_UOWM_IEC104_Dataset_m_sp_na_1_DoS.7z\n",
        "# !wget http://godzilla.ime.usp.br/mac6958/smartgrid-security/20200426_UOWM_IEC104_Dataset_c_ci_na_1.7z\n",
        "# !wget http://godzilla.ime.usp.br/mac6958/smartgrid-security/20200426_UOWM_IEC104_Dataset_c_ci_na_1_DoS.7z\n",
        "# !wget http://godzilla.ime.usp.br/mac6958/smartgrid-security/20200427_UOWM_IEC104_Dataset_c_se_na_1.7z\n",
        "# !wget http://godzilla.ime.usp.br/mac6958/smartgrid-security/20200428_UOWM_IEC104_Dataset_c_sc_na_1.7z\n",
        "# !wget http://godzilla.ime.usp.br/mac6958/smartgrid-security/20200428_UOWM_IEC104_Dataset_c_se_na_1_DoS.7z\n",
        "# !wget http://godzilla.ime.usp.br/mac6958/smartgrid-security/20200429_UOWM_IEC104_Dataset_c_sc_na_1_DoS.7z\n",
        "# !wget http://godzilla.ime.usp.br/mac6958/smartgrid-security/20200605_UOWM_IEC104_Dataset_c_rd_na_1.7z\n",
        "# !wget http://godzilla.ime.usp.br/mac6958/smartgrid-security/20200605_UOWM_IEC104_Dataset_c_rd_na_1_DoS.7z\n",
        "# !wget http://godzilla.ime.usp.br/mac6958/smartgrid-security/20200606_UOWM_IEC104_Dataset_c_rp_na_1.7z\n",
        "# !wget http://godzilla.ime.usp.br/mac6958/smartgrid-security/20200606_UOWM_IEC104_Dataset_c_rp_na_1_DoS.7z\n",
        "# !wget http://godzilla.ime.usp.br/mac6958/smartgrid-security/20200608_UOWM_IEC104_Dataset_mitm_drop.7z\n",
        "# !wget http://godzilla.ime.usp.br/mac6958/smartgrid-security/Balanced_IEC104_Train_Test_CSV_Files.7z"
      ],
      "metadata": {
        "id": "Bc2CPLEKRhhq"
      },
      "execution_count": null,
      "outputs": []
    },
    {
      "cell_type": "code",
      "source": [
        "# !p7zip -d '/content/20200425_UOWM_IEC104_Dataset_m_sp_na_1_DoS.7z'\n",
        "# !p7zip -d '/content/20200426_UOWM_IEC104_Dataset_c_ci_na_1.7z'\n",
        "# !p7zip -d '/content/20200426_UOWM_IEC104_Dataset_c_ci_na_1_DoS.7z'\n",
        "# !p7zip -d '/content/20200427_UOWM_IEC104_Dataset_c_se_na_1.7z'\n",
        "# !p7zip -d '/content/20200428_UOWM_IEC104_Dataset_c_sc_na_1.7z'\n",
        "# !p7zip -d '/content/20200428_UOWM_IEC104_Dataset_c_se_na_1_DoS.7z'\n",
        "# !p7zip -d '/content/20200429_UOWM_IEC104_Dataset_c_sc_na_1_DoS.7z'\n",
        "# !p7zip -d '/content/20200605_UOWM_IEC104_Dataset_c_rd_na_1.7z'\n",
        "# !p7zip -d '/content/20200608_UOWM_IEC104_Dataset_mitm_drop.7z'\n",
        "# !p7zip -d '/content/20200606_UOWM_IEC104_Dataset_c_rp_na_1_DoS.7z'\n",
        "# !p7zip -d '/content/20200605_UOWM_IEC104_Dataset_c_rd_na_1_DoS.7z'\n",
        "# !p7zip -d '/content/20200606_UOWM_IEC104_Dataset_c_rp_na_1.7z'"
      ],
      "metadata": {
        "id": "jczLjgSfSWeL"
      },
      "execution_count": null,
      "outputs": []
    },
    {
      "cell_type": "code",
      "execution_count": null,
      "metadata": {
        "id": "Fg-SddhEGvae"
      },
      "outputs": [],
      "source": [
        "!apt-get install libpcap-dev"
      ]
    },
    {
      "cell_type": "code",
      "execution_count": null,
      "metadata": {
        "id": "uTLrDKgaGwXv"
      },
      "outputs": [],
      "source": [
        "!wget https://github.com/nprint/nprint/releases/download/v1.2.1/nprint-1.2.1.tar.gz"
      ]
    },
    {
      "cell_type": "code",
      "execution_count": null,
      "metadata": {
        "id": "JYqi2K8wG_xW"
      },
      "outputs": [],
      "source": [
        "!tar -xvf '/content/nprint-1.2.1.tar.gz'"
      ]
    },
    {
      "cell_type": "code",
      "execution_count": null,
      "metadata": {
        "id": "VubMCGRGHIq6"
      },
      "outputs": [],
      "source": [
        "!cd '/content/nprint-1.2.1'"
      ]
    },
    {
      "cell_type": "code",
      "execution_count": null,
      "metadata": {
        "id": "-_Q9gUKzHcWy"
      },
      "outputs": [],
      "source": [
        "!apt install g++"
      ]
    },
    {
      "cell_type": "code",
      "execution_count": null,
      "metadata": {
        "id": "F5nKA1zrHReT"
      },
      "outputs": [],
      "source": [
        "import os\n",
        "os.chdir('/content/nprint-1.2.1')"
      ]
    },
    {
      "cell_type": "code",
      "execution_count": null,
      "metadata": {
        "id": "UQvgtrXoHrcK"
      },
      "outputs": [],
      "source": [
        "!./configure && make && sudo make install"
      ]
    },
    {
      "cell_type": "code",
      "execution_count": null,
      "metadata": {
        "id": "JBivpTMqIhP1"
      },
      "outputs": [],
      "source": [
        "!nprint --help"
      ]
    },
    {
      "cell_type": "markdown",
      "source": [
        "# Imports"
      ],
      "metadata": {
        "id": "-c29MaM2rpqr"
      }
    },
    {
      "cell_type": "code",
      "execution_count": null,
      "metadata": {
        "id": "VrkVnQL3LZqc",
        "colab": {
          "base_uri": "https://localhost:8080/"
        },
        "outputId": "54fd20f5-e83c-498d-a334-a310dc1a0e20"
      },
      "outputs": [
        {
          "output_type": "stream",
          "name": "stdout",
          "text": [
            "Mounted at /content/drive\n"
          ]
        }
      ],
      "source": [
        "from scapy.all import *\n",
        "import pandas as pd\n",
        "# from catboost import CatBoostClassifier\n",
        "# import shap\n",
        "import seaborn as sns\n",
        "# import feature_engine\n",
        "# import feature_engine.encoding\n",
        "import numpy as np\n",
        "# from catboost import Pool\n",
        "import matplotlib.pyplot as plt\n",
        "import matplotlib.ticker as mtick\n",
        "from collections import defaultdict\n",
        "import os\n",
        "from google.colab import drive\n",
        "drive.mount('/content/drive')"
      ]
    },
    {
      "cell_type": "markdown",
      "metadata": {
        "id": "Pv1A1aOSjRJB"
      },
      "source": [
        "## Code"
      ]
    },
    {
      "cell_type": "code",
      "execution_count": null,
      "metadata": {
        "colab": {
          "base_uri": "https://localhost:8080/",
          "height": 38
        },
        "id": "Og05ZbSHKOdG",
        "outputId": "bcb300fa-94cd-4c75-a92c-d75bdf2f6f31"
      },
      "outputs": [
        {
          "output_type": "execute_result",
          "data": {
            "text/plain": [
              "'m_sp_na_1_DoS'"
            ],
            "application/vnd.google.colaboratory.intrinsic+json": {
              "type": "string"
            }
          },
          "metadata": {},
          "execution_count": 15
        }
      ],
      "source": [
        "def get_attack_directory_attack(path):\n",
        "  return path.split('Dataset_')[1]\n",
        "attacks_directories= [\n",
        "                      '20200425_UOWM_IEC104_Dataset_m_sp_na_1_DoS',\n",
        "                      '20200426_UOWM_IEC104_Dataset_c_ci_na_1',\n",
        "                      '20200427_UOWM_IEC104_Dataset_c_se_na_1',\n",
        "                      '20200428_UOWM_IEC104_Dataset_c_sc_na_1',\n",
        "                      '20200605_UOWM_IEC104_Dataset_c_rd_na_1',\n",
        "                      '20200606_UOWM_IEC104_Dataset_c_rp_na_1',\n",
        "                      '20200426_UOWM_IEC104_Dataset_c_ci_na_1_DoS',\n",
        "                      '20200605_UOWM_IEC104_Dataset_c_rd_na_1_DoS',\n",
        "                      '20200606_UOWM_IEC104_Dataset_c_rp_na_1_DoS',\n",
        "                      '20200428_UOWM_IEC104_Dataset_c_se_na_1_DoS',\n",
        "                      '20200429_UOWM_IEC104_Dataset_c_sc_na_1_DoS',\n",
        "                                            # '20200608_UOWM_IEC104_Dataset_mitm_drop'\n",
        "                                            ]\n",
        "devices_to_read = ['qtester','attacker1','attacker2','attacker3']\n",
        "\n",
        "# if '20200425_UOWM_IEC104_Dataset_m_sp_na_1_DoS':\n",
        "#   not\n",
        "get_attack_directory_attack(attacks_directories[0])"
      ]
    },
    {
      "cell_type": "code",
      "execution_count": null,
      "metadata": {
        "id": "llFq5KkCJTQR",
        "colab": {
          "base_uri": "https://localhost:8080/",
          "height": 523
        },
        "outputId": "0aff67c5-b45d-4783-9048-484fc58fa6c4"
      },
      "outputs": [
        {
          "output_type": "error",
          "ename": "FileNotFoundError",
          "evalue": "[Errno 2] No such file or directory: '/content/20200425_UOWM_IEC104_Dataset_m_sp_na_1_DoS/20200425_UOWM_IEC104_Dataset_m_sp_na_1_DoS_qtester/20200425_UOWM_IEC104_Dataset_m_sp_na_1_DoS_qtester_iec104_only.pcap'",
          "traceback": [
            "\u001b[0;31m---------------------------------------------------------------------------\u001b[0m",
            "\u001b[0;31mFileNotFoundError\u001b[0m                         Traceback (most recent call last)",
            "\u001b[0;32m/usr/local/lib/python3.10/dist-packages/scapy/utils.py\u001b[0m in \u001b[0;36mopen\u001b[0;34m(fname)\u001b[0m\n\u001b[1;32m   1208\u001b[0m             \u001b[0;32mtry\u001b[0m\u001b[0;34m:\u001b[0m\u001b[0;34m\u001b[0m\u001b[0;34m\u001b[0m\u001b[0m\n\u001b[0;32m-> 1209\u001b[0;31m                 \u001b[0mfdesc\u001b[0m \u001b[0;34m=\u001b[0m \u001b[0mgzip\u001b[0m\u001b[0;34m.\u001b[0m\u001b[0mopen\u001b[0m\u001b[0;34m(\u001b[0m\u001b[0mfilename\u001b[0m\u001b[0;34m,\u001b[0m \u001b[0;34m\"rb\"\u001b[0m\u001b[0;34m)\u001b[0m  \u001b[0;31m# type: _ByteStream\u001b[0m\u001b[0;34m\u001b[0m\u001b[0;34m\u001b[0m\u001b[0m\n\u001b[0m\u001b[1;32m   1210\u001b[0m                 \u001b[0mmagic\u001b[0m \u001b[0;34m=\u001b[0m \u001b[0mfdesc\u001b[0m\u001b[0;34m.\u001b[0m\u001b[0mread\u001b[0m\u001b[0;34m(\u001b[0m\u001b[0;36m4\u001b[0m\u001b[0;34m)\u001b[0m\u001b[0;34m\u001b[0m\u001b[0;34m\u001b[0m\u001b[0m\n",
            "\u001b[0;32m/usr/lib/python3.10/gzip.py\u001b[0m in \u001b[0;36mopen\u001b[0;34m(filename, mode, compresslevel, encoding, errors, newline)\u001b[0m\n\u001b[1;32m     57\u001b[0m     \u001b[0;32mif\u001b[0m \u001b[0misinstance\u001b[0m\u001b[0;34m(\u001b[0m\u001b[0mfilename\u001b[0m\u001b[0;34m,\u001b[0m \u001b[0;34m(\u001b[0m\u001b[0mstr\u001b[0m\u001b[0;34m,\u001b[0m \u001b[0mbytes\u001b[0m\u001b[0;34m,\u001b[0m \u001b[0mos\u001b[0m\u001b[0;34m.\u001b[0m\u001b[0mPathLike\u001b[0m\u001b[0;34m)\u001b[0m\u001b[0;34m)\u001b[0m\u001b[0;34m:\u001b[0m\u001b[0;34m\u001b[0m\u001b[0;34m\u001b[0m\u001b[0m\n\u001b[0;32m---> 58\u001b[0;31m         \u001b[0mbinary_file\u001b[0m \u001b[0;34m=\u001b[0m \u001b[0mGzipFile\u001b[0m\u001b[0;34m(\u001b[0m\u001b[0mfilename\u001b[0m\u001b[0;34m,\u001b[0m \u001b[0mgz_mode\u001b[0m\u001b[0;34m,\u001b[0m \u001b[0mcompresslevel\u001b[0m\u001b[0;34m)\u001b[0m\u001b[0;34m\u001b[0m\u001b[0;34m\u001b[0m\u001b[0m\n\u001b[0m\u001b[1;32m     59\u001b[0m     \u001b[0;32melif\u001b[0m \u001b[0mhasattr\u001b[0m\u001b[0;34m(\u001b[0m\u001b[0mfilename\u001b[0m\u001b[0;34m,\u001b[0m \u001b[0;34m\"read\"\u001b[0m\u001b[0;34m)\u001b[0m \u001b[0;32mor\u001b[0m \u001b[0mhasattr\u001b[0m\u001b[0;34m(\u001b[0m\u001b[0mfilename\u001b[0m\u001b[0;34m,\u001b[0m \u001b[0;34m\"write\"\u001b[0m\u001b[0;34m)\u001b[0m\u001b[0;34m:\u001b[0m\u001b[0;34m\u001b[0m\u001b[0;34m\u001b[0m\u001b[0m\n",
            "\u001b[0;32m/usr/lib/python3.10/gzip.py\u001b[0m in \u001b[0;36m__init__\u001b[0;34m(self, filename, mode, compresslevel, fileobj, mtime)\u001b[0m\n\u001b[1;32m    173\u001b[0m         \u001b[0;32mif\u001b[0m \u001b[0mfileobj\u001b[0m \u001b[0;32mis\u001b[0m \u001b[0;32mNone\u001b[0m\u001b[0;34m:\u001b[0m\u001b[0;34m\u001b[0m\u001b[0;34m\u001b[0m\u001b[0m\n\u001b[0;32m--> 174\u001b[0;31m             \u001b[0mfileobj\u001b[0m \u001b[0;34m=\u001b[0m \u001b[0mself\u001b[0m\u001b[0;34m.\u001b[0m\u001b[0mmyfileobj\u001b[0m \u001b[0;34m=\u001b[0m \u001b[0mbuiltins\u001b[0m\u001b[0;34m.\u001b[0m\u001b[0mopen\u001b[0m\u001b[0;34m(\u001b[0m\u001b[0mfilename\u001b[0m\u001b[0;34m,\u001b[0m \u001b[0mmode\u001b[0m \u001b[0;32mor\u001b[0m \u001b[0;34m'rb'\u001b[0m\u001b[0;34m)\u001b[0m\u001b[0;34m\u001b[0m\u001b[0;34m\u001b[0m\u001b[0m\n\u001b[0m\u001b[1;32m    175\u001b[0m         \u001b[0;32mif\u001b[0m \u001b[0mfilename\u001b[0m \u001b[0;32mis\u001b[0m \u001b[0;32mNone\u001b[0m\u001b[0;34m:\u001b[0m\u001b[0;34m\u001b[0m\u001b[0;34m\u001b[0m\u001b[0m\n",
            "\u001b[0;31mFileNotFoundError\u001b[0m: [Errno 2] No such file or directory: '/content/20200425_UOWM_IEC104_Dataset_m_sp_na_1_DoS/20200425_UOWM_IEC104_Dataset_m_sp_na_1_DoS_qtester/20200425_UOWM_IEC104_Dataset_m_sp_na_1_DoS_qtester_iec104_only.pcap'",
            "\nDuring handling of the above exception, another exception occurred:\n",
            "\u001b[0;31mFileNotFoundError\u001b[0m                         Traceback (most recent call last)",
            "\u001b[0;32m<ipython-input-16-349dd41721ec>\u001b[0m in \u001b[0;36m<cell line: 2>\u001b[0;34m()\u001b[0m\n\u001b[1;32m      5\u001b[0m     \u001b[0;32mif\u001b[0m \u001b[0mdevice_to_read\u001b[0m \u001b[0;34m!=\u001b[0m \u001b[0;34m'qtester'\u001b[0m \u001b[0;32mand\u001b[0m \u001b[0mattack_directory\u001b[0m \u001b[0;34m==\u001b[0m \u001b[0;34m'20200425_UOWM_IEC104_Dataset_m_sp_na_1_DoS'\u001b[0m\u001b[0;34m:\u001b[0m\u001b[0;34m\u001b[0m\u001b[0;34m\u001b[0m\u001b[0m\n\u001b[1;32m      6\u001b[0m       \u001b[0;32mcontinue\u001b[0m\u001b[0;34m\u001b[0m\u001b[0;34m\u001b[0m\u001b[0m\n\u001b[0;32m----> 7\u001b[0;31m     \u001b[0mpackets\u001b[0m\u001b[0;34m=\u001b[0m\u001b[0mrdpcap\u001b[0m\u001b[0;34m(\u001b[0m\u001b[0mpcap_file\u001b[0m\u001b[0;34m,\u001b[0m\u001b[0mcount\u001b[0m\u001b[0;34m=\u001b[0m\u001b[0;36m20\u001b[0m\u001b[0;34m)\u001b[0m\u001b[0;34m\u001b[0m\u001b[0;34m\u001b[0m\u001b[0m\n\u001b[0m\u001b[1;32m      8\u001b[0m     \u001b[0;32mfor\u001b[0m \u001b[0mpacket\u001b[0m \u001b[0;32min\u001b[0m \u001b[0mpackets\u001b[0m\u001b[0;34m:\u001b[0m\u001b[0;34m\u001b[0m\u001b[0;34m\u001b[0m\u001b[0m\n\u001b[1;32m      9\u001b[0m       \u001b[0ma\u001b[0m\u001b[0;34m[\u001b[0m\u001b[0mlen\u001b[0m\u001b[0;34m(\u001b[0m\u001b[0mpacket\u001b[0m\u001b[0;34m[\u001b[0m\u001b[0mTCP\u001b[0m\u001b[0;34m]\u001b[0m\u001b[0;34m.\u001b[0m\u001b[0mpayload\u001b[0m\u001b[0;34m)\u001b[0m\u001b[0;34m]\u001b[0m\u001b[0;34m=\u001b[0m \u001b[0;36m1\u001b[0m\u001b[0;34m\u001b[0m\u001b[0;34m\u001b[0m\u001b[0m\n",
            "\u001b[0;32m/usr/local/lib/python3.10/dist-packages/scapy/utils.py\u001b[0m in \u001b[0;36mrdpcap\u001b[0;34m(filename, count)\u001b[0m\n\u001b[1;32m   1142\u001b[0m     \u001b[0;31m# One day we should simplify this mess and use a much simpler\u001b[0m\u001b[0;34m\u001b[0m\u001b[0;34m\u001b[0m\u001b[0m\n\u001b[1;32m   1143\u001b[0m     \u001b[0;31m# layout that will actually be supported and properly dissected.\u001b[0m\u001b[0;34m\u001b[0m\u001b[0;34m\u001b[0m\u001b[0m\n\u001b[0;32m-> 1144\u001b[0;31m     \u001b[0;32mwith\u001b[0m \u001b[0mPcapReader\u001b[0m\u001b[0;34m(\u001b[0m\u001b[0mfilename\u001b[0m\u001b[0;34m)\u001b[0m \u001b[0;32mas\u001b[0m \u001b[0mfdesc\u001b[0m\u001b[0;34m:\u001b[0m  \u001b[0;31m# type: ignore\u001b[0m\u001b[0;34m\u001b[0m\u001b[0;34m\u001b[0m\u001b[0m\n\u001b[0m\u001b[1;32m   1145\u001b[0m         \u001b[0;32mreturn\u001b[0m \u001b[0mfdesc\u001b[0m\u001b[0;34m.\u001b[0m\u001b[0mread_all\u001b[0m\u001b[0;34m(\u001b[0m\u001b[0mcount\u001b[0m\u001b[0;34m=\u001b[0m\u001b[0mcount\u001b[0m\u001b[0;34m)\u001b[0m\u001b[0;34m\u001b[0m\u001b[0;34m\u001b[0m\u001b[0m\n\u001b[1;32m   1146\u001b[0m \u001b[0;34m\u001b[0m\u001b[0m\n",
            "\u001b[0;32m/usr/local/lib/python3.10/dist-packages/scapy/utils.py\u001b[0m in \u001b[0;36m__call__\u001b[0;34m(cls, filename)\u001b[0m\n\u001b[1;32m   1177\u001b[0m         \"\"\"\n\u001b[1;32m   1178\u001b[0m         \u001b[0mi\u001b[0m \u001b[0;34m=\u001b[0m \u001b[0mcls\u001b[0m\u001b[0;34m.\u001b[0m\u001b[0m__new__\u001b[0m\u001b[0;34m(\u001b[0m\u001b[0mcls\u001b[0m\u001b[0;34m,\u001b[0m \u001b[0mcls\u001b[0m\u001b[0;34m.\u001b[0m\u001b[0m__name__\u001b[0m\u001b[0;34m,\u001b[0m \u001b[0mcls\u001b[0m\u001b[0;34m.\u001b[0m\u001b[0m__bases__\u001b[0m\u001b[0;34m,\u001b[0m \u001b[0mcls\u001b[0m\u001b[0;34m.\u001b[0m\u001b[0m__dict__\u001b[0m\u001b[0;34m)\u001b[0m\u001b[0;34m\u001b[0m\u001b[0;34m\u001b[0m\u001b[0m\n\u001b[0;32m-> 1179\u001b[0;31m         \u001b[0mfilename\u001b[0m\u001b[0;34m,\u001b[0m \u001b[0mfdesc\u001b[0m\u001b[0;34m,\u001b[0m \u001b[0mmagic\u001b[0m \u001b[0;34m=\u001b[0m \u001b[0mcls\u001b[0m\u001b[0;34m.\u001b[0m\u001b[0mopen\u001b[0m\u001b[0;34m(\u001b[0m\u001b[0mfilename\u001b[0m\u001b[0;34m)\u001b[0m\u001b[0;34m\u001b[0m\u001b[0;34m\u001b[0m\u001b[0m\n\u001b[0m\u001b[1;32m   1180\u001b[0m         \u001b[0;32mif\u001b[0m \u001b[0;32mnot\u001b[0m \u001b[0mmagic\u001b[0m\u001b[0;34m:\u001b[0m\u001b[0;34m\u001b[0m\u001b[0;34m\u001b[0m\u001b[0m\n\u001b[1;32m   1181\u001b[0m             raise Scapy_Exception(\n",
            "\u001b[0;32m/usr/local/lib/python3.10/dist-packages/scapy/utils.py\u001b[0m in \u001b[0;36mopen\u001b[0;34m(fname)\u001b[0m\n\u001b[1;32m   1210\u001b[0m                 \u001b[0mmagic\u001b[0m \u001b[0;34m=\u001b[0m \u001b[0mfdesc\u001b[0m\u001b[0;34m.\u001b[0m\u001b[0mread\u001b[0m\u001b[0;34m(\u001b[0m\u001b[0;36m4\u001b[0m\u001b[0;34m)\u001b[0m\u001b[0;34m\u001b[0m\u001b[0;34m\u001b[0m\u001b[0m\n\u001b[1;32m   1211\u001b[0m             \u001b[0;32mexcept\u001b[0m \u001b[0mIOError\u001b[0m\u001b[0;34m:\u001b[0m\u001b[0;34m\u001b[0m\u001b[0;34m\u001b[0m\u001b[0m\n\u001b[0;32m-> 1212\u001b[0;31m                 \u001b[0mfdesc\u001b[0m \u001b[0;34m=\u001b[0m \u001b[0mopen\u001b[0m\u001b[0;34m(\u001b[0m\u001b[0mfilename\u001b[0m\u001b[0;34m,\u001b[0m \u001b[0;34m\"rb\"\u001b[0m\u001b[0;34m)\u001b[0m\u001b[0;34m\u001b[0m\u001b[0;34m\u001b[0m\u001b[0m\n\u001b[0m\u001b[1;32m   1213\u001b[0m                 \u001b[0mmagic\u001b[0m \u001b[0;34m=\u001b[0m \u001b[0mfdesc\u001b[0m\u001b[0;34m.\u001b[0m\u001b[0mread\u001b[0m\u001b[0;34m(\u001b[0m\u001b[0;36m4\u001b[0m\u001b[0;34m)\u001b[0m\u001b[0;34m\u001b[0m\u001b[0;34m\u001b[0m\u001b[0m\n\u001b[1;32m   1214\u001b[0m         \u001b[0;32melse\u001b[0m\u001b[0;34m:\u001b[0m\u001b[0;34m\u001b[0m\u001b[0;34m\u001b[0m\u001b[0m\n",
            "\u001b[0;31mFileNotFoundError\u001b[0m: [Errno 2] No such file or directory: '/content/20200425_UOWM_IEC104_Dataset_m_sp_na_1_DoS/20200425_UOWM_IEC104_Dataset_m_sp_na_1_DoS_qtester/20200425_UOWM_IEC104_Dataset_m_sp_na_1_DoS_qtester_iec104_only.pcap'"
          ]
        }
      ],
      "source": [
        "a={}\n",
        "for attack_directory in attacks_directories:\n",
        "  for device_to_read in devices_to_read:\n",
        "    pcap_file = f\"/content/{attack_directory}/{attack_directory}_{device_to_read}/{attack_directory}_{device_to_read}_iec104_only.pcap\"\n",
        "    if device_to_read != 'qtester' and attack_directory == '20200425_UOWM_IEC104_Dataset_m_sp_na_1_DoS':\n",
        "      continue\n",
        "    packets=rdpcap(pcap_file,count=20)\n",
        "    for packet in packets:\n",
        "      a[len(packet[TCP].payload)]= 1\n",
        "MAX_IEC104_PAYLOAD_BYTES = max(a)"
      ]
    },
    {
      "cell_type": "code",
      "execution_count": null,
      "metadata": {
        "id": "ks3zQPckJQ6X"
      },
      "outputs": [],
      "source": [
        "for attack_directory in attacks_directories:\n",
        "  for device_to_read in devices_to_read:\n",
        "    pcap_file = f\"/content/{attack_directory}/{attack_directory}_{device_to_read}/{attack_directory}_{device_to_read}_iec104_only.pcap\"\n",
        "    if device_to_read != 'qtester' and attack_directory == '20200425_UOWM_IEC104_Dataset_m_sp_na_1_DoS':\n",
        "      continue\n",
        "    cmd = f'nprint -P {pcap_file} -t --ipv4 --write_index=4 -A -p {MAX_IEC104_PAYLOAD_BYTES} -W /content/{os.path.basename(pcap_file)}.npt'\n",
        "    !{cmd}"
      ]
    },
    {
      "cell_type": "code",
      "execution_count": null,
      "metadata": {
        "id": "pyqSUEccnJW0"
      },
      "outputs": [],
      "source": [
        "!wc -l /content/20200429_UOWM_IEC104_Dataset_c_sc_na_1_DoS_attacker2_iec104_only.pcap.npt\n",
        "!head /content/20200429_UOWM_IEC104_Dataset_c_sc_na_1_DoS_attacker2_iec104_only.pcap.npt"
      ]
    },
    {
      "cell_type": "code",
      "source": [
        "# datasets=[]\n",
        "# store=pd.HDFStore('iec104_all.h5')\n",
        "# #     for df in dfs:\n",
        "# #\n",
        "# #     #del dfs\n",
        "# #     df=store.select('iec104')\n",
        "# #     store.close()\n",
        "# #     os.remove('iec104_all.h5')\n",
        "# #     return df\n",
        "# for attack_directory in attacks_directories:\n",
        "#   for device_to_read in devices_to_read:\n",
        "#     if device_to_read != 'qtester' and attack_directory == '20200425_UOWM_IEC104_Dataset_m_sp_na_1_DoS':\n",
        "#       continue\n",
        "#     pcap_file = f\"/content/{attack_directory}/{attack_directory}_{device_to_read}/{attack_directory}_{device_to_read}_iec104_only.pcap\"\n",
        "#     # print(device_to_read,attack_directory)\n",
        "#     df = pd.read_csv(f'/content/{os.path.basename(pcap_file)}.npt', index_col=0)\n",
        "#     if device_to_read != 'qtester':\n",
        "#       df['label'] = get_attack_directory_attack(attack_directory)\n",
        "#     else:\n",
        "#       df['label'] = 'normal'\n",
        "#     store.append('iec104',df,data_columns=df.columns)\n",
        "#     # df['flow']=df['flow']\n",
        "#     # print(df.head())\n",
        "#     # datasets.append(df)\n",
        "# store.close()"
      ],
      "metadata": {
        "id": "u3SqA05XXtcm"
      },
      "execution_count": null,
      "outputs": []
    },
    {
      "cell_type": "code",
      "source": [
        "# def hdf_save(dfs):\n",
        "#     store=pd.HDFStore('iec104_all.h5')\n",
        "#     for df in dfs:\n",
        "#         store.append('iec104',df,data_columns=df.columns)\n",
        "#     #del dfs\n",
        "#     df=store.select('iec104')\n",
        "#     store.close()\n",
        "#     os.remove('iec104_all.h5')\n",
        "#     return df\n",
        "# hdf_save(datasets)"
      ],
      "metadata": {
        "id": "JQMnlwP6V8dI"
      },
      "execution_count": null,
      "outputs": []
    },
    {
      "cell_type": "code",
      "source": [
        "# datasets=[]\n",
        "from pathlib import Path\n",
        "\n",
        "for attack_directory in attacks_directories:\n",
        "  dfs=[]\n",
        "  for device_to_read in devices_to_read:\n",
        "    if device_to_read != 'qtester' and attack_directory == '20200425_UOWM_IEC104_Dataset_m_sp_na_1_DoS':\n",
        "      continue\n",
        "    pcap_file = f\"/content/{attack_directory}/{attack_directory}_{device_to_read}/{attack_directory}_{device_to_read}_iec104_only.pcap\"\n",
        "    # print(device_to_read,attack_directory)\n",
        "    df = pd.read_csv(f'/content/{os.path.basename(pcap_file)}.npt', index_col=0)\n",
        "\n",
        "    if device_to_read != 'qtester':\n",
        "      label = get_attack_directory_attack(attack_directory)\n",
        "    else:\n",
        "      label = 'normal'\n",
        "\n",
        "    df['label'] = label\n",
        "    # print(df.columns)\n",
        "    # print(df.index)\n",
        "    # df['flow'] =  df['flow']+'_'+df['label']\n",
        "    df.index = df.index.map(lambda x: x +'_'+ get_attack_directory_attack(attack_directory))\n",
        "    # df['flow']=df['flow']\n",
        "    # print(df.head())\n",
        "    dfs.append(df)\n",
        "  df = pd.concat(dfs)\n",
        "  df.to_parquet(f\"/content/drive/My Drive/IEC104/{attack_directory}.parquet\")"
      ],
      "metadata": {
        "id": "ZTOwsFKoZoxj"
      },
      "execution_count": null,
      "outputs": []
    },
    {
      "cell_type": "code",
      "execution_count": null,
      "metadata": {
        "id": "rwMOH5Pqg9pN"
      },
      "outputs": [],
      "source": [
        "# datasets=[]\n",
        "# for attack_directory in attacks_directories:\n",
        "#   for device_to_read in devices_to_read:\n",
        "#     if device_to_read != 'qtester' and attack_directory == '20200425_UOWM_IEC104_Dataset_m_sp_na_1_DoS':\n",
        "#       continue\n",
        "#     pcap_file = f\"/content/{attack_directory}/{attack_directory}_{device_to_read}/{attack_directory}_{device_to_read}_iec104_only.pcap\"\n",
        "#     # print(device_to_read,attack_directory)\n",
        "#     df = pd.read_csv(f'/content/{os.path.basename(pcap_file)}.npt', index_col=0)\n",
        "#     if device_to_read != 'qtester':\n",
        "#       df['label'] = get_attack_directory_attack(attack_directory)\n",
        "#     else:\n",
        "#       df['label'] = 'normal'\n",
        "#     # df['flow']=df['flow']\n",
        "#     # print(df.head())\n",
        "#     datasets.append(df)"
      ]
    },
    {
      "cell_type": "code",
      "execution_count": null,
      "metadata": {
        "id": "Sy85fxnqiiqR"
      },
      "outputs": [],
      "source": [
        "# # df = pd.concat(datasets)\n",
        "# # df.head(3)\n",
        "# df = pd.DataFrame()  # Initialize an empty DataFrame to store the concatenated data\n",
        "\n",
        "# for dataset in datasets:\n",
        "#     df = pd.concat([df, dataset])\n",
        "#     del dataset  # Delete the original dataset to free up memory"
      ]
    },
    {
      "cell_type": "code",
      "execution_count": null,
      "metadata": {
        "id": "FQbzZ-7BBxHe"
      },
      "outputs": [],
      "source": [
        "# df.shape"
      ]
    },
    {
      "cell_type": "code",
      "execution_count": null,
      "metadata": {
        "id": "AkSRDv0olxwR"
      },
      "outputs": [],
      "source": [
        "# df.to_parquet(\"/content/drive/My Drive/IEC104/iec104.parquet\")"
      ]
    }
  ],
  "metadata": {
    "colab": {
      "provenance": []
    },
    "kernelspec": {
      "display_name": "Python 3",
      "name": "python3"
    },
    "language_info": {
      "name": "python"
    }
  },
  "nbformat": 4,
  "nbformat_minor": 0
}