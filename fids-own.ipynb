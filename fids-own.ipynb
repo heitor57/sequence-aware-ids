{
 "cells": [
  {
   "cell_type": "markdown",
   "metadata": {
    "id": "Bapaz0nWMFKi"
   },
   "source": [
    "# Packages Installs, imports, and presets"
   ]
  },
  {
   "cell_type": "code",
   "execution_count": 256,
   "metadata": {
    "id": "VrkVnQL3LZqc"
   },
   "outputs": [],
   "source": [
    "#from scapy.all import *\n",
    "import pandas as pd\n",
    "#import seaborn as sns\n",
    "import numpy as np\n",
    "import matplotlib.pyplot as plt\n",
    "import matplotlib.ticker as mtick\n",
    "from collections import defaultdict\n",
    "import os\n",
    "from transformers import MobileViTV2Model, MobileViTV2Config\n",
    "import torch\n",
    "import torchmetrics\n",
    "from torch import optim\n",
    "import lightning as L\n",
    "import torch\n",
    "import torch.nn as nn"
   ]
  },
  {
   "cell_type": "code",
   "execution_count": 257,
   "metadata": {},
   "outputs": [
    {
     "data": {
      "text/html": [
       "Finishing last run (ID:l4d6vrry) before initializing another..."
      ],
      "text/plain": [
       "<IPython.core.display.HTML object>"
      ]
     },
     "metadata": {},
     "output_type": "display_data"
    },
    {
     "data": {
      "application/vnd.jupyter.widget-view+json": {
       "model_id": "8965b3cba92d47f79c0bbf1a9ef1bacc",
       "version_major": 2,
       "version_minor": 0
      },
      "text/plain": [
       "VBox(children=(Label(value='0.037 MB of 0.037 MB uploaded\\r'), FloatProgress(value=1.0, max=1.0)))"
      ]
     },
     "metadata": {},
     "output_type": "display_data"
    },
    {
     "data": {
      "text/html": [
       "<style>\n",
       "    table.wandb td:nth-child(1) { padding: 0 10px; text-align: left ; width: auto;} td:nth-child(2) {text-align: left ; width: 100%}\n",
       "    .wandb-row { display: flex; flex-direction: row; flex-wrap: wrap; justify-content: flex-start; width: 100% }\n",
       "    .wandb-col { display: flex; flex-direction: column; flex-basis: 100%; flex: 1; padding: 10px; }\n",
       "    </style>\n",
       "<div class=\"wandb-row\"><div class=\"wandb-col\"><h3>Run history:</h3><br/><table class=\"wandb\"><tr><td>lr-AdamW</td><td>▁</td></tr><tr><td>trainer/global_step</td><td>▁</td></tr></table><br/></div><div class=\"wandb-col\"><h3>Run summary:</h3><br/><table class=\"wandb\"><tr><td>lr-AdamW</td><td>0.0001</td></tr><tr><td>trainer/global_step</td><td>0</td></tr></table><br/></div></div>"
      ],
      "text/plain": [
       "<IPython.core.display.HTML object>"
      ]
     },
     "metadata": {},
     "output_type": "display_data"
    },
    {
     "data": {
      "text/html": [
       " View run <strong style=\"color:#cdcd00\">dainty-armadillo-328</strong> at: <a href='https://wandb.ai/heitor57/lightning_logs/runs/l4d6vrry/workspace' target=\"_blank\">https://wandb.ai/heitor57/lightning_logs/runs/l4d6vrry/workspace</a><br/>Synced 6 W&B file(s), 2 media file(s), 0 artifact file(s) and 0 other file(s)"
      ],
      "text/plain": [
       "<IPython.core.display.HTML object>"
      ]
     },
     "metadata": {},
     "output_type": "display_data"
    },
    {
     "data": {
      "text/html": [
       "Find logs at: <code>./wandb/run-20240604_172630-l4d6vrry/logs</code>"
      ],
      "text/plain": [
       "<IPython.core.display.HTML object>"
      ]
     },
     "metadata": {},
     "output_type": "display_data"
    },
    {
     "data": {
      "text/html": [
       "Successfully finished last run (ID:l4d6vrry). Initializing new run:<br/>"
      ],
      "text/plain": [
       "<IPython.core.display.HTML object>"
      ]
     },
     "metadata": {},
     "output_type": "display_data"
    },
    {
     "data": {
      "application/vnd.jupyter.widget-view+json": {
       "model_id": "2bf8ab716bc04cc8b3e6d96acc774a90",
       "version_major": 2,
       "version_minor": 0
      },
      "text/plain": [
       "VBox(children=(Label(value='Waiting for wandb.init()...\\r'), FloatProgress(value=0.011112710812853442, max=1.0…"
      ]
     },
     "metadata": {},
     "output_type": "display_data"
    },
    {
     "data": {
      "text/html": [
       "wandb version 0.17.0 is available!  To upgrade, please run:\n",
       " $ pip install wandb --upgrade"
      ],
      "text/plain": [
       "<IPython.core.display.HTML object>"
      ]
     },
     "metadata": {},
     "output_type": "display_data"
    },
    {
     "data": {
      "text/html": [
       "Tracking run with wandb version 0.16.5"
      ],
      "text/plain": [
       "<IPython.core.display.HTML object>"
      ]
     },
     "metadata": {},
     "output_type": "display_data"
    },
    {
     "data": {
      "text/html": [
       "Run data is saved locally in <code>/home/hwerneck/fast-ids/wandb/run-20240604_172900-6kz65w2h</code>"
      ],
      "text/plain": [
       "<IPython.core.display.HTML object>"
      ]
     },
     "metadata": {},
     "output_type": "display_data"
    },
    {
     "data": {
      "text/html": [
       "Syncing run <strong><a href='https://wandb.ai/heitor57/fast-ids/runs/6kz65w2h/workspace' target=\"_blank\">comfy-elevator-127</a></strong> to <a href='https://wandb.ai/heitor57/fast-ids' target=\"_blank\">Weights & Biases</a> (<a href='https://wandb.me/run' target=\"_blank\">docs</a>)<br/>"
      ],
      "text/plain": [
       "<IPython.core.display.HTML object>"
      ]
     },
     "metadata": {},
     "output_type": "display_data"
    },
    {
     "data": {
      "text/html": [
       " View project at <a href='https://wandb.ai/heitor57/fast-ids' target=\"_blank\">https://wandb.ai/heitor57/fast-ids</a>"
      ],
      "text/plain": [
       "<IPython.core.display.HTML object>"
      ]
     },
     "metadata": {},
     "output_type": "display_data"
    },
    {
     "data": {
      "text/html": [
       " View run at <a href='https://wandb.ai/heitor57/fast-ids/runs/6kz65w2h/workspace' target=\"_blank\">https://wandb.ai/heitor57/fast-ids/runs/6kz65w2h/workspace</a>"
      ],
      "text/plain": [
       "<IPython.core.display.HTML object>"
      ]
     },
     "metadata": {},
     "output_type": "display_data"
    },
    {
     "data": {
      "text/html": [
       "<button onClick=\"this.nextSibling.style.display='block';this.style.display='none';\">Display W&B run</button><iframe src='https://wandb.ai/heitor57/fast-ids/runs/6kz65w2h?jupyter=true' style='border:none;width:100%;height:420px;display:none;'></iframe>"
      ],
      "text/plain": [
       "<wandb.sdk.wandb_run.Run at 0x7f3d268a0830>"
      ]
     },
     "execution_count": 257,
     "metadata": {},
     "output_type": "execute_result"
    }
   ],
   "source": [
    "from lightning.pytorch.loggers import WandbLogger\n",
    "import wandb\n",
    "wandb.init() "
   ]
  },
  {
   "cell_type": "code",
   "execution_count": 258,
   "metadata": {
    "id": "YWqcSOG3-lc9"
   },
   "outputs": [],
   "source": [
    "INPUT_SIZE = (256,256,3)"
   ]
  },
  {
   "cell_type": "markdown",
   "metadata": {
    "id": "Cn2EQ-Nn9_tV"
   },
   "source": [
    "# Feature engineering and Loading"
   ]
  },
  {
   "cell_type": "code",
   "execution_count": 259,
   "metadata": {},
   "outputs": [],
   "source": [
    "TIMEOUT = 30"
   ]
  },
  {
   "cell_type": "code",
   "execution_count": 260,
   "metadata": {},
   "outputs": [],
   "source": [
    "df_train= pd.read_parquet(f'data/iec104_train_{TIMEOUT}.parquet')\n",
    "df_validation = pd.read_parquet(f'data/iec104_validation_{TIMEOUT}.parquet')\n",
    "df_test=pd.read_parquet(f'data/iec104_test_{TIMEOUT}.parquet')"
   ]
  },
  {
   "cell_type": "code",
   "execution_count": 261,
   "metadata": {},
   "outputs": [
    {
     "name": "stdout",
     "output_type": "stream",
     "text": [
      "train, validation,test (shape): (383703, 30) (32635, 30) (108734, 30)\n",
      "train, validation,test (number of flows): 9757 1085 2711\n"
     ]
    }
   ],
   "source": [
    "\n",
    "print('train, validation,test (shape):',df_train.shape,df_validation.shape,df_test.shape)\n",
    "print('train, validation,test (number of flows):',df_train.index.nunique(),df_validation.index.nunique(),df_test.index.nunique())"
   ]
  },
  {
   "cell_type": "code",
   "execution_count": 262,
   "metadata": {},
   "outputs": [],
   "source": [
    "def encode_time(df):\n",
    "    df['time'] = pd.to_datetime(df['time'], unit='s')\n",
    "    df['hour'] = df['time'].dt.hour\n",
    "    df['minute'] = df['time'].dt.minute\n",
    "    df['second'] = df['time'].dt.second\n",
    "\n",
    "    df['hour_sin'] = np.sin(2 * np.pi * df['hour'] / 24)\n",
    "    df['hour_cos'] = np.cos(2 * np.pi * df['hour'] / 24)\n",
    "\n",
    "    # Encode minute cyclically\n",
    "    df['minute_sin'] = np.sin(2 * np.pi * df['minute'] / 60)\n",
    "    df['minute_cos'] = np.cos(2 * np.pi * df['minute'] / 60)\n",
    "\n",
    "    # Encode second cyclically\n",
    "    df['second_sin'] = np.sin(2 * np.pi * df['second'] / 60)\n",
    "    df['second_cos'] = np.cos(2 * np.pi * df['second'] / 60)\n",
    "    df.drop('time',axis=1,inplace=True)\n",
    "encode_time(df_train)\n",
    "encode_time(df_validation)\n",
    "encode_time(df_test)"
   ]
  },
  {
   "cell_type": "code",
   "execution_count": 263,
   "metadata": {},
   "outputs": [],
   "source": [
    "from feature_engine.encoding import OrdinalEncoder\n",
    "od = OrdinalEncoder(encoding_method='arbitrary')\n",
    "\n",
    "feats=['ip_flags','ip_src','ip_dst','tcp_flags','label','tcp_sport', 'tcp_dport']\n",
    "\n",
    "od.fit(df_train[feats])\n",
    "df_train[feats] = od.transform(df_train[feats])\n",
    "df_validation[feats] = od.transform(df_validation[feats])\n",
    "df_test[feats] = od.transform(df_test[feats])"
   ]
  },
  {
   "cell_type": "code",
   "execution_count": 264,
   "metadata": {},
   "outputs": [
    {
     "name": "stdout",
     "output_type": "stream",
     "text": [
      "Index(['ip_version', 'ip_ihl', 'ip_tos', 'ip_flags', 'ip_frag', 'ip_proto',\n",
      "       'ip_options', 'tcp_reserved', 'tcp_flags', 'tcp_urgptr'],\n",
      "      dtype='object')\n"
     ]
    }
   ],
   "source": [
    "cols_to_drop = df_train.columns[df_train.nunique() == 1]\n",
    "print(cols_to_drop)\n",
    "# Drop these columns from the DataFrame\n",
    "df_train = df_train.drop(cols_to_drop, axis=1)\n",
    "df_validation = df_validation.drop(cols_to_drop, axis=1)\n",
    "df_test = df_test.drop(cols_to_drop, axis=1)"
   ]
  },
  {
   "cell_type": "code",
   "execution_count": 265,
   "metadata": {},
   "outputs": [
    {
     "data": {
      "text/plain": [
       "Index(['packet_number', 'ip_len', 'ip_id', 'ip_ttl', 'ip_chksum', 'ip_src',\n",
       "       'ip_dst', 'tcp_sport', 'tcp_dport', 'tcp_seq', 'tcp_ack', 'tcp_dataofs',\n",
       "       'tcp_window', 'tcp_chksum', 'tcp_options', 'size', 'payload',\n",
       "       'payload_raw', 'label', 'hour', 'minute', 'second', 'hour_sin',\n",
       "       'hour_cos', 'minute_sin', 'minute_cos', 'second_sin', 'second_cos'],\n",
       "      dtype='object')"
      ]
     },
     "execution_count": 265,
     "metadata": {},
     "output_type": "execute_result"
    }
   ],
   "source": [
    "df_train.columns"
   ]
  },
  {
   "cell_type": "code",
   "execution_count": 266,
   "metadata": {},
   "outputs": [],
   "source": [
    "from feature_engine.wrappers import SklearnTransformerWrapper\n",
    "from sklearn.preprocessing import MinMaxScaler,StandardScaler\n",
    "numeric_features = [\n",
    "    'ip_len', 'ip_id', 'ip_ttl', 'ip_chksum',  'tcp_seq', 'tcp_ack',\n",
    "    'tcp_dataofs', 'tcp_window', 'tcp_chksum', 'size'\n",
    "]\n",
    "\n",
    "# Initialize MinMaxScaler\n",
    "# scaler = SklearnTransformerWrapper(StandardScaler())\n",
    "# scaler.fit(df_train[numeric_features])\n",
    "# # Fit and transform the DataFrame\n",
    "# df_train[numeric_features] = scaler.transform(df_train[numeric_features])\n",
    "# df_test[numeric_features] = scaler.transform(df_test[numeric_features])\n",
    "# df_validation[numeric_features] = scaler.transform(df_validation[numeric_features])"
   ]
  },
  {
   "cell_type": "code",
   "execution_count": 267,
   "metadata": {},
   "outputs": [],
   "source": [
    "# def reset_indexes(df):\n",
    "#     return df.reset_index('packet_number',inplace=True)\n",
    "# reset_indexes(df_train)\n",
    "# reset_indexes(df_test)\n",
    "# reset_indexes(df_validation)"
   ]
  },
  {
   "cell_type": "code",
   "execution_count": 268,
   "metadata": {},
   "outputs": [
    {
     "data": {
      "text/plain": [
       "(383703, 28)"
      ]
     },
     "execution_count": 268,
     "metadata": {},
     "output_type": "execute_result"
    }
   ],
   "source": [
    "df_train.shape"
   ]
  },
  {
   "cell_type": "code",
   "execution_count": 269,
   "metadata": {},
   "outputs": [],
   "source": [
    "# df_train[df_train.dtypes=='object']"
   ]
  },
  {
   "cell_type": "code",
   "execution_count": 270,
   "metadata": {},
   "outputs": [
    {
     "data": {
      "text/plain": [
       "label\n",
       "1     160434\n",
       "0     138093\n",
       "9      14507\n",
       "8      14489\n",
       "11     11878\n",
       "6       8424\n",
       "10      7732\n",
       "5       7585\n",
       "7       6685\n",
       "3       5113\n",
       "4       4776\n",
       "2       3987\n",
       "Name: count, dtype: int64"
      ]
     },
     "metadata": {},
     "output_type": "display_data"
    },
    {
     "data": {
      "text/plain": [
       "label\n",
       "1     13933\n",
       "0      8811\n",
       "8      1611\n",
       "9      1450\n",
       "11     1211\n",
       "10     1165\n",
       "6       967\n",
       "5       847\n",
       "4       739\n",
       "7       695\n",
       "2       629\n",
       "3       577\n",
       "Name: count, dtype: int64"
      ]
     },
     "metadata": {},
     "output_type": "display_data"
    },
    {
     "data": {
      "text/plain": [
       "label\n",
       "1     58283\n",
       "0     26311\n",
       "8      4162\n",
       "9      3939\n",
       "11     3405\n",
       "6      2276\n",
       "5      2056\n",
       "10     1950\n",
       "7      1926\n",
       "4      1679\n",
       "2      1410\n",
       "3      1337\n",
       "Name: count, dtype: int64"
      ]
     },
     "metadata": {},
     "output_type": "display_data"
    }
   ],
   "source": [
    "display(df_train['label'].value_counts())\n",
    "display(df_validation['label'].value_counts())\n",
    "display(df_test['label'].value_counts())"
   ]
  },
  {
   "cell_type": "code",
   "execution_count": 271,
   "metadata": {},
   "outputs": [
    {
     "data": {
      "text/html": [
       "<div>\n",
       "<style scoped>\n",
       "    .dataframe tbody tr th:only-of-type {\n",
       "        vertical-align: middle;\n",
       "    }\n",
       "\n",
       "    .dataframe tbody tr th {\n",
       "        vertical-align: top;\n",
       "    }\n",
       "\n",
       "    .dataframe thead th {\n",
       "        text-align: right;\n",
       "    }\n",
       "</style>\n",
       "<table border=\"1\" class=\"dataframe\">\n",
       "  <thead>\n",
       "    <tr style=\"text-align: right;\">\n",
       "      <th></th>\n",
       "      <th>packet_number</th>\n",
       "      <th>ip_len</th>\n",
       "      <th>ip_id</th>\n",
       "      <th>ip_ttl</th>\n",
       "      <th>ip_chksum</th>\n",
       "      <th>ip_src</th>\n",
       "      <th>ip_dst</th>\n",
       "      <th>tcp_sport</th>\n",
       "      <th>tcp_dport</th>\n",
       "      <th>tcp_seq</th>\n",
       "      <th>...</th>\n",
       "      <th>label</th>\n",
       "      <th>hour</th>\n",
       "      <th>minute</th>\n",
       "      <th>second</th>\n",
       "      <th>hour_sin</th>\n",
       "      <th>hour_cos</th>\n",
       "      <th>minute_sin</th>\n",
       "      <th>minute_cos</th>\n",
       "      <th>second_sin</th>\n",
       "      <th>second_cos</th>\n",
       "    </tr>\n",
       "    <tr>\n",
       "      <th>flow</th>\n",
       "      <th></th>\n",
       "      <th></th>\n",
       "      <th></th>\n",
       "      <th></th>\n",
       "      <th></th>\n",
       "      <th></th>\n",
       "      <th></th>\n",
       "      <th></th>\n",
       "      <th></th>\n",
       "      <th></th>\n",
       "      <th></th>\n",
       "      <th></th>\n",
       "      <th></th>\n",
       "      <th></th>\n",
       "      <th></th>\n",
       "      <th></th>\n",
       "      <th></th>\n",
       "      <th></th>\n",
       "      <th></th>\n",
       "      <th></th>\n",
       "      <th></th>\n",
       "    </tr>\n",
       "  </thead>\n",
       "  <tbody>\n",
       "    <tr>\n",
       "      <th>[1, '192.168.1.19', '192.168.1.29', 2404, 44581, 'TCP', 'c_se_na_1_DoS']</th>\n",
       "      <td>0</td>\n",
       "      <td>58</td>\n",
       "      <td>22237</td>\n",
       "      <td>64</td>\n",
       "      <td>24672</td>\n",
       "      <td>0</td>\n",
       "      <td>0</td>\n",
       "      <td>44581</td>\n",
       "      <td>2404</td>\n",
       "      <td>2021378529</td>\n",
       "      <td>...</td>\n",
       "      <td>10</td>\n",
       "      <td>9</td>\n",
       "      <td>51</td>\n",
       "      <td>28</td>\n",
       "      <td>0.707107</td>\n",
       "      <td>-0.707107</td>\n",
       "      <td>-0.809017</td>\n",
       "      <td>0.587785</td>\n",
       "      <td>0.207912</td>\n",
       "      <td>-0.978148</td>\n",
       "    </tr>\n",
       "    <tr>\n",
       "      <th>[1, '192.168.1.19', '192.168.1.29', 2404, 44581, 'TCP', 'c_se_na_1_DoS']</th>\n",
       "      <td>1</td>\n",
       "      <td>58</td>\n",
       "      <td>5610</td>\n",
       "      <td>128</td>\n",
       "      <td>24915</td>\n",
       "      <td>1</td>\n",
       "      <td>1</td>\n",
       "      <td>2404</td>\n",
       "      <td>44581</td>\n",
       "      <td>3064358417</td>\n",
       "      <td>...</td>\n",
       "      <td>10</td>\n",
       "      <td>9</td>\n",
       "      <td>51</td>\n",
       "      <td>28</td>\n",
       "      <td>0.707107</td>\n",
       "      <td>-0.707107</td>\n",
       "      <td>-0.809017</td>\n",
       "      <td>0.587785</td>\n",
       "      <td>0.207912</td>\n",
       "      <td>-0.978148</td>\n",
       "    </tr>\n",
       "    <tr>\n",
       "      <th>[1, '192.168.1.19', '192.168.1.29', 2404, 44581, 'TCP', 'c_se_na_1_DoS']</th>\n",
       "      <td>2</td>\n",
       "      <td>68</td>\n",
       "      <td>5613</td>\n",
       "      <td>128</td>\n",
       "      <td>24902</td>\n",
       "      <td>1</td>\n",
       "      <td>1</td>\n",
       "      <td>2404</td>\n",
       "      <td>44581</td>\n",
       "      <td>3064358423</td>\n",
       "      <td>...</td>\n",
       "      <td>10</td>\n",
       "      <td>9</td>\n",
       "      <td>51</td>\n",
       "      <td>31</td>\n",
       "      <td>0.707107</td>\n",
       "      <td>-0.707107</td>\n",
       "      <td>-0.809017</td>\n",
       "      <td>0.587785</td>\n",
       "      <td>-0.104528</td>\n",
       "      <td>-0.994522</td>\n",
       "    </tr>\n",
       "    <tr>\n",
       "      <th>[1, '192.168.1.19', '192.168.1.29', 2404, 44581, 'TCP', 'c_se_na_1_DoS']</th>\n",
       "      <td>3</td>\n",
       "      <td>68</td>\n",
       "      <td>22240</td>\n",
       "      <td>64</td>\n",
       "      <td>24659</td>\n",
       "      <td>0</td>\n",
       "      <td>0</td>\n",
       "      <td>44581</td>\n",
       "      <td>2404</td>\n",
       "      <td>2021378535</td>\n",
       "      <td>...</td>\n",
       "      <td>10</td>\n",
       "      <td>9</td>\n",
       "      <td>51</td>\n",
       "      <td>41</td>\n",
       "      <td>0.707107</td>\n",
       "      <td>-0.707107</td>\n",
       "      <td>-0.809017</td>\n",
       "      <td>0.587785</td>\n",
       "      <td>-0.913545</td>\n",
       "      <td>-0.406737</td>\n",
       "    </tr>\n",
       "    <tr>\n",
       "      <th>[1, '192.168.1.19', '192.168.1.29', 2404, 44581, 'TCP', 'c_se_na_1_DoS']</th>\n",
       "      <td>4</td>\n",
       "      <td>70</td>\n",
       "      <td>5620</td>\n",
       "      <td>128</td>\n",
       "      <td>24893</td>\n",
       "      <td>1</td>\n",
       "      <td>1</td>\n",
       "      <td>2404</td>\n",
       "      <td>44581</td>\n",
       "      <td>3064358439</td>\n",
       "      <td>...</td>\n",
       "      <td>10</td>\n",
       "      <td>9</td>\n",
       "      <td>51</td>\n",
       "      <td>41</td>\n",
       "      <td>0.707107</td>\n",
       "      <td>-0.707107</td>\n",
       "      <td>-0.809017</td>\n",
       "      <td>0.587785</td>\n",
       "      <td>-0.913545</td>\n",
       "      <td>-0.406737</td>\n",
       "    </tr>\n",
       "    <tr>\n",
       "      <th>...</th>\n",
       "      <td>...</td>\n",
       "      <td>...</td>\n",
       "      <td>...</td>\n",
       "      <td>...</td>\n",
       "      <td>...</td>\n",
       "      <td>...</td>\n",
       "      <td>...</td>\n",
       "      <td>...</td>\n",
       "      <td>...</td>\n",
       "      <td>...</td>\n",
       "      <td>...</td>\n",
       "      <td>...</td>\n",
       "      <td>...</td>\n",
       "      <td>...</td>\n",
       "      <td>...</td>\n",
       "      <td>...</td>\n",
       "      <td>...</td>\n",
       "      <td>...</td>\n",
       "      <td>...</td>\n",
       "      <td>...</td>\n",
       "      <td>...</td>\n",
       "    </tr>\n",
       "    <tr>\n",
       "      <th>[1, '192.168.1.21', '192.168.1.28', 2404, 34187, 'TCP', 'c_rp_na_1_DoS']</th>\n",
       "      <td>5</td>\n",
       "      <td>68</td>\n",
       "      <td>11813</td>\n",
       "      <td>64</td>\n",
       "      <td>35085</td>\n",
       "      <td>5</td>\n",
       "      <td>8</td>\n",
       "      <td>34187</td>\n",
       "      <td>2404</td>\n",
       "      <td>3523926085</td>\n",
       "      <td>...</td>\n",
       "      <td>9</td>\n",
       "      <td>17</td>\n",
       "      <td>42</td>\n",
       "      <td>10</td>\n",
       "      <td>-0.965926</td>\n",
       "      <td>-0.258819</td>\n",
       "      <td>-0.951057</td>\n",
       "      <td>-0.309017</td>\n",
       "      <td>0.866025</td>\n",
       "      <td>0.500000</td>\n",
       "    </tr>\n",
       "    <tr>\n",
       "      <th>[1, '192.168.1.21', '192.168.1.28', 2404, 34187, 'TCP', 'c_rp_na_1_DoS']</th>\n",
       "      <td>6</td>\n",
       "      <td>67</td>\n",
       "      <td>29917</td>\n",
       "      <td>128</td>\n",
       "      <td>598</td>\n",
       "      <td>8</td>\n",
       "      <td>6</td>\n",
       "      <td>2404</td>\n",
       "      <td>34187</td>\n",
       "      <td>1743562132</td>\n",
       "      <td>...</td>\n",
       "      <td>9</td>\n",
       "      <td>17</td>\n",
       "      <td>42</td>\n",
       "      <td>10</td>\n",
       "      <td>-0.965926</td>\n",
       "      <td>-0.258819</td>\n",
       "      <td>-0.951057</td>\n",
       "      <td>-0.309017</td>\n",
       "      <td>0.866025</td>\n",
       "      <td>0.500000</td>\n",
       "    </tr>\n",
       "    <tr>\n",
       "      <th>[1, '192.168.1.21', '192.168.1.28', 2404, 34187, 'TCP', 'c_rp_na_1_DoS']</th>\n",
       "      <td>7</td>\n",
       "      <td>58</td>\n",
       "      <td>11815</td>\n",
       "      <td>64</td>\n",
       "      <td>35093</td>\n",
       "      <td>5</td>\n",
       "      <td>8</td>\n",
       "      <td>34187</td>\n",
       "      <td>2404</td>\n",
       "      <td>3523926101</td>\n",
       "      <td>...</td>\n",
       "      <td>9</td>\n",
       "      <td>17</td>\n",
       "      <td>42</td>\n",
       "      <td>20</td>\n",
       "      <td>-0.965926</td>\n",
       "      <td>-0.258819</td>\n",
       "      <td>-0.951057</td>\n",
       "      <td>-0.309017</td>\n",
       "      <td>0.866025</td>\n",
       "      <td>-0.500000</td>\n",
       "    </tr>\n",
       "    <tr>\n",
       "      <th>[1, '192.168.1.21', '192.168.1.28', 2404, 34187, 'TCP', 'c_rp_na_1_DoS']</th>\n",
       "      <td>8</td>\n",
       "      <td>58</td>\n",
       "      <td>29936</td>\n",
       "      <td>128</td>\n",
       "      <td>588</td>\n",
       "      <td>8</td>\n",
       "      <td>6</td>\n",
       "      <td>2404</td>\n",
       "      <td>34187</td>\n",
       "      <td>1743562147</td>\n",
       "      <td>...</td>\n",
       "      <td>9</td>\n",
       "      <td>17</td>\n",
       "      <td>42</td>\n",
       "      <td>20</td>\n",
       "      <td>-0.965926</td>\n",
       "      <td>-0.258819</td>\n",
       "      <td>-0.951057</td>\n",
       "      <td>-0.309017</td>\n",
       "      <td>0.866025</td>\n",
       "      <td>-0.500000</td>\n",
       "    </tr>\n",
       "    <tr>\n",
       "      <th>[1, '192.168.1.21', '192.168.1.28', 2404, 34187, 'TCP', 'c_rp_na_1_DoS']</th>\n",
       "      <td>9</td>\n",
       "      <td>58</td>\n",
       "      <td>29948</td>\n",
       "      <td>128</td>\n",
       "      <td>576</td>\n",
       "      <td>8</td>\n",
       "      <td>6</td>\n",
       "      <td>2404</td>\n",
       "      <td>34187</td>\n",
       "      <td>1743562153</td>\n",
       "      <td>...</td>\n",
       "      <td>9</td>\n",
       "      <td>17</td>\n",
       "      <td>42</td>\n",
       "      <td>20</td>\n",
       "      <td>-0.965926</td>\n",
       "      <td>-0.258819</td>\n",
       "      <td>-0.951057</td>\n",
       "      <td>-0.309017</td>\n",
       "      <td>0.866025</td>\n",
       "      <td>-0.500000</td>\n",
       "    </tr>\n",
       "  </tbody>\n",
       "</table>\n",
       "<p>383703 rows × 28 columns</p>\n",
       "</div>"
      ],
      "text/plain": [
       "                                                    packet_number  ip_len  \\\n",
       "flow                                                                        \n",
       "[1, '192.168.1.19', '192.168.1.29', 2404, 44581...              0      58   \n",
       "[1, '192.168.1.19', '192.168.1.29', 2404, 44581...              1      58   \n",
       "[1, '192.168.1.19', '192.168.1.29', 2404, 44581...              2      68   \n",
       "[1, '192.168.1.19', '192.168.1.29', 2404, 44581...              3      68   \n",
       "[1, '192.168.1.19', '192.168.1.29', 2404, 44581...              4      70   \n",
       "...                                                           ...     ...   \n",
       "[1, '192.168.1.21', '192.168.1.28', 2404, 34187...              5      68   \n",
       "[1, '192.168.1.21', '192.168.1.28', 2404, 34187...              6      67   \n",
       "[1, '192.168.1.21', '192.168.1.28', 2404, 34187...              7      58   \n",
       "[1, '192.168.1.21', '192.168.1.28', 2404, 34187...              8      58   \n",
       "[1, '192.168.1.21', '192.168.1.28', 2404, 34187...              9      58   \n",
       "\n",
       "                                                    ip_id  ip_ttl  ip_chksum  \\\n",
       "flow                                                                           \n",
       "[1, '192.168.1.19', '192.168.1.29', 2404, 44581...  22237      64      24672   \n",
       "[1, '192.168.1.19', '192.168.1.29', 2404, 44581...   5610     128      24915   \n",
       "[1, '192.168.1.19', '192.168.1.29', 2404, 44581...   5613     128      24902   \n",
       "[1, '192.168.1.19', '192.168.1.29', 2404, 44581...  22240      64      24659   \n",
       "[1, '192.168.1.19', '192.168.1.29', 2404, 44581...   5620     128      24893   \n",
       "...                                                   ...     ...        ...   \n",
       "[1, '192.168.1.21', '192.168.1.28', 2404, 34187...  11813      64      35085   \n",
       "[1, '192.168.1.21', '192.168.1.28', 2404, 34187...  29917     128        598   \n",
       "[1, '192.168.1.21', '192.168.1.28', 2404, 34187...  11815      64      35093   \n",
       "[1, '192.168.1.21', '192.168.1.28', 2404, 34187...  29936     128        588   \n",
       "[1, '192.168.1.21', '192.168.1.28', 2404, 34187...  29948     128        576   \n",
       "\n",
       "                                                    ip_src  ip_dst  tcp_sport  \\\n",
       "flow                                                                            \n",
       "[1, '192.168.1.19', '192.168.1.29', 2404, 44581...       0       0      44581   \n",
       "[1, '192.168.1.19', '192.168.1.29', 2404, 44581...       1       1       2404   \n",
       "[1, '192.168.1.19', '192.168.1.29', 2404, 44581...       1       1       2404   \n",
       "[1, '192.168.1.19', '192.168.1.29', 2404, 44581...       0       0      44581   \n",
       "[1, '192.168.1.19', '192.168.1.29', 2404, 44581...       1       1       2404   \n",
       "...                                                    ...     ...        ...   \n",
       "[1, '192.168.1.21', '192.168.1.28', 2404, 34187...       5       8      34187   \n",
       "[1, '192.168.1.21', '192.168.1.28', 2404, 34187...       8       6       2404   \n",
       "[1, '192.168.1.21', '192.168.1.28', 2404, 34187...       5       8      34187   \n",
       "[1, '192.168.1.21', '192.168.1.28', 2404, 34187...       8       6       2404   \n",
       "[1, '192.168.1.21', '192.168.1.28', 2404, 34187...       8       6       2404   \n",
       "\n",
       "                                                    tcp_dport     tcp_seq  \\\n",
       "flow                                                                        \n",
       "[1, '192.168.1.19', '192.168.1.29', 2404, 44581...       2404  2021378529   \n",
       "[1, '192.168.1.19', '192.168.1.29', 2404, 44581...      44581  3064358417   \n",
       "[1, '192.168.1.19', '192.168.1.29', 2404, 44581...      44581  3064358423   \n",
       "[1, '192.168.1.19', '192.168.1.29', 2404, 44581...       2404  2021378535   \n",
       "[1, '192.168.1.19', '192.168.1.29', 2404, 44581...      44581  3064358439   \n",
       "...                                                       ...         ...   \n",
       "[1, '192.168.1.21', '192.168.1.28', 2404, 34187...       2404  3523926085   \n",
       "[1, '192.168.1.21', '192.168.1.28', 2404, 34187...      34187  1743562132   \n",
       "[1, '192.168.1.21', '192.168.1.28', 2404, 34187...       2404  3523926101   \n",
       "[1, '192.168.1.21', '192.168.1.28', 2404, 34187...      34187  1743562147   \n",
       "[1, '192.168.1.21', '192.168.1.28', 2404, 34187...      34187  1743562153   \n",
       "\n",
       "                                                    ...  label  hour  minute  \\\n",
       "flow                                                ...                        \n",
       "[1, '192.168.1.19', '192.168.1.29', 2404, 44581...  ...     10     9      51   \n",
       "[1, '192.168.1.19', '192.168.1.29', 2404, 44581...  ...     10     9      51   \n",
       "[1, '192.168.1.19', '192.168.1.29', 2404, 44581...  ...     10     9      51   \n",
       "[1, '192.168.1.19', '192.168.1.29', 2404, 44581...  ...     10     9      51   \n",
       "[1, '192.168.1.19', '192.168.1.29', 2404, 44581...  ...     10     9      51   \n",
       "...                                                 ...    ...   ...     ...   \n",
       "[1, '192.168.1.21', '192.168.1.28', 2404, 34187...  ...      9    17      42   \n",
       "[1, '192.168.1.21', '192.168.1.28', 2404, 34187...  ...      9    17      42   \n",
       "[1, '192.168.1.21', '192.168.1.28', 2404, 34187...  ...      9    17      42   \n",
       "[1, '192.168.1.21', '192.168.1.28', 2404, 34187...  ...      9    17      42   \n",
       "[1, '192.168.1.21', '192.168.1.28', 2404, 34187...  ...      9    17      42   \n",
       "\n",
       "                                                    second  hour_sin  \\\n",
       "flow                                                                   \n",
       "[1, '192.168.1.19', '192.168.1.29', 2404, 44581...      28  0.707107   \n",
       "[1, '192.168.1.19', '192.168.1.29', 2404, 44581...      28  0.707107   \n",
       "[1, '192.168.1.19', '192.168.1.29', 2404, 44581...      31  0.707107   \n",
       "[1, '192.168.1.19', '192.168.1.29', 2404, 44581...      41  0.707107   \n",
       "[1, '192.168.1.19', '192.168.1.29', 2404, 44581...      41  0.707107   \n",
       "...                                                    ...       ...   \n",
       "[1, '192.168.1.21', '192.168.1.28', 2404, 34187...      10 -0.965926   \n",
       "[1, '192.168.1.21', '192.168.1.28', 2404, 34187...      10 -0.965926   \n",
       "[1, '192.168.1.21', '192.168.1.28', 2404, 34187...      20 -0.965926   \n",
       "[1, '192.168.1.21', '192.168.1.28', 2404, 34187...      20 -0.965926   \n",
       "[1, '192.168.1.21', '192.168.1.28', 2404, 34187...      20 -0.965926   \n",
       "\n",
       "                                                    hour_cos  minute_sin  \\\n",
       "flow                                                                       \n",
       "[1, '192.168.1.19', '192.168.1.29', 2404, 44581... -0.707107   -0.809017   \n",
       "[1, '192.168.1.19', '192.168.1.29', 2404, 44581... -0.707107   -0.809017   \n",
       "[1, '192.168.1.19', '192.168.1.29', 2404, 44581... -0.707107   -0.809017   \n",
       "[1, '192.168.1.19', '192.168.1.29', 2404, 44581... -0.707107   -0.809017   \n",
       "[1, '192.168.1.19', '192.168.1.29', 2404, 44581... -0.707107   -0.809017   \n",
       "...                                                      ...         ...   \n",
       "[1, '192.168.1.21', '192.168.1.28', 2404, 34187... -0.258819   -0.951057   \n",
       "[1, '192.168.1.21', '192.168.1.28', 2404, 34187... -0.258819   -0.951057   \n",
       "[1, '192.168.1.21', '192.168.1.28', 2404, 34187... -0.258819   -0.951057   \n",
       "[1, '192.168.1.21', '192.168.1.28', 2404, 34187... -0.258819   -0.951057   \n",
       "[1, '192.168.1.21', '192.168.1.28', 2404, 34187... -0.258819   -0.951057   \n",
       "\n",
       "                                                   minute_cos  second_sin  \\\n",
       "flow                                                                        \n",
       "[1, '192.168.1.19', '192.168.1.29', 2404, 44581...   0.587785    0.207912   \n",
       "[1, '192.168.1.19', '192.168.1.29', 2404, 44581...   0.587785    0.207912   \n",
       "[1, '192.168.1.19', '192.168.1.29', 2404, 44581...   0.587785   -0.104528   \n",
       "[1, '192.168.1.19', '192.168.1.29', 2404, 44581...   0.587785   -0.913545   \n",
       "[1, '192.168.1.19', '192.168.1.29', 2404, 44581...   0.587785   -0.913545   \n",
       "...                                                       ...         ...   \n",
       "[1, '192.168.1.21', '192.168.1.28', 2404, 34187...  -0.309017    0.866025   \n",
       "[1, '192.168.1.21', '192.168.1.28', 2404, 34187...  -0.309017    0.866025   \n",
       "[1, '192.168.1.21', '192.168.1.28', 2404, 34187...  -0.309017    0.866025   \n",
       "[1, '192.168.1.21', '192.168.1.28', 2404, 34187...  -0.309017    0.866025   \n",
       "[1, '192.168.1.21', '192.168.1.28', 2404, 34187...  -0.309017    0.866025   \n",
       "\n",
       "                                                    second_cos  \n",
       "flow                                                            \n",
       "[1, '192.168.1.19', '192.168.1.29', 2404, 44581...   -0.978148  \n",
       "[1, '192.168.1.19', '192.168.1.29', 2404, 44581...   -0.978148  \n",
       "[1, '192.168.1.19', '192.168.1.29', 2404, 44581...   -0.994522  \n",
       "[1, '192.168.1.19', '192.168.1.29', 2404, 44581...   -0.406737  \n",
       "[1, '192.168.1.19', '192.168.1.29', 2404, 44581...   -0.406737  \n",
       "...                                                        ...  \n",
       "[1, '192.168.1.21', '192.168.1.28', 2404, 34187...    0.500000  \n",
       "[1, '192.168.1.21', '192.168.1.28', 2404, 34187...    0.500000  \n",
       "[1, '192.168.1.21', '192.168.1.28', 2404, 34187...   -0.500000  \n",
       "[1, '192.168.1.21', '192.168.1.28', 2404, 34187...   -0.500000  \n",
       "[1, '192.168.1.21', '192.168.1.28', 2404, 34187...   -0.500000  \n",
       "\n",
       "[383703 rows x 28 columns]"
      ]
     },
     "execution_count": 271,
     "metadata": {},
     "output_type": "execute_result"
    }
   ],
   "source": [
    "df_train"
   ]
  },
  {
   "cell_type": "code",
   "execution_count": 272,
   "metadata": {},
   "outputs": [
    {
     "data": {
      "text/plain": [
       "ip_id\n",
       "2        0.000615\n",
       "3        0.000717\n",
       "4        0.000820\n",
       "5        0.000922\n",
       "6        0.004612\n",
       "           ...   \n",
       "8808     0.999590\n",
       "9579     0.999693\n",
       "25497    0.999795\n",
       "25537    0.999898\n",
       "27265    1.000000\n",
       "Name: count, Length: 111, dtype: float64"
      ]
     },
     "metadata": {},
     "output_type": "display_data"
    }
   ],
   "source": [
    "tmp=df_train.groupby('flow')['ip_id'].count().value_counts()\n",
    "tmp=tmp.sort_index().cumsum()\n",
    "tmp = tmp/tmp.max()\n",
    "display(tmp)"
   ]
  },
  {
   "cell_type": "code",
   "execution_count": 273,
   "metadata": {},
   "outputs": [],
   "source": [
    "# df_train.drop('payload_raw')"
   ]
  },
  {
   "cell_type": "code",
   "execution_count": 274,
   "metadata": {},
   "outputs": [],
   "source": [
    "MAX_PAYLOAD_LENGTH = df_train['payload_raw'].apply(len).max()\n",
    "def payload_to_binary_columns(df, column_name):\n",
    "    \"\"\"\n",
    "    Converts a column with binary data into separate bit columns.\n",
    "\n",
    "    Args:\n",
    "        df (pd.DataFrame): The input DataFrame.\n",
    "        column_name (str): The name of the column to convert.\n",
    "\n",
    "    Returns:\n",
    "        pd.DataFrame: The transformed DataFrame with bit columns.\n",
    "    \"\"\"\n",
    "    # Find the maximum length of the payload\n",
    "    # max_payload_length = df[column_name].apply(len).max()\n",
    "    bit_columns = ['bit_' + str(i) for i in range(MAX_PAYLOAD_LENGTH * 8)]\n",
    "    \n",
    "    def bytes_to_bits(byte_data):\n",
    "        byte_array = np.frombuffer(byte_data, dtype=np.uint8)\n",
    "        return np.unpackbits(byte_array)\n",
    "    \n",
    "    # Convert and pad the binary data\n",
    "    binary_data = df[column_name].apply(lambda x: np.pad(bytes_to_bits(x), (0, MAX_PAYLOAD_LENGTH * 8 - len(x) * 8), 'constant'))\n",
    "\n",
    "    # Stack the binary data into a matrix\n",
    "    binary_matrix = np.vstack(binary_data.values)\n",
    "    \n",
    "    # Create a DataFrame from the binary matrix\n",
    "    binary_df = pd.DataFrame(binary_matrix, columns=bit_columns)\n",
    "    df=df.reset_index()\n",
    "    # Concatenate the binary DataFrame with the original DataFrame\n",
    "    return pd.concat([df.drop(columns=[column_name]), binary_df], axis=1).set_index('flow')\n",
    "# Transform the DataFrame\n",
    "\n",
    "\n",
    "df_train.drop('payload_raw',axis=1,inplace=True)\n",
    "df_test.drop('payload_raw',axis=1,inplace=True)\n",
    "\n",
    "df_validation.drop('payload_raw',axis=1,inplace=True)\n",
    "\n",
    "# df_train=payload_to_binary_columns(df_train, 'payload_raw')\n",
    "# df_validation=payload_to_binary_columns(df_validation, 'payload_raw')\n",
    "# df_test=payload_to_binary_columns(df_test, 'payload_raw')"
   ]
  },
  {
   "cell_type": "markdown",
   "metadata": {
    "id": "JqFzMmK_9AZ5"
   },
   "source": [
    "# Training Dataset"
   ]
  },
  {
   "cell_type": "code",
   "execution_count": 275,
   "metadata": {
    "id": "b6QqLstCbLVG"
   },
   "outputs": [],
   "source": [
    "import torch.utils.data as data_utils\n",
    "import torch.nn.functional as F\n",
    "from torch.utils.data import Dataset\n",
    "\n",
    "\n",
    "class IEC104Dataset(Dataset):\n",
    "    def __init__(self, df, transform=None, target_transform=None):\n",
    "        self.df = df\n",
    "        self.flow_int_id = list(set(self.df.index))\n",
    "        self.transform = transform\n",
    "        self.target_transform = target_transform\n",
    "\n",
    "    def __len__(self):\n",
    "        return len(self.flow_int_id)\n",
    "\n",
    "    def __getitem__(self, idx):\n",
    "        df_idx = self.flow_int_id[idx]\n",
    "        flow = self.df.loc[df_idx, self.df.columns != 'label']\n",
    "        label = self.df.loc[df_idx, 'label']\n",
    "\n",
    "        if isinstance(flow, pd.Series):\n",
    "            flow = flow.to_frame().T\n",
    "        \n",
    "        # if isinstance(label, np.float64):\n",
    "        #     print('label:',label)\n",
    "        if isinstance(label,np.float64):\n",
    "            label = label.astype(int)\n",
    "        elif not isinstance(label, np.int64):\n",
    "            label = label.iloc[0]\n",
    "        label = torch.tensor(label)\n",
    "\n",
    "        if self.transform:\n",
    "            flow = self.transform(flow)\n",
    "        if self.target_transform:\n",
    "            label = self.target_transform(label)\n",
    "        # print(flow)\n",
    "        # print(label)\n",
    "        return flow, label\n",
    "\n",
    "def feature_transform(flow):\n",
    "    # Convert flow to a DataFrame if it's not already\n",
    "    flow = pd.DataFrame(flow)\n",
    "\n",
    "    # Convert to tensors\n",
    "    dynamic_tensor = torch.tensor(flow.values, dtype=torch.float32)\n",
    "\n",
    "    if dynamic_tensor.shape[0] > SEQ_LEN:\n",
    "        # Randomly select a starting index for the sequence\n",
    "        start_idx = np.random.randint(0, dynamic_tensor.shape[0] - SEQ_LEN + 1)\n",
    "        dynamic_tensor = dynamic_tensor[start_idx:start_idx + SEQ_LEN]\n",
    "    else:\n",
    "        # If the tensor is shorter than SEQ_LEN, pad with -1 as before\n",
    "        X = torch.zeros(SEQ_LEN, dynamic_tensor.shape[1], dtype=torch.float32)\n",
    "        min_shape_0 = min(dynamic_tensor.shape[0], SEQ_LEN)\n",
    "        X[:min_shape_0] = dynamic_tensor[-min_shape_0:]\n",
    "        dynamic_tensor = X\n",
    "    # dynamic_tensor = (dynamic_tensor+1)/2\n",
    "    return dynamic_tensor\n",
    "\n",
    "    # return dynamic_tensor\n"
   ]
  },
  {
   "cell_type": "markdown",
   "metadata": {},
   "source": [
    "### Dataset Loader"
   ]
  },
  {
   "cell_type": "markdown",
   "metadata": {
    "id": "MY_LNf089EMg"
   },
   "source": [
    "# Model Design"
   ]
  },
  {
   "cell_type": "code",
   "execution_count": 276,
   "metadata": {
    "id": "eKisrC3kgdN5"
   },
   "outputs": [],
   "source": [
    "# model_vitv2_output_shape = [ 512, 8, 8]\n",
    "NUM_CLASSES = df_train.label.nunique()"
   ]
  },
  {
   "cell_type": "code",
   "execution_count": 277,
   "metadata": {
    "id": "-Wwyk-22gzE5"
   },
   "outputs": [],
   "source": [
    "def get_device():\n",
    "    device = \"cpu\"\n",
    "    if torch.cuda.is_available():\n",
    "      device = \"cuda:1\"\n",
    "    return device\n",
    "DEVICE = get_device()"
   ]
  },
  {
   "cell_type": "code",
   "execution_count": 278,
   "metadata": {},
   "outputs": [],
   "source": [
    "import seaborn as sns"
   ]
  },
  {
   "cell_type": "code",
   "execution_count": 279,
   "metadata": {},
   "outputs": [],
   "source": [
    "import wandb"
   ]
  },
  {
   "cell_type": "markdown",
   "metadata": {},
   "source": [
    "### Lightning"
   ]
  },
  {
   "cell_type": "code",
   "execution_count": 280,
   "metadata": {
    "id": "GGipEbM8VcpV"
   },
   "outputs": [],
   "source": [
    "class LFVIT(L.LightningModule):\n",
    "    def __init__(self, model,name):\n",
    "        super().__init__()\n",
    "        self.model = model\n",
    "        self.name = name\n",
    "        self.step_outputs = defaultdict(list)\n",
    "        self.step_target = defaultdict(list)\n",
    "    def forward(self, inputs):\n",
    "        return self.model(inputs)\n",
    "    def training_step(self, batch, batch_idx):\n",
    "        x, y = batch\n",
    "        # print(x.shape)\n",
    "        target_prediction = self.model(x)\n",
    "        loss = nn.functional.cross_entropy(target_prediction, y)\n",
    "        self.step_outputs['train'].append(target_prediction)\n",
    "        self.step_target['train'].append(y)\n",
    "        self.log('train_loss',loss,on_epoch=True,on_step=False)\n",
    "        return loss\n",
    "    def validation_step(self, batch, batch_idx):\n",
    "        x, y = batch\n",
    "        # print(x.shape)\n",
    "\n",
    "        target_prediction = self.model(x)\n",
    "        self.step_outputs['validation'].append(target_prediction)\n",
    "        self.step_target['validation'].append(y)\n",
    "        loss = nn.functional.cross_entropy(target_prediction, y)\n",
    "\n",
    "        self.log('val_loss',loss,on_epoch=True,on_step=False)\n",
    "        # loss = nn.functional.cross_entropy(target_prediction, y)\n",
    "        # self.log('val_loss',loss)\n",
    "    def test_step(self, batch, batch_idx):\n",
    "        x, y = batch\n",
    "        target_prediction = self.model(x)\n",
    "        self.step_outputs['test'].append(target_prediction)\n",
    "        self.step_target['test'].append(y)       \n",
    "    # def on_test_epoch_end(self):\n",
    "    # def on_train_epoch_end(self):\n",
    "\n",
    "    def on_test_epoch_end(self):\n",
    "        self._shared_on_epoch_end(end_type='test')\n",
    "    def on_validation_epoch_end(self):\n",
    "        self._shared_on_epoch_end('validation')\n",
    "    def _shared_on_epoch_end(self,end_type):\n",
    "        all_preds = torch.cat(self.step_outputs[end_type])\n",
    "        all_targets = torch.cat(self.step_target[end_type])\n",
    "        metrics = dict()\n",
    "        suffix= end_type+'_'    \n",
    "        accuracy = torchmetrics.Accuracy(task=\"multiclass\", num_classes=NUM_CLASSES,average='macro').to(DEVICE)\n",
    "        metrics[suffix+'accuracy'] = accuracy(all_preds, all_targets)\n",
    "         \n",
    "        metric = torchmetrics.Precision(task=\"multiclass\", num_classes=NUM_CLASSES,average='macro').to(DEVICE)\n",
    "        metrics[suffix+'precision'] = metric(all_preds, all_targets)\n",
    "        \n",
    "        metric = torchmetrics.Recall(task=\"multiclass\", num_classes=NUM_CLASSES,average='macro').to(DEVICE)\n",
    "        metrics[suffix+'recall'] = metric(all_preds, all_targets) \n",
    "        \n",
    "        stat_scores = torchmetrics.classification.MulticlassStatScores(num_classes=NUM_CLASSES,average='micro').to(DEVICE)\n",
    "\n",
    "        # Update the state with the true and predicted labels\n",
    "        stat_scores.update(all_preds, all_targets)\n",
    "\n",
    "        # Compute the scores\n",
    "        scores = stat_scores.compute()\n",
    "\n",
    "        # Extract TP, FP, TN, FN for each class\n",
    "        tp = scores[ 0]\n",
    "        fp = scores[ 1]\n",
    "        tn = scores[ 2]\n",
    "        fn = scores[ 3]\n",
    "\n",
    "        # Compute TPR and FPR for each class\n",
    "        tpr = tp / (tp + fn)\n",
    "        fpr = fp / (fp + tn)\n",
    "        metrics[suffix+'tpr'] = tpr\n",
    "           \n",
    "        metrics[suffix+'fpr'] = fpr\n",
    "        confusionmatrix = torchmetrics.ConfusionMatrix(task=\"multiclass\", num_classes=NUM_CLASSES).to(DEVICE)\n",
    "        confusionmatrix_result = confusionmatrix(all_preds, all_targets).cpu().numpy()\n",
    "        df_cm = pd.DataFrame(confusionmatrix_result, index = range(NUM_CLASSES), columns=range(NUM_CLASSES))\n",
    "        # metrics[suffix+'cm'] = str(confusionmatrix_result)\n",
    "        plt.figure(figsize = (10,7))\n",
    "        fig_ = sns.heatmap(df_cm, annot=True, cmap='Spectral').get_figure()\n",
    "        plt.close(fig_)\n",
    "        fig_.savefig('tmp/confusionmatrix.png')\n",
    "        wandb_logger.log_image(key=suffix+\"confusionmatrix\", images=['tmp/confusionmatrix.png'])\n",
    "        \n",
    "        confusionmatrix = torchmetrics.ConfusionMatrix(normalize='true',task=\"multiclass\", num_classes=NUM_CLASSES).to(DEVICE)\n",
    "        confusionmatrix_result = confusionmatrix(all_preds, all_targets).cpu().numpy()\n",
    "        df_cm = pd.DataFrame(confusionmatrix_result, index = range(NUM_CLASSES), columns=range(NUM_CLASSES))\n",
    "        plt.figure(figsize = (10,7))\n",
    "        fig_ = sns.heatmap(df_cm, annot=True, cmap='Spectral').get_figure()\n",
    "        plt.close(fig_)\n",
    "        fig_.savefig('tmp/confusionmatrix_normalized.png')\n",
    "        wandb_logger.log_image(key=suffix+\"confusionmatrix_normalized\", images=['tmp/confusionmatrix_normalized.png'])\n",
    "        \n",
    "        self.log_dict(metrics)\n",
    "        self.step_outputs[end_type].clear()\n",
    "        self.step_target[end_type].clear()\n",
    "    def configure_optimizers(self):\n",
    "        optimizer = optim.AdamW(self.parameters(), lr=1e-4)\n",
    "        scheduler = optim.lr_scheduler.ReduceLROnPlateau(optimizer,patience=3,mode='min')\n",
    "        return {'optimizer':optimizer,\"lr_scheduler\":{\"scheduler\": scheduler, \"interval\": \"epoch\",\"frequency\": 1,\"monitor\": \"val_loss\"}}\n"
   ]
  },
  {
   "cell_type": "code",
   "execution_count": 281,
   "metadata": {},
   "outputs": [],
   "source": [
    "\n",
    "# accuracy = torchmetrics.Accuracy(task=\"multiclass\", num_classes=NUM_CLASSES).to(DEVICE)\n",
    "\n",
    "# accuracy(torch.tensor(4, device='cuda:0'),\n",
    "# torch.tensor([0.0824, 0.0977, 0.1032, 0.0896, 0.0766, 0.1045, 0.0956, 0.0752, 0.0876,\n",
    "#         0.0868, 0.1010], device='cuda:0'))"
   ]
  },
  {
   "cell_type": "markdown",
   "metadata": {},
   "source": [
    "###  FVIT\n"
   ]
  },
  {
   "cell_type": "code",
   "execution_count": 282,
   "metadata": {},
   "outputs": [],
   "source": [
    "import math\n",
    "\n",
    "class FVIT(nn.Module):\n",
    "    def __init__(self,encoder,decoder):\n",
    "        super(FVIT, self).__init__()\n",
    "        self.encoder = encoder\n",
    "        self.decoder = decoder\n",
    "\n",
    "    def forward(self, x):\n",
    "        hidden_states=self.encoder(x[0])\n",
    "        concatenated_input = torch.cat((torch.flatten(hidden_states, start_dim=1), torch.flatten(x[1], start_dim=1)),dim=1)\n",
    "        return self.decoder(concatenated_input)\n",
    "    \n",
    "class PositionalEncoding(nn.Module):\n",
    "    def __init__(self, d_model, max_len=5000):\n",
    "        super(PositionalEncoding, self).__init__()\n",
    "        pe = torch.zeros(max_len, d_model)\n",
    "        position = torch.arange(0, max_len, dtype=torch.float).unsqueeze(1)\n",
    "        div_term = torch.exp(torch.arange(0, d_model, 2).float() * (-math.log(10000.0) / d_model))\n",
    "        pe[:, 0::2] = torch.sin(position * div_term)\n",
    "        pe[:, 1::2] = torch.cos(position * div_term)\n",
    "        pe = pe.unsqueeze(0)  # Shape: (1, max_len, d_model)\n",
    "        # self.pe = pe.to(DEVICE)\n",
    "        \n",
    "        self.register_buffer('pe', pe)\n",
    "\n",
    "    def forward(self, x):\n",
    "        # x shape: (batch_size, seq_len, d_model)\n",
    "        # print(x.shape)\n",
    "        # print('pedevice',self.pe.device)\n",
    "        x = x + self.pe[:, :x.size(1), :]  # Shape: (batch_size, seq_len, d_model)\n",
    "        return x\n",
    "\n",
    "class TransformerModel(nn.Module):\n",
    "    def __init__(self,d_model, nhead, nhid, nlayers, dropout):\n",
    "        super(TransformerModel, self).__init__()\n",
    "        self.model_type = 'Transformer'\n",
    "        self.pos_encoder = PositionalEncoding(d_model,SEQ_LEN)\n",
    "        # print(d_model,nhead,dropout,nhid)\n",
    "        self.transformer_encoder = nn.TransformerEncoder(\n",
    "                        nn.TransformerEncoderLayer(d_model=d_model, nhead=nhead, dropout=dropout,dim_feedforward=nhid,activation=nn.ReLU(),batch_first=True),\n",
    "                num_layers=nlayers,norm=nn.LayerNorm(normalized_shape=NUM_FEATURES)\n",
    "                )\n",
    "        self.d_model = d_model\n",
    "        self.decoder = nn.Sequential(\n",
    "            nn.Flatten(),\n",
    "            nn.Linear(NUM_FEATURES*SEQ_LEN, NUM_CLASSES),\n",
    "            # nn.Dropout(0.5),\n",
    "            # nn.ReLU(),\n",
    "            # nn.Linear(100, NUM_CLASSES),\n",
    "            nn.Softmax(dim=1)\n",
    ")   \n",
    "    # def init_weights(self):\n",
    "    #     initrange = 0.1\n",
    "    #     self.transformer_encoder.bias.data.zero_()\n",
    "    #     self.transformer_encoder.weight.data.uniform_(-initrange, initrange)\n",
    "        \n",
    "    def forward(self, x):\n",
    "        # print('fow',x.shape)\n",
    "        x = self.pos_encoder(x)\n",
    "        x = self.transformer_encoder(x)\n",
    "        # print(x.shape)\n",
    "        # print(\"DD:\",x)\n",
    "        x= self.decoder(x)\n",
    "        # return output\n",
    "        return x"
   ]
  },
  {
   "cell_type": "code",
   "execution_count": 283,
   "metadata": {},
   "outputs": [],
   "source": [
    "# df_train.shape[1]-1,df_validation.shape[1]-1,df_test.shape[1]-1"
   ]
  },
  {
   "cell_type": "code",
   "execution_count": 284,
   "metadata": {},
   "outputs": [
    {
     "data": {
      "text/plain": [
       "26"
      ]
     },
     "execution_count": 284,
     "metadata": {},
     "output_type": "execute_result"
    }
   ],
   "source": [
    "NUM_FEATURES = df_train.shape[1]-1\n",
    "NUM_FEATURES"
   ]
  },
  {
   "cell_type": "code",
   "execution_count": 285,
   "metadata": {},
   "outputs": [],
   "source": [
    "output_dim_transformer_encoder = [SEQ_LEN,SEQ_LEN,NUM_FEATURES]"
   ]
  },
  {
   "cell_type": "code",
   "execution_count": 286,
   "metadata": {},
   "outputs": [
    {
     "data": {
      "text/plain": [
       "26"
      ]
     },
     "execution_count": 286,
     "metadata": {},
     "output_type": "execute_result"
    }
   ],
   "source": [
    "NUM_FEATURES"
   ]
  },
  {
   "cell_type": "code",
   "execution_count": 287,
   "metadata": {},
   "outputs": [],
   "source": [
    "from x_transformers import Encoder"
   ]
  },
  {
   "cell_type": "code",
   "execution_count": 288,
   "metadata": {},
   "outputs": [],
   "source": [
    "SEQ_LEN = 20\n",
    "BATCH_SIZE=128\n",
    "NUM_WORKERS =6\n",
    "PREFETCH_FACTOR=2\n",
    "train_dataset = IEC104Dataset(df_train,transform = feature_transform)\n",
    "validation_dataset = IEC104Dataset(df_validation,transform = feature_transform)\n",
    "test_dataset = IEC104Dataset(df_test,transform = feature_transform)\n",
    "\n",
    "\n",
    "class_sample_output=df_train.reset_index().groupby('label')['flow'].nunique().tolist()\n",
    "# print(class_sample_output)\n",
    "sampling_weights = 1 / torch.Tensor(class_sample_output)\n",
    "# print(sampling_weights)\n",
    "\n",
    "labels = train_dataset.df.groupby('flow')['label'].unique()\n",
    "# print(train_dataset.flow_int_id[0])\n",
    "labels=[labels.loc[i][0] for i in train_dataset.flow_int_id]\n",
    "samples_weight = np.array([sampling_weights[t] for t in labels]).flatten()\n",
    "\n",
    "samples_weight = torch.from_numpy(samples_weight)\n",
    "samples_weigth = samples_weight.double()\n",
    "# print(samples_weigth)\n",
    "sampler = torch.utils.data.sampler.WeightedRandomSampler(samples_weight, len(samples_weight))\n",
    "\n",
    "\n",
    "# train_loader = data_utils.DataLoader(dataset = train_dataset, batch_size = BATCH_SIZE,num_workers=NUM_WORKERS,prefetch_factor=PREFETCH_FACTOR)\n",
    "train_loader = data_utils.DataLoader(dataset = train_dataset, batch_size = BATCH_SIZE,num_workers=NUM_WORKERS,prefetch_factor=PREFETCH_FACTOR,sampler = sampler)#,collate_fn = collate_fn)\n",
    "# train_loader = data_utils.DataLoader(dataset = train_dataset, batch_size = BATCH_SIZE,num_workers=NUM_WORKERS,prefetch_factor=PREFETCH_FACTOR)\n",
    "# next(iter(train_loader))\n",
    "\n",
    "validation_loader = data_utils.DataLoader(dataset = validation_dataset, batch_size = BATCH_SIZE,num_workers=NUM_WORKERS,prefetch_factor=PREFETCH_FACTOR)#,collate_fn = collate_fn)\n",
    "test_loader = data_utils.DataLoader(dataset = test_dataset, batch_size = BATCH_SIZE,num_workers=NUM_WORKERS,prefetch_factor=PREFETCH_FACTOR)#,collate_fn = collate_fn)\n"
   ]
  },
  {
   "cell_type": "code",
   "execution_count": 289,
   "metadata": {
    "id": "MmKlLwpqfzoq"
   },
   "outputs": [],
   "source": [
    "class BinaryEncodingTransformerModel(nn.Module):\n",
    "    def __init__(self):\n",
    "        super(BinaryEncodingTransformerModel, self).__init__()\n",
    "        self.model_type = 'Transformer'\n",
    " \n",
    "        \n",
    "        self.decoder = nn.Sequential(\n",
    "    PositionalEncoding(NUM_FEATURES,SEQ_LEN),\n",
    "    Encoder(dim = NUM_FEATURES,\n",
    "        depth = 6,\n",
    "        heads = 4,\n",
    "           ff_dropout = 0.2,          # feed-forward dropout rate\n",
    "    attn_dropout = 0.2,         # attention dropout rate\n",
    "    # attn_sparse_topk = 8\n",
    "        ),\n",
    "            nn.Flatten(),\n",
    "            nn.Linear(NUM_FEATURES*SEQ_LEN, NUM_CLASSES),\n",
    "     \n",
    "            \n",
    "            nn.Softmax(dim=1))\n",
    "\n",
    "    def forward(self, x):\n",
    "\n",
    "        x = self.decoder(x)\n",
    "        return x\n",
    "\n",
    "\n",
    "\n",
    "class GRUModel(nn.Module):\n",
    "    def __init__(self, num_features, num_classes, seq_len):\n",
    "        super(GRUModel, self).__init__()\n",
    "        self.gru = nn.GRU(num_features, 10*num_features, 3, dropout = 0.2,batch_first=True)\n",
    "        self.linear = nn.Linear(10*num_features * seq_len, num_classes)\n",
    "        self.softmax = nn.Softmax(dim=1)\n",
    "    \n",
    "    def forward(self, x):\n",
    "        gru_out, _ = self.gru(x)  # Get the output and hidden state from GRU\n",
    "        gru_out = gru_out.contiguous().view(gru_out.size(0), -1)  # Flatten the output\n",
    "        linear_out = self.linear(gru_out)\n",
    "        output = self.softmax(linear_out)\n",
    "        return output\n",
    "\n",
    "\n",
    "class RNNModel(nn.Module):\n",
    "    def __init__(self, num_features, num_classes, seq_len):\n",
    "        super(RNNModel, self).__init__()\n",
    "        self.rnn = nn.RNN(num_features, 1000, 3, dropout=0.2, batch_first=True,bidirectional=False,nonlinearity='tanh')\n",
    "        self.linear = nn.Linear(1000 * seq_len, num_classes)\n",
    "        self.softmax = nn.Softmax(dim=1)\n",
    "    \n",
    "    def forward(self, x):\n",
    "        rnn_out, _ = self.rnn(x)  # Get the output and hidden state from RNN\n",
    "        rnn_out = rnn_out.contiguous().view(rnn_out.size(0), -1)  # Flatten the output\n",
    "        linear_out = self.linear(rnn_out)\n",
    "        output = self.softmax(linear_out)\n",
    "        return output\n",
    "\n",
    "\n",
    "\n",
    "import torch.nn as nn\n",
    "\n",
    "# Assuming these classes and modules are already defined:\n",
    "# PositionalEncoding, Encoder, LFVIT, GRUModel, RNNModel\n",
    "\n",
    "def create_model(model_name):\n",
    "    if model_name == \"Transformer\":\n",
    "        model = LFVIT(nn.Sequential(\n",
    "            # nn.Linear(NUM_FEATURES*SEQ_LEN, 50*SEQ_LEN),\n",
    "            PositionalEncoding(NUM_FEATURES, SEQ_LEN),\n",
    "            Encoder(\n",
    "                dim=NUM_FEATURES,\n",
    "                ff_mult=16,\n",
    "                depth=6,\n",
    "                heads=6,\n",
    "                ff_dropout=0.2,          # feed-forward dropout rate\n",
    "                attn_dropout=0.2,        # attention dropout rate\n",
    "                # ff_hidden_act=nn.GELU(),\n",
    "                ff_glu=True,\n",
    "                # attn_sparse_topk=8\n",
    "            ),\n",
    "            nn.Flatten(),\n",
    "            nn.Linear(NUM_FEATURES * SEQ_LEN, NUM_CLASSES),\n",
    "            # nn.Linear(NUM_FEATURES*SEQ_LEN, 1000),\n",
    "            # nn.ReLU(),\n",
    "            # nn.Linear(1000, 200),\n",
    "            # nn.ReLU(),\n",
    "            # nn.Dropout(0.1),\n",
    "            # nn.Linear(200, NUM_CLASSES),\n",
    "            nn.Softmax(dim=1)\n",
    "        ), \"Transformer-HEADER\")\n",
    "    \n",
    "    elif model_name == \"GRU\":\n",
    "        model = LFVIT(GRUModel(NUM_FEATURES, NUM_CLASSES, SEQ_LEN), \"GRU-HEADER\")\n",
    "    \n",
    "    elif model_name == \"RNN\":\n",
    "        model = LFVIT(RNNModel(NUM_FEATURES, NUM_CLASSES, SEQ_LEN), \"RNN-HEADER\")\n",
    "    \n",
    "    elif model_name == \"SEQ-MLP\":\n",
    "        layer_sizes = [NUM_FEATURES * SEQ_LEN, NUM_FEATURES * SEQ_LEN, 512, NUM_CLASSES]\n",
    "        layers = [nn.Flatten()]  # Add flatten layer at the beginning\n",
    "        for i in range(len(layer_sizes) - 1):\n",
    "            layers.append(nn.Linear(layer_sizes[i], layer_sizes[i + 1]))\n",
    "            layers.append(nn.GELU())  # Activation function\n",
    "            layers.append(nn.Dropout(0.1))  # Dropout with a rate of 0.1\n",
    "        layers.append(nn.Softmax(dim=1))\n",
    "        fcn = nn.Sequential(*layers)\n",
    "        model = LFVIT(fcn, \"SEQ-MLP-HEADER\")\n",
    "    \n",
    "    else:\n",
    "        raise ValueError(f\"Unknown model name: {model_name}\")\n",
    "\n",
    "    return model\n",
    "\n",
    "# Example usage\n",
    "model_fvit = create_model(\"GRU\")\n",
    "# or\n",
    "# model_fvit = create_model(\"GRU\")\n",
    "# or\n",
    "# model_fvit = create_model(\"RNN\")\n",
    "# or\n",
    "# model_fvit = create_model(\"SEQ-MLP\")\n"
   ]
  },
  {
   "cell_type": "code",
   "execution_count": 290,
   "metadata": {},
   "outputs": [
    {
     "data": {
      "text/plain": [
       "GRUModel(\n",
       "  (gru): GRU(26, 260, num_layers=3, batch_first=True, dropout=0.2)\n",
       "  (linear): Linear(in_features=5200, out_features=12, bias=True)\n",
       "  (softmax): Softmax(dim=1)\n",
       ")"
      ]
     },
     "execution_count": 290,
     "metadata": {},
     "output_type": "execute_result"
    }
   ],
   "source": [
    "model_fvit.model"
   ]
  },
  {
   "cell_type": "markdown",
   "metadata": {},
   "source": [
    "## Running\n"
   ]
  },
  {
   "cell_type": "code",
   "execution_count": 291,
   "metadata": {},
   "outputs": [],
   "source": [
    "from lightning.pytorch.callbacks import LearningRateMonitor"
   ]
  },
  {
   "cell_type": "code",
   "execution_count": 292,
   "metadata": {
    "colab": {
     "base_uri": "https://localhost:8080/",
     "height": 637,
     "referenced_widgets": [
      "ffd518597146417eab21bdd7081cc520",
      "28c37ae7c6514df2bd0824670321e314",
      "f4e8fe1c0b1542b8829802147bd0788f",
      "92a30638b173469c8ba5310a7375d661",
      "1766e27c6a0e47d4b759efd9f6abdfe4",
      "c54aa7a111f74825ba332b0778d63473",
      "d6585ed9890c4741b4639ef75502f569",
      "112aa81085bb4649966d6a023a55c13e",
      "f43758202cae40cc97fd13ee9acd0e43",
      "97ba0548b7fb44c181ca2220715e9bda",
      "298ef5b11dca45ee8e14ab296555f3bc",
      "4e723165fb6a4339b341c6816bc48860",
      "8dd3555a6e07451f9cdd7b9e81af7e34",
      "643f0f8c7fca4e1886c7f8e6b9d59588",
      "9fae219ebd9f4342b0c00d1b85898e69",
      "9cba5c3ed7af4f0a932e175ff12f38d5",
      "a0b7ee4fc9de42c5bf6b6c3410a905c7",
      "1c5151e4b7c14cb69716328efe4abca7",
      "259b3024e9724e5c8361888ecc280ab1",
      "02b01aa8b8e44b65b1761bd8b6f578a0",
      "b3a14f4ff1814d02bb6b625dddc44839",
      "748cb6e52d8f4b51b840f6de1e3ac01e",
      "58146abc04ae41d7aea16647cee9d8f4",
      "eb5a3aef28774f2faca6b1a473b5c3fa",
      "be87a5dc54c8457a9aac351f3d1c50ea",
      "708b7da86c7542389029c2b8c200e9b4",
      "794a4dba56174a8da81c492d45981b79",
      "f55b1df7bfd74f908032360204b87640",
      "095e6be8c5334b26b0b68f3eba5f810d",
      "efa085afd6ef423dbe32df9c8a0047ef",
      "021a87e515cf4647ad3436d3e38c9176",
      "42850df8f2bf4d0cb8c4d3f9c085f7d5",
      "4cfe3e99f2e0433babfaac6f09f8cba9",
      "83ed3e007f084987a13e9c3c1fff4766",
      "009666ee40b94f058e2c62ddb22146fc",
      "b7d836c03c6149d3b78b9286cb439d74",
      "76f6bc555d1b497cad5c8a0202a01321",
      "3dd36e594d0743a8b63f9af381e3d74c",
      "ddaaf2ef9e6d4e5ebaaee489b515a1c0",
      "97870065ddc6420b81c31fb0e3b00f41",
      "0a730dd018c14709ab3aa6aab7e125e4",
      "49a83a97dd96438da12bb55e3e40a64e",
      "47c79cc35e394270ab9bdd945bb80be8",
      "6d7c516774ea41dcaae6640bf2685665",
      "2f75632040894f37b065ec73779371f9",
      "b33e09543ffb464da327a3ad1b8be804",
      "b3e36b62346f4b9ea40a3d7b32028229",
      "717c00315e744f7e8488c7f3baac115a",
      "c542dc43df5340fe90e7a7e552002e3c",
      "4505df98394742c1a8b00a086de159cc",
      "227701f52ca84010a57374b7c1dea088",
      "19e26262fb54468fb5846435e066f094",
      "f1cf8933279a48799a6be829e4201ef3",
      "75d83d696c964a0e9d0583e164904602",
      "708fb059b2304740a110ad7e48126662",
      "4566b338078c48d29c855f54fcd0b9e2",
      "7d205400958a4ca982632403bedeafc3",
      "547174c2cf2548749fae663255a4e8bd",
      "106b892bf4584e7d8be1e5e8f49e2f00",
      "f8ffdd67f54843e69813c9384045c44c",
      "0cd3593c37c54f108d2d9233511b6c18",
      "407b604f5c6c410e9dbb66ec8552777b",
      "462e582742274cc299a4d6a158d0ad53",
      "35e5bbed9b17422796eaba0bb28f6450",
      "2ea43c564f3143e6a9118a0dcd867da4",
      "dd9b7673da3748c6a67788fd312cbe6b",
      "77cb668281264e3cbf7e55ce3b6c3da2",
      "12663cb80d8e49c5aae07de2a6fbd355",
      "7e8ab03ea04d4543a904c2b40696037d",
      "3a937e7b6d8b4d87825432114143c02f",
      "a353486d2fc3421d96a7f84ea4a8623e",
      "f995d08b430d4f5db52bd872138c090f",
      "a292d656bdad4d86a3d0ddf90f4c46b9",
      "cb32b3b5cb6c459f9fb6ebba41b14179",
      "bf16a8e95bf041e1b32b64ca0f8227a6",
      "1165d225e61c486ead33c4404ce931a2",
      "8a8f9fa017714d4488ccc9aa37d48439",
      "99c5e1c1e6d64113ac527022e67e7bfa",
      "69f86cf58a7843be9c5d412cb6eb7fe4",
      "e4cce3454bab486fbd7dbf83caaf5931",
      "5f317ddbed8343eba96b5af5d6e91c5b",
      "cf5a20fda1524664bc3a270e2d22247c",
      "223279094cb64846a4bec0ba41094ebe",
      "021ebbb9ff6c49e6bf8578278fc7502b",
      "382311c1966449c2b64976ff7e0fb22d",
      "599c5456ac924283a3d2f36cc6ba3fa3",
      "dd38a9361e664e078c9a70b7dea9b0a4",
      "dd1d13e06c6742b486e321a61c0fa3c2",
      "deb3bcfeae3b4c1fb81582dedb41f930",
      "bf625076aa8f464eb1908772797d20e1",
      "336c17ffaf0d48c3ae09856c626d1188",
      "70dc9a761141455ea70d73ea5a885992",
      "ae0af05cb3ce4b829a58795366fe67bb",
      "f5c412b4ae1648d7b3c746296ae91b6c",
      "136b9dc9844c48c9b9898ef0645562ed",
      "4dff1aedfb43456089d4c42f331567c5",
      "eebddd07b83d4d8b80ab2669a534c239",
      "bdb470581787465ebc0800744ec0bf90",
      "ffeeb41db74b401591828ed6e0074359"
     ]
    },
    "id": "isQdiDA0XdEF",
    "outputId": "532f6390-dd2a-451e-b407-ef2e2a5599f3"
   },
   "outputs": [
    {
     "data": {
      "application/vnd.jupyter.widget-view+json": {
       "model_id": "3092a393fe95439ba695758196bc1286",
       "version_major": 2,
       "version_minor": 0
      },
      "text/plain": [
       "VBox(children=(Label(value='0.005 MB of 0.005 MB uploaded\\r'), FloatProgress(value=1.0, max=1.0)))"
      ]
     },
     "metadata": {},
     "output_type": "display_data"
    },
    {
     "data": {
      "text/html": [
       " View run <strong style=\"color:#cdcd00\">comfy-elevator-127</strong> at: <a href='https://wandb.ai/heitor57/fast-ids/runs/6kz65w2h/workspace' target=\"_blank\">https://wandb.ai/heitor57/fast-ids/runs/6kz65w2h/workspace</a><br/>Synced 6 W&B file(s), 0 media file(s), 0 artifact file(s) and 0 other file(s)"
      ],
      "text/plain": [
       "<IPython.core.display.HTML object>"
      ]
     },
     "metadata": {},
     "output_type": "display_data"
    },
    {
     "data": {
      "text/html": [
       "Find logs at: <code>./wandb/run-20240604_172900-6kz65w2h/logs</code>"
      ],
      "text/plain": [
       "<IPython.core.display.HTML object>"
      ]
     },
     "metadata": {},
     "output_type": "display_data"
    },
    {
     "name": "stderr",
     "output_type": "stream",
     "text": [
      "GPU available: True (cuda), used: True\n",
      "TPU available: False, using: 0 TPU cores\n",
      "IPU available: False, using: 0 IPUs\n",
      "HPU available: False, using: 0 HPUs\n"
     ]
    },
    {
     "data": {
      "application/vnd.jupyter.widget-view+json": {
       "model_id": "9812b9a491d146d58b420d26bb4be0c7",
       "version_major": 2,
       "version_minor": 0
      },
      "text/plain": [
       "VBox(children=(Label(value='Waiting for wandb.init()...\\r'), FloatProgress(value=0.011112695094197989, max=1.0…"
      ]
     },
     "metadata": {},
     "output_type": "display_data"
    },
    {
     "data": {
      "text/html": [
       "wandb version 0.17.0 is available!  To upgrade, please run:\n",
       " $ pip install wandb --upgrade"
      ],
      "text/plain": [
       "<IPython.core.display.HTML object>"
      ]
     },
     "metadata": {},
     "output_type": "display_data"
    },
    {
     "data": {
      "text/html": [
       "Tracking run with wandb version 0.16.5"
      ],
      "text/plain": [
       "<IPython.core.display.HTML object>"
      ]
     },
     "metadata": {},
     "output_type": "display_data"
    },
    {
     "data": {
      "text/html": [
       "Run data is saved locally in <code>./wandb/run-20240604_172931-8lwmigps</code>"
      ],
      "text/plain": [
       "<IPython.core.display.HTML object>"
      ]
     },
     "metadata": {},
     "output_type": "display_data"
    },
    {
     "data": {
      "text/html": [
       "Syncing run <strong><a href='https://wandb.ai/heitor57/lightning_logs/runs/8lwmigps/workspace' target=\"_blank\">clean-shape-329</a></strong> to <a href='https://wandb.ai/heitor57/lightning_logs' target=\"_blank\">Weights & Biases</a> (<a href='https://wandb.me/run' target=\"_blank\">docs</a>)<br/>"
      ],
      "text/plain": [
       "<IPython.core.display.HTML object>"
      ]
     },
     "metadata": {},
     "output_type": "display_data"
    },
    {
     "data": {
      "text/html": [
       " View project at <a href='https://wandb.ai/heitor57/lightning_logs' target=\"_blank\">https://wandb.ai/heitor57/lightning_logs</a>"
      ],
      "text/plain": [
       "<IPython.core.display.HTML object>"
      ]
     },
     "metadata": {},
     "output_type": "display_data"
    },
    {
     "data": {
      "text/html": [
       " View run at <a href='https://wandb.ai/heitor57/lightning_logs/runs/8lwmigps/workspace' target=\"_blank\">https://wandb.ai/heitor57/lightning_logs/runs/8lwmigps/workspace</a>"
      ],
      "text/plain": [
       "<IPython.core.display.HTML object>"
      ]
     },
     "metadata": {},
     "output_type": "display_data"
    },
    {
     "name": "stderr",
     "output_type": "stream",
     "text": [
      "LOCAL_RANK: 0 - CUDA_VISIBLE_DEVICES: [0,1]\n",
      "\n",
      "  | Name  | Type     | Params\n",
      "-----------------------------------\n",
      "0 | model | GRUModel | 1.1 M \n",
      "-----------------------------------\n",
      "1.1 M     Trainable params\n",
      "0         Non-trainable params\n",
      "1.1 M     Total params\n",
      "4.405     Total estimated model params size (MB)\n"
     ]
    },
    {
     "data": {
      "application/vnd.jupyter.widget-view+json": {
       "model_id": "f31f3997207745daa5ad8f66952584c1",
       "version_major": 2,
       "version_minor": 0
      },
      "text/plain": [
       "Sanity Checking: |          | 0/? [00:00<?, ?it/s]"
      ]
     },
     "metadata": {},
     "output_type": "display_data"
    },
    {
     "data": {
      "application/vnd.jupyter.widget-view+json": {
       "model_id": "c0273873c6a2477da70d974244d121e7",
       "version_major": 2,
       "version_minor": 0
      },
      "text/plain": [
       "Training: |          | 0/? [00:00<?, ?it/s]"
      ]
     },
     "metadata": {},
     "output_type": "display_data"
    },
    {
     "data": {
      "application/vnd.jupyter.widget-view+json": {
       "model_id": "71b378b20224491f9a43e390593345c6",
       "version_major": 2,
       "version_minor": 0
      },
      "text/plain": [
       "Validation: |          | 0/? [00:00<?, ?it/s]"
      ]
     },
     "metadata": {},
     "output_type": "display_data"
    },
    {
     "data": {
      "application/vnd.jupyter.widget-view+json": {
       "model_id": "96a7621bac5f46bba547b5fafa1f09d7",
       "version_major": 2,
       "version_minor": 0
      },
      "text/plain": [
       "Validation: |          | 0/? [00:00<?, ?it/s]"
      ]
     },
     "metadata": {},
     "output_type": "display_data"
    },
    {
     "data": {
      "application/vnd.jupyter.widget-view+json": {
       "model_id": "22841a4769bf4875880509809965ddfe",
       "version_major": 2,
       "version_minor": 0
      },
      "text/plain": [
       "Validation: |          | 0/? [00:00<?, ?it/s]"
      ]
     },
     "metadata": {},
     "output_type": "display_data"
    },
    {
     "data": {
      "application/vnd.jupyter.widget-view+json": {
       "model_id": "05cb2a03e6054664af1a63cf04abe3d7",
       "version_major": 2,
       "version_minor": 0
      },
      "text/plain": [
       "Validation: |          | 0/? [00:00<?, ?it/s]"
      ]
     },
     "metadata": {},
     "output_type": "display_data"
    },
    {
     "data": {
      "application/vnd.jupyter.widget-view+json": {
       "model_id": "92c33a11f86e4566998b7449c36645fe",
       "version_major": 2,
       "version_minor": 0
      },
      "text/plain": [
       "Validation: |          | 0/? [00:00<?, ?it/s]"
      ]
     },
     "metadata": {},
     "output_type": "display_data"
    },
    {
     "data": {
      "application/vnd.jupyter.widget-view+json": {
       "model_id": "d944f66f37934b54b1e7f205a01f9617",
       "version_major": 2,
       "version_minor": 0
      },
      "text/plain": [
       "Validation: |          | 0/? [00:00<?, ?it/s]"
      ]
     },
     "metadata": {},
     "output_type": "display_data"
    },
    {
     "name": "stderr",
     "output_type": "stream",
     "text": [
      "wandb: Network error (ReadTimeout), entering retry loop.\n"
     ]
    },
    {
     "data": {
      "application/vnd.jupyter.widget-view+json": {
       "model_id": "902abbdd6bac48e781ec1f02ea9c8117",
       "version_major": 2,
       "version_minor": 0
      },
      "text/plain": [
       "Validation: |          | 0/? [00:00<?, ?it/s]"
      ]
     },
     "metadata": {},
     "output_type": "display_data"
    },
    {
     "name": "stderr",
     "output_type": "stream",
     "text": [
      "wandb: Network error (ReadTimeout), entering retry loop.\n"
     ]
    },
    {
     "data": {
      "application/vnd.jupyter.widget-view+json": {
       "model_id": "2248a3b0f39a4308b25c08363e64ca9f",
       "version_major": 2,
       "version_minor": 0
      },
      "text/plain": [
       "Validation: |          | 0/? [00:00<?, ?it/s]"
      ]
     },
     "metadata": {},
     "output_type": "display_data"
    },
    {
     "data": {
      "application/vnd.jupyter.widget-view+json": {
       "model_id": "1da178241f5e49e1b30857ead1fc167c",
       "version_major": 2,
       "version_minor": 0
      },
      "text/plain": [
       "Validation: |          | 0/? [00:00<?, ?it/s]"
      ]
     },
     "metadata": {},
     "output_type": "display_data"
    },
    {
     "data": {
      "application/vnd.jupyter.widget-view+json": {
       "model_id": "64308c6efa4348e1905c7717cc4e4faa",
       "version_major": 2,
       "version_minor": 0
      },
      "text/plain": [
       "Validation: |          | 0/? [00:00<?, ?it/s]"
      ]
     },
     "metadata": {},
     "output_type": "display_data"
    },
    {
     "data": {
      "application/vnd.jupyter.widget-view+json": {
       "model_id": "00ab2718e65e4a9fa5a075655658f3aa",
       "version_major": 2,
       "version_minor": 0
      },
      "text/plain": [
       "Validation: |          | 0/? [00:00<?, ?it/s]"
      ]
     },
     "metadata": {},
     "output_type": "display_data"
    },
    {
     "data": {
      "application/vnd.jupyter.widget-view+json": {
       "model_id": "961bbcaa01b74c9dab1b3c1b28f88d7a",
       "version_major": 2,
       "version_minor": 0
      },
      "text/plain": [
       "Validation: |          | 0/? [00:00<?, ?it/s]"
      ]
     },
     "metadata": {},
     "output_type": "display_data"
    },
    {
     "data": {
      "application/vnd.jupyter.widget-view+json": {
       "model_id": "84efd26711854b69851244faa8996ae5",
       "version_major": 2,
       "version_minor": 0
      },
      "text/plain": [
       "Validation: |          | 0/? [00:00<?, ?it/s]"
      ]
     },
     "metadata": {},
     "output_type": "display_data"
    },
    {
     "data": {
      "application/vnd.jupyter.widget-view+json": {
       "model_id": "67f46a2cea3d4739a2ed87faa0bcbe6a",
       "version_major": 2,
       "version_minor": 0
      },
      "text/plain": [
       "Validation: |          | 0/? [00:00<?, ?it/s]"
      ]
     },
     "metadata": {},
     "output_type": "display_data"
    },
    {
     "data": {
      "application/vnd.jupyter.widget-view+json": {
       "model_id": "7dab1644c48742b0b3171d1577594dac",
       "version_major": 2,
       "version_minor": 0
      },
      "text/plain": [
       "Validation: |          | 0/? [00:00<?, ?it/s]"
      ]
     },
     "metadata": {},
     "output_type": "display_data"
    },
    {
     "data": {
      "application/vnd.jupyter.widget-view+json": {
       "model_id": "c1b7dd1698d74f5d894e934d5b750895",
       "version_major": 2,
       "version_minor": 0
      },
      "text/plain": [
       "Validation: |          | 0/? [00:00<?, ?it/s]"
      ]
     },
     "metadata": {},
     "output_type": "display_data"
    },
    {
     "data": {
      "application/vnd.jupyter.widget-view+json": {
       "model_id": "149f9acc183241889172fdfdc3ad8944",
       "version_major": 2,
       "version_minor": 0
      },
      "text/plain": [
       "Validation: |          | 0/? [00:00<?, ?it/s]"
      ]
     },
     "metadata": {},
     "output_type": "display_data"
    },
    {
     "data": {
      "application/vnd.jupyter.widget-view+json": {
       "model_id": "31c570ab67a244019066594ed369d256",
       "version_major": 2,
       "version_minor": 0
      },
      "text/plain": [
       "Validation: |          | 0/? [00:00<?, ?it/s]"
      ]
     },
     "metadata": {},
     "output_type": "display_data"
    }
   ],
   "source": [
    "wandb.finish()\n",
    "wandb_logger = WandbLogger(log_model=\"all\")\n",
    "\n",
    "MAX_EPOCHS=20\n",
    "# timer =  L.pytorch.calalbacks.Timer()\n",
    "def run_fvit_trainer_fit(train_loader,validation_loader,model):\n",
    "    checkpoint_callback = L.pytorch.callbacks.ModelCheckpoint(\n",
    "        monitor='train_loss',\n",
    "        filename='iec104-{epoch:02d}-{loss}',\n",
    "        save_top_k=1,\n",
    "        mode='min', \n",
    "    )\n",
    "    lr_monitor = LearningRateMonitor(logging_interval='epoch')\n",
    "    # early_stop_callback = L.pytorch.callbacks.early_stopping.EarlyStopping(monitor=\"val_loss\", min_delta=0.001, patience=3, verbose=False, mode=\"min\")\n",
    "    # cpb=CustomProgressBar()\n",
    "    trainer = L.Trainer(max_epochs=MAX_EPOCHS,callbacks=[checkpoint_callback,lr_monitor],accelerator='cuda',\n",
    "                        devices=[1],log_every_n_steps=20\n",
    "                        #,check_val_every_n_epoch=1\n",
    "                        # ,limit_train_batches=100,limit_val_batches=100#,max_time={\"minutes\": 60}\n",
    "                        ,logger=wandb_logger)\n",
    "    trainer.fit(model=model, train_dataloaders=train_loader,val_dataloaders=validation_loader)\n",
    "    return checkpoint_callback,trainer\n",
    "checkpoint_callback,trainer=run_fvit_trainer_fit(\n",
    "    train_loader,\n",
    "    validation_loader,\n",
    "     model=model_fvit)"
   ]
  },
  {
   "cell_type": "code",
   "execution_count": null,
   "metadata": {},
   "outputs": [
    {
     "name": "stderr",
     "output_type": "stream",
     "text": [
      "Restoring states from the checkpoint path at ./lightning_logs/jru54kaz/checkpoints/iec104-epoch=09-loss=0.ckpt\n",
      "LOCAL_RANK: 0 - CUDA_VISIBLE_DEVICES: [0,1]\n",
      "Loaded model weights from the checkpoint at ./lightning_logs/jru54kaz/checkpoints/iec104-epoch=09-loss=0.ckpt\n"
     ]
    },
    {
     "data": {
      "application/vnd.jupyter.widget-view+json": {
       "model_id": "f778388c3f084706865f52680e124835",
       "version_major": 2,
       "version_minor": 0
      },
      "text/plain": [
       "Testing: |          | 0/? [00:00<?, ?it/s]"
      ]
     },
     "metadata": {},
     "output_type": "display_data"
    },
    {
     "data": {
      "text/html": [
       "<pre style=\"white-space:pre;overflow-x:auto;line-height:normal;font-family:Menlo,'DejaVu Sans Mono',consolas,'Courier New',monospace\">┏━━━━━━━━━━━━━━━━━━━━━━━━━━━┳━━━━━━━━━━━━━━━━━━━━━━━━━━━┓\n",
       "┃<span style=\"font-weight: bold\">        Test metric        </span>┃<span style=\"font-weight: bold\">       DataLoader 0        </span>┃\n",
       "┡━━━━━━━━━━━━━━━━━━━━━━━━━━━╇━━━━━━━━━━━━━━━━━━━━━━━━━━━┩\n",
       "│<span style=\"color: #008080; text-decoration-color: #008080\">       test_accuracy       </span>│<span style=\"color: #800080; text-decoration-color: #800080\">    0.2369232475757599     </span>│\n",
       "│<span style=\"color: #008080; text-decoration-color: #008080\">         test_fpr          </span>│<span style=\"color: #800080; text-decoration-color: #800080\">    0.07236511260271072    </span>│\n",
       "│<span style=\"color: #008080; text-decoration-color: #008080\">      test_precision       </span>│<span style=\"color: #800080; text-decoration-color: #800080\">    0.1299554407596588     </span>│\n",
       "│<span style=\"color: #008080; text-decoration-color: #008080\">        test_recall        </span>│<span style=\"color: #800080; text-decoration-color: #800080\">    0.2369232475757599     </span>│\n",
       "│<span style=\"color: #008080; text-decoration-color: #008080\">         test_tpr          </span>│<span style=\"color: #800080; text-decoration-color: #800080\">    0.20398376882076263    </span>│\n",
       "└───────────────────────────┴───────────────────────────┘\n",
       "</pre>\n"
      ],
      "text/plain": [
       "┏━━━━━━━━━━━━━━━━━━━━━━━━━━━┳━━━━━━━━━━━━━━━━━━━━━━━━━━━┓\n",
       "┃\u001b[1m \u001b[0m\u001b[1m       Test metric       \u001b[0m\u001b[1m \u001b[0m┃\u001b[1m \u001b[0m\u001b[1m      DataLoader 0       \u001b[0m\u001b[1m \u001b[0m┃\n",
       "┡━━━━━━━━━━━━━━━━━━━━━━━━━━━╇━━━━━━━━━━━━━━━━━━━━━━━━━━━┩\n",
       "│\u001b[36m \u001b[0m\u001b[36m      test_accuracy      \u001b[0m\u001b[36m \u001b[0m│\u001b[35m \u001b[0m\u001b[35m   0.2369232475757599    \u001b[0m\u001b[35m \u001b[0m│\n",
       "│\u001b[36m \u001b[0m\u001b[36m        test_fpr         \u001b[0m\u001b[36m \u001b[0m│\u001b[35m \u001b[0m\u001b[35m   0.07236511260271072   \u001b[0m\u001b[35m \u001b[0m│\n",
       "│\u001b[36m \u001b[0m\u001b[36m     test_precision      \u001b[0m\u001b[36m \u001b[0m│\u001b[35m \u001b[0m\u001b[35m   0.1299554407596588    \u001b[0m\u001b[35m \u001b[0m│\n",
       "│\u001b[36m \u001b[0m\u001b[36m       test_recall       \u001b[0m\u001b[36m \u001b[0m│\u001b[35m \u001b[0m\u001b[35m   0.2369232475757599    \u001b[0m\u001b[35m \u001b[0m│\n",
       "│\u001b[36m \u001b[0m\u001b[36m        test_tpr         \u001b[0m\u001b[36m \u001b[0m│\u001b[35m \u001b[0m\u001b[35m   0.20398376882076263   \u001b[0m\u001b[35m \u001b[0m│\n",
       "└───────────────────────────┴───────────────────────────┘\n"
      ]
     },
     "metadata": {},
     "output_type": "display_data"
    },
    {
     "data": {
      "text/plain": [
       "[{'test_accuracy': 0.2369232475757599,\n",
       "  'test_precision': 0.1299554407596588,\n",
       "  'test_recall': 0.2369232475757599,\n",
       "  'test_tpr': 0.20398376882076263,\n",
       "  'test_fpr': 0.07236511260271072}]"
      ]
     },
     "execution_count": 195,
     "metadata": {},
     "output_type": "execute_result"
    }
   ],
   "source": [
    "trainer.test(ckpt_path=\"best\",dataloaders=test_loader)"
   ]
  },
  {
   "cell_type": "code",
   "execution_count": null,
   "metadata": {},
   "outputs": [
    {
     "name": "stdout",
     "output_type": "stream",
     "text": [
      "Best checkpoint path: ./lightning_logs/jru54kaz/checkpoints/iec104-epoch=09-loss=0.ckpt\n"
     ]
    },
    {
     "data": {
      "text/plain": [
       "LFVIT(\n",
       "  (model): Sequential(\n",
       "    (0): Flatten(start_dim=1, end_dim=-1)\n",
       "    (1): Linear(in_features=520, out_features=256, bias=True)\n",
       "    (2): GELU(approximate='none')\n",
       "    (3): Dropout(p=0.1, inplace=False)\n",
       "    (4): Linear(in_features=256, out_features=128, bias=True)\n",
       "    (5): GELU(approximate='none')\n",
       "    (6): Dropout(p=0.1, inplace=False)\n",
       "    (7): Linear(in_features=128, out_features=64, bias=True)\n",
       "    (8): GELU(approximate='none')\n",
       "    (9): Dropout(p=0.1, inplace=False)\n",
       "    (10): Linear(in_features=64, out_features=32, bias=True)\n",
       "    (11): GELU(approximate='none')\n",
       "    (12): Dropout(p=0.1, inplace=False)\n",
       "    (13): Linear(in_features=32, out_features=12, bias=True)\n",
       "    (14): GELU(approximate='none')\n",
       "    (15): Dropout(p=0.1, inplace=False)\n",
       "    (16): Softmax(dim=1)\n",
       "  )\n",
       ")"
      ]
     },
     "execution_count": 196,
     "metadata": {},
     "output_type": "execute_result"
    }
   ],
   "source": [
    "best_checkpoint_path = checkpoint_callback.best_model_path\n",
    "print(f\"Best checkpoint path: {best_checkpoint_path}\")\n",
    "best_model= LFVIT.load_from_checkpoint(best_checkpoint_path,model=model_fvit.model,name=model_fvit.name)\n",
    "best_model.to(DEVICE)"
   ]
  },
  {
   "cell_type": "code",
   "execution_count": null,
   "metadata": {},
   "outputs": [],
   "source": [
    "import time\n",
    "from constants import NUMBER_PACKETS_OPTIONS\n",
    "import constants"
   ]
  },
  {
   "cell_type": "code",
   "execution_count": null,
   "metadata": {},
   "outputs": [
    {
     "data": {
      "text/plain": [
       "'cuda:1'"
      ]
     },
     "execution_count": 198,
     "metadata": {},
     "output_type": "execute_result"
    }
   ],
   "source": [
    "DEVICE"
   ]
  },
  {
   "cell_type": "code",
   "execution_count": null,
   "metadata": {},
   "outputs": [],
   "source": [
    "# best_model = model_fvit\n",
    "\n",
    "# best_checkpoint_path = checkpoint_callback.best_model_path\n",
    "# print(f\"Best checkpoint path: {best_checkpoint_path}\")\n",
    "# best_model = LFVIT.load_from_checkpoint(best_checkpoint_path,model=GRUModel(NUM_FEATURES, NUM_CLASSES, SEQ_LEN),name='GRU')"
   ]
  },
  {
   "cell_type": "code",
   "execution_count": null,
   "metadata": {},
   "outputs": [
    {
     "name": "stderr",
     "output_type": "stream",
     "text": [
      "LOCAL_RANK: 0 - CUDA_VISIBLE_DEVICES: [0,1]\n"
     ]
    },
    {
     "data": {
      "application/vnd.jupyter.widget-view+json": {
       "model_id": "a3fe8d66dba74c3ca1eeb217c773e695",
       "version_major": 2,
       "version_minor": 0
      },
      "text/plain": [
       "Testing: |          | 0/? [00:00<?, ?it/s]"
      ]
     },
     "metadata": {},
     "output_type": "display_data"
    },
    {
     "data": {
      "text/html": [
       "<pre style=\"white-space:pre;overflow-x:auto;line-height:normal;font-family:Menlo,'DejaVu Sans Mono',consolas,'Courier New',monospace\">┏━━━━━━━━━━━━━━━━━━━━━━━━━━━┳━━━━━━━━━━━━━━━━━━━━━━━━━━━┓\n",
       "┃<span style=\"font-weight: bold\">        Test metric        </span>┃<span style=\"font-weight: bold\">       DataLoader 0        </span>┃\n",
       "┡━━━━━━━━━━━━━━━━━━━━━━━━━━━╇━━━━━━━━━━━━━━━━━━━━━━━━━━━┩\n",
       "│<span style=\"color: #008080; text-decoration-color: #008080\">       test_accuracy       </span>│<span style=\"color: #800080; text-decoration-color: #800080\">    0.2369232475757599     </span>│\n",
       "│<span style=\"color: #008080; text-decoration-color: #008080\">         test_fpr          </span>│<span style=\"color: #800080; text-decoration-color: #800080\">    0.07236511260271072    </span>│\n",
       "│<span style=\"color: #008080; text-decoration-color: #008080\">      test_precision       </span>│<span style=\"color: #800080; text-decoration-color: #800080\">    0.1299554407596588     </span>│\n",
       "│<span style=\"color: #008080; text-decoration-color: #008080\">        test_recall        </span>│<span style=\"color: #800080; text-decoration-color: #800080\">    0.2369232475757599     </span>│\n",
       "│<span style=\"color: #008080; text-decoration-color: #008080\">         test_tpr          </span>│<span style=\"color: #800080; text-decoration-color: #800080\">    0.20398376882076263    </span>│\n",
       "└───────────────────────────┴───────────────────────────┘\n",
       "</pre>\n"
      ],
      "text/plain": [
       "┏━━━━━━━━━━━━━━━━━━━━━━━━━━━┳━━━━━━━━━━━━━━━━━━━━━━━━━━━┓\n",
       "┃\u001b[1m \u001b[0m\u001b[1m       Test metric       \u001b[0m\u001b[1m \u001b[0m┃\u001b[1m \u001b[0m\u001b[1m      DataLoader 0       \u001b[0m\u001b[1m \u001b[0m┃\n",
       "┡━━━━━━━━━━━━━━━━━━━━━━━━━━━╇━━━━━━━━━━━━━━━━━━━━━━━━━━━┩\n",
       "│\u001b[36m \u001b[0m\u001b[36m      test_accuracy      \u001b[0m\u001b[36m \u001b[0m│\u001b[35m \u001b[0m\u001b[35m   0.2369232475757599    \u001b[0m\u001b[35m \u001b[0m│\n",
       "│\u001b[36m \u001b[0m\u001b[36m        test_fpr         \u001b[0m\u001b[36m \u001b[0m│\u001b[35m \u001b[0m\u001b[35m   0.07236511260271072   \u001b[0m\u001b[35m \u001b[0m│\n",
       "│\u001b[36m \u001b[0m\u001b[36m     test_precision      \u001b[0m\u001b[36m \u001b[0m│\u001b[35m \u001b[0m\u001b[35m   0.1299554407596588    \u001b[0m\u001b[35m \u001b[0m│\n",
       "│\u001b[36m \u001b[0m\u001b[36m       test_recall       \u001b[0m\u001b[36m \u001b[0m│\u001b[35m \u001b[0m\u001b[35m   0.2369232475757599    \u001b[0m\u001b[35m \u001b[0m│\n",
       "│\u001b[36m \u001b[0m\u001b[36m        test_tpr         \u001b[0m\u001b[36m \u001b[0m│\u001b[35m \u001b[0m\u001b[35m   0.20398376882076263   \u001b[0m\u001b[35m \u001b[0m│\n",
       "└───────────────────────────┴───────────────────────────┘\n"
      ]
     },
     "metadata": {},
     "output_type": "display_data"
    },
    {
     "name": "stderr",
     "output_type": "stream",
     "text": [
      "LOCAL_RANK: 0 - CUDA_VISIBLE_DEVICES: [0,1]\n"
     ]
    },
    {
     "data": {
      "application/vnd.jupyter.widget-view+json": {
       "model_id": "c5460f71af6546c9ab965368447413b8",
       "version_major": 2,
       "version_minor": 0
      },
      "text/plain": [
       "Testing: |          | 0/? [00:00<?, ?it/s]"
      ]
     },
     "metadata": {},
     "output_type": "display_data"
    },
    {
     "data": {
      "text/html": [
       "<pre style=\"white-space:pre;overflow-x:auto;line-height:normal;font-family:Menlo,'DejaVu Sans Mono',consolas,'Courier New',monospace\">┏━━━━━━━━━━━━━━━━━━━━━━━━━━━┳━━━━━━━━━━━━━━━━━━━━━━━━━━━┓\n",
       "┃<span style=\"font-weight: bold\">        Test metric        </span>┃<span style=\"font-weight: bold\">       DataLoader 0        </span>┃\n",
       "┡━━━━━━━━━━━━━━━━━━━━━━━━━━━╇━━━━━━━━━━━━━━━━━━━━━━━━━━━┩\n",
       "│<span style=\"color: #008080; text-decoration-color: #008080\">       test_accuracy       </span>│<span style=\"color: #800080; text-decoration-color: #800080\">    0.0833333358168602     </span>│\n",
       "│<span style=\"color: #008080; text-decoration-color: #008080\">         test_fpr          </span>│<span style=\"color: #800080; text-decoration-color: #800080\">    0.0832970067858696     </span>│\n",
       "│<span style=\"color: #008080; text-decoration-color: #008080\">      test_precision       </span>│<span style=\"color: #800080; text-decoration-color: #800080\">    0.00698031997308135    </span>│\n",
       "│<span style=\"color: #008080; text-decoration-color: #008080\">        test_recall        </span>│<span style=\"color: #800080; text-decoration-color: #800080\">    0.0833333358168602     </span>│\n",
       "│<span style=\"color: #008080; text-decoration-color: #008080\">         test_tpr          </span>│<span style=\"color: #800080; text-decoration-color: #800080\">    0.08373294025659561    </span>│\n",
       "└───────────────────────────┴───────────────────────────┘\n",
       "</pre>\n"
      ],
      "text/plain": [
       "┏━━━━━━━━━━━━━━━━━━━━━━━━━━━┳━━━━━━━━━━━━━━━━━━━━━━━━━━━┓\n",
       "┃\u001b[1m \u001b[0m\u001b[1m       Test metric       \u001b[0m\u001b[1m \u001b[0m┃\u001b[1m \u001b[0m\u001b[1m      DataLoader 0       \u001b[0m\u001b[1m \u001b[0m┃\n",
       "┡━━━━━━━━━━━━━━━━━━━━━━━━━━━╇━━━━━━━━━━━━━━━━━━━━━━━━━━━┩\n",
       "│\u001b[36m \u001b[0m\u001b[36m      test_accuracy      \u001b[0m\u001b[36m \u001b[0m│\u001b[35m \u001b[0m\u001b[35m   0.0833333358168602    \u001b[0m\u001b[35m \u001b[0m│\n",
       "│\u001b[36m \u001b[0m\u001b[36m        test_fpr         \u001b[0m\u001b[36m \u001b[0m│\u001b[35m \u001b[0m\u001b[35m   0.0832970067858696    \u001b[0m\u001b[35m \u001b[0m│\n",
       "│\u001b[36m \u001b[0m\u001b[36m     test_precision      \u001b[0m\u001b[36m \u001b[0m│\u001b[35m \u001b[0m\u001b[35m   0.00698031997308135   \u001b[0m\u001b[35m \u001b[0m│\n",
       "│\u001b[36m \u001b[0m\u001b[36m       test_recall       \u001b[0m\u001b[36m \u001b[0m│\u001b[35m \u001b[0m\u001b[35m   0.0833333358168602    \u001b[0m\u001b[35m \u001b[0m│\n",
       "│\u001b[36m \u001b[0m\u001b[36m        test_tpr         \u001b[0m\u001b[36m \u001b[0m│\u001b[35m \u001b[0m\u001b[35m   0.08373294025659561   \u001b[0m\u001b[35m \u001b[0m│\n",
       "└───────────────────────────┴───────────────────────────┘\n"
      ]
     },
     "metadata": {},
     "output_type": "display_data"
    },
    {
     "name": "stderr",
     "output_type": "stream",
     "text": [
      "LOCAL_RANK: 0 - CUDA_VISIBLE_DEVICES: [0,1]\n"
     ]
    },
    {
     "data": {
      "application/vnd.jupyter.widget-view+json": {
       "model_id": "23a14451321d45fb89d146ed6c3c0b77",
       "version_major": 2,
       "version_minor": 0
      },
      "text/plain": [
       "Testing: |          | 0/? [00:00<?, ?it/s]"
      ]
     },
     "metadata": {},
     "output_type": "display_data"
    },
    {
     "data": {
      "text/html": [
       "<pre style=\"white-space:pre;overflow-x:auto;line-height:normal;font-family:Menlo,'DejaVu Sans Mono',consolas,'Courier New',monospace\">┏━━━━━━━━━━━━━━━━━━━━━━━━━━━┳━━━━━━━━━━━━━━━━━━━━━━━━━━━┓\n",
       "┃<span style=\"font-weight: bold\">        Test metric        </span>┃<span style=\"font-weight: bold\">       DataLoader 0        </span>┃\n",
       "┡━━━━━━━━━━━━━━━━━━━━━━━━━━━╇━━━━━━━━━━━━━━━━━━━━━━━━━━━┩\n",
       "│<span style=\"color: #008080; text-decoration-color: #008080\">       test_accuracy       </span>│<span style=\"color: #800080; text-decoration-color: #800080\">    0.08502686768770218    </span>│\n",
       "│<span style=\"color: #008080; text-decoration-color: #008080\">         test_fpr          </span>│<span style=\"color: #800080; text-decoration-color: #800080\">    0.07923946529626846    </span>│\n",
       "│<span style=\"color: #008080; text-decoration-color: #008080\">      test_precision       </span>│<span style=\"color: #800080; text-decoration-color: #800080\">    0.03157495707273483    </span>│\n",
       "│<span style=\"color: #008080; text-decoration-color: #008080\">        test_recall        </span>│<span style=\"color: #800080; text-decoration-color: #800080\">    0.08502686768770218    </span>│\n",
       "│<span style=\"color: #008080; text-decoration-color: #008080\">         test_tpr          </span>│<span style=\"color: #800080; text-decoration-color: #800080\">    0.1283659189939499     </span>│\n",
       "└───────────────────────────┴───────────────────────────┘\n",
       "</pre>\n"
      ],
      "text/plain": [
       "┏━━━━━━━━━━━━━━━━━━━━━━━━━━━┳━━━━━━━━━━━━━━━━━━━━━━━━━━━┓\n",
       "┃\u001b[1m \u001b[0m\u001b[1m       Test metric       \u001b[0m\u001b[1m \u001b[0m┃\u001b[1m \u001b[0m\u001b[1m      DataLoader 0       \u001b[0m\u001b[1m \u001b[0m┃\n",
       "┡━━━━━━━━━━━━━━━━━━━━━━━━━━━╇━━━━━━━━━━━━━━━━━━━━━━━━━━━┩\n",
       "│\u001b[36m \u001b[0m\u001b[36m      test_accuracy      \u001b[0m\u001b[36m \u001b[0m│\u001b[35m \u001b[0m\u001b[35m   0.08502686768770218   \u001b[0m\u001b[35m \u001b[0m│\n",
       "│\u001b[36m \u001b[0m\u001b[36m        test_fpr         \u001b[0m\u001b[36m \u001b[0m│\u001b[35m \u001b[0m\u001b[35m   0.07923946529626846   \u001b[0m\u001b[35m \u001b[0m│\n",
       "│\u001b[36m \u001b[0m\u001b[36m     test_precision      \u001b[0m\u001b[36m \u001b[0m│\u001b[35m \u001b[0m\u001b[35m   0.03157495707273483   \u001b[0m\u001b[35m \u001b[0m│\n",
       "│\u001b[36m \u001b[0m\u001b[36m       test_recall       \u001b[0m\u001b[36m \u001b[0m│\u001b[35m \u001b[0m\u001b[35m   0.08502686768770218   \u001b[0m\u001b[35m \u001b[0m│\n",
       "│\u001b[36m \u001b[0m\u001b[36m        test_tpr         \u001b[0m\u001b[36m \u001b[0m│\u001b[35m \u001b[0m\u001b[35m   0.1283659189939499    \u001b[0m\u001b[35m \u001b[0m│\n",
       "└───────────────────────────┴───────────────────────────┘\n"
      ]
     },
     "metadata": {},
     "output_type": "display_data"
    },
    {
     "name": "stderr",
     "output_type": "stream",
     "text": [
      "LOCAL_RANK: 0 - CUDA_VISIBLE_DEVICES: [0,1]\n"
     ]
    },
    {
     "data": {
      "application/vnd.jupyter.widget-view+json": {
       "model_id": "505c20d0c4ee40fba9e09c1c9f6d611b",
       "version_major": 2,
       "version_minor": 0
      },
      "text/plain": [
       "Testing: |          | 0/? [00:00<?, ?it/s]"
      ]
     },
     "metadata": {},
     "output_type": "display_data"
    },
    {
     "data": {
      "text/html": [
       "<pre style=\"white-space:pre;overflow-x:auto;line-height:normal;font-family:Menlo,'DejaVu Sans Mono',consolas,'Courier New',monospace\">┏━━━━━━━━━━━━━━━━━━━━━━━━━━━┳━━━━━━━━━━━━━━━━━━━━━━━━━━━┓\n",
       "┃<span style=\"font-weight: bold\">        Test metric        </span>┃<span style=\"font-weight: bold\">       DataLoader 0        </span>┃\n",
       "┡━━━━━━━━━━━━━━━━━━━━━━━━━━━╇━━━━━━━━━━━━━━━━━━━━━━━━━━━┩\n",
       "│<span style=\"color: #008080; text-decoration-color: #008080\">       test_accuracy       </span>│<span style=\"color: #800080; text-decoration-color: #800080\">    0.2369232475757599     </span>│\n",
       "│<span style=\"color: #008080; text-decoration-color: #008080\">         test_fpr          </span>│<span style=\"color: #800080; text-decoration-color: #800080\">    0.07236511260271072    </span>│\n",
       "│<span style=\"color: #008080; text-decoration-color: #008080\">      test_precision       </span>│<span style=\"color: #800080; text-decoration-color: #800080\">    0.1299554407596588     </span>│\n",
       "│<span style=\"color: #008080; text-decoration-color: #008080\">        test_recall        </span>│<span style=\"color: #800080; text-decoration-color: #800080\">    0.2369232475757599     </span>│\n",
       "│<span style=\"color: #008080; text-decoration-color: #008080\">         test_tpr          </span>│<span style=\"color: #800080; text-decoration-color: #800080\">    0.20398376882076263    </span>│\n",
       "└───────────────────────────┴───────────────────────────┘\n",
       "</pre>\n"
      ],
      "text/plain": [
       "┏━━━━━━━━━━━━━━━━━━━━━━━━━━━┳━━━━━━━━━━━━━━━━━━━━━━━━━━━┓\n",
       "┃\u001b[1m \u001b[0m\u001b[1m       Test metric       \u001b[0m\u001b[1m \u001b[0m┃\u001b[1m \u001b[0m\u001b[1m      DataLoader 0       \u001b[0m\u001b[1m \u001b[0m┃\n",
       "┡━━━━━━━━━━━━━━━━━━━━━━━━━━━╇━━━━━━━━━━━━━━━━━━━━━━━━━━━┩\n",
       "│\u001b[36m \u001b[0m\u001b[36m      test_accuracy      \u001b[0m\u001b[36m \u001b[0m│\u001b[35m \u001b[0m\u001b[35m   0.2369232475757599    \u001b[0m\u001b[35m \u001b[0m│\n",
       "│\u001b[36m \u001b[0m\u001b[36m        test_fpr         \u001b[0m\u001b[36m \u001b[0m│\u001b[35m \u001b[0m\u001b[35m   0.07236511260271072   \u001b[0m\u001b[35m \u001b[0m│\n",
       "│\u001b[36m \u001b[0m\u001b[36m     test_precision      \u001b[0m\u001b[36m \u001b[0m│\u001b[35m \u001b[0m\u001b[35m   0.1299554407596588    \u001b[0m\u001b[35m \u001b[0m│\n",
       "│\u001b[36m \u001b[0m\u001b[36m       test_recall       \u001b[0m\u001b[36m \u001b[0m│\u001b[35m \u001b[0m\u001b[35m   0.2369232475757599    \u001b[0m\u001b[35m \u001b[0m│\n",
       "│\u001b[36m \u001b[0m\u001b[36m        test_tpr         \u001b[0m\u001b[36m \u001b[0m│\u001b[35m \u001b[0m\u001b[35m   0.20398376882076263   \u001b[0m\u001b[35m \u001b[0m│\n",
       "└───────────────────────────┴───────────────────────────┘\n"
      ]
     },
     "metadata": {},
     "output_type": "display_data"
    },
    {
     "name": "stderr",
     "output_type": "stream",
     "text": [
      "LOCAL_RANK: 0 - CUDA_VISIBLE_DEVICES: [0,1]\n"
     ]
    },
    {
     "data": {
      "application/vnd.jupyter.widget-view+json": {
       "model_id": "81e171e7f9454f79bf2cbf576bfaf41e",
       "version_major": 2,
       "version_minor": 0
      },
      "text/plain": [
       "Testing: |          | 0/? [00:00<?, ?it/s]"
      ]
     },
     "metadata": {},
     "output_type": "display_data"
    },
    {
     "data": {
      "text/html": [
       "<pre style=\"white-space:pre;overflow-x:auto;line-height:normal;font-family:Menlo,'DejaVu Sans Mono',consolas,'Courier New',monospace\">┏━━━━━━━━━━━━━━━━━━━━━━━━━━━┳━━━━━━━━━━━━━━━━━━━━━━━━━━━┓\n",
       "┃<span style=\"font-weight: bold\">        Test metric        </span>┃<span style=\"font-weight: bold\">       DataLoader 0        </span>┃\n",
       "┡━━━━━━━━━━━━━━━━━━━━━━━━━━━╇━━━━━━━━━━━━━━━━━━━━━━━━━━━┩\n",
       "│<span style=\"color: #008080; text-decoration-color: #008080\">       test_accuracy       </span>│<span style=\"color: #800080; text-decoration-color: #800080\">    0.2369232475757599     </span>│\n",
       "│<span style=\"color: #008080; text-decoration-color: #008080\">         test_fpr          </span>│<span style=\"color: #800080; text-decoration-color: #800080\">    0.07236511260271072    </span>│\n",
       "│<span style=\"color: #008080; text-decoration-color: #008080\">      test_precision       </span>│<span style=\"color: #800080; text-decoration-color: #800080\">    0.1299554407596588     </span>│\n",
       "│<span style=\"color: #008080; text-decoration-color: #008080\">        test_recall        </span>│<span style=\"color: #800080; text-decoration-color: #800080\">    0.2369232475757599     </span>│\n",
       "│<span style=\"color: #008080; text-decoration-color: #008080\">         test_tpr          </span>│<span style=\"color: #800080; text-decoration-color: #800080\">    0.20398376882076263    </span>│\n",
       "└───────────────────────────┴───────────────────────────┘\n",
       "</pre>\n"
      ],
      "text/plain": [
       "┏━━━━━━━━━━━━━━━━━━━━━━━━━━━┳━━━━━━━━━━━━━━━━━━━━━━━━━━━┓\n",
       "┃\u001b[1m \u001b[0m\u001b[1m       Test metric       \u001b[0m\u001b[1m \u001b[0m┃\u001b[1m \u001b[0m\u001b[1m      DataLoader 0       \u001b[0m\u001b[1m \u001b[0m┃\n",
       "┡━━━━━━━━━━━━━━━━━━━━━━━━━━━╇━━━━━━━━━━━━━━━━━━━━━━━━━━━┩\n",
       "│\u001b[36m \u001b[0m\u001b[36m      test_accuracy      \u001b[0m\u001b[36m \u001b[0m│\u001b[35m \u001b[0m\u001b[35m   0.2369232475757599    \u001b[0m\u001b[35m \u001b[0m│\n",
       "│\u001b[36m \u001b[0m\u001b[36m        test_fpr         \u001b[0m\u001b[36m \u001b[0m│\u001b[35m \u001b[0m\u001b[35m   0.07236511260271072   \u001b[0m\u001b[35m \u001b[0m│\n",
       "│\u001b[36m \u001b[0m\u001b[36m     test_precision      \u001b[0m\u001b[36m \u001b[0m│\u001b[35m \u001b[0m\u001b[35m   0.1299554407596588    \u001b[0m\u001b[35m \u001b[0m│\n",
       "│\u001b[36m \u001b[0m\u001b[36m       test_recall       \u001b[0m\u001b[36m \u001b[0m│\u001b[35m \u001b[0m\u001b[35m   0.2369232475757599    \u001b[0m\u001b[35m \u001b[0m│\n",
       "│\u001b[36m \u001b[0m\u001b[36m        test_tpr         \u001b[0m\u001b[36m \u001b[0m│\u001b[35m \u001b[0m\u001b[35m   0.20398376882076263   \u001b[0m\u001b[35m \u001b[0m│\n",
       "└───────────────────────────┴───────────────────────────┘\n"
      ]
     },
     "metadata": {},
     "output_type": "display_data"
    }
   ],
   "source": [
    "def run_experiment(df,num_packets):\n",
    "    if num_packets != 'full':\n",
    "        df = df[df['packet_number'].isin(list(range(num_packets)))]\n",
    "        df = df.groupby(level='flow').filter(lambda x: len(x) <= num_packets)\n",
    "    test_dataset = IEC104Dataset(df,transform = feature_transform)\n",
    "    test_loader = data_utils.DataLoader(dataset = test_dataset, batch_size = 1,num_workers=NUM_WORKERS,prefetch_factor=PREFETCH_FACTOR)#,collate_fn = collate_fn)\n",
    "\n",
    "    # test_dataset = IEC104Dataset(df_test,transform = feature_transform)\n",
    "    # test_loader = data_utils.DataLoader(dataset = test_dataset, batch_size = 1,num_workers=NUM_WORKERS,prefetch_factor=PREFETCH_FACTOR)\n",
    "\n",
    "\n",
    "    \n",
    "\n",
    "    # Run predictions and measure time\n",
    "    # all_preds = []\n",
    "    prediction_times=[]\n",
    "    start_time = time.time()\n",
    "    best_model.to(DEVICE)\n",
    "    best_model.eval()\n",
    "    with torch.no_grad():\n",
    "        for batch in test_loader:\n",
    "            inputs, _ = batch\n",
    "            inputs= inputs.to(DEVICE)\n",
    "            batch_start_time = time.time()\n",
    "            # print(inputs.shape)\n",
    "            preds = best_model(inputs)\n",
    "            batch_end_time = time.time()\n",
    "            batch_time = batch_end_time - batch_start_time\n",
    "            prediction_times.append(batch_time)\n",
    "\n",
    "            # print(f\"Batch prediction time: {batch_time:.4f} seconds\")\n",
    "            # all_preds.append(preds)\n",
    "    prediction_times= pd.DataFrame(prediction_times)\n",
    "    metrics_results = trainer.test(best_model,dataloaders=test_loader)\n",
    "    metrics_results= metrics_results[0]\n",
    "    formatted_metrics = constants.metrics_log_formatter(model_name, \"\", num_packets, TIMEOUT,\n",
    "        accuracy=metrics_results['test_accuracy'],\n",
    "                                          precision=metrics_results['test_precision'],\n",
    "                                          recall=metrics_results['test_recall'],\n",
    "                                          cm=None,\n",
    "                                          tpr_micro=metrics_results['test_tpr'],\n",
    "                                          fpr_micro=metrics_results['test_fpr'],\n",
    "                                          avg_pred_time=prediction_times.mean().item(),\n",
    "                                          std_pred_time=prediction_times.std().item(),\n",
    "                                          avg_throughput=1/prediction_times.mean().item(),\n",
    "                                          std_throughput=(1/prediction_times).std().item(),\n",
    "                                          avg_total_pred_time=prediction_times.mean().item(),\n",
    "                                          std_total_pred_time=prediction_times.std().item(),\n",
    "                                          avg_total_throughput=1/prediction_times.mean().item(),\n",
    "                                          std_total_throughput=(1/prediction_times).std().item())\n",
    "\n",
    "    return formatted_metrics\n",
    "    # total_time = time.time() - start_time\n",
    "    # print(f\"Total prediction time for the dataset: {total_time:.4f} seconds\")\n",
    "\n",
    "    # # Flatten all predictions into a single tensor\n",
    "    # all_preds = torch.cat(all_preds, dim=0)\n",
    "\n",
    "    # print(f\"Predictions shape: {all_preds.shape}\")\n",
    "\n",
    "\n",
    "model_name = best_model.name\n",
    "\n",
    "results = []\n",
    "full_packets = 'full'\n",
    "res= run_experiment(df_test,full_packets)\n",
    "# performance_metrics =constants.metadata_log_formatter(model_name, \"\", full_packets, TIMEOUT)\n",
    "# res = evaluate_model_performance(best_model, X_tests[number_packets], y_tests[number_packets], NUM_RUNS)\n",
    "# performance_metrics.update(res)\n",
    "results.append(res)\n",
    "\n",
    "for number_packets in NUMBER_PACKETS_OPTIONS:\n",
    "    # df_test=pd.read_parquet(f'data/iec104_test_{TIMEOUT}.parquet')\n",
    "    res= run_experiment(df_test,number_packets)\n",
    "    # performance_metrics = constants.metadata_log_formatter(model_name, \"\", number_packets, TIMEOUT)\n",
    "    # res = evaluate_model_performance(best_model, X_tests[number_packets], y_tests[number_packets], NUM_RUNS)\n",
    "    # performance_metrics.update(res)\n",
    "    results.append(res)\n",
    "\n",
    "df_results = pd.DataFrame(results)\n",
    "\n",
    "output_path= 'data/results_fids.json'\n",
    "df_results.to_json(output_path, mode='a',orient=\"records\", lines=True)#, header=not os.path.exists(output_path))"
   ]
  }
 ],
 "metadata": {
  "accelerator": "GPU",
  "colab": {
   "gpuType": "T4",
   "provenance": []
  },
  "kernelspec": {
   "display_name": "Python 3 (ipykernel)",
   "language": "python",
   "name": "python3"
  },
  "language_info": {
   "codemirror_mode": {
    "name": "ipython",
    "version": 3
   },
   "file_extension": ".py",
   "mimetype": "text/x-python",
   "name": "python",
   "nbconvert_exporter": "python",
   "pygments_lexer": "ipython3",
   "version": "3.12.2"
  },
  "widgets": {
   "application/vnd.jupyter.widget-state+json": {
    "009666ee40b94f058e2c62ddb22146fc": {
     "model_module": "@jupyter-widgets/controls",
     "model_module_version": "1.5.0",
     "model_name": "HTMLModel",
     "state": {
      "_dom_classes": [],
      "_model_module": "@jupyter-widgets/controls",
      "_model_module_version": "1.5.0",
      "_model_name": "HTMLModel",
      "_view_count": null,
      "_view_module": "@jupyter-widgets/controls",
      "_view_module_version": "1.5.0",
      "_view_name": "HTMLView",
      "description": "",
      "description_tooltip": null,
      "layout": "IPY_MODEL_ddaaf2ef9e6d4e5ebaaee489b515a1c0",
      "placeholder": "​",
      "style": "IPY_MODEL_97870065ddc6420b81c31fb0e3b00f41",
      "value": "Validation DataLoader 0: 100%"
     }
    },
    "021a87e515cf4647ad3436d3e38c9176": {
     "model_module": "@jupyter-widgets/controls",
     "model_module_version": "1.5.0",
     "model_name": "ProgressStyleModel",
     "state": {
      "_model_module": "@jupyter-widgets/controls",
      "_model_module_version": "1.5.0",
      "_model_name": "ProgressStyleModel",
      "_view_count": null,
      "_view_module": "@jupyter-widgets/base",
      "_view_module_version": "1.2.0",
      "_view_name": "StyleView",
      "bar_color": null,
      "description_width": ""
     }
    },
    "021ebbb9ff6c49e6bf8578278fc7502b": {
     "model_module": "@jupyter-widgets/controls",
     "model_module_version": "1.5.0",
     "model_name": "DescriptionStyleModel",
     "state": {
      "_model_module": "@jupyter-widgets/controls",
      "_model_module_version": "1.5.0",
      "_model_name": "DescriptionStyleModel",
      "_view_count": null,
      "_view_module": "@jupyter-widgets/base",
      "_view_module_version": "1.2.0",
      "_view_name": "StyleView",
      "description_width": ""
     }
    },
    "0282077701744dad85ba9aa8ee121dae": {
     "model_module": "@jupyter-widgets/controls",
     "model_module_version": "1.5.0",
     "model_name": "FloatProgressModel",
     "state": {
      "_dom_classes": [],
      "_model_module": "@jupyter-widgets/controls",
      "_model_module_version": "1.5.0",
      "_model_name": "FloatProgressModel",
      "_view_count": null,
      "_view_module": "@jupyter-widgets/controls",
      "_view_module_version": "1.5.0",
      "_view_name": "ProgressView",
      "bar_style": "success",
      "description": "",
      "description_tooltip": null,
      "layout": "IPY_MODEL_43efe1e0dc5d459ab3380bccb25842a0",
      "max": 131,
      "min": 0,
      "orientation": "horizontal",
      "style": "IPY_MODEL_de411f5cee064afb81f239b6b6950fe0",
      "value": 131
     }
    },
    "02b01aa8b8e44b65b1761bd8b6f578a0": {
     "model_module": "@jupyter-widgets/controls",
     "model_module_version": "1.5.0",
     "model_name": "ProgressStyleModel",
     "state": {
      "_model_module": "@jupyter-widgets/controls",
      "_model_module_version": "1.5.0",
      "_model_name": "ProgressStyleModel",
      "_view_count": null,
      "_view_module": "@jupyter-widgets/base",
      "_view_module_version": "1.2.0",
      "_view_name": "StyleView",
      "bar_color": null,
      "description_width": ""
     }
    },
    "095e6be8c5334b26b0b68f3eba5f810d": {
     "model_module": "@jupyter-widgets/controls",
     "model_module_version": "1.5.0",
     "model_name": "DescriptionStyleModel",
     "state": {
      "_model_module": "@jupyter-widgets/controls",
      "_model_module_version": "1.5.0",
      "_model_name": "DescriptionStyleModel",
      "_view_count": null,
      "_view_module": "@jupyter-widgets/base",
      "_view_module_version": "1.2.0",
      "_view_name": "StyleView",
      "description_width": ""
     }
    },
    "0a730dd018c14709ab3aa6aab7e125e4": {
     "model_module": "@jupyter-widgets/base",
     "model_module_version": "1.2.0",
     "model_name": "LayoutModel",
     "state": {
      "_model_module": "@jupyter-widgets/base",
      "_model_module_version": "1.2.0",
      "_model_name": "LayoutModel",
      "_view_count": null,
      "_view_module": "@jupyter-widgets/base",
      "_view_module_version": "1.2.0",
      "_view_name": "LayoutView",
      "align_content": null,
      "align_items": null,
      "align_self": null,
      "border": null,
      "bottom": null,
      "display": null,
      "flex": "2",
      "flex_flow": null,
      "grid_area": null,
      "grid_auto_columns": null,
      "grid_auto_flow": null,
      "grid_auto_rows": null,
      "grid_column": null,
      "grid_gap": null,
      "grid_row": null,
      "grid_template_areas": null,
      "grid_template_columns": null,
      "grid_template_rows": null,
      "height": null,
      "justify_content": null,
      "justify_items": null,
      "left": null,
      "margin": null,
      "max_height": null,
      "max_width": null,
      "min_height": null,
      "min_width": null,
      "object_fit": null,
      "object_position": null,
      "order": null,
      "overflow": null,
      "overflow_x": null,
      "overflow_y": null,
      "padding": null,
      "right": null,
      "top": null,
      "visibility": null,
      "width": null
     }
    },
    "0cd3593c37c54f108d2d9233511b6c18": {
     "model_module": "@jupyter-widgets/base",
     "model_module_version": "1.2.0",
     "model_name": "LayoutModel",
     "state": {
      "_model_module": "@jupyter-widgets/base",
      "_model_module_version": "1.2.0",
      "_model_name": "LayoutModel",
      "_view_count": null,
      "_view_module": "@jupyter-widgets/base",
      "_view_module_version": "1.2.0",
      "_view_name": "LayoutView",
      "align_content": null,
      "align_items": null,
      "align_self": null,
      "border": null,
      "bottom": null,
      "display": null,
      "flex": null,
      "flex_flow": null,
      "grid_area": null,
      "grid_auto_columns": null,
      "grid_auto_flow": null,
      "grid_auto_rows": null,
      "grid_column": null,
      "grid_gap": null,
      "grid_row": null,
      "grid_template_areas": null,
      "grid_template_columns": null,
      "grid_template_rows": null,
      "height": null,
      "justify_content": null,
      "justify_items": null,
      "left": null,
      "margin": null,
      "max_height": null,
      "max_width": null,
      "min_height": null,
      "min_width": null,
      "object_fit": null,
      "object_position": null,
      "order": null,
      "overflow": null,
      "overflow_x": null,
      "overflow_y": null,
      "padding": null,
      "right": null,
      "top": null,
      "visibility": null,
      "width": null
     }
    },
    "106b892bf4584e7d8be1e5e8f49e2f00": {
     "model_module": "@jupyter-widgets/controls",
     "model_module_version": "1.5.0",
     "model_name": "HTMLModel",
     "state": {
      "_dom_classes": [],
      "_model_module": "@jupyter-widgets/controls",
      "_model_module_version": "1.5.0",
      "_model_name": "HTMLModel",
      "_view_count": null,
      "_view_module": "@jupyter-widgets/controls",
      "_view_module_version": "1.5.0",
      "_view_name": "HTMLView",
      "description": "",
      "description_tooltip": null,
      "layout": "IPY_MODEL_2ea43c564f3143e6a9118a0dcd867da4",
      "placeholder": "​",
      "style": "IPY_MODEL_dd9b7673da3748c6a67788fd312cbe6b",
      "value": " 20/20 [00:03&lt;00:00,  6.60it/s]"
     }
    },
    "112aa81085bb4649966d6a023a55c13e": {
     "model_module": "@jupyter-widgets/base",
     "model_module_version": "1.2.0",
     "model_name": "LayoutModel",
     "state": {
      "_model_module": "@jupyter-widgets/base",
      "_model_module_version": "1.2.0",
      "_model_name": "LayoutModel",
      "_view_count": null,
      "_view_module": "@jupyter-widgets/base",
      "_view_module_version": "1.2.0",
      "_view_name": "LayoutView",
      "align_content": null,
      "align_items": null,
      "align_self": null,
      "border": null,
      "bottom": null,
      "display": null,
      "flex": "2",
      "flex_flow": null,
      "grid_area": null,
      "grid_auto_columns": null,
      "grid_auto_flow": null,
      "grid_auto_rows": null,
      "grid_column": null,
      "grid_gap": null,
      "grid_row": null,
      "grid_template_areas": null,
      "grid_template_columns": null,
      "grid_template_rows": null,
      "height": null,
      "justify_content": null,
      "justify_items": null,
      "left": null,
      "margin": null,
      "max_height": null,
      "max_width": null,
      "min_height": null,
      "min_width": null,
      "object_fit": null,
      "object_position": null,
      "order": null,
      "overflow": null,
      "overflow_x": null,
      "overflow_y": null,
      "padding": null,
      "right": null,
      "top": null,
      "visibility": null,
      "width": null
     }
    },
    "1165d225e61c486ead33c4404ce931a2": {
     "model_module": "@jupyter-widgets/base",
     "model_module_version": "1.2.0",
     "model_name": "LayoutModel",
     "state": {
      "_model_module": "@jupyter-widgets/base",
      "_model_module_version": "1.2.0",
      "_model_name": "LayoutModel",
      "_view_count": null,
      "_view_module": "@jupyter-widgets/base",
      "_view_module_version": "1.2.0",
      "_view_name": "LayoutView",
      "align_content": null,
      "align_items": null,
      "align_self": null,
      "border": null,
      "bottom": null,
      "display": null,
      "flex": null,
      "flex_flow": null,
      "grid_area": null,
      "grid_auto_columns": null,
      "grid_auto_flow": null,
      "grid_auto_rows": null,
      "grid_column": null,
      "grid_gap": null,
      "grid_row": null,
      "grid_template_areas": null,
      "grid_template_columns": null,
      "grid_template_rows": null,
      "height": null,
      "justify_content": null,
      "justify_items": null,
      "left": null,
      "margin": null,
      "max_height": null,
      "max_width": null,
      "min_height": null,
      "min_width": null,
      "object_fit": null,
      "object_position": null,
      "order": null,
      "overflow": null,
      "overflow_x": null,
      "overflow_y": null,
      "padding": null,
      "right": null,
      "top": null,
      "visibility": null,
      "width": null
     }
    },
    "12663cb80d8e49c5aae07de2a6fbd355": {
     "model_module": "@jupyter-widgets/controls",
     "model_module_version": "1.5.0",
     "model_name": "HTMLModel",
     "state": {
      "_dom_classes": [],
      "_model_module": "@jupyter-widgets/controls",
      "_model_module_version": "1.5.0",
      "_model_name": "HTMLModel",
      "_view_count": null,
      "_view_module": "@jupyter-widgets/controls",
      "_view_module_version": "1.5.0",
      "_view_name": "HTMLView",
      "description": "",
      "description_tooltip": null,
      "layout": "IPY_MODEL_f995d08b430d4f5db52bd872138c090f",
      "placeholder": "​",
      "style": "IPY_MODEL_a292d656bdad4d86a3d0ddf90f4c46b9",
      "value": "Validation DataLoader 0: 100%"
     }
    },
    "136b9dc9844c48c9b9898ef0645562ed": {
     "model_module": "@jupyter-widgets/controls",
     "model_module_version": "1.5.0",
     "model_name": "DescriptionStyleModel",
     "state": {
      "_model_module": "@jupyter-widgets/controls",
      "_model_module_version": "1.5.0",
      "_model_name": "DescriptionStyleModel",
      "_view_count": null,
      "_view_module": "@jupyter-widgets/base",
      "_view_module_version": "1.2.0",
      "_view_name": "StyleView",
      "description_width": ""
     }
    },
    "1766e27c6a0e47d4b759efd9f6abdfe4": {
     "model_module": "@jupyter-widgets/base",
     "model_module_version": "1.2.0",
     "model_name": "LayoutModel",
     "state": {
      "_model_module": "@jupyter-widgets/base",
      "_model_module_version": "1.2.0",
      "_model_name": "LayoutModel",
      "_view_count": null,
      "_view_module": "@jupyter-widgets/base",
      "_view_module_version": "1.2.0",
      "_view_name": "LayoutView",
      "align_content": null,
      "align_items": null,
      "align_self": null,
      "border": null,
      "bottom": null,
      "display": "inline-flex",
      "flex": null,
      "flex_flow": "row wrap",
      "grid_area": null,
      "grid_auto_columns": null,
      "grid_auto_flow": null,
      "grid_auto_rows": null,
      "grid_column": null,
      "grid_gap": null,
      "grid_row": null,
      "grid_template_areas": null,
      "grid_template_columns": null,
      "grid_template_rows": null,
      "height": null,
      "justify_content": null,
      "justify_items": null,
      "left": null,
      "margin": null,
      "max_height": null,
      "max_width": null,
      "min_height": null,
      "min_width": null,
      "object_fit": null,
      "object_position": null,
      "order": null,
      "overflow": null,
      "overflow_x": null,
      "overflow_y": null,
      "padding": null,
      "right": null,
      "top": null,
      "visibility": "hidden",
      "width": "100%"
     }
    },
    "177638985c824fce88ef163c06a13688": {
     "model_module": "@jupyter-widgets/controls",
     "model_module_version": "1.5.0",
     "model_name": "DescriptionStyleModel",
     "state": {
      "_model_module": "@jupyter-widgets/controls",
      "_model_module_version": "1.5.0",
      "_model_name": "DescriptionStyleModel",
      "_view_count": null,
      "_view_module": "@jupyter-widgets/base",
      "_view_module_version": "1.2.0",
      "_view_name": "StyleView",
      "description_width": ""
     }
    },
    "19e26262fb54468fb5846435e066f094": {
     "model_module": "@jupyter-widgets/base",
     "model_module_version": "1.2.0",
     "model_name": "LayoutModel",
     "state": {
      "_model_module": "@jupyter-widgets/base",
      "_model_module_version": "1.2.0",
      "_model_name": "LayoutModel",
      "_view_count": null,
      "_view_module": "@jupyter-widgets/base",
      "_view_module_version": "1.2.0",
      "_view_name": "LayoutView",
      "align_content": null,
      "align_items": null,
      "align_self": null,
      "border": null,
      "bottom": null,
      "display": null,
      "flex": "2",
      "flex_flow": null,
      "grid_area": null,
      "grid_auto_columns": null,
      "grid_auto_flow": null,
      "grid_auto_rows": null,
      "grid_column": null,
      "grid_gap": null,
      "grid_row": null,
      "grid_template_areas": null,
      "grid_template_columns": null,
      "grid_template_rows": null,
      "height": null,
      "justify_content": null,
      "justify_items": null,
      "left": null,
      "margin": null,
      "max_height": null,
      "max_width": null,
      "min_height": null,
      "min_width": null,
      "object_fit": null,
      "object_position": null,
      "order": null,
      "overflow": null,
      "overflow_x": null,
      "overflow_y": null,
      "padding": null,
      "right": null,
      "top": null,
      "visibility": null,
      "width": null
     }
    },
    "1c5151e4b7c14cb69716328efe4abca7": {
     "model_module": "@jupyter-widgets/controls",
     "model_module_version": "1.5.0",
     "model_name": "DescriptionStyleModel",
     "state": {
      "_model_module": "@jupyter-widgets/controls",
      "_model_module_version": "1.5.0",
      "_model_name": "DescriptionStyleModel",
      "_view_count": null,
      "_view_module": "@jupyter-widgets/base",
      "_view_module_version": "1.2.0",
      "_view_name": "StyleView",
      "description_width": ""
     }
    },
    "223279094cb64846a4bec0ba41094ebe": {
     "model_module": "@jupyter-widgets/base",
     "model_module_version": "1.2.0",
     "model_name": "LayoutModel",
     "state": {
      "_model_module": "@jupyter-widgets/base",
      "_model_module_version": "1.2.0",
      "_model_name": "LayoutModel",
      "_view_count": null,
      "_view_module": "@jupyter-widgets/base",
      "_view_module_version": "1.2.0",
      "_view_name": "LayoutView",
      "align_content": null,
      "align_items": null,
      "align_self": null,
      "border": null,
      "bottom": null,
      "display": null,
      "flex": null,
      "flex_flow": null,
      "grid_area": null,
      "grid_auto_columns": null,
      "grid_auto_flow": null,
      "grid_auto_rows": null,
      "grid_column": null,
      "grid_gap": null,
      "grid_row": null,
      "grid_template_areas": null,
      "grid_template_columns": null,
      "grid_template_rows": null,
      "height": null,
      "justify_content": null,
      "justify_items": null,
      "left": null,
      "margin": null,
      "max_height": null,
      "max_width": null,
      "min_height": null,
      "min_width": null,
      "object_fit": null,
      "object_position": null,
      "order": null,
      "overflow": null,
      "overflow_x": null,
      "overflow_y": null,
      "padding": null,
      "right": null,
      "top": null,
      "visibility": null,
      "width": null
     }
    },
    "227701f52ca84010a57374b7c1dea088": {
     "model_module": "@jupyter-widgets/controls",
     "model_module_version": "1.5.0",
     "model_name": "DescriptionStyleModel",
     "state": {
      "_model_module": "@jupyter-widgets/controls",
      "_model_module_version": "1.5.0",
      "_model_name": "DescriptionStyleModel",
      "_view_count": null,
      "_view_module": "@jupyter-widgets/base",
      "_view_module_version": "1.2.0",
      "_view_name": "StyleView",
      "description_width": ""
     }
    },
    "259b3024e9724e5c8361888ecc280ab1": {
     "model_module": "@jupyter-widgets/base",
     "model_module_version": "1.2.0",
     "model_name": "LayoutModel",
     "state": {
      "_model_module": "@jupyter-widgets/base",
      "_model_module_version": "1.2.0",
      "_model_name": "LayoutModel",
      "_view_count": null,
      "_view_module": "@jupyter-widgets/base",
      "_view_module_version": "1.2.0",
      "_view_name": "LayoutView",
      "align_content": null,
      "align_items": null,
      "align_self": null,
      "border": null,
      "bottom": null,
      "display": null,
      "flex": "2",
      "flex_flow": null,
      "grid_area": null,
      "grid_auto_columns": null,
      "grid_auto_flow": null,
      "grid_auto_rows": null,
      "grid_column": null,
      "grid_gap": null,
      "grid_row": null,
      "grid_template_areas": null,
      "grid_template_columns": null,
      "grid_template_rows": null,
      "height": null,
      "justify_content": null,
      "justify_items": null,
      "left": null,
      "margin": null,
      "max_height": null,
      "max_width": null,
      "min_height": null,
      "min_width": null,
      "object_fit": null,
      "object_position": null,
      "order": null,
      "overflow": null,
      "overflow_x": null,
      "overflow_y": null,
      "padding": null,
      "right": null,
      "top": null,
      "visibility": null,
      "width": null
     }
    },
    "28c37ae7c6514df2bd0824670321e314": {
     "model_module": "@jupyter-widgets/controls",
     "model_module_version": "1.5.0",
     "model_name": "HTMLModel",
     "state": {
      "_dom_classes": [],
      "_model_module": "@jupyter-widgets/controls",
      "_model_module_version": "1.5.0",
      "_model_name": "HTMLModel",
      "_view_count": null,
      "_view_module": "@jupyter-widgets/controls",
      "_view_module_version": "1.5.0",
      "_view_name": "HTMLView",
      "description": "",
      "description_tooltip": null,
      "layout": "IPY_MODEL_c54aa7a111f74825ba332b0778d63473",
      "placeholder": "​",
      "style": "IPY_MODEL_d6585ed9890c4741b4639ef75502f569",
      "value": "Sanity Checking DataLoader 0: 100%"
     }
    },
    "298ef5b11dca45ee8e14ab296555f3bc": {
     "model_module": "@jupyter-widgets/controls",
     "model_module_version": "1.5.0",
     "model_name": "DescriptionStyleModel",
     "state": {
      "_model_module": "@jupyter-widgets/controls",
      "_model_module_version": "1.5.0",
      "_model_name": "DescriptionStyleModel",
      "_view_count": null,
      "_view_module": "@jupyter-widgets/base",
      "_view_module_version": "1.2.0",
      "_view_name": "StyleView",
      "description_width": ""
     }
    },
    "2ea43c564f3143e6a9118a0dcd867da4": {
     "model_module": "@jupyter-widgets/base",
     "model_module_version": "1.2.0",
     "model_name": "LayoutModel",
     "state": {
      "_model_module": "@jupyter-widgets/base",
      "_model_module_version": "1.2.0",
      "_model_name": "LayoutModel",
      "_view_count": null,
      "_view_module": "@jupyter-widgets/base",
      "_view_module_version": "1.2.0",
      "_view_name": "LayoutView",
      "align_content": null,
      "align_items": null,
      "align_self": null,
      "border": null,
      "bottom": null,
      "display": null,
      "flex": null,
      "flex_flow": null,
      "grid_area": null,
      "grid_auto_columns": null,
      "grid_auto_flow": null,
      "grid_auto_rows": null,
      "grid_column": null,
      "grid_gap": null,
      "grid_row": null,
      "grid_template_areas": null,
      "grid_template_columns": null,
      "grid_template_rows": null,
      "height": null,
      "justify_content": null,
      "justify_items": null,
      "left": null,
      "margin": null,
      "max_height": null,
      "max_width": null,
      "min_height": null,
      "min_width": null,
      "object_fit": null,
      "object_position": null,
      "order": null,
      "overflow": null,
      "overflow_x": null,
      "overflow_y": null,
      "padding": null,
      "right": null,
      "top": null,
      "visibility": null,
      "width": null
     }
    },
    "2f75632040894f37b065ec73779371f9": {
     "model_module": "@jupyter-widgets/controls",
     "model_module_version": "1.5.0",
     "model_name": "HBoxModel",
     "state": {
      "_dom_classes": [],
      "_model_module": "@jupyter-widgets/controls",
      "_model_module_version": "1.5.0",
      "_model_name": "HBoxModel",
      "_view_count": null,
      "_view_module": "@jupyter-widgets/controls",
      "_view_module_version": "1.5.0",
      "_view_name": "HBoxView",
      "box_style": "",
      "children": [
       "IPY_MODEL_b33e09543ffb464da327a3ad1b8be804",
       "IPY_MODEL_b3e36b62346f4b9ea40a3d7b32028229",
       "IPY_MODEL_717c00315e744f7e8488c7f3baac115a"
      ],
      "layout": "IPY_MODEL_c542dc43df5340fe90e7a7e552002e3c"
     }
    },
    "2fb29d1179d5440bb8a83e28e6f80bde": {
     "model_module": "@jupyter-widgets/base",
     "model_module_version": "1.2.0",
     "model_name": "LayoutModel",
     "state": {
      "_model_module": "@jupyter-widgets/base",
      "_model_module_version": "1.2.0",
      "_model_name": "LayoutModel",
      "_view_count": null,
      "_view_module": "@jupyter-widgets/base",
      "_view_module_version": "1.2.0",
      "_view_name": "LayoutView",
      "align_content": null,
      "align_items": null,
      "align_self": null,
      "border": null,
      "bottom": null,
      "display": null,
      "flex": null,
      "flex_flow": null,
      "grid_area": null,
      "grid_auto_columns": null,
      "grid_auto_flow": null,
      "grid_auto_rows": null,
      "grid_column": null,
      "grid_gap": null,
      "grid_row": null,
      "grid_template_areas": null,
      "grid_template_columns": null,
      "grid_template_rows": null,
      "height": null,
      "justify_content": null,
      "justify_items": null,
      "left": null,
      "margin": null,
      "max_height": null,
      "max_width": null,
      "min_height": null,
      "min_width": null,
      "object_fit": null,
      "object_position": null,
      "order": null,
      "overflow": null,
      "overflow_x": null,
      "overflow_y": null,
      "padding": null,
      "right": null,
      "top": null,
      "visibility": null,
      "width": null
     }
    },
    "336c17ffaf0d48c3ae09856c626d1188": {
     "model_module": "@jupyter-widgets/controls",
     "model_module_version": "1.5.0",
     "model_name": "FloatProgressModel",
     "state": {
      "_dom_classes": [],
      "_model_module": "@jupyter-widgets/controls",
      "_model_module_version": "1.5.0",
      "_model_name": "FloatProgressModel",
      "_view_count": null,
      "_view_module": "@jupyter-widgets/controls",
      "_view_module_version": "1.5.0",
      "_view_name": "ProgressView",
      "bar_style": "",
      "description": "",
      "description_tooltip": null,
      "layout": "IPY_MODEL_4dff1aedfb43456089d4c42f331567c5",
      "max": 20,
      "min": 0,
      "orientation": "horizontal",
      "style": "IPY_MODEL_eebddd07b83d4d8b80ab2669a534c239",
      "value": 20
     }
    },
    "355b604cca854bbd9b2bc7e5fdb5afb7": {
     "model_module": "@jupyter-widgets/base",
     "model_module_version": "1.2.0",
     "model_name": "LayoutModel",
     "state": {
      "_model_module": "@jupyter-widgets/base",
      "_model_module_version": "1.2.0",
      "_model_name": "LayoutModel",
      "_view_count": null,
      "_view_module": "@jupyter-widgets/base",
      "_view_module_version": "1.2.0",
      "_view_name": "LayoutView",
      "align_content": null,
      "align_items": null,
      "align_self": null,
      "border": null,
      "bottom": null,
      "display": null,
      "flex": null,
      "flex_flow": null,
      "grid_area": null,
      "grid_auto_columns": null,
      "grid_auto_flow": null,
      "grid_auto_rows": null,
      "grid_column": null,
      "grid_gap": null,
      "grid_row": null,
      "grid_template_areas": null,
      "grid_template_columns": null,
      "grid_template_rows": null,
      "height": null,
      "justify_content": null,
      "justify_items": null,
      "left": null,
      "margin": null,
      "max_height": null,
      "max_width": null,
      "min_height": null,
      "min_width": null,
      "object_fit": null,
      "object_position": null,
      "order": null,
      "overflow": null,
      "overflow_x": null,
      "overflow_y": null,
      "padding": null,
      "right": null,
      "top": null,
      "visibility": null,
      "width": null
     }
    },
    "35e5bbed9b17422796eaba0bb28f6450": {
     "model_module": "@jupyter-widgets/controls",
     "model_module_version": "1.5.0",
     "model_name": "ProgressStyleModel",
     "state": {
      "_model_module": "@jupyter-widgets/controls",
      "_model_module_version": "1.5.0",
      "_model_name": "ProgressStyleModel",
      "_view_count": null,
      "_view_module": "@jupyter-widgets/base",
      "_view_module_version": "1.2.0",
      "_view_name": "StyleView",
      "bar_color": null,
      "description_width": ""
     }
    },
    "382311c1966449c2b64976ff7e0fb22d": {
     "model_module": "@jupyter-widgets/base",
     "model_module_version": "1.2.0",
     "model_name": "LayoutModel",
     "state": {
      "_model_module": "@jupyter-widgets/base",
      "_model_module_version": "1.2.0",
      "_model_name": "LayoutModel",
      "_view_count": null,
      "_view_module": "@jupyter-widgets/base",
      "_view_module_version": "1.2.0",
      "_view_name": "LayoutView",
      "align_content": null,
      "align_items": null,
      "align_self": null,
      "border": null,
      "bottom": null,
      "display": null,
      "flex": "2",
      "flex_flow": null,
      "grid_area": null,
      "grid_auto_columns": null,
      "grid_auto_flow": null,
      "grid_auto_rows": null,
      "grid_column": null,
      "grid_gap": null,
      "grid_row": null,
      "grid_template_areas": null,
      "grid_template_columns": null,
      "grid_template_rows": null,
      "height": null,
      "justify_content": null,
      "justify_items": null,
      "left": null,
      "margin": null,
      "max_height": null,
      "max_width": null,
      "min_height": null,
      "min_width": null,
      "object_fit": null,
      "object_position": null,
      "order": null,
      "overflow": null,
      "overflow_x": null,
      "overflow_y": null,
      "padding": null,
      "right": null,
      "top": null,
      "visibility": null,
      "width": null
     }
    },
    "3a937e7b6d8b4d87825432114143c02f": {
     "model_module": "@jupyter-widgets/controls",
     "model_module_version": "1.5.0",
     "model_name": "HTMLModel",
     "state": {
      "_dom_classes": [],
      "_model_module": "@jupyter-widgets/controls",
      "_model_module_version": "1.5.0",
      "_model_name": "HTMLModel",
      "_view_count": null,
      "_view_module": "@jupyter-widgets/controls",
      "_view_module_version": "1.5.0",
      "_view_name": "HTMLView",
      "description": "",
      "description_tooltip": null,
      "layout": "IPY_MODEL_1165d225e61c486ead33c4404ce931a2",
      "placeholder": "​",
      "style": "IPY_MODEL_8a8f9fa017714d4488ccc9aa37d48439",
      "value": " 20/20 [00:03&lt;00:00,  6.39it/s]"
     }
    },
    "3dd36e594d0743a8b63f9af381e3d74c": {
     "model_module": "@jupyter-widgets/base",
     "model_module_version": "1.2.0",
     "model_name": "LayoutModel",
     "state": {
      "_model_module": "@jupyter-widgets/base",
      "_model_module_version": "1.2.0",
      "_model_name": "LayoutModel",
      "_view_count": null,
      "_view_module": "@jupyter-widgets/base",
      "_view_module_version": "1.2.0",
      "_view_name": "LayoutView",
      "align_content": null,
      "align_items": null,
      "align_self": null,
      "border": null,
      "bottom": null,
      "display": "inline-flex",
      "flex": null,
      "flex_flow": "row wrap",
      "grid_area": null,
      "grid_auto_columns": null,
      "grid_auto_flow": null,
      "grid_auto_rows": null,
      "grid_column": null,
      "grid_gap": null,
      "grid_row": null,
      "grid_template_areas": null,
      "grid_template_columns": null,
      "grid_template_rows": null,
      "height": null,
      "justify_content": null,
      "justify_items": null,
      "left": null,
      "margin": null,
      "max_height": null,
      "max_width": null,
      "min_height": null,
      "min_width": null,
      "object_fit": null,
      "object_position": null,
      "order": null,
      "overflow": null,
      "overflow_x": null,
      "overflow_y": null,
      "padding": null,
      "right": null,
      "top": null,
      "visibility": "hidden",
      "width": "100%"
     }
    },
    "407b604f5c6c410e9dbb66ec8552777b": {
     "model_module": "@jupyter-widgets/controls",
     "model_module_version": "1.5.0",
     "model_name": "DescriptionStyleModel",
     "state": {
      "_model_module": "@jupyter-widgets/controls",
      "_model_module_version": "1.5.0",
      "_model_name": "DescriptionStyleModel",
      "_view_count": null,
      "_view_module": "@jupyter-widgets/base",
      "_view_module_version": "1.2.0",
      "_view_name": "StyleView",
      "description_width": ""
     }
    },
    "42850df8f2bf4d0cb8c4d3f9c085f7d5": {
     "model_module": "@jupyter-widgets/base",
     "model_module_version": "1.2.0",
     "model_name": "LayoutModel",
     "state": {
      "_model_module": "@jupyter-widgets/base",
      "_model_module_version": "1.2.0",
      "_model_name": "LayoutModel",
      "_view_count": null,
      "_view_module": "@jupyter-widgets/base",
      "_view_module_version": "1.2.0",
      "_view_name": "LayoutView",
      "align_content": null,
      "align_items": null,
      "align_self": null,
      "border": null,
      "bottom": null,
      "display": null,
      "flex": null,
      "flex_flow": null,
      "grid_area": null,
      "grid_auto_columns": null,
      "grid_auto_flow": null,
      "grid_auto_rows": null,
      "grid_column": null,
      "grid_gap": null,
      "grid_row": null,
      "grid_template_areas": null,
      "grid_template_columns": null,
      "grid_template_rows": null,
      "height": null,
      "justify_content": null,
      "justify_items": null,
      "left": null,
      "margin": null,
      "max_height": null,
      "max_width": null,
      "min_height": null,
      "min_width": null,
      "object_fit": null,
      "object_position": null,
      "order": null,
      "overflow": null,
      "overflow_x": null,
      "overflow_y": null,
      "padding": null,
      "right": null,
      "top": null,
      "visibility": null,
      "width": null
     }
    },
    "43efe1e0dc5d459ab3380bccb25842a0": {
     "model_module": "@jupyter-widgets/base",
     "model_module_version": "1.2.0",
     "model_name": "LayoutModel",
     "state": {
      "_model_module": "@jupyter-widgets/base",
      "_model_module_version": "1.2.0",
      "_model_name": "LayoutModel",
      "_view_count": null,
      "_view_module": "@jupyter-widgets/base",
      "_view_module_version": "1.2.0",
      "_view_name": "LayoutView",
      "align_content": null,
      "align_items": null,
      "align_self": null,
      "border": null,
      "bottom": null,
      "display": null,
      "flex": "2",
      "flex_flow": null,
      "grid_area": null,
      "grid_auto_columns": null,
      "grid_auto_flow": null,
      "grid_auto_rows": null,
      "grid_column": null,
      "grid_gap": null,
      "grid_row": null,
      "grid_template_areas": null,
      "grid_template_columns": null,
      "grid_template_rows": null,
      "height": null,
      "justify_content": null,
      "justify_items": null,
      "left": null,
      "margin": null,
      "max_height": null,
      "max_width": null,
      "min_height": null,
      "min_width": null,
      "object_fit": null,
      "object_position": null,
      "order": null,
      "overflow": null,
      "overflow_x": null,
      "overflow_y": null,
      "padding": null,
      "right": null,
      "top": null,
      "visibility": null,
      "width": null
     }
    },
    "4505df98394742c1a8b00a086de159cc": {
     "model_module": "@jupyter-widgets/base",
     "model_module_version": "1.2.0",
     "model_name": "LayoutModel",
     "state": {
      "_model_module": "@jupyter-widgets/base",
      "_model_module_version": "1.2.0",
      "_model_name": "LayoutModel",
      "_view_count": null,
      "_view_module": "@jupyter-widgets/base",
      "_view_module_version": "1.2.0",
      "_view_name": "LayoutView",
      "align_content": null,
      "align_items": null,
      "align_self": null,
      "border": null,
      "bottom": null,
      "display": null,
      "flex": null,
      "flex_flow": null,
      "grid_area": null,
      "grid_auto_columns": null,
      "grid_auto_flow": null,
      "grid_auto_rows": null,
      "grid_column": null,
      "grid_gap": null,
      "grid_row": null,
      "grid_template_areas": null,
      "grid_template_columns": null,
      "grid_template_rows": null,
      "height": null,
      "justify_content": null,
      "justify_items": null,
      "left": null,
      "margin": null,
      "max_height": null,
      "max_width": null,
      "min_height": null,
      "min_width": null,
      "object_fit": null,
      "object_position": null,
      "order": null,
      "overflow": null,
      "overflow_x": null,
      "overflow_y": null,
      "padding": null,
      "right": null,
      "top": null,
      "visibility": null,
      "width": null
     }
    },
    "4566b338078c48d29c855f54fcd0b9e2": {
     "model_module": "@jupyter-widgets/controls",
     "model_module_version": "1.5.0",
     "model_name": "HBoxModel",
     "state": {
      "_dom_classes": [],
      "_model_module": "@jupyter-widgets/controls",
      "_model_module_version": "1.5.0",
      "_model_name": "HBoxModel",
      "_view_count": null,
      "_view_module": "@jupyter-widgets/controls",
      "_view_module_version": "1.5.0",
      "_view_name": "HBoxView",
      "box_style": "",
      "children": [
       "IPY_MODEL_7d205400958a4ca982632403bedeafc3",
       "IPY_MODEL_547174c2cf2548749fae663255a4e8bd",
       "IPY_MODEL_106b892bf4584e7d8be1e5e8f49e2f00"
      ],
      "layout": "IPY_MODEL_f8ffdd67f54843e69813c9384045c44c"
     }
    },
    "462e582742274cc299a4d6a158d0ad53": {
     "model_module": "@jupyter-widgets/base",
     "model_module_version": "1.2.0",
     "model_name": "LayoutModel",
     "state": {
      "_model_module": "@jupyter-widgets/base",
      "_model_module_version": "1.2.0",
      "_model_name": "LayoutModel",
      "_view_count": null,
      "_view_module": "@jupyter-widgets/base",
      "_view_module_version": "1.2.0",
      "_view_name": "LayoutView",
      "align_content": null,
      "align_items": null,
      "align_self": null,
      "border": null,
      "bottom": null,
      "display": null,
      "flex": "2",
      "flex_flow": null,
      "grid_area": null,
      "grid_auto_columns": null,
      "grid_auto_flow": null,
      "grid_auto_rows": null,
      "grid_column": null,
      "grid_gap": null,
      "grid_row": null,
      "grid_template_areas": null,
      "grid_template_columns": null,
      "grid_template_rows": null,
      "height": null,
      "justify_content": null,
      "justify_items": null,
      "left": null,
      "margin": null,
      "max_height": null,
      "max_width": null,
      "min_height": null,
      "min_width": null,
      "object_fit": null,
      "object_position": null,
      "order": null,
      "overflow": null,
      "overflow_x": null,
      "overflow_y": null,
      "padding": null,
      "right": null,
      "top": null,
      "visibility": null,
      "width": null
     }
    },
    "47c79cc35e394270ab9bdd945bb80be8": {
     "model_module": "@jupyter-widgets/base",
     "model_module_version": "1.2.0",
     "model_name": "LayoutModel",
     "state": {
      "_model_module": "@jupyter-widgets/base",
      "_model_module_version": "1.2.0",
      "_model_name": "LayoutModel",
      "_view_count": null,
      "_view_module": "@jupyter-widgets/base",
      "_view_module_version": "1.2.0",
      "_view_name": "LayoutView",
      "align_content": null,
      "align_items": null,
      "align_self": null,
      "border": null,
      "bottom": null,
      "display": null,
      "flex": null,
      "flex_flow": null,
      "grid_area": null,
      "grid_auto_columns": null,
      "grid_auto_flow": null,
      "grid_auto_rows": null,
      "grid_column": null,
      "grid_gap": null,
      "grid_row": null,
      "grid_template_areas": null,
      "grid_template_columns": null,
      "grid_template_rows": null,
      "height": null,
      "justify_content": null,
      "justify_items": null,
      "left": null,
      "margin": null,
      "max_height": null,
      "max_width": null,
      "min_height": null,
      "min_width": null,
      "object_fit": null,
      "object_position": null,
      "order": null,
      "overflow": null,
      "overflow_x": null,
      "overflow_y": null,
      "padding": null,
      "right": null,
      "top": null,
      "visibility": null,
      "width": null
     }
    },
    "49a83a97dd96438da12bb55e3e40a64e": {
     "model_module": "@jupyter-widgets/controls",
     "model_module_version": "1.5.0",
     "model_name": "ProgressStyleModel",
     "state": {
      "_model_module": "@jupyter-widgets/controls",
      "_model_module_version": "1.5.0",
      "_model_name": "ProgressStyleModel",
      "_view_count": null,
      "_view_module": "@jupyter-widgets/base",
      "_view_module_version": "1.2.0",
      "_view_name": "StyleView",
      "bar_color": null,
      "description_width": ""
     }
    },
    "4cfe3e99f2e0433babfaac6f09f8cba9": {
     "model_module": "@jupyter-widgets/controls",
     "model_module_version": "1.5.0",
     "model_name": "DescriptionStyleModel",
     "state": {
      "_model_module": "@jupyter-widgets/controls",
      "_model_module_version": "1.5.0",
      "_model_name": "DescriptionStyleModel",
      "_view_count": null,
      "_view_module": "@jupyter-widgets/base",
      "_view_module_version": "1.2.0",
      "_view_name": "StyleView",
      "description_width": ""
     }
    },
    "4dff1aedfb43456089d4c42f331567c5": {
     "model_module": "@jupyter-widgets/base",
     "model_module_version": "1.2.0",
     "model_name": "LayoutModel",
     "state": {
      "_model_module": "@jupyter-widgets/base",
      "_model_module_version": "1.2.0",
      "_model_name": "LayoutModel",
      "_view_count": null,
      "_view_module": "@jupyter-widgets/base",
      "_view_module_version": "1.2.0",
      "_view_name": "LayoutView",
      "align_content": null,
      "align_items": null,
      "align_self": null,
      "border": null,
      "bottom": null,
      "display": null,
      "flex": "2",
      "flex_flow": null,
      "grid_area": null,
      "grid_auto_columns": null,
      "grid_auto_flow": null,
      "grid_auto_rows": null,
      "grid_column": null,
      "grid_gap": null,
      "grid_row": null,
      "grid_template_areas": null,
      "grid_template_columns": null,
      "grid_template_rows": null,
      "height": null,
      "justify_content": null,
      "justify_items": null,
      "left": null,
      "margin": null,
      "max_height": null,
      "max_width": null,
      "min_height": null,
      "min_width": null,
      "object_fit": null,
      "object_position": null,
      "order": null,
      "overflow": null,
      "overflow_x": null,
      "overflow_y": null,
      "padding": null,
      "right": null,
      "top": null,
      "visibility": null,
      "width": null
     }
    },
    "4e723165fb6a4339b341c6816bc48860": {
     "model_module": "@jupyter-widgets/controls",
     "model_module_version": "1.5.0",
     "model_name": "HBoxModel",
     "state": {
      "_dom_classes": [],
      "_model_module": "@jupyter-widgets/controls",
      "_model_module_version": "1.5.0",
      "_model_name": "HBoxModel",
      "_view_count": null,
      "_view_module": "@jupyter-widgets/controls",
      "_view_module_version": "1.5.0",
      "_view_name": "HBoxView",
      "box_style": "",
      "children": [
       "IPY_MODEL_8dd3555a6e07451f9cdd7b9e81af7e34",
       "IPY_MODEL_643f0f8c7fca4e1886c7f8e6b9d59588",
       "IPY_MODEL_9fae219ebd9f4342b0c00d1b85898e69"
      ],
      "layout": "IPY_MODEL_9cba5c3ed7af4f0a932e175ff12f38d5"
     }
    },
    "547174c2cf2548749fae663255a4e8bd": {
     "model_module": "@jupyter-widgets/controls",
     "model_module_version": "1.5.0",
     "model_name": "FloatProgressModel",
     "state": {
      "_dom_classes": [],
      "_model_module": "@jupyter-widgets/controls",
      "_model_module_version": "1.5.0",
      "_model_name": "FloatProgressModel",
      "_view_count": null,
      "_view_module": "@jupyter-widgets/controls",
      "_view_module_version": "1.5.0",
      "_view_name": "ProgressView",
      "bar_style": "",
      "description": "",
      "description_tooltip": null,
      "layout": "IPY_MODEL_462e582742274cc299a4d6a158d0ad53",
      "max": 20,
      "min": 0,
      "orientation": "horizontal",
      "style": "IPY_MODEL_35e5bbed9b17422796eaba0bb28f6450",
      "value": 20
     }
    },
    "562febfc4d1647cd8ae1d9006244263c": {
     "model_module": "@jupyter-widgets/base",
     "model_module_version": "1.2.0",
     "model_name": "LayoutModel",
     "state": {
      "_model_module": "@jupyter-widgets/base",
      "_model_module_version": "1.2.0",
      "_model_name": "LayoutModel",
      "_view_count": null,
      "_view_module": "@jupyter-widgets/base",
      "_view_module_version": "1.2.0",
      "_view_name": "LayoutView",
      "align_content": null,
      "align_items": null,
      "align_self": null,
      "border": null,
      "bottom": null,
      "display": "inline-flex",
      "flex": null,
      "flex_flow": "row wrap",
      "grid_area": null,
      "grid_auto_columns": null,
      "grid_auto_flow": null,
      "grid_auto_rows": null,
      "grid_column": null,
      "grid_gap": null,
      "grid_row": null,
      "grid_template_areas": null,
      "grid_template_columns": null,
      "grid_template_rows": null,
      "height": null,
      "justify_content": null,
      "justify_items": null,
      "left": null,
      "margin": null,
      "max_height": null,
      "max_width": null,
      "min_height": null,
      "min_width": null,
      "object_fit": null,
      "object_position": null,
      "order": null,
      "overflow": null,
      "overflow_x": null,
      "overflow_y": null,
      "padding": null,
      "right": null,
      "top": null,
      "visibility": null,
      "width": "100%"
     }
    },
    "58146abc04ae41d7aea16647cee9d8f4": {
     "model_module": "@jupyter-widgets/controls",
     "model_module_version": "1.5.0",
     "model_name": "HBoxModel",
     "state": {
      "_dom_classes": [],
      "_model_module": "@jupyter-widgets/controls",
      "_model_module_version": "1.5.0",
      "_model_name": "HBoxModel",
      "_view_count": null,
      "_view_module": "@jupyter-widgets/controls",
      "_view_module_version": "1.5.0",
      "_view_name": "HBoxView",
      "box_style": "",
      "children": [
       "IPY_MODEL_eb5a3aef28774f2faca6b1a473b5c3fa",
       "IPY_MODEL_be87a5dc54c8457a9aac351f3d1c50ea",
       "IPY_MODEL_708b7da86c7542389029c2b8c200e9b4"
      ],
      "layout": "IPY_MODEL_794a4dba56174a8da81c492d45981b79"
     }
    },
    "599c5456ac924283a3d2f36cc6ba3fa3": {
     "model_module": "@jupyter-widgets/controls",
     "model_module_version": "1.5.0",
     "model_name": "ProgressStyleModel",
     "state": {
      "_model_module": "@jupyter-widgets/controls",
      "_model_module_version": "1.5.0",
      "_model_name": "ProgressStyleModel",
      "_view_count": null,
      "_view_module": "@jupyter-widgets/base",
      "_view_module_version": "1.2.0",
      "_view_name": "StyleView",
      "bar_color": null,
      "description_width": ""
     }
    },
    "5f317ddbed8343eba96b5af5d6e91c5b": {
     "model_module": "@jupyter-widgets/controls",
     "model_module_version": "1.5.0",
     "model_name": "HTMLModel",
     "state": {
      "_dom_classes": [],
      "_model_module": "@jupyter-widgets/controls",
      "_model_module_version": "1.5.0",
      "_model_name": "HTMLModel",
      "_view_count": null,
      "_view_module": "@jupyter-widgets/controls",
      "_view_module_version": "1.5.0",
      "_view_name": "HTMLView",
      "description": "",
      "description_tooltip": null,
      "layout": "IPY_MODEL_dd38a9361e664e078c9a70b7dea9b0a4",
      "placeholder": "​",
      "style": "IPY_MODEL_dd1d13e06c6742b486e321a61c0fa3c2",
      "value": " 20/20 [00:01&lt;00:00, 10.09it/s]"
     }
    },
    "643f0f8c7fca4e1886c7f8e6b9d59588": {
     "model_module": "@jupyter-widgets/controls",
     "model_module_version": "1.5.0",
     "model_name": "FloatProgressModel",
     "state": {
      "_dom_classes": [],
      "_model_module": "@jupyter-widgets/controls",
      "_model_module_version": "1.5.0",
      "_model_name": "FloatProgressModel",
      "_view_count": null,
      "_view_module": "@jupyter-widgets/controls",
      "_view_module_version": "1.5.0",
      "_view_name": "ProgressView",
      "bar_style": "success",
      "description": "",
      "description_tooltip": null,
      "layout": "IPY_MODEL_259b3024e9724e5c8361888ecc280ab1",
      "max": 105,
      "min": 0,
      "orientation": "horizontal",
      "style": "IPY_MODEL_02b01aa8b8e44b65b1761bd8b6f578a0",
      "value": 105
     }
    },
    "69f86cf58a7843be9c5d412cb6eb7fe4": {
     "model_module": "@jupyter-widgets/controls",
     "model_module_version": "1.5.0",
     "model_name": "HTMLModel",
     "state": {
      "_dom_classes": [],
      "_model_module": "@jupyter-widgets/controls",
      "_model_module_version": "1.5.0",
      "_model_name": "HTMLModel",
      "_view_count": null,
      "_view_module": "@jupyter-widgets/controls",
      "_view_module_version": "1.5.0",
      "_view_name": "HTMLView",
      "description": "",
      "description_tooltip": null,
      "layout": "IPY_MODEL_223279094cb64846a4bec0ba41094ebe",
      "placeholder": "​",
      "style": "IPY_MODEL_021ebbb9ff6c49e6bf8578278fc7502b",
      "value": "Validation DataLoader 0: 100%"
     }
    },
    "6a431b55ecd64db98f2ca86114db2b94": {
     "model_module": "@jupyter-widgets/controls",
     "model_module_version": "1.5.0",
     "model_name": "HBoxModel",
     "state": {
      "_dom_classes": [],
      "_model_module": "@jupyter-widgets/controls",
      "_model_module_version": "1.5.0",
      "_model_name": "HBoxModel",
      "_view_count": null,
      "_view_module": "@jupyter-widgets/controls",
      "_view_module_version": "1.5.0",
      "_view_name": "HBoxView",
      "box_style": "",
      "children": [
       "IPY_MODEL_ba9cf5caa6384c41a19f42794b8e402a",
       "IPY_MODEL_0282077701744dad85ba9aa8ee121dae",
       "IPY_MODEL_e376e7befb6a4307b192719039602c43"
      ],
      "layout": "IPY_MODEL_562febfc4d1647cd8ae1d9006244263c"
     }
    },
    "6d7c516774ea41dcaae6640bf2685665": {
     "model_module": "@jupyter-widgets/controls",
     "model_module_version": "1.5.0",
     "model_name": "DescriptionStyleModel",
     "state": {
      "_model_module": "@jupyter-widgets/controls",
      "_model_module_version": "1.5.0",
      "_model_name": "DescriptionStyleModel",
      "_view_count": null,
      "_view_module": "@jupyter-widgets/base",
      "_view_module_version": "1.2.0",
      "_view_name": "StyleView",
      "description_width": ""
     }
    },
    "708b7da86c7542389029c2b8c200e9b4": {
     "model_module": "@jupyter-widgets/controls",
     "model_module_version": "1.5.0",
     "model_name": "HTMLModel",
     "state": {
      "_dom_classes": [],
      "_model_module": "@jupyter-widgets/controls",
      "_model_module_version": "1.5.0",
      "_model_name": "HTMLModel",
      "_view_count": null,
      "_view_module": "@jupyter-widgets/controls",
      "_view_module_version": "1.5.0",
      "_view_name": "HTMLView",
      "description": "",
      "description_tooltip": null,
      "layout": "IPY_MODEL_42850df8f2bf4d0cb8c4d3f9c085f7d5",
      "placeholder": "​",
      "style": "IPY_MODEL_4cfe3e99f2e0433babfaac6f09f8cba9",
      "value": " 20/20 [00:03&lt;00:00,  6.45it/s]"
     }
    },
    "708fb059b2304740a110ad7e48126662": {
     "model_module": "@jupyter-widgets/controls",
     "model_module_version": "1.5.0",
     "model_name": "DescriptionStyleModel",
     "state": {
      "_model_module": "@jupyter-widgets/controls",
      "_model_module_version": "1.5.0",
      "_model_name": "DescriptionStyleModel",
      "_view_count": null,
      "_view_module": "@jupyter-widgets/base",
      "_view_module_version": "1.2.0",
      "_view_name": "StyleView",
      "description_width": ""
     }
    },
    "70dc9a761141455ea70d73ea5a885992": {
     "model_module": "@jupyter-widgets/controls",
     "model_module_version": "1.5.0",
     "model_name": "HTMLModel",
     "state": {
      "_dom_classes": [],
      "_model_module": "@jupyter-widgets/controls",
      "_model_module_version": "1.5.0",
      "_model_name": "HTMLModel",
      "_view_count": null,
      "_view_module": "@jupyter-widgets/controls",
      "_view_module_version": "1.5.0",
      "_view_name": "HTMLView",
      "description": "",
      "description_tooltip": null,
      "layout": "IPY_MODEL_bdb470581787465ebc0800744ec0bf90",
      "placeholder": "​",
      "style": "IPY_MODEL_ffeeb41db74b401591828ed6e0074359",
      "value": " 20/20 [00:02&lt;00:00,  7.08it/s]"
     }
    },
    "717c00315e744f7e8488c7f3baac115a": {
     "model_module": "@jupyter-widgets/controls",
     "model_module_version": "1.5.0",
     "model_name": "HTMLModel",
     "state": {
      "_dom_classes": [],
      "_model_module": "@jupyter-widgets/controls",
      "_model_module_version": "1.5.0",
      "_model_name": "HTMLModel",
      "_view_count": null,
      "_view_module": "@jupyter-widgets/controls",
      "_view_module_version": "1.5.0",
      "_view_name": "HTMLView",
      "description": "",
      "description_tooltip": null,
      "layout": "IPY_MODEL_75d83d696c964a0e9d0583e164904602",
      "placeholder": "​",
      "style": "IPY_MODEL_708fb059b2304740a110ad7e48126662",
      "value": " 20/20 [00:02&lt;00:00,  8.68it/s]"
     }
    },
    "748cb6e52d8f4b51b840f6de1e3ac01e": {
     "model_module": "@jupyter-widgets/controls",
     "model_module_version": "1.5.0",
     "model_name": "DescriptionStyleModel",
     "state": {
      "_model_module": "@jupyter-widgets/controls",
      "_model_module_version": "1.5.0",
      "_model_name": "DescriptionStyleModel",
      "_view_count": null,
      "_view_module": "@jupyter-widgets/base",
      "_view_module_version": "1.2.0",
      "_view_name": "StyleView",
      "description_width": ""
     }
    },
    "75d83d696c964a0e9d0583e164904602": {
     "model_module": "@jupyter-widgets/base",
     "model_module_version": "1.2.0",
     "model_name": "LayoutModel",
     "state": {
      "_model_module": "@jupyter-widgets/base",
      "_model_module_version": "1.2.0",
      "_model_name": "LayoutModel",
      "_view_count": null,
      "_view_module": "@jupyter-widgets/base",
      "_view_module_version": "1.2.0",
      "_view_name": "LayoutView",
      "align_content": null,
      "align_items": null,
      "align_self": null,
      "border": null,
      "bottom": null,
      "display": null,
      "flex": null,
      "flex_flow": null,
      "grid_area": null,
      "grid_auto_columns": null,
      "grid_auto_flow": null,
      "grid_auto_rows": null,
      "grid_column": null,
      "grid_gap": null,
      "grid_row": null,
      "grid_template_areas": null,
      "grid_template_columns": null,
      "grid_template_rows": null,
      "height": null,
      "justify_content": null,
      "justify_items": null,
      "left": null,
      "margin": null,
      "max_height": null,
      "max_width": null,
      "min_height": null,
      "min_width": null,
      "object_fit": null,
      "object_position": null,
      "order": null,
      "overflow": null,
      "overflow_x": null,
      "overflow_y": null,
      "padding": null,
      "right": null,
      "top": null,
      "visibility": null,
      "width": null
     }
    },
    "76f6bc555d1b497cad5c8a0202a01321": {
     "model_module": "@jupyter-widgets/controls",
     "model_module_version": "1.5.0",
     "model_name": "HTMLModel",
     "state": {
      "_dom_classes": [],
      "_model_module": "@jupyter-widgets/controls",
      "_model_module_version": "1.5.0",
      "_model_name": "HTMLModel",
      "_view_count": null,
      "_view_module": "@jupyter-widgets/controls",
      "_view_module_version": "1.5.0",
      "_view_name": "HTMLView",
      "description": "",
      "description_tooltip": null,
      "layout": "IPY_MODEL_47c79cc35e394270ab9bdd945bb80be8",
      "placeholder": "​",
      "style": "IPY_MODEL_6d7c516774ea41dcaae6640bf2685665",
      "value": " 20/20 [00:03&lt;00:00,  5.55it/s]"
     }
    },
    "77cb668281264e3cbf7e55ce3b6c3da2": {
     "model_module": "@jupyter-widgets/controls",
     "model_module_version": "1.5.0",
     "model_name": "HBoxModel",
     "state": {
      "_dom_classes": [],
      "_model_module": "@jupyter-widgets/controls",
      "_model_module_version": "1.5.0",
      "_model_name": "HBoxModel",
      "_view_count": null,
      "_view_module": "@jupyter-widgets/controls",
      "_view_module_version": "1.5.0",
      "_view_name": "HBoxView",
      "box_style": "",
      "children": [
       "IPY_MODEL_12663cb80d8e49c5aae07de2a6fbd355",
       "IPY_MODEL_7e8ab03ea04d4543a904c2b40696037d",
       "IPY_MODEL_3a937e7b6d8b4d87825432114143c02f"
      ],
      "layout": "IPY_MODEL_a353486d2fc3421d96a7f84ea4a8623e"
     }
    },
    "794a4dba56174a8da81c492d45981b79": {
     "model_module": "@jupyter-widgets/base",
     "model_module_version": "1.2.0",
     "model_name": "LayoutModel",
     "state": {
      "_model_module": "@jupyter-widgets/base",
      "_model_module_version": "1.2.0",
      "_model_name": "LayoutModel",
      "_view_count": null,
      "_view_module": "@jupyter-widgets/base",
      "_view_module_version": "1.2.0",
      "_view_name": "LayoutView",
      "align_content": null,
      "align_items": null,
      "align_self": null,
      "border": null,
      "bottom": null,
      "display": "inline-flex",
      "flex": null,
      "flex_flow": "row wrap",
      "grid_area": null,
      "grid_auto_columns": null,
      "grid_auto_flow": null,
      "grid_auto_rows": null,
      "grid_column": null,
      "grid_gap": null,
      "grid_row": null,
      "grid_template_areas": null,
      "grid_template_columns": null,
      "grid_template_rows": null,
      "height": null,
      "justify_content": null,
      "justify_items": null,
      "left": null,
      "margin": null,
      "max_height": null,
      "max_width": null,
      "min_height": null,
      "min_width": null,
      "object_fit": null,
      "object_position": null,
      "order": null,
      "overflow": null,
      "overflow_x": null,
      "overflow_y": null,
      "padding": null,
      "right": null,
      "top": null,
      "visibility": "hidden",
      "width": "100%"
     }
    },
    "7d205400958a4ca982632403bedeafc3": {
     "model_module": "@jupyter-widgets/controls",
     "model_module_version": "1.5.0",
     "model_name": "HTMLModel",
     "state": {
      "_dom_classes": [],
      "_model_module": "@jupyter-widgets/controls",
      "_model_module_version": "1.5.0",
      "_model_name": "HTMLModel",
      "_view_count": null,
      "_view_module": "@jupyter-widgets/controls",
      "_view_module_version": "1.5.0",
      "_view_name": "HTMLView",
      "description": "",
      "description_tooltip": null,
      "layout": "IPY_MODEL_0cd3593c37c54f108d2d9233511b6c18",
      "placeholder": "​",
      "style": "IPY_MODEL_407b604f5c6c410e9dbb66ec8552777b",
      "value": "Validation DataLoader 0: 100%"
     }
    },
    "7e8ab03ea04d4543a904c2b40696037d": {
     "model_module": "@jupyter-widgets/controls",
     "model_module_version": "1.5.0",
     "model_name": "FloatProgressModel",
     "state": {
      "_dom_classes": [],
      "_model_module": "@jupyter-widgets/controls",
      "_model_module_version": "1.5.0",
      "_model_name": "FloatProgressModel",
      "_view_count": null,
      "_view_module": "@jupyter-widgets/controls",
      "_view_module_version": "1.5.0",
      "_view_name": "ProgressView",
      "bar_style": "",
      "description": "",
      "description_tooltip": null,
      "layout": "IPY_MODEL_cb32b3b5cb6c459f9fb6ebba41b14179",
      "max": 20,
      "min": 0,
      "orientation": "horizontal",
      "style": "IPY_MODEL_bf16a8e95bf041e1b32b64ca0f8227a6",
      "value": 20
     }
    },
    "83ed3e007f084987a13e9c3c1fff4766": {
     "model_module": "@jupyter-widgets/controls",
     "model_module_version": "1.5.0",
     "model_name": "HBoxModel",
     "state": {
      "_dom_classes": [],
      "_model_module": "@jupyter-widgets/controls",
      "_model_module_version": "1.5.0",
      "_model_name": "HBoxModel",
      "_view_count": null,
      "_view_module": "@jupyter-widgets/controls",
      "_view_module_version": "1.5.0",
      "_view_name": "HBoxView",
      "box_style": "",
      "children": [
       "IPY_MODEL_009666ee40b94f058e2c62ddb22146fc",
       "IPY_MODEL_b7d836c03c6149d3b78b9286cb439d74",
       "IPY_MODEL_76f6bc555d1b497cad5c8a0202a01321"
      ],
      "layout": "IPY_MODEL_3dd36e594d0743a8b63f9af381e3d74c"
     }
    },
    "8a8f9fa017714d4488ccc9aa37d48439": {
     "model_module": "@jupyter-widgets/controls",
     "model_module_version": "1.5.0",
     "model_name": "DescriptionStyleModel",
     "state": {
      "_model_module": "@jupyter-widgets/controls",
      "_model_module_version": "1.5.0",
      "_model_name": "DescriptionStyleModel",
      "_view_count": null,
      "_view_module": "@jupyter-widgets/base",
      "_view_module_version": "1.2.0",
      "_view_name": "StyleView",
      "description_width": ""
     }
    },
    "8dd3555a6e07451f9cdd7b9e81af7e34": {
     "model_module": "@jupyter-widgets/controls",
     "model_module_version": "1.5.0",
     "model_name": "HTMLModel",
     "state": {
      "_dom_classes": [],
      "_model_module": "@jupyter-widgets/controls",
      "_model_module_version": "1.5.0",
      "_model_name": "HTMLModel",
      "_view_count": null,
      "_view_module": "@jupyter-widgets/controls",
      "_view_module_version": "1.5.0",
      "_view_name": "HTMLView",
      "description": "",
      "description_tooltip": null,
      "layout": "IPY_MODEL_a0b7ee4fc9de42c5bf6b6c3410a905c7",
      "placeholder": "​",
      "style": "IPY_MODEL_1c5151e4b7c14cb69716328efe4abca7",
      "value": "Epoch 6: 100%"
     }
    },
    "92a30638b173469c8ba5310a7375d661": {
     "model_module": "@jupyter-widgets/controls",
     "model_module_version": "1.5.0",
     "model_name": "HTMLModel",
     "state": {
      "_dom_classes": [],
      "_model_module": "@jupyter-widgets/controls",
      "_model_module_version": "1.5.0",
      "_model_name": "HTMLModel",
      "_view_count": null,
      "_view_module": "@jupyter-widgets/controls",
      "_view_module_version": "1.5.0",
      "_view_name": "HTMLView",
      "description": "",
      "description_tooltip": null,
      "layout": "IPY_MODEL_97ba0548b7fb44c181ca2220715e9bda",
      "placeholder": "​",
      "style": "IPY_MODEL_298ef5b11dca45ee8e14ab296555f3bc",
      "value": " 2/2 [00:00&lt;00:00,  9.19it/s]"
     }
    },
    "97870065ddc6420b81c31fb0e3b00f41": {
     "model_module": "@jupyter-widgets/controls",
     "model_module_version": "1.5.0",
     "model_name": "DescriptionStyleModel",
     "state": {
      "_model_module": "@jupyter-widgets/controls",
      "_model_module_version": "1.5.0",
      "_model_name": "DescriptionStyleModel",
      "_view_count": null,
      "_view_module": "@jupyter-widgets/base",
      "_view_module_version": "1.2.0",
      "_view_name": "StyleView",
      "description_width": ""
     }
    },
    "97ba0548b7fb44c181ca2220715e9bda": {
     "model_module": "@jupyter-widgets/base",
     "model_module_version": "1.2.0",
     "model_name": "LayoutModel",
     "state": {
      "_model_module": "@jupyter-widgets/base",
      "_model_module_version": "1.2.0",
      "_model_name": "LayoutModel",
      "_view_count": null,
      "_view_module": "@jupyter-widgets/base",
      "_view_module_version": "1.2.0",
      "_view_name": "LayoutView",
      "align_content": null,
      "align_items": null,
      "align_self": null,
      "border": null,
      "bottom": null,
      "display": null,
      "flex": null,
      "flex_flow": null,
      "grid_area": null,
      "grid_auto_columns": null,
      "grid_auto_flow": null,
      "grid_auto_rows": null,
      "grid_column": null,
      "grid_gap": null,
      "grid_row": null,
      "grid_template_areas": null,
      "grid_template_columns": null,
      "grid_template_rows": null,
      "height": null,
      "justify_content": null,
      "justify_items": null,
      "left": null,
      "margin": null,
      "max_height": null,
      "max_width": null,
      "min_height": null,
      "min_width": null,
      "object_fit": null,
      "object_position": null,
      "order": null,
      "overflow": null,
      "overflow_x": null,
      "overflow_y": null,
      "padding": null,
      "right": null,
      "top": null,
      "visibility": null,
      "width": null
     }
    },
    "99c5e1c1e6d64113ac527022e67e7bfa": {
     "model_module": "@jupyter-widgets/controls",
     "model_module_version": "1.5.0",
     "model_name": "HBoxModel",
     "state": {
      "_dom_classes": [],
      "_model_module": "@jupyter-widgets/controls",
      "_model_module_version": "1.5.0",
      "_model_name": "HBoxModel",
      "_view_count": null,
      "_view_module": "@jupyter-widgets/controls",
      "_view_module_version": "1.5.0",
      "_view_name": "HBoxView",
      "box_style": "",
      "children": [
       "IPY_MODEL_69f86cf58a7843be9c5d412cb6eb7fe4",
       "IPY_MODEL_e4cce3454bab486fbd7dbf83caaf5931",
       "IPY_MODEL_5f317ddbed8343eba96b5af5d6e91c5b"
      ],
      "layout": "IPY_MODEL_cf5a20fda1524664bc3a270e2d22247c"
     }
    },
    "9cba5c3ed7af4f0a932e175ff12f38d5": {
     "model_module": "@jupyter-widgets/base",
     "model_module_version": "1.2.0",
     "model_name": "LayoutModel",
     "state": {
      "_model_module": "@jupyter-widgets/base",
      "_model_module_version": "1.2.0",
      "_model_name": "LayoutModel",
      "_view_count": null,
      "_view_module": "@jupyter-widgets/base",
      "_view_module_version": "1.2.0",
      "_view_name": "LayoutView",
      "align_content": null,
      "align_items": null,
      "align_self": null,
      "border": null,
      "bottom": null,
      "display": "inline-flex",
      "flex": null,
      "flex_flow": "row wrap",
      "grid_area": null,
      "grid_auto_columns": null,
      "grid_auto_flow": null,
      "grid_auto_rows": null,
      "grid_column": null,
      "grid_gap": null,
      "grid_row": null,
      "grid_template_areas": null,
      "grid_template_columns": null,
      "grid_template_rows": null,
      "height": null,
      "justify_content": null,
      "justify_items": null,
      "left": null,
      "margin": null,
      "max_height": null,
      "max_width": null,
      "min_height": null,
      "min_width": null,
      "object_fit": null,
      "object_position": null,
      "order": null,
      "overflow": null,
      "overflow_x": null,
      "overflow_y": null,
      "padding": null,
      "right": null,
      "top": null,
      "visibility": null,
      "width": "100%"
     }
    },
    "9fae219ebd9f4342b0c00d1b85898e69": {
     "model_module": "@jupyter-widgets/controls",
     "model_module_version": "1.5.0",
     "model_name": "HTMLModel",
     "state": {
      "_dom_classes": [],
      "_model_module": "@jupyter-widgets/controls",
      "_model_module_version": "1.5.0",
      "_model_name": "HTMLModel",
      "_view_count": null,
      "_view_module": "@jupyter-widgets/controls",
      "_view_module_version": "1.5.0",
      "_view_name": "HTMLView",
      "description": "",
      "description_tooltip": null,
      "layout": "IPY_MODEL_b3a14f4ff1814d02bb6b625dddc44839",
      "placeholder": "​",
      "style": "IPY_MODEL_748cb6e52d8f4b51b840f6de1e3ac01e",
      "value": " 105/105 [00:34&lt;00:00,  3.08it/s, v_num=35, val_loss=2.310, val_accuracy=0.213, train_loss=2.310, train_accuracy=0.212]"
     }
    },
    "a0b7ee4fc9de42c5bf6b6c3410a905c7": {
     "model_module": "@jupyter-widgets/base",
     "model_module_version": "1.2.0",
     "model_name": "LayoutModel",
     "state": {
      "_model_module": "@jupyter-widgets/base",
      "_model_module_version": "1.2.0",
      "_model_name": "LayoutModel",
      "_view_count": null,
      "_view_module": "@jupyter-widgets/base",
      "_view_module_version": "1.2.0",
      "_view_name": "LayoutView",
      "align_content": null,
      "align_items": null,
      "align_self": null,
      "border": null,
      "bottom": null,
      "display": null,
      "flex": null,
      "flex_flow": null,
      "grid_area": null,
      "grid_auto_columns": null,
      "grid_auto_flow": null,
      "grid_auto_rows": null,
      "grid_column": null,
      "grid_gap": null,
      "grid_row": null,
      "grid_template_areas": null,
      "grid_template_columns": null,
      "grid_template_rows": null,
      "height": null,
      "justify_content": null,
      "justify_items": null,
      "left": null,
      "margin": null,
      "max_height": null,
      "max_width": null,
      "min_height": null,
      "min_width": null,
      "object_fit": null,
      "object_position": null,
      "order": null,
      "overflow": null,
      "overflow_x": null,
      "overflow_y": null,
      "padding": null,
      "right": null,
      "top": null,
      "visibility": null,
      "width": null
     }
    },
    "a292d656bdad4d86a3d0ddf90f4c46b9": {
     "model_module": "@jupyter-widgets/controls",
     "model_module_version": "1.5.0",
     "model_name": "DescriptionStyleModel",
     "state": {
      "_model_module": "@jupyter-widgets/controls",
      "_model_module_version": "1.5.0",
      "_model_name": "DescriptionStyleModel",
      "_view_count": null,
      "_view_module": "@jupyter-widgets/base",
      "_view_module_version": "1.2.0",
      "_view_name": "StyleView",
      "description_width": ""
     }
    },
    "a353486d2fc3421d96a7f84ea4a8623e": {
     "model_module": "@jupyter-widgets/base",
     "model_module_version": "1.2.0",
     "model_name": "LayoutModel",
     "state": {
      "_model_module": "@jupyter-widgets/base",
      "_model_module_version": "1.2.0",
      "_model_name": "LayoutModel",
      "_view_count": null,
      "_view_module": "@jupyter-widgets/base",
      "_view_module_version": "1.2.0",
      "_view_name": "LayoutView",
      "align_content": null,
      "align_items": null,
      "align_self": null,
      "border": null,
      "bottom": null,
      "display": "inline-flex",
      "flex": null,
      "flex_flow": "row wrap",
      "grid_area": null,
      "grid_auto_columns": null,
      "grid_auto_flow": null,
      "grid_auto_rows": null,
      "grid_column": null,
      "grid_gap": null,
      "grid_row": null,
      "grid_template_areas": null,
      "grid_template_columns": null,
      "grid_template_rows": null,
      "height": null,
      "justify_content": null,
      "justify_items": null,
      "left": null,
      "margin": null,
      "max_height": null,
      "max_width": null,
      "min_height": null,
      "min_width": null,
      "object_fit": null,
      "object_position": null,
      "order": null,
      "overflow": null,
      "overflow_x": null,
      "overflow_y": null,
      "padding": null,
      "right": null,
      "top": null,
      "visibility": "hidden",
      "width": "100%"
     }
    },
    "a96bcc85dc0349ca904a02701b123b3f": {
     "model_module": "@jupyter-widgets/controls",
     "model_module_version": "1.5.0",
     "model_name": "DescriptionStyleModel",
     "state": {
      "_model_module": "@jupyter-widgets/controls",
      "_model_module_version": "1.5.0",
      "_model_name": "DescriptionStyleModel",
      "_view_count": null,
      "_view_module": "@jupyter-widgets/base",
      "_view_module_version": "1.2.0",
      "_view_name": "StyleView",
      "description_width": ""
     }
    },
    "ae0af05cb3ce4b829a58795366fe67bb": {
     "model_module": "@jupyter-widgets/base",
     "model_module_version": "1.2.0",
     "model_name": "LayoutModel",
     "state": {
      "_model_module": "@jupyter-widgets/base",
      "_model_module_version": "1.2.0",
      "_model_name": "LayoutModel",
      "_view_count": null,
      "_view_module": "@jupyter-widgets/base",
      "_view_module_version": "1.2.0",
      "_view_name": "LayoutView",
      "align_content": null,
      "align_items": null,
      "align_self": null,
      "border": null,
      "bottom": null,
      "display": "inline-flex",
      "flex": null,
      "flex_flow": "row wrap",
      "grid_area": null,
      "grid_auto_columns": null,
      "grid_auto_flow": null,
      "grid_auto_rows": null,
      "grid_column": null,
      "grid_gap": null,
      "grid_row": null,
      "grid_template_areas": null,
      "grid_template_columns": null,
      "grid_template_rows": null,
      "height": null,
      "justify_content": null,
      "justify_items": null,
      "left": null,
      "margin": null,
      "max_height": null,
      "max_width": null,
      "min_height": null,
      "min_width": null,
      "object_fit": null,
      "object_position": null,
      "order": null,
      "overflow": null,
      "overflow_x": null,
      "overflow_y": null,
      "padding": null,
      "right": null,
      "top": null,
      "visibility": "hidden",
      "width": "100%"
     }
    },
    "b33e09543ffb464da327a3ad1b8be804": {
     "model_module": "@jupyter-widgets/controls",
     "model_module_version": "1.5.0",
     "model_name": "HTMLModel",
     "state": {
      "_dom_classes": [],
      "_model_module": "@jupyter-widgets/controls",
      "_model_module_version": "1.5.0",
      "_model_name": "HTMLModel",
      "_view_count": null,
      "_view_module": "@jupyter-widgets/controls",
      "_view_module_version": "1.5.0",
      "_view_name": "HTMLView",
      "description": "",
      "description_tooltip": null,
      "layout": "IPY_MODEL_4505df98394742c1a8b00a086de159cc",
      "placeholder": "​",
      "style": "IPY_MODEL_227701f52ca84010a57374b7c1dea088",
      "value": "Validation DataLoader 0: 100%"
     }
    },
    "b3a14f4ff1814d02bb6b625dddc44839": {
     "model_module": "@jupyter-widgets/base",
     "model_module_version": "1.2.0",
     "model_name": "LayoutModel",
     "state": {
      "_model_module": "@jupyter-widgets/base",
      "_model_module_version": "1.2.0",
      "_model_name": "LayoutModel",
      "_view_count": null,
      "_view_module": "@jupyter-widgets/base",
      "_view_module_version": "1.2.0",
      "_view_name": "LayoutView",
      "align_content": null,
      "align_items": null,
      "align_self": null,
      "border": null,
      "bottom": null,
      "display": null,
      "flex": null,
      "flex_flow": null,
      "grid_area": null,
      "grid_auto_columns": null,
      "grid_auto_flow": null,
      "grid_auto_rows": null,
      "grid_column": null,
      "grid_gap": null,
      "grid_row": null,
      "grid_template_areas": null,
      "grid_template_columns": null,
      "grid_template_rows": null,
      "height": null,
      "justify_content": null,
      "justify_items": null,
      "left": null,
      "margin": null,
      "max_height": null,
      "max_width": null,
      "min_height": null,
      "min_width": null,
      "object_fit": null,
      "object_position": null,
      "order": null,
      "overflow": null,
      "overflow_x": null,
      "overflow_y": null,
      "padding": null,
      "right": null,
      "top": null,
      "visibility": null,
      "width": null
     }
    },
    "b3e36b62346f4b9ea40a3d7b32028229": {
     "model_module": "@jupyter-widgets/controls",
     "model_module_version": "1.5.0",
     "model_name": "FloatProgressModel",
     "state": {
      "_dom_classes": [],
      "_model_module": "@jupyter-widgets/controls",
      "_model_module_version": "1.5.0",
      "_model_name": "FloatProgressModel",
      "_view_count": null,
      "_view_module": "@jupyter-widgets/controls",
      "_view_module_version": "1.5.0",
      "_view_name": "ProgressView",
      "bar_style": "",
      "description": "",
      "description_tooltip": null,
      "layout": "IPY_MODEL_19e26262fb54468fb5846435e066f094",
      "max": 20,
      "min": 0,
      "orientation": "horizontal",
      "style": "IPY_MODEL_f1cf8933279a48799a6be829e4201ef3",
      "value": 20
     }
    },
    "b7d836c03c6149d3b78b9286cb439d74": {
     "model_module": "@jupyter-widgets/controls",
     "model_module_version": "1.5.0",
     "model_name": "FloatProgressModel",
     "state": {
      "_dom_classes": [],
      "_model_module": "@jupyter-widgets/controls",
      "_model_module_version": "1.5.0",
      "_model_name": "FloatProgressModel",
      "_view_count": null,
      "_view_module": "@jupyter-widgets/controls",
      "_view_module_version": "1.5.0",
      "_view_name": "ProgressView",
      "bar_style": "",
      "description": "",
      "description_tooltip": null,
      "layout": "IPY_MODEL_0a730dd018c14709ab3aa6aab7e125e4",
      "max": 20,
      "min": 0,
      "orientation": "horizontal",
      "style": "IPY_MODEL_49a83a97dd96438da12bb55e3e40a64e",
      "value": 20
     }
    },
    "ba9cf5caa6384c41a19f42794b8e402a": {
     "model_module": "@jupyter-widgets/controls",
     "model_module_version": "1.5.0",
     "model_name": "HTMLModel",
     "state": {
      "_dom_classes": [],
      "_model_module": "@jupyter-widgets/controls",
      "_model_module_version": "1.5.0",
      "_model_name": "HTMLModel",
      "_view_count": null,
      "_view_module": "@jupyter-widgets/controls",
      "_view_module_version": "1.5.0",
      "_view_name": "HTMLView",
      "description": "",
      "description_tooltip": null,
      "layout": "IPY_MODEL_355b604cca854bbd9b2bc7e5fdb5afb7",
      "placeholder": "​",
      "style": "IPY_MODEL_a96bcc85dc0349ca904a02701b123b3f",
      "value": "Testing DataLoader 0: 100%"
     }
    },
    "bdb470581787465ebc0800744ec0bf90": {
     "model_module": "@jupyter-widgets/base",
     "model_module_version": "1.2.0",
     "model_name": "LayoutModel",
     "state": {
      "_model_module": "@jupyter-widgets/base",
      "_model_module_version": "1.2.0",
      "_model_name": "LayoutModel",
      "_view_count": null,
      "_view_module": "@jupyter-widgets/base",
      "_view_module_version": "1.2.0",
      "_view_name": "LayoutView",
      "align_content": null,
      "align_items": null,
      "align_self": null,
      "border": null,
      "bottom": null,
      "display": null,
      "flex": null,
      "flex_flow": null,
      "grid_area": null,
      "grid_auto_columns": null,
      "grid_auto_flow": null,
      "grid_auto_rows": null,
      "grid_column": null,
      "grid_gap": null,
      "grid_row": null,
      "grid_template_areas": null,
      "grid_template_columns": null,
      "grid_template_rows": null,
      "height": null,
      "justify_content": null,
      "justify_items": null,
      "left": null,
      "margin": null,
      "max_height": null,
      "max_width": null,
      "min_height": null,
      "min_width": null,
      "object_fit": null,
      "object_position": null,
      "order": null,
      "overflow": null,
      "overflow_x": null,
      "overflow_y": null,
      "padding": null,
      "right": null,
      "top": null,
      "visibility": null,
      "width": null
     }
    },
    "be87a5dc54c8457a9aac351f3d1c50ea": {
     "model_module": "@jupyter-widgets/controls",
     "model_module_version": "1.5.0",
     "model_name": "FloatProgressModel",
     "state": {
      "_dom_classes": [],
      "_model_module": "@jupyter-widgets/controls",
      "_model_module_version": "1.5.0",
      "_model_name": "FloatProgressModel",
      "_view_count": null,
      "_view_module": "@jupyter-widgets/controls",
      "_view_module_version": "1.5.0",
      "_view_name": "ProgressView",
      "bar_style": "",
      "description": "",
      "description_tooltip": null,
      "layout": "IPY_MODEL_efa085afd6ef423dbe32df9c8a0047ef",
      "max": 20,
      "min": 0,
      "orientation": "horizontal",
      "style": "IPY_MODEL_021a87e515cf4647ad3436d3e38c9176",
      "value": 20
     }
    },
    "bf16a8e95bf041e1b32b64ca0f8227a6": {
     "model_module": "@jupyter-widgets/controls",
     "model_module_version": "1.5.0",
     "model_name": "ProgressStyleModel",
     "state": {
      "_model_module": "@jupyter-widgets/controls",
      "_model_module_version": "1.5.0",
      "_model_name": "ProgressStyleModel",
      "_view_count": null,
      "_view_module": "@jupyter-widgets/base",
      "_view_module_version": "1.2.0",
      "_view_name": "StyleView",
      "bar_color": null,
      "description_width": ""
     }
    },
    "bf625076aa8f464eb1908772797d20e1": {
     "model_module": "@jupyter-widgets/controls",
     "model_module_version": "1.5.0",
     "model_name": "HTMLModel",
     "state": {
      "_dom_classes": [],
      "_model_module": "@jupyter-widgets/controls",
      "_model_module_version": "1.5.0",
      "_model_name": "HTMLModel",
      "_view_count": null,
      "_view_module": "@jupyter-widgets/controls",
      "_view_module_version": "1.5.0",
      "_view_name": "HTMLView",
      "description": "",
      "description_tooltip": null,
      "layout": "IPY_MODEL_f5c412b4ae1648d7b3c746296ae91b6c",
      "placeholder": "​",
      "style": "IPY_MODEL_136b9dc9844c48c9b9898ef0645562ed",
      "value": "Validation DataLoader 0: 100%"
     }
    },
    "c542dc43df5340fe90e7a7e552002e3c": {
     "model_module": "@jupyter-widgets/base",
     "model_module_version": "1.2.0",
     "model_name": "LayoutModel",
     "state": {
      "_model_module": "@jupyter-widgets/base",
      "_model_module_version": "1.2.0",
      "_model_name": "LayoutModel",
      "_view_count": null,
      "_view_module": "@jupyter-widgets/base",
      "_view_module_version": "1.2.0",
      "_view_name": "LayoutView",
      "align_content": null,
      "align_items": null,
      "align_self": null,
      "border": null,
      "bottom": null,
      "display": "inline-flex",
      "flex": null,
      "flex_flow": "row wrap",
      "grid_area": null,
      "grid_auto_columns": null,
      "grid_auto_flow": null,
      "grid_auto_rows": null,
      "grid_column": null,
      "grid_gap": null,
      "grid_row": null,
      "grid_template_areas": null,
      "grid_template_columns": null,
      "grid_template_rows": null,
      "height": null,
      "justify_content": null,
      "justify_items": null,
      "left": null,
      "margin": null,
      "max_height": null,
      "max_width": null,
      "min_height": null,
      "min_width": null,
      "object_fit": null,
      "object_position": null,
      "order": null,
      "overflow": null,
      "overflow_x": null,
      "overflow_y": null,
      "padding": null,
      "right": null,
      "top": null,
      "visibility": "hidden",
      "width": "100%"
     }
    },
    "c54aa7a111f74825ba332b0778d63473": {
     "model_module": "@jupyter-widgets/base",
     "model_module_version": "1.2.0",
     "model_name": "LayoutModel",
     "state": {
      "_model_module": "@jupyter-widgets/base",
      "_model_module_version": "1.2.0",
      "_model_name": "LayoutModel",
      "_view_count": null,
      "_view_module": "@jupyter-widgets/base",
      "_view_module_version": "1.2.0",
      "_view_name": "LayoutView",
      "align_content": null,
      "align_items": null,
      "align_self": null,
      "border": null,
      "bottom": null,
      "display": null,
      "flex": null,
      "flex_flow": null,
      "grid_area": null,
      "grid_auto_columns": null,
      "grid_auto_flow": null,
      "grid_auto_rows": null,
      "grid_column": null,
      "grid_gap": null,
      "grid_row": null,
      "grid_template_areas": null,
      "grid_template_columns": null,
      "grid_template_rows": null,
      "height": null,
      "justify_content": null,
      "justify_items": null,
      "left": null,
      "margin": null,
      "max_height": null,
      "max_width": null,
      "min_height": null,
      "min_width": null,
      "object_fit": null,
      "object_position": null,
      "order": null,
      "overflow": null,
      "overflow_x": null,
      "overflow_y": null,
      "padding": null,
      "right": null,
      "top": null,
      "visibility": null,
      "width": null
     }
    },
    "cb32b3b5cb6c459f9fb6ebba41b14179": {
     "model_module": "@jupyter-widgets/base",
     "model_module_version": "1.2.0",
     "model_name": "LayoutModel",
     "state": {
      "_model_module": "@jupyter-widgets/base",
      "_model_module_version": "1.2.0",
      "_model_name": "LayoutModel",
      "_view_count": null,
      "_view_module": "@jupyter-widgets/base",
      "_view_module_version": "1.2.0",
      "_view_name": "LayoutView",
      "align_content": null,
      "align_items": null,
      "align_self": null,
      "border": null,
      "bottom": null,
      "display": null,
      "flex": "2",
      "flex_flow": null,
      "grid_area": null,
      "grid_auto_columns": null,
      "grid_auto_flow": null,
      "grid_auto_rows": null,
      "grid_column": null,
      "grid_gap": null,
      "grid_row": null,
      "grid_template_areas": null,
      "grid_template_columns": null,
      "grid_template_rows": null,
      "height": null,
      "justify_content": null,
      "justify_items": null,
      "left": null,
      "margin": null,
      "max_height": null,
      "max_width": null,
      "min_height": null,
      "min_width": null,
      "object_fit": null,
      "object_position": null,
      "order": null,
      "overflow": null,
      "overflow_x": null,
      "overflow_y": null,
      "padding": null,
      "right": null,
      "top": null,
      "visibility": null,
      "width": null
     }
    },
    "cf5a20fda1524664bc3a270e2d22247c": {
     "model_module": "@jupyter-widgets/base",
     "model_module_version": "1.2.0",
     "model_name": "LayoutModel",
     "state": {
      "_model_module": "@jupyter-widgets/base",
      "_model_module_version": "1.2.0",
      "_model_name": "LayoutModel",
      "_view_count": null,
      "_view_module": "@jupyter-widgets/base",
      "_view_module_version": "1.2.0",
      "_view_name": "LayoutView",
      "align_content": null,
      "align_items": null,
      "align_self": null,
      "border": null,
      "bottom": null,
      "display": "inline-flex",
      "flex": null,
      "flex_flow": "row wrap",
      "grid_area": null,
      "grid_auto_columns": null,
      "grid_auto_flow": null,
      "grid_auto_rows": null,
      "grid_column": null,
      "grid_gap": null,
      "grid_row": null,
      "grid_template_areas": null,
      "grid_template_columns": null,
      "grid_template_rows": null,
      "height": null,
      "justify_content": null,
      "justify_items": null,
      "left": null,
      "margin": null,
      "max_height": null,
      "max_width": null,
      "min_height": null,
      "min_width": null,
      "object_fit": null,
      "object_position": null,
      "order": null,
      "overflow": null,
      "overflow_x": null,
      "overflow_y": null,
      "padding": null,
      "right": null,
      "top": null,
      "visibility": "hidden",
      "width": "100%"
     }
    },
    "d6585ed9890c4741b4639ef75502f569": {
     "model_module": "@jupyter-widgets/controls",
     "model_module_version": "1.5.0",
     "model_name": "DescriptionStyleModel",
     "state": {
      "_model_module": "@jupyter-widgets/controls",
      "_model_module_version": "1.5.0",
      "_model_name": "DescriptionStyleModel",
      "_view_count": null,
      "_view_module": "@jupyter-widgets/base",
      "_view_module_version": "1.2.0",
      "_view_name": "StyleView",
      "description_width": ""
     }
    },
    "dd1d13e06c6742b486e321a61c0fa3c2": {
     "model_module": "@jupyter-widgets/controls",
     "model_module_version": "1.5.0",
     "model_name": "DescriptionStyleModel",
     "state": {
      "_model_module": "@jupyter-widgets/controls",
      "_model_module_version": "1.5.0",
      "_model_name": "DescriptionStyleModel",
      "_view_count": null,
      "_view_module": "@jupyter-widgets/base",
      "_view_module_version": "1.2.0",
      "_view_name": "StyleView",
      "description_width": ""
     }
    },
    "dd38a9361e664e078c9a70b7dea9b0a4": {
     "model_module": "@jupyter-widgets/base",
     "model_module_version": "1.2.0",
     "model_name": "LayoutModel",
     "state": {
      "_model_module": "@jupyter-widgets/base",
      "_model_module_version": "1.2.0",
      "_model_name": "LayoutModel",
      "_view_count": null,
      "_view_module": "@jupyter-widgets/base",
      "_view_module_version": "1.2.0",
      "_view_name": "LayoutView",
      "align_content": null,
      "align_items": null,
      "align_self": null,
      "border": null,
      "bottom": null,
      "display": null,
      "flex": null,
      "flex_flow": null,
      "grid_area": null,
      "grid_auto_columns": null,
      "grid_auto_flow": null,
      "grid_auto_rows": null,
      "grid_column": null,
      "grid_gap": null,
      "grid_row": null,
      "grid_template_areas": null,
      "grid_template_columns": null,
      "grid_template_rows": null,
      "height": null,
      "justify_content": null,
      "justify_items": null,
      "left": null,
      "margin": null,
      "max_height": null,
      "max_width": null,
      "min_height": null,
      "min_width": null,
      "object_fit": null,
      "object_position": null,
      "order": null,
      "overflow": null,
      "overflow_x": null,
      "overflow_y": null,
      "padding": null,
      "right": null,
      "top": null,
      "visibility": null,
      "width": null
     }
    },
    "dd9b7673da3748c6a67788fd312cbe6b": {
     "model_module": "@jupyter-widgets/controls",
     "model_module_version": "1.5.0",
     "model_name": "DescriptionStyleModel",
     "state": {
      "_model_module": "@jupyter-widgets/controls",
      "_model_module_version": "1.5.0",
      "_model_name": "DescriptionStyleModel",
      "_view_count": null,
      "_view_module": "@jupyter-widgets/base",
      "_view_module_version": "1.2.0",
      "_view_name": "StyleView",
      "description_width": ""
     }
    },
    "ddaaf2ef9e6d4e5ebaaee489b515a1c0": {
     "model_module": "@jupyter-widgets/base",
     "model_module_version": "1.2.0",
     "model_name": "LayoutModel",
     "state": {
      "_model_module": "@jupyter-widgets/base",
      "_model_module_version": "1.2.0",
      "_model_name": "LayoutModel",
      "_view_count": null,
      "_view_module": "@jupyter-widgets/base",
      "_view_module_version": "1.2.0",
      "_view_name": "LayoutView",
      "align_content": null,
      "align_items": null,
      "align_self": null,
      "border": null,
      "bottom": null,
      "display": null,
      "flex": null,
      "flex_flow": null,
      "grid_area": null,
      "grid_auto_columns": null,
      "grid_auto_flow": null,
      "grid_auto_rows": null,
      "grid_column": null,
      "grid_gap": null,
      "grid_row": null,
      "grid_template_areas": null,
      "grid_template_columns": null,
      "grid_template_rows": null,
      "height": null,
      "justify_content": null,
      "justify_items": null,
      "left": null,
      "margin": null,
      "max_height": null,
      "max_width": null,
      "min_height": null,
      "min_width": null,
      "object_fit": null,
      "object_position": null,
      "order": null,
      "overflow": null,
      "overflow_x": null,
      "overflow_y": null,
      "padding": null,
      "right": null,
      "top": null,
      "visibility": null,
      "width": null
     }
    },
    "de411f5cee064afb81f239b6b6950fe0": {
     "model_module": "@jupyter-widgets/controls",
     "model_module_version": "1.5.0",
     "model_name": "ProgressStyleModel",
     "state": {
      "_model_module": "@jupyter-widgets/controls",
      "_model_module_version": "1.5.0",
      "_model_name": "ProgressStyleModel",
      "_view_count": null,
      "_view_module": "@jupyter-widgets/base",
      "_view_module_version": "1.2.0",
      "_view_name": "StyleView",
      "bar_color": null,
      "description_width": ""
     }
    },
    "deb3bcfeae3b4c1fb81582dedb41f930": {
     "model_module": "@jupyter-widgets/controls",
     "model_module_version": "1.5.0",
     "model_name": "HBoxModel",
     "state": {
      "_dom_classes": [],
      "_model_module": "@jupyter-widgets/controls",
      "_model_module_version": "1.5.0",
      "_model_name": "HBoxModel",
      "_view_count": null,
      "_view_module": "@jupyter-widgets/controls",
      "_view_module_version": "1.5.0",
      "_view_name": "HBoxView",
      "box_style": "",
      "children": [
       "IPY_MODEL_bf625076aa8f464eb1908772797d20e1",
       "IPY_MODEL_336c17ffaf0d48c3ae09856c626d1188",
       "IPY_MODEL_70dc9a761141455ea70d73ea5a885992"
      ],
      "layout": "IPY_MODEL_ae0af05cb3ce4b829a58795366fe67bb"
     }
    },
    "e376e7befb6a4307b192719039602c43": {
     "model_module": "@jupyter-widgets/controls",
     "model_module_version": "1.5.0",
     "model_name": "HTMLModel",
     "state": {
      "_dom_classes": [],
      "_model_module": "@jupyter-widgets/controls",
      "_model_module_version": "1.5.0",
      "_model_name": "HTMLModel",
      "_view_count": null,
      "_view_module": "@jupyter-widgets/controls",
      "_view_module_version": "1.5.0",
      "_view_name": "HTMLView",
      "description": "",
      "description_tooltip": null,
      "layout": "IPY_MODEL_2fb29d1179d5440bb8a83e28e6f80bde",
      "placeholder": "​",
      "style": "IPY_MODEL_177638985c824fce88ef163c06a13688",
      "value": " 131/131 [00:13&lt;00:00,  9.82it/s]"
     }
    },
    "e4cce3454bab486fbd7dbf83caaf5931": {
     "model_module": "@jupyter-widgets/controls",
     "model_module_version": "1.5.0",
     "model_name": "FloatProgressModel",
     "state": {
      "_dom_classes": [],
      "_model_module": "@jupyter-widgets/controls",
      "_model_module_version": "1.5.0",
      "_model_name": "FloatProgressModel",
      "_view_count": null,
      "_view_module": "@jupyter-widgets/controls",
      "_view_module_version": "1.5.0",
      "_view_name": "ProgressView",
      "bar_style": "",
      "description": "",
      "description_tooltip": null,
      "layout": "IPY_MODEL_382311c1966449c2b64976ff7e0fb22d",
      "max": 20,
      "min": 0,
      "orientation": "horizontal",
      "style": "IPY_MODEL_599c5456ac924283a3d2f36cc6ba3fa3",
      "value": 20
     }
    },
    "eb5a3aef28774f2faca6b1a473b5c3fa": {
     "model_module": "@jupyter-widgets/controls",
     "model_module_version": "1.5.0",
     "model_name": "HTMLModel",
     "state": {
      "_dom_classes": [],
      "_model_module": "@jupyter-widgets/controls",
      "_model_module_version": "1.5.0",
      "_model_name": "HTMLModel",
      "_view_count": null,
      "_view_module": "@jupyter-widgets/controls",
      "_view_module_version": "1.5.0",
      "_view_name": "HTMLView",
      "description": "",
      "description_tooltip": null,
      "layout": "IPY_MODEL_f55b1df7bfd74f908032360204b87640",
      "placeholder": "​",
      "style": "IPY_MODEL_095e6be8c5334b26b0b68f3eba5f810d",
      "value": "Validation DataLoader 0: 100%"
     }
    },
    "eebddd07b83d4d8b80ab2669a534c239": {
     "model_module": "@jupyter-widgets/controls",
     "model_module_version": "1.5.0",
     "model_name": "ProgressStyleModel",
     "state": {
      "_model_module": "@jupyter-widgets/controls",
      "_model_module_version": "1.5.0",
      "_model_name": "ProgressStyleModel",
      "_view_count": null,
      "_view_module": "@jupyter-widgets/base",
      "_view_module_version": "1.2.0",
      "_view_name": "StyleView",
      "bar_color": null,
      "description_width": ""
     }
    },
    "efa085afd6ef423dbe32df9c8a0047ef": {
     "model_module": "@jupyter-widgets/base",
     "model_module_version": "1.2.0",
     "model_name": "LayoutModel",
     "state": {
      "_model_module": "@jupyter-widgets/base",
      "_model_module_version": "1.2.0",
      "_model_name": "LayoutModel",
      "_view_count": null,
      "_view_module": "@jupyter-widgets/base",
      "_view_module_version": "1.2.0",
      "_view_name": "LayoutView",
      "align_content": null,
      "align_items": null,
      "align_self": null,
      "border": null,
      "bottom": null,
      "display": null,
      "flex": "2",
      "flex_flow": null,
      "grid_area": null,
      "grid_auto_columns": null,
      "grid_auto_flow": null,
      "grid_auto_rows": null,
      "grid_column": null,
      "grid_gap": null,
      "grid_row": null,
      "grid_template_areas": null,
      "grid_template_columns": null,
      "grid_template_rows": null,
      "height": null,
      "justify_content": null,
      "justify_items": null,
      "left": null,
      "margin": null,
      "max_height": null,
      "max_width": null,
      "min_height": null,
      "min_width": null,
      "object_fit": null,
      "object_position": null,
      "order": null,
      "overflow": null,
      "overflow_x": null,
      "overflow_y": null,
      "padding": null,
      "right": null,
      "top": null,
      "visibility": null,
      "width": null
     }
    },
    "f1cf8933279a48799a6be829e4201ef3": {
     "model_module": "@jupyter-widgets/controls",
     "model_module_version": "1.5.0",
     "model_name": "ProgressStyleModel",
     "state": {
      "_model_module": "@jupyter-widgets/controls",
      "_model_module_version": "1.5.0",
      "_model_name": "ProgressStyleModel",
      "_view_count": null,
      "_view_module": "@jupyter-widgets/base",
      "_view_module_version": "1.2.0",
      "_view_name": "StyleView",
      "bar_color": null,
      "description_width": ""
     }
    },
    "f43758202cae40cc97fd13ee9acd0e43": {
     "model_module": "@jupyter-widgets/controls",
     "model_module_version": "1.5.0",
     "model_name": "ProgressStyleModel",
     "state": {
      "_model_module": "@jupyter-widgets/controls",
      "_model_module_version": "1.5.0",
      "_model_name": "ProgressStyleModel",
      "_view_count": null,
      "_view_module": "@jupyter-widgets/base",
      "_view_module_version": "1.2.0",
      "_view_name": "StyleView",
      "bar_color": null,
      "description_width": ""
     }
    },
    "f4e8fe1c0b1542b8829802147bd0788f": {
     "model_module": "@jupyter-widgets/controls",
     "model_module_version": "1.5.0",
     "model_name": "FloatProgressModel",
     "state": {
      "_dom_classes": [],
      "_model_module": "@jupyter-widgets/controls",
      "_model_module_version": "1.5.0",
      "_model_name": "FloatProgressModel",
      "_view_count": null,
      "_view_module": "@jupyter-widgets/controls",
      "_view_module_version": "1.5.0",
      "_view_name": "ProgressView",
      "bar_style": "",
      "description": "",
      "description_tooltip": null,
      "layout": "IPY_MODEL_112aa81085bb4649966d6a023a55c13e",
      "max": 2,
      "min": 0,
      "orientation": "horizontal",
      "style": "IPY_MODEL_f43758202cae40cc97fd13ee9acd0e43",
      "value": 2
     }
    },
    "f55b1df7bfd74f908032360204b87640": {
     "model_module": "@jupyter-widgets/base",
     "model_module_version": "1.2.0",
     "model_name": "LayoutModel",
     "state": {
      "_model_module": "@jupyter-widgets/base",
      "_model_module_version": "1.2.0",
      "_model_name": "LayoutModel",
      "_view_count": null,
      "_view_module": "@jupyter-widgets/base",
      "_view_module_version": "1.2.0",
      "_view_name": "LayoutView",
      "align_content": null,
      "align_items": null,
      "align_self": null,
      "border": null,
      "bottom": null,
      "display": null,
      "flex": null,
      "flex_flow": null,
      "grid_area": null,
      "grid_auto_columns": null,
      "grid_auto_flow": null,
      "grid_auto_rows": null,
      "grid_column": null,
      "grid_gap": null,
      "grid_row": null,
      "grid_template_areas": null,
      "grid_template_columns": null,
      "grid_template_rows": null,
      "height": null,
      "justify_content": null,
      "justify_items": null,
      "left": null,
      "margin": null,
      "max_height": null,
      "max_width": null,
      "min_height": null,
      "min_width": null,
      "object_fit": null,
      "object_position": null,
      "order": null,
      "overflow": null,
      "overflow_x": null,
      "overflow_y": null,
      "padding": null,
      "right": null,
      "top": null,
      "visibility": null,
      "width": null
     }
    },
    "f5c412b4ae1648d7b3c746296ae91b6c": {
     "model_module": "@jupyter-widgets/base",
     "model_module_version": "1.2.0",
     "model_name": "LayoutModel",
     "state": {
      "_model_module": "@jupyter-widgets/base",
      "_model_module_version": "1.2.0",
      "_model_name": "LayoutModel",
      "_view_count": null,
      "_view_module": "@jupyter-widgets/base",
      "_view_module_version": "1.2.0",
      "_view_name": "LayoutView",
      "align_content": null,
      "align_items": null,
      "align_self": null,
      "border": null,
      "bottom": null,
      "display": null,
      "flex": null,
      "flex_flow": null,
      "grid_area": null,
      "grid_auto_columns": null,
      "grid_auto_flow": null,
      "grid_auto_rows": null,
      "grid_column": null,
      "grid_gap": null,
      "grid_row": null,
      "grid_template_areas": null,
      "grid_template_columns": null,
      "grid_template_rows": null,
      "height": null,
      "justify_content": null,
      "justify_items": null,
      "left": null,
      "margin": null,
      "max_height": null,
      "max_width": null,
      "min_height": null,
      "min_width": null,
      "object_fit": null,
      "object_position": null,
      "order": null,
      "overflow": null,
      "overflow_x": null,
      "overflow_y": null,
      "padding": null,
      "right": null,
      "top": null,
      "visibility": null,
      "width": null
     }
    },
    "f8ffdd67f54843e69813c9384045c44c": {
     "model_module": "@jupyter-widgets/base",
     "model_module_version": "1.2.0",
     "model_name": "LayoutModel",
     "state": {
      "_model_module": "@jupyter-widgets/base",
      "_model_module_version": "1.2.0",
      "_model_name": "LayoutModel",
      "_view_count": null,
      "_view_module": "@jupyter-widgets/base",
      "_view_module_version": "1.2.0",
      "_view_name": "LayoutView",
      "align_content": null,
      "align_items": null,
      "align_self": null,
      "border": null,
      "bottom": null,
      "display": "inline-flex",
      "flex": null,
      "flex_flow": "row wrap",
      "grid_area": null,
      "grid_auto_columns": null,
      "grid_auto_flow": null,
      "grid_auto_rows": null,
      "grid_column": null,
      "grid_gap": null,
      "grid_row": null,
      "grid_template_areas": null,
      "grid_template_columns": null,
      "grid_template_rows": null,
      "height": null,
      "justify_content": null,
      "justify_items": null,
      "left": null,
      "margin": null,
      "max_height": null,
      "max_width": null,
      "min_height": null,
      "min_width": null,
      "object_fit": null,
      "object_position": null,
      "order": null,
      "overflow": null,
      "overflow_x": null,
      "overflow_y": null,
      "padding": null,
      "right": null,
      "top": null,
      "visibility": "hidden",
      "width": "100%"
     }
    },
    "f995d08b430d4f5db52bd872138c090f": {
     "model_module": "@jupyter-widgets/base",
     "model_module_version": "1.2.0",
     "model_name": "LayoutModel",
     "state": {
      "_model_module": "@jupyter-widgets/base",
      "_model_module_version": "1.2.0",
      "_model_name": "LayoutModel",
      "_view_count": null,
      "_view_module": "@jupyter-widgets/base",
      "_view_module_version": "1.2.0",
      "_view_name": "LayoutView",
      "align_content": null,
      "align_items": null,
      "align_self": null,
      "border": null,
      "bottom": null,
      "display": null,
      "flex": null,
      "flex_flow": null,
      "grid_area": null,
      "grid_auto_columns": null,
      "grid_auto_flow": null,
      "grid_auto_rows": null,
      "grid_column": null,
      "grid_gap": null,
      "grid_row": null,
      "grid_template_areas": null,
      "grid_template_columns": null,
      "grid_template_rows": null,
      "height": null,
      "justify_content": null,
      "justify_items": null,
      "left": null,
      "margin": null,
      "max_height": null,
      "max_width": null,
      "min_height": null,
      "min_width": null,
      "object_fit": null,
      "object_position": null,
      "order": null,
      "overflow": null,
      "overflow_x": null,
      "overflow_y": null,
      "padding": null,
      "right": null,
      "top": null,
      "visibility": null,
      "width": null
     }
    },
    "ffd518597146417eab21bdd7081cc520": {
     "model_module": "@jupyter-widgets/controls",
     "model_module_version": "1.5.0",
     "model_name": "HBoxModel",
     "state": {
      "_dom_classes": [],
      "_model_module": "@jupyter-widgets/controls",
      "_model_module_version": "1.5.0",
      "_model_name": "HBoxModel",
      "_view_count": null,
      "_view_module": "@jupyter-widgets/controls",
      "_view_module_version": "1.5.0",
      "_view_name": "HBoxView",
      "box_style": "",
      "children": [
       "IPY_MODEL_28c37ae7c6514df2bd0824670321e314",
       "IPY_MODEL_f4e8fe1c0b1542b8829802147bd0788f",
       "IPY_MODEL_92a30638b173469c8ba5310a7375d661"
      ],
      "layout": "IPY_MODEL_1766e27c6a0e47d4b759efd9f6abdfe4"
     }
    },
    "ffeeb41db74b401591828ed6e0074359": {
     "model_module": "@jupyter-widgets/controls",
     "model_module_version": "1.5.0",
     "model_name": "DescriptionStyleModel",
     "state": {
      "_model_module": "@jupyter-widgets/controls",
      "_model_module_version": "1.5.0",
      "_model_name": "DescriptionStyleModel",
      "_view_count": null,
      "_view_module": "@jupyter-widgets/base",
      "_view_module_version": "1.2.0",
      "_view_name": "StyleView",
      "description_width": ""
     }
    }
   }
  }
 },
 "nbformat": 4,
 "nbformat_minor": 4
}
