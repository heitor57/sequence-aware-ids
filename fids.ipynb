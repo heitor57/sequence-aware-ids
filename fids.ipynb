{
 "cells": [
  {
   "cell_type": "markdown",
   "metadata": {
    "id": "Bapaz0nWMFKi"
   },
   "source": [
    "# Packages Installs, imports, and presets"
   ]
  },
  {
   "cell_type": "code",
   "execution_count": 1,
   "metadata": {
    "id": "VrkVnQL3LZqc"
   },
   "outputs": [],
   "source": [
    "#from scapy.all import *\n",
    "import pandas as pd\n",
    "#import seaborn as sns\n",
    "import numpy as np\n",
    "import matplotlib.pyplot as plt\n",
    "import matplotlib.ticker as mtick\n",
    "from collections import defaultdict\n",
    "import os\n",
    "from transformers import MobileViTV2Model, MobileViTV2Config\n",
    "import torch\n",
    "import torchmetrics\n",
    "from torch import optim\n",
    "import lightning as L\n",
    "import torch\n",
    "import torch.nn as nn"
   ]
  },
  {
   "cell_type": "code",
   "execution_count": 2,
   "metadata": {},
   "outputs": [
    {
     "name": "stderr",
     "output_type": "stream",
     "text": [
      "\u001b[34m\u001b[1mwandb\u001b[0m: Currently logged in as: \u001b[33mheitorwerneck\u001b[0m (\u001b[33mheitor57\u001b[0m). Use \u001b[1m`wandb login --relogin`\u001b[0m to force relogin\n"
     ]
    },
    {
     "data": {
      "text/html": [
       "wandb version 0.17.0 is available!  To upgrade, please run:\n",
       " $ pip install wandb --upgrade"
      ],
      "text/plain": [
       "<IPython.core.display.HTML object>"
      ]
     },
     "metadata": {},
     "output_type": "display_data"
    },
    {
     "data": {
      "text/html": [
       "Tracking run with wandb version 0.16.5"
      ],
      "text/plain": [
       "<IPython.core.display.HTML object>"
      ]
     },
     "metadata": {},
     "output_type": "display_data"
    },
    {
     "data": {
      "text/html": [
       "Run data is saved locally in <code>/home/hwerneck/fast-ids/wandb/run-20240526_122857-lw9t3m2l</code>"
      ],
      "text/plain": [
       "<IPython.core.display.HTML object>"
      ]
     },
     "metadata": {},
     "output_type": "display_data"
    },
    {
     "data": {
      "text/html": [
       "Syncing run <strong><a href='https://wandb.ai/heitor57/fast-ids/runs/lw9t3m2l/workspace' target=\"_blank\">resilient-frost-19</a></strong> to <a href='https://wandb.ai/heitor57/fast-ids' target=\"_blank\">Weights & Biases</a> (<a href='https://wandb.me/run' target=\"_blank\">docs</a>)<br/>"
      ],
      "text/plain": [
       "<IPython.core.display.HTML object>"
      ]
     },
     "metadata": {},
     "output_type": "display_data"
    },
    {
     "data": {
      "text/html": [
       " View project at <a href='https://wandb.ai/heitor57/fast-ids' target=\"_blank\">https://wandb.ai/heitor57/fast-ids</a>"
      ],
      "text/plain": [
       "<IPython.core.display.HTML object>"
      ]
     },
     "metadata": {},
     "output_type": "display_data"
    },
    {
     "data": {
      "text/html": [
       " View run at <a href='https://wandb.ai/heitor57/fast-ids/runs/lw9t3m2l/workspace' target=\"_blank\">https://wandb.ai/heitor57/fast-ids/runs/lw9t3m2l/workspace</a>"
      ],
      "text/plain": [
       "<IPython.core.display.HTML object>"
      ]
     },
     "metadata": {},
     "output_type": "display_data"
    },
    {
     "data": {
      "text/html": [
       "<button onClick=\"this.nextSibling.style.display='block';this.style.display='none';\">Display W&B run</button><iframe src='https://wandb.ai/heitor57/fast-ids/runs/lw9t3m2l?jupyter=true' style='border:none;width:100%;height:420px;display:none;'></iframe>"
      ],
      "text/plain": [
       "<wandb.sdk.wandb_run.Run at 0x7f18b6c22b40>"
      ]
     },
     "execution_count": 2,
     "metadata": {},
     "output_type": "execute_result"
    }
   ],
   "source": [
    "from lightning.pytorch.loggers import WandbLogger\n",
    "import wandb\n",
    "wandb.init() "
   ]
  },
  {
   "cell_type": "code",
   "execution_count": 3,
   "metadata": {
    "id": "YWqcSOG3-lc9"
   },
   "outputs": [],
   "source": [
    "INPUT_SIZE = (256,256,3)"
   ]
  },
  {
   "cell_type": "code",
   "execution_count": 4,
   "metadata": {},
   "outputs": [],
   "source": [
    "df = pd.read_parquet('data/iec104_15.parquet')"
   ]
  },
  {
   "cell_type": "markdown",
   "metadata": {
    "id": "Cn2EQ-Nn9_tV"
   },
   "source": [
    "## Removing missing features"
   ]
  },
  {
   "cell_type": "code",
   "execution_count": 5,
   "metadata": {},
   "outputs": [],
   "source": [
    "df_train= pd.read_parquet('data/iec104_15_train.parquet')\n",
    "df_validation = pd.read_parquet('data/iec104_15_validation.parquet')\n",
    "df_test=pd.read_parquet('data/iec104_15_test.parquet')"
   ]
  },
  {
   "cell_type": "code",
   "execution_count": 6,
   "metadata": {},
   "outputs": [],
   "source": [
    "missing_features=[c for c,v in ((df_train==-1).sum() == len(df_train)).items() if v==True]"
   ]
  },
  {
   "cell_type": "code",
   "execution_count": 7,
   "metadata": {
    "id": "PwAR0636uKid"
   },
   "outputs": [],
   "source": [
    "df_train=df_train.drop(missing_features,axis=1)\n",
    "df_test=df_test.drop(missing_features,axis=1)\n",
    "df_validation=df_validation.drop(missing_features,axis=1)"
   ]
  },
  {
   "cell_type": "code",
   "execution_count": 8,
   "metadata": {},
   "outputs": [
    {
     "data": {
      "text/plain": [
       "(318913, 1123)"
      ]
     },
     "execution_count": 8,
     "metadata": {},
     "output_type": "execute_result"
    }
   ],
   "source": [
    "df_train.shape"
   ]
  },
  {
   "cell_type": "code",
   "execution_count": 9,
   "metadata": {},
   "outputs": [
    {
     "data": {
      "text/plain": [
       "63161"
      ]
     },
     "execution_count": 9,
     "metadata": {},
     "output_type": "execute_result"
    }
   ],
   "source": [
    "len(set(df_train.index))"
   ]
  },
  {
   "cell_type": "code",
   "execution_count": 10,
   "metadata": {},
   "outputs": [
    {
     "data": {
      "text/plain": [
       "label\n",
       "0     243225\n",
       "4      12910\n",
       "6      12823\n",
       "10     10574\n",
       "2       7193\n",
       "3       7035\n",
       "1       6900\n",
       "8       5899\n",
       "7       4499\n",
       "9       4465\n",
       "5       3390\n",
       "Name: count, dtype: int64"
      ]
     },
     "metadata": {},
     "output_type": "display_data"
    },
    {
     "data": {
      "text/plain": [
       "label\n",
       "0     73617\n",
       "6      3281\n",
       "4      3112\n",
       "10     2688\n",
       "2      1792\n",
       "3      1750\n",
       "1      1704\n",
       "8      1431\n",
       "9      1165\n",
       "7      1111\n",
       "5       778\n",
       "Name: count, dtype: int64"
      ]
     },
     "metadata": {},
     "output_type": "display_data"
    },
    {
     "data": {
      "text/plain": [
       "label\n",
       "0     80345\n",
       "4      3933\n",
       "6      3792\n",
       "10     3336\n",
       "2      2312\n",
       "1      2194\n",
       "3      2074\n",
       "8      1768\n",
       "7      1466\n",
       "9      1437\n",
       "5      1070\n",
       "Name: count, dtype: int64"
      ]
     },
     "metadata": {},
     "output_type": "display_data"
    }
   ],
   "source": [
    "display(df_train['label'].value_counts())\n",
    "display(df_validation['label'].value_counts())\n",
    "display(df_test['label'].value_counts())"
   ]
  },
  {
   "cell_type": "code",
   "execution_count": 13,
   "metadata": {
    "id": "LeNwl6ZL6Mpn"
   },
   "outputs": [],
   "source": [
    "# del df_train_initial\n",
    "del df"
   ]
  },
  {
   "cell_type": "code",
   "execution_count": 16,
   "metadata": {},
   "outputs": [
    {
     "data": {
      "image/png": "[encoded data removed]",
      "text/plain": [
       "<Figure size 640x480 with 1 Axes>"
      ]
     },
     "metadata": {},
     "output_type": "display_data"
    }
   ],
   "source": [
    "# df_test.groupby('flow').\n",
    "\n",
    "def plot_cdf(x):\n",
    "  plt.title('Cumulative Distribution Function over Total Packets in a Flow')\n",
    "  plt.xlabel(\"#Packets\")\n",
    "  plt.ylabel(r\"P(X<=#Packets)\")\n",
    "  # print(x)\n",
    "  plt.plot(x)\n",
    "tmp=df_train.groupby('flow')['tv_sec'].count().value_counts()\n",
    "tmp=tmp.sort_index().cumsum()\n",
    "tmp = tmp/tmp.max()\n",
    "plot_cdf(tmp)"
   ]
  },
  {
   "cell_type": "code",
   "execution_count": 20,
   "metadata": {},
   "outputs": [
    {
     "data": {
      "text/plain": [
       "tv_sec\n",
       "1        15672\n",
       "2        20993\n",
       "3        38240\n",
       "4        41312\n",
       "5        55256\n",
       "6        59466\n",
       "7        60926\n",
       "8        62028\n",
       "9        62577\n",
       "10       62771\n",
       "11       62886\n",
       "12       63009\n",
       "13       63087\n",
       "14       63102\n",
       "15       63133\n",
       "16       63134\n",
       "17       63136\n",
       "23       63138\n",
       "28       63139\n",
       "34       63140\n",
       "37       63141\n",
       "40       63142\n",
       "102      63143\n",
       "124      63144\n",
       "447      63146\n",
       "946      63147\n",
       "1132     63148\n",
       "1157     63149\n",
       "1228     63150\n",
       "1314     63151\n",
       "1579     63152\n",
       "1626     63153\n",
       "1712     63154\n",
       "5068     63155\n",
       "5983     63156\n",
       "6937     63157\n",
       "7030     63158\n",
       "21953    63159\n",
       "22026    63160\n",
       "22197    63161\n",
       "Name: count, dtype: int64"
      ]
     },
     "execution_count": 20,
     "metadata": {},
     "output_type": "execute_result"
    }
   ],
   "source": [
    "tmp=df_train.groupby('flow')['tv_sec'].count().value_counts()\n",
    "tmp=tmp.sort_index().cumsum()\n",
    "# tmp = tmp/tmp.max()\n",
    "tmp"
   ]
  },
  {
   "cell_type": "code",
   "execution_count": 17,
   "metadata": {
    "id": "mwCisIgPYNZ0"
   },
   "outputs": [],
   "source": [
    "# TRAIN_SIZE = 0.7\n",
    "# tmp = random.shuffle(list(set(df_train.index)))\n",
    "# TRAIN_SAMPLES = int(len(df_train)*TRAIN_SIZE)\n",
    "# df_train,df_validation = df_train.iloc[:TRAIN_SAMPLES],df_train.iloc[TRAIN_SAMPLES:]"
   ]
  },
  {
   "cell_type": "code",
   "execution_count": 18,
   "metadata": {
    "id": "Gxj3Is9lQmt6"
   },
   "outputs": [],
   "source": [
    "assert df_train.groupby(df_train.index)['label'].nunique().max()==1"
   ]
  },
  {
   "cell_type": "markdown",
   "metadata": {
    "id": "A0lLuGlQiOXI"
   },
   "source": [
    "#### Static vs Dynamic Packet (w.r.t. Flow) Features"
   ]
  },
  {
   "cell_type": "code",
   "execution_count": 19,
   "metadata": {
    "id": "EoU5-k5C9smw"
   },
   "outputs": [],
   "source": [
    "# pat = '([\\w\\d_]+)_?\\d*'\n",
    "# pat=r\"([\\w_]+)_\\d*\"\n",
    "pat=r\"([\\w_]+)_\\d+\"\n",
    "tmp=df_train.iloc[:1000, df_train.columns != 'label'].T.reset_index().replace(to_replace=pat, value=r\"\\1\", regex=True).groupby('index').agg(lambda x: ''.join(map(str,x))).T\n",
    "tmp = tmp.groupby(tmp.index).nunique().max().to_frame().sort_values(by=0,ascending=False)"
   ]
  },
  {
   "cell_type": "code",
   "execution_count": 20,
   "metadata": {
    "id": "MdVUi2P8jXb-"
   },
   "outputs": [],
   "source": [
    "static_features= set(tmp.loc[tmp[0]==1].index)\n",
    "dynamic_features = set(tmp.index) - static_features"
   ]
  },
  {
   "cell_type": "code",
   "execution_count": 21,
   "metadata": {
    "id": "XTKaTmGMpJrv"
   },
   "outputs": [],
   "source": [
    "dynamic_features_raw = {'tcp_opt','tv_sec','tv_usec','tcp_cksum','tcp_ackn','tcp_seq','ipv4_tl'}\n",
    "dynamic_features_reduce =  dynamic_features - dynamic_features_raw"
   ]
  },
  {
   "cell_type": "code",
   "execution_count": 22,
   "metadata": {
    "id": "U35VEFeM5JCL"
   },
   "outputs": [],
   "source": [
    "dynamic_features_raw,dynamic_features_reduce,static_features = list(dynamic_features_raw),list(dynamic_features_reduce),list(static_features)\n",
    "dynamic_features=  list(dynamic_features)"
   ]
  },
  {
   "cell_type": "code",
   "execution_count": 23,
   "metadata": {
    "id": "EcWeZ-3Kgqic"
   },
   "outputs": [],
   "source": [
    "# [i for i in df_train.columns if len([for i in dynamic_features]) > 0]\n",
    "def get_bit_columns(features):\n",
    "  dynamic_features_bit_columns= []\n",
    "  for column_name in df_train.columns:\n",
    "    for feature_name in features:\n",
    "      if  feature_name in column_name:\n",
    "        dynamic_features_bit_columns.append(column_name)\n",
    "        break\n",
    "  return dynamic_features_bit_columns"
   ]
  },
  {
   "cell_type": "code",
   "execution_count": 24,
   "metadata": {
    "id": "JKNzD7fYgWhF"
   },
   "outputs": [],
   "source": [
    "dynamic_features_bit_columns= get_bit_columns(dynamic_features)\n",
    "static_features_bit_columns= get_bit_columns(static_features)"
   ]
  },
  {
   "cell_type": "code",
   "execution_count": 25,
   "metadata": {
    "colab": {
     "base_uri": "https://localhost:8080/"
    },
    "id": "KAaqEhv_JDOp",
    "outputId": "6e5422b7-d3a0-4d22-8165-bdd160ee9aa2"
   },
   "outputs": [
    {
     "data": {
      "text/plain": [
       "['ipv4_tl',\n",
       " 'tcp_ackn',\n",
       " 'ipv4_id',\n",
       " 'payload_bit',\n",
       " 'tcp_opt',\n",
       " 'tcp_wsize',\n",
       " 'tv_sec',\n",
       " 'tcp_seq',\n",
       " 'ipv4_cksum',\n",
       " 'tcp_cksum',\n",
       " 'tv_usec']"
      ]
     },
     "execution_count": 25,
     "metadata": {},
     "output_type": "execute_result"
    }
   ],
   "source": [
    "dynamic_features"
   ]
  },
  {
   "cell_type": "code",
   "execution_count": 26,
   "metadata": {
    "colab": {
     "base_uri": "https://localhost:8080/"
    },
    "id": "60Z6mZMPZFZX",
    "outputId": "18271d95-7996-41df-f2e2-bb80dffd48ee"
   },
   "outputs": [
    {
     "data": {
      "text/plain": [
       "(626, 176)"
      ]
     },
     "execution_count": 26,
     "metadata": {},
     "output_type": "execute_result"
    }
   ],
   "source": [
    "num_dynamic_features = len(dynamic_features_bit_columns)\n",
    "num_static_features= len(static_features_bit_columns)\n",
    "num_dynamic_features, num_static_features"
   ]
  },
  {
   "cell_type": "code",
   "execution_count": 27,
   "metadata": {
    "colab": {
     "base_uri": "https://localhost:8080/"
    },
    "id": "T7-hLPLpX5ag",
    "outputId": "10a7c10d-d1c4-4789-d801-726cc85ea09e"
   },
   "outputs": [
    {
     "data": {
      "text/plain": [
       "63161"
      ]
     },
     "execution_count": 27,
     "metadata": {},
     "output_type": "execute_result"
    }
   ],
   "source": [
    "len(set(df_train.index))"
   ]
  },
  {
   "cell_type": "markdown",
   "metadata": {
    "id": "JqFzMmK_9AZ5"
   },
   "source": [
    "## Training Dataset\n"
   ]
  },
  {
   "cell_type": "code",
   "execution_count": 28,
   "metadata": {
    "id": "b6QqLstCbLVG"
   },
   "outputs": [],
   "source": [
    "import torch.utils.data as data_utils\n",
    "import torch.nn.functional as F\n",
    "from torch.utils.data import Dataset\n",
    "\n",
    "BATCH_SIZE=48\n",
    "\n",
    "class IEC104Dataset(Dataset):\n",
    "    def __init__(self, df, transform=None, target_transform=None):\n",
    "        self.df = df\n",
    "        self.flow_int_id = list(set(self.df.index))\n",
    "        self.transform = transform\n",
    "        self.target_transform = target_transform\n",
    "\n",
    "    def __len__(self):\n",
    "        return len(self.flow_int_id)\n",
    "\n",
    "    def __getitem__(self, idx):\n",
    "        df_idx = self.flow_int_id[idx]\n",
    "        flow = self.df.loc[df_idx, self.df.columns != 'label']\n",
    "        label = self.df.loc[df_idx, 'label']\n",
    "\n",
    "        if isinstance(flow, pd.Series):\n",
    "            flow = flow.to_frame().T\n",
    "\n",
    "        if not isinstance(label, np.int64):\n",
    "            label = label.iloc[0]\n",
    "        label = torch.tensor(label)\n",
    "\n",
    "        if self.transform:\n",
    "            flow = self.transform(flow)\n",
    "        if self.target_transform:\n",
    "            label = self.target_transform(label)\n",
    "\n",
    "        return flow, label\n",
    "\n",
    "def feature_transform(flow):\n",
    "    # start_time = time.time()\n",
    "    # Convert flow to a DataFrame if it's not already\n",
    "    flow = pd.DataFrame(flow)\n",
    "\n",
    "    # Extract dynamic and static features\n",
    "    dynamic_features = flow.loc[:, dynamic_features_bit_columns].values\n",
    "    static_features = flow.loc[:, static_features_bit_columns].iloc[0].values\n",
    "\n",
    "    # Convert to tensors\n",
    "    dynamic_tensor = torch.tensor(dynamic_features, dtype=torch.float32)\n",
    "    static_tensor = torch.tensor(static_features, dtype=torch.float32)\n",
    "\n",
    "    # Determine the shape of the dynamic tensor\n",
    "    dynamic_shape = dynamic_tensor.shape\n",
    "\n",
    "    # Preallocate tensor for X with -1\n",
    "    # print(INPUT_SIZE)\n",
    "    total_dynamic_size = INPUT_SIZE[1] * INPUT_SIZE[2]\n",
    "    X = -torch.ones(INPUT_SIZE[0], total_dynamic_size, dtype=torch.float32)\n",
    "\n",
    "    # Fill in the dynamic features (ensure no size mismatch)\n",
    "    min_shape_0 = min(dynamic_shape[0], INPUT_SIZE[0])\n",
    "\n",
    "    X[:min_shape_0, :dynamic_shape[1]] = dynamic_tensor[-min_shape_0:, :dynamic_shape[1]]\n",
    "    X = X.view(3,256,256)\n",
    "    X = (X+1)/2\n",
    "    return [X, static_tensor]\n",
    "# class_sample_output=df_train[['label']].value_counts().sort_index().tolist()\n",
    "\n",
    "\n",
    "\n",
    "NUM_WORKERS =6\n",
    "PREFETCH_FACTOR=2\n",
    "train_dataset = IEC104Dataset(df_train,transform = feature_transform)\n",
    "validation_dataset = IEC104Dataset(df_validation,transform = feature_transform)\n",
    "test_dataset = IEC104Dataset(df_test,transform = feature_transform)"
   ]
  },
  {
   "cell_type": "code",
   "execution_count": 29,
   "metadata": {},
   "outputs": [
    {
     "name": "stdout",
     "output_type": "stream",
     "text": [
      "[41214, 2154, 2165, 1990, 3681, 1049, 3640, 1361, 1755, 1443, 2709]\n",
      "tensor([2.4264e-05, 4.6425e-04, 4.6189e-04, 5.0251e-04, 2.7167e-04, 9.5329e-04,\n",
      "        2.7473e-04, 7.3475e-04, 5.6980e-04, 6.9300e-04, 3.6914e-04])\n",
      "tensor([4.6189e-04, 2.4264e-05, 6.9300e-04,  ..., 2.7473e-04, 2.4264e-05,\n",
      "        5.0251e-04], dtype=torch.float64)\n"
     ]
    }
   ],
   "source": [
    "class_sample_output=df_train.reset_index().groupby('label')['flow'].nunique().tolist()\n",
    "print(class_sample_output)\n",
    "sampling_weights = 1 / torch.Tensor(class_sample_output)\n",
    "print(sampling_weights)\n",
    "\n",
    "labels = train_dataset.df.groupby('flow')['label'].unique()\n",
    "labels=[labels.loc[i][0] for i in train_dataset.flow_int_id]\n",
    "samples_weight = np.array([sampling_weights[t] for t in labels]).flatten()\n",
    "\n",
    "samples_weight = torch.from_numpy(samples_weight)\n",
    "samples_weigth = samples_weight.double()\n",
    "print(samples_weigth)\n",
    "sampler = torch.utils.data.sampler.WeightedRandomSampler(samples_weight, len(samples_weight))\n",
    "\n",
    "\n",
    "# train_loader = data_utils.DataLoader(dataset = train_dataset, batch_size = BATCH_SIZE,num_workers=NUM_WORKERS,prefetch_factor=PREFETCH_FACTOR)\n",
    "train_loader = data_utils.DataLoader(dataset = train_dataset, batch_size = BATCH_SIZE,num_workers=NUM_WORKERS,prefetch_factor=PREFETCH_FACTOR,sampler = sampler)\n",
    "validation_loader = data_utils.DataLoader(dataset = validation_dataset, batch_size = BATCH_SIZE,num_workers=NUM_WORKERS,prefetch_factor=PREFETCH_FACTOR)\n",
    "test_loader = data_utils.DataLoader(dataset = test_dataset, batch_size = BATCH_SIZE,num_workers=NUM_WORKERS,prefetch_factor=PREFETCH_FACTOR)"
   ]
  },
  {
   "cell_type": "code",
   "execution_count": 30,
   "metadata": {},
   "outputs": [
    {
     "name": "stdout",
     "output_type": "stream",
     "text": [
      "tensor([ 4,  5,  9,  2,  6, 10, 10,  5,  8,  1,  0,  9,  1,  1,  9, 10,  5,  4,\n",
      "         3,  0,  4,  7,  7,  3,  1,  4,  1,  7,  7,  2,  7,  5])\n",
      "tensor([ 6, 10,  4,  2,  4, 10,  2,  4,  2,  0,  2,  6,  8,  7,  7,  1,  5,  1,\n",
      "         6,  3,  3,  4,  6,  4,  1,  1,  3,  6,  4,  2,  4, 10])\n",
      "tensor([ 1,  7,  2,  6,  6,  1,  1,  9,  5,  6,  0, 10,  3,  9,  2,  4,  4,  0,\n",
      "         1,  0,  8,  1,  6,  2,  2,  7,  2,  0,  9, 10,  4, 10])\n",
      "tensor([ 3,  7, 10,  9,  2,  0,  1,  3,  3,  0,  2,  9,  4,  1,  1,  8,  7,  9,\n",
      "        10,  6,  7, 10,  7,  8,  1,  7,  9,  7,  8,  2,  3,  6])\n",
      "tensor([ 9,  3,  8, 10,  7,  1,  1,  9,  4,  1,  1,  6,  4,  2,  5,  3,  2,  4,\n",
      "         2,  9,  5,  4,  8,  8,  7,  8,  8,  1,  2,  6, 10, 10])\n",
      "tensor([10,  1,  1,  9,  5,  7, 10,  2,  8,  6,  4,  7,  0,  6,  5,  0,  5,  2,\n",
      "         0,  5,  5,  1,  7,  6,  7,  1,  2,  3,  6,  8,  0,  0])\n"
     ]
    }
   ],
   "source": [
    "a= 0\n",
    "for i in train_loader:\n",
    "    print(i[1])\n",
    "    if a == 5:\n",
    "        break\n",
    "    a+=1"
   ]
  },
  {
   "cell_type": "markdown",
   "metadata": {
    "id": "MY_LNf089EMg"
   },
   "source": [
    "## Model Design"
   ]
  },
  {
   "cell_type": "code",
   "execution_count": 31,
   "metadata": {
    "id": "eKisrC3kgdN5"
   },
   "outputs": [],
   "source": [
    "model_vitv2_output_shape = [ 512, 8, 8]\n",
    "NUM_CLASSES = df_train.label.nunique()"
   ]
  },
  {
   "cell_type": "code",
   "execution_count": 32,
   "metadata": {
    "id": "-Wwyk-22gzE5"
   },
   "outputs": [],
   "source": [
    "def get_device():\n",
    "    device = \"cpu\"\n",
    "    if torch.cuda.is_available():\n",
    "      device = \"cuda\"\n",
    "    return device\n",
    "DEVICE = get_device()"
   ]
  },
  {
   "cell_type": "code",
   "execution_count": 33,
   "metadata": {},
   "outputs": [],
   "source": [
    "import seaborn as sns"
   ]
  },
  {
   "cell_type": "code",
   "execution_count": 34,
   "metadata": {},
   "outputs": [],
   "source": [
    "import wandb"
   ]
  },
  {
   "cell_type": "code",
   "execution_count": 35,
   "metadata": {
    "id": "GGipEbM8VcpV"
   },
   "outputs": [],
   "source": [
    "\n",
    "class FullyConnectedNet(nn.Module):\n",
    "    def __init__(self,input_size,output_size,l1=180,l2=128,l3=20,dropout=0.2):\n",
    "        super().__init__()\n",
    "        self.net = nn.Sequential(\n",
    "            # nn.Flatten(),\n",
    "            nn.Linear(input_size, l1),\n",
    "            nn.ReLU(),\n",
    "            # nn.Dropout(dropout),\n",
    "            nn.Linear(l1, l2),\n",
    "            nn.ReLU(),\n",
    "            # nn.Dropout(dropout),\n",
    "            nn.Linear(l2, l3),\n",
    "            nn.ReLU(),\n",
    "            # nn.Dropout(dropout),\n",
    "            nn.Linear(l3, output_size),\n",
    "            nn.Softmax(dim=1)\n",
    "        )\n",
    "\n",
    "    def forward(self, x):\n",
    "        x = self.net(x)\n",
    "        return x\n",
    "\n",
    "class FVIT(nn.Module):\n",
    "    def __init__(self,encoder,decoder):\n",
    "        super(FVIT, self).__init__()\n",
    "        self.encoder = encoder\n",
    "        self.decoder = decoder\n",
    "\n",
    "    def forward(self, x):\n",
    "        hidden_states=self.encoder(x[0]).last_hidden_state\n",
    "        # print(\"Hidden states shape:\", hidden_states.shape)\n",
    "        # print(\"Additional input shape:\", x[1].shape)\n",
    "        concatenated_input = torch.cat((torch.flatten(hidden_states, start_dim=1), torch.flatten(x[1], start_dim=1)),dim=1)\n",
    "        # print(\"Concatenated input shape:\", concatenated_input.shape)\n",
    "        return self.decoder(concatenated_input)\n",
    "        # print(hidden_states.shape,x[1].shape)\n",
    "        # return self.decoder(torch.concat((torch.flatten(hidden_states,start_dim=1), torch.flatten(x[1],start_dim=1))))\n",
    "\n",
    "\n",
    "class LFVIT(L.LightningModule):\n",
    "    def __init__(self, model):\n",
    "        super().__init__()\n",
    "        self.model = model\n",
    "        self.step_outputs = []\n",
    "        self.step_target = []\n",
    "    def forward(self, inputs):\n",
    "        return self.model(inputs)\n",
    "    def training_step(self, batch, batch_idx):\n",
    "        x, y = batch\n",
    "        target_prediction = self.model(x)\n",
    "        loss = nn.functional.cross_entropy(target_prediction, y)\n",
    "        # self.step_outputs.append(target_prediction)\n",
    "        # self.step_target.append(y)\n",
    "        self.log('train_loss',loss,on_epoch=False,on_step=True)\n",
    "        return loss\n",
    "        # metrics = self._shared_eval_step(batch, batch_idx,step_type='train')\n",
    "        # for key,value in metrics.copy().items():\n",
    "        #     metrics[\"train_\"+key]=metrics.pop(key)\n",
    "        # self.log_dict(metrics,prog_bar=True,on_step=False, on_epoch=True)\n",
    "        # return metrics['train_loss']\n",
    "    def validation_step(self, batch, batch_idx):\n",
    "        x, y = batch\n",
    "        target_prediction = self.model(x)\n",
    "        self.step_outputs.append(target_prediction)\n",
    "        self.step_target.append(y)\n",
    "        loss = nn.functional.cross_entropy(target_prediction, y)\n",
    "        self.log('val_loss',loss,on_epoch=True,on_step=False)\n",
    "        # loss = nn.functional.cross_entropy(target_prediction, y)\n",
    "        # self.log('val_loss',loss)\n",
    "    def test_step(self, batch, batch_idx):\n",
    "        x, y = batch\n",
    "        target_prediction = self.model(x)\n",
    "        self.step_outputs.append(target_prediction)\n",
    "        self.step_target.append(y)        \n",
    "    # def on_test_epoch_end(self):\n",
    "    def on_test_epoch_end(self):\n",
    "        self._shared_on_epoch_end(end_type='test')\n",
    "    def on_validation_epoch_end(self):\n",
    "        self._shared_on_epoch_end('validation')\n",
    "    def _shared_on_epoch_end(self,end_type):\n",
    "        all_preds = torch.cat(self.step_outputs)\n",
    "        all_targets = torch.cat(self.step_target)\n",
    "        # all_preds=torch.flatten(all_preds,start_dim=0,end_dim=1)\n",
    "        # all_targets=torch.flatten(all_targets,start_dim=0,end_dim=1)\n",
    "        # print(all_preds[:])\n",
    "        print(all_targets.shape)\n",
    "        print(all_preds.shape)\n",
    "        print(all_targets[:5])\n",
    "        print(all_preds[:5])\n",
    "        metrics = dict()\n",
    "        suffix= end_type+'_'\n",
    "        # print(all_preds.shape)\n",
    "        # print(all_targets.shape)        \n",
    "        accuracy = torchmetrics.Accuracy(task=\"multiclass\", num_classes=NUM_CLASSES).to(DEVICE)\n",
    "        metrics[suffix+'accuracy'] = accuracy(all_preds, all_targets)\n",
    "        \n",
    "        accuracy = torchmetrics.Accuracy(task=\"multiclass\", num_classes=NUM_CLASSES,average='macro').to(DEVICE)\n",
    "        metrics[suffix+'accuracy_macro'] = accuracy(all_preds, all_targets)\n",
    "\n",
    "        confusionmatrix = torchmetrics.ConfusionMatrix(task=\"multiclass\", num_classes=NUM_CLASSES).to(DEVICE)\n",
    "        confusionmatrix_result = confusionmatrix(all_preds, all_targets).cpu().numpy()\n",
    "        df_cm = pd.DataFrame(confusionmatrix_result, index = range(NUM_CLASSES), columns=range(NUM_CLASSES))\n",
    "        \n",
    "        plt.figure(figsize = (10,7))\n",
    "        fig_ = sns.heatmap(df_cm, annot=True, cmap='Spectral').get_figure()\n",
    "        plt.close(fig_)\n",
    "        fig_.savefig('tmp/confusionmatrix.png')\n",
    "        wandb_logger.log_image(key=suffix+\"confusionmatrix\", images=['tmp/confusionmatrix.png'])\n",
    "        \n",
    "        confusionmatrix = torchmetrics.ConfusionMatrix(normalize=True,task=\"multiclass\", num_classes=NUM_CLASSES).to(DEVICE)\n",
    "        confusionmatrix_result = confusionmatrix(all_preds, all_targets).cpu().numpy()\n",
    "        df_cm = pd.DataFrame(confusionmatrix_result, index = range(NUM_CLASSES), columns=range(NUM_CLASSES))\n",
    "        plt.figure(figsize = (10,7))\n",
    "        fig_ = sns.heatmap(df_cm, annot=True, cmap='Spectral').get_figure()\n",
    "        plt.close(fig_)\n",
    "        fig_.savefig('tmp/confusionmatrix.png')\n",
    "        wandb_logger.log_image(key=suffix+\"confusionmatrix_normalized\", images=['tmp/confusionmatrix_normalized.png'])\n",
    "        \n",
    "        self.log_dict(metrics)\n",
    "        self.step_outputs.clear()\n",
    "        self.step_target.clear()\n",
    "    def configure_optimizers(self):\n",
    "        optimizer = optim.Adam(self.parameters(), lr=1e-4)\n",
    "        scheduler = optim.lr_scheduler.ReduceLROnPlateau(optimizer,mode='min')\n",
    "        return {'optimizer':optimizer,\"lr_scheduler\":{\"scheduler\": scheduler, \"interval\": \"epoch\",\"monitor\": \"val_loss\"}}\n"
   ]
  },
  {
   "cell_type": "code",
   "execution_count": 36,
   "metadata": {},
   "outputs": [],
   "source": [
    "\n",
    "# accuracy = torchmetrics.Accuracy(task=\"multiclass\", num_classes=NUM_CLASSES).to(DEVICE)\n",
    "\n",
    "# accuracy(torch.tensor(4, device='cuda:0'),\n",
    "# torch.tensor([0.0824, 0.0977, 0.1032, 0.0896, 0.0766, 0.1045, 0.0956, 0.0752, 0.0876,\n",
    "#         0.0868, 0.1010], device='cuda:0'))"
   ]
  },
  {
   "cell_type": "code",
   "execution_count": 37,
   "metadata": {
    "id": "MmKlLwpqfzoq"
   },
   "outputs": [
    {
     "name": "stderr",
     "output_type": "stream",
     "text": [
      "/home/hwerneck/miniconda3/lib/python3.12/site-packages/huggingface_hub/file_download.py:1132: FutureWarning: `resume_download` is deprecated and will be removed in version 1.0.0. Downloads always resume when possible. If you want to force a new download, use `force_download=True`.\n",
      "  warnings.warn(\n"
     ]
    }
   ],
   "source": [
    "model_vitv2 = MobileViTV2Model.from_pretrained(\"apple/mobilevitv2-1.0-imagenet1k-256\")\n",
    "# model_vitv2 = MobileViTV2Model(config=MobileViTV2Config())\n",
    "decoder=FullyConnectedNet(np.prod(model_vitv2_output_shape)+num_static_features,NUM_CLASSES,l1=90,l2=60,l3=40,dropout=0.2)\n",
    "fvit = FVIT(model_vitv2,decoder)\n",
    "model_fvit = LFVIT(fvit)"
   ]
  },
  {
   "cell_type": "markdown",
   "metadata": {},
   "source": [
    "## Running\n"
   ]
  },
  {
   "cell_type": "code",
   "execution_count": 39,
   "metadata": {
    "colab": {
     "base_uri": "https://localhost:8080/",
     "height": 637,
     "referenced_widgets": [
      "ffd518597146417eab21bdd7081cc520",
      "28c37ae7c6514df2bd0824670321e314",
      "f4e8fe1c0b1542b8829802147bd0788f",
      "92a30638b173469c8ba5310a7375d661",
      "1766e27c6a0e47d4b759efd9f6abdfe4",
      "c54aa7a111f74825ba332b0778d63473",
      "d6585ed9890c4741b4639ef75502f569",
      "112aa81085bb4649966d6a023a55c13e",
      "f43758202cae40cc97fd13ee9acd0e43",
      "97ba0548b7fb44c181ca2220715e9bda",
      "298ef5b11dca45ee8e14ab296555f3bc",
      "4e723165fb6a4339b341c6816bc48860",
      "8dd3555a6e07451f9cdd7b9e81af7e34",
      "643f0f8c7fca4e1886c7f8e6b9d59588",
      "9fae219ebd9f4342b0c00d1b85898e69",
      "9cba5c3ed7af4f0a932e175ff12f38d5",
      "a0b7ee4fc9de42c5bf6b6c3410a905c7",
      "1c5151e4b7c14cb69716328efe4abca7",
      "259b3024e9724e5c8361888ecc280ab1",
      "02b01aa8b8e44b65b1761bd8b6f578a0",
      "b3a14f4ff1814d02bb6b625dddc44839",
      "748cb6e52d8f4b51b840f6de1e3ac01e",
      "58146abc04ae41d7aea16647cee9d8f4",
      "eb5a3aef28774f2faca6b1a473b5c3fa",
      "be87a5dc54c8457a9aac351f3d1c50ea",
      "708b7da86c7542389029c2b8c200e9b4",
      "794a4dba56174a8da81c492d45981b79",
      "f55b1df7bfd74f908032360204b87640",
      "095e6be8c5334b26b0b68f3eba5f810d",
      "efa085afd6ef423dbe32df9c8a0047ef",
      "021a87e515cf4647ad3436d3e38c9176",
      "42850df8f2bf4d0cb8c4d3f9c085f7d5",
      "4cfe3e99f2e0433babfaac6f09f8cba9",
      "83ed3e007f084987a13e9c3c1fff4766",
      "009666ee40b94f058e2c62ddb22146fc",
      "b7d836c03c6149d3b78b9286cb439d74",
      "76f6bc555d1b497cad5c8a0202a01321",
      "3dd36e594d0743a8b63f9af381e3d74c",
      "ddaaf2ef9e6d4e5ebaaee489b515a1c0",
      "97870065ddc6420b81c31fb0e3b00f41",
      "0a730dd018c14709ab3aa6aab7e125e4",
      "49a83a97dd96438da12bb55e3e40a64e",
      "47c79cc35e394270ab9bdd945bb80be8",
      "6d7c516774ea41dcaae6640bf2685665",
      "2f75632040894f37b065ec73779371f9",
      "b33e09543ffb464da327a3ad1b8be804",
      "b3e36b62346f4b9ea40a3d7b32028229",
      "717c00315e744f7e8488c7f3baac115a",
      "c542dc43df5340fe90e7a7e552002e3c",
      "4505df98394742c1a8b00a086de159cc",
      "227701f52ca84010a57374b7c1dea088",
      "19e26262fb54468fb5846435e066f094",
      "f1cf8933279a48799a6be829e4201ef3",
      "75d83d696c964a0e9d0583e164904602",
      "708fb059b2304740a110ad7e48126662",
      "4566b338078c48d29c855f54fcd0b9e2",
      "7d205400958a4ca982632403bedeafc3",
      "547174c2cf2548749fae663255a4e8bd",
      "106b892bf4584e7d8be1e5e8f49e2f00",
      "f8ffdd67f54843e69813c9384045c44c",
      "0cd3593c37c54f108d2d9233511b6c18",
      "407b604f5c6c410e9dbb66ec8552777b",
      "462e582742274cc299a4d6a158d0ad53",
      "35e5bbed9b17422796eaba0bb28f6450",
      "2ea43c564f3143e6a9118a0dcd867da4",
      "dd9b7673da3748c6a67788fd312cbe6b",
      "77cb668281264e3cbf7e55ce3b6c3da2",
      "12663cb80d8e49c5aae07de2a6fbd355",
      "7e8ab03ea04d4543a904c2b40696037d",
      "3a937e7b6d8b4d87825432114143c02f",
      "a353486d2fc3421d96a7f84ea4a8623e",
      "f995d08b430d4f5db52bd872138c090f",
      "a292d656bdad4d86a3d0ddf90f4c46b9",
      "cb32b3b5cb6c459f9fb6ebba41b14179",
      "bf16a8e95bf041e1b32b64ca0f8227a6",
      "1165d225e61c486ead33c4404ce931a2",
      "8a8f9fa017714d4488ccc9aa37d48439",
      "99c5e1c1e6d64113ac527022e67e7bfa",
      "69f86cf58a7843be9c5d412cb6eb7fe4",
      "e4cce3454bab486fbd7dbf83caaf5931",
      "5f317ddbed8343eba96b5af5d6e91c5b",
      "cf5a20fda1524664bc3a270e2d22247c",
      "223279094cb64846a4bec0ba41094ebe",
      "021ebbb9ff6c49e6bf8578278fc7502b",
      "382311c1966449c2b64976ff7e0fb22d",
      "599c5456ac924283a3d2f36cc6ba3fa3",
      "dd38a9361e664e078c9a70b7dea9b0a4",
      "dd1d13e06c6742b486e321a61c0fa3c2",
      "deb3bcfeae3b4c1fb81582dedb41f930",
      "bf625076aa8f464eb1908772797d20e1",
      "336c17ffaf0d48c3ae09856c626d1188",
      "70dc9a761141455ea70d73ea5a885992",
      "ae0af05cb3ce4b829a58795366fe67bb",
      "f5c412b4ae1648d7b3c746296ae91b6c",
      "136b9dc9844c48c9b9898ef0645562ed",
      "4dff1aedfb43456089d4c42f331567c5",
      "eebddd07b83d4d8b80ab2669a534c239",
      "bdb470581787465ebc0800744ec0bf90",
      "ffeeb41db74b401591828ed6e0074359"
     ]
    },
    "id": "isQdiDA0XdEF",
    "outputId": "532f6390-dd2a-451e-b407-ef2e2a5599f3"
   },
   "outputs": [
    {
     "data": {
      "application/vnd.code.notebook.stdout": [
       "tensor([0, 0, 0, 0, 0], device='cuda:0')\n",
       "tensor([[9.9993e-01, 4.8498e-22, 3.8581e-24, 7.1616e-23, 3.6802e-24, 0.0000e+00,\n",
       "         4.4264e-29, 2.0078e-16, 4.1968e-22, 7.4023e-05, 8.4607e-26],\n",
       "        [1.0000e+00, 7.4498e-24, 1.2250e-25, 3.1848e-24, 2.9985e-26, 0.0000e+00,\n",
       "         7.7268e-31, 3.0733e-18, 1.3972e-25, 2.8977e-07, 4.5027e-28],\n",
       "        [1.0000e+00, 5.7478e-24, 7.1358e-26, 2.0178e-24, 1.8495e-26, 0.0000e+00,\n",
       "         5.2977e-31, 2.7723e-18, 2.9020e-25, 1.6851e-06, 6.2094e-28],\n",
       "        [1.0000e+00, 4.1534e-12, 1.5484e-12, 2.3975e-12, 2.6857e-13, 2.8051e-35,\n",
       "         9.1125e-15, 1.8329e-09, 1.4648e-12, 4.5752e-06, 2.7555e-13],\n",
       "        [1.0000e+00, 1.4672e-08, 1.1406e-07, 1.9960e-07, 6.3366e-09, 3.4142e-35,\n",
       "         1.4635e-10, 2.5244e-06, 1.6931e-12, 3.6933e-07, 2.3588e-14]],\n",
       "       device='cuda:0')\n"
      ],
      "application/vnd.jupyter.widget-view+json": {
       "model_id": "cafb5dd2416740c3b64eaa170cf4ccda",
       "version_major": 2,
       "version_minor": 0
      },
      "text/plain": [
       "VBox(children=(Label(value='423.139 MB of 423.139 MB uploaded\\r'), FloatProgress(value=1.0, max=1.0)))"
      ]
     },
     "metadata": {},
     "output_type": "display_data"
    },
    {
     "data": {
      "text/html": [
       "<style>\n",
       "    table.wandb td:nth-child(1) { padding: 0 10px; text-align: left ; width: auto;} td:nth-child(2) {text-align: left ; width: 100%}\n",
       "    .wandb-row { display: flex; flex-direction: row; flex-wrap: wrap; justify-content: flex-start; width: 100% }\n",
       "    .wandb-col { display: flex; flex-direction: column; flex-basis: 100%; flex: 1; padding: 10px; }\n",
       "    </style>\n",
       "<div class=\"wandb-row\"><div class=\"wandb-col\"><h3>Run history:</h3><br/><table class=\"wandb\"><tr><td>epoch</td><td>▁▁▂▂▃▃▅▅▆▆▇▇██</td></tr><tr><td>train_loss</td><td>█▅▁▂▁▁▁</td></tr><tr><td>trainer/global_step</td><td>▁▁▁▂▂▂▃▃▃▅▅▅▆▆▆▇▇▇██</td></tr><tr><td>val_loss</td><td>▄█▄▃▅▄▁</td></tr><tr><td>validation_accuracy</td><td>▁▂▂▇▂██</td></tr></table><br/></div><div class=\"wandb-col\"><h3>Run summary:</h3><br/><table class=\"wandb\"><tr><td>epoch</td><td>6</td></tr><tr><td>train_loss</td><td>2.37131</td></tr><tr><td>trainer/global_step</td><td>1378</td></tr><tr><td>val_loss</td><td>2.32955</td></tr><tr><td>validation_accuracy</td><td>0.24171</td></tr></table><br/></div></div>"
      ],
      "text/plain": [
       "<IPython.core.display.HTML object>"
      ]
     },
     "metadata": {},
     "output_type": "display_data"
    },
    {
     "data": {
      "text/html": [
       " View run <strong style=\"color:#cdcd00\">fluent-moon-36</strong> at: <a href='https://wandb.ai/heitor57/lightning_logs/runs/3hcah127/workspace' target=\"_blank\">https://wandb.ai/heitor57/lightning_logs/runs/3hcah127/workspace</a><br/>Synced 6 W&B file(s), 8 media file(s), 5 artifact file(s) and 0 other file(s)"
      ],
      "text/plain": [
       "<IPython.core.display.HTML object>"
      ]
     },
     "metadata": {},
     "output_type": "display_data"
    },
    {
     "data": {
      "text/html": [
       "Find logs at: <code>./wandb/run-20240525_143802-3hcah127/logs</code>"
      ],
      "text/plain": [
       "<IPython.core.display.HTML object>"
      ]
     },
     "metadata": {},
     "output_type": "display_data"
    },
    {
     "name": "stderr",
     "output_type": "stream",
     "text": [
      "GPU available: True (cuda), used: True\n",
      "TPU available: False, using: 0 TPU cores\n",
      "IPU available: False, using: 0 IPUs\n",
      "HPU available: False, using: 0 HPUs\n",
      "`Trainer(limit_train_batches=1.0)` was configured so 100% of the batches per epoch will be used..\n",
      "`Trainer(limit_val_batches=1.0)` was configured so 100% of the batches will be used..\n"
     ]
    },
    {
     "data": {
      "application/vnd.jupyter.widget-view+json": {
       "model_id": "50bb6df4e4b74ec18edac1c35c713a35",
       "version_major": 2,
       "version_minor": 0
      },
      "text/plain": [
       "VBox(children=(Label(value='Waiting for wandb.init()...\\r'), FloatProgress(value=0.0112298427356614, max=1.0))…"
      ]
     },
     "metadata": {},
     "output_type": "display_data"
    },
    {
     "data": {
      "text/html": [
       "wandb version 0.17.0 is available!  To upgrade, please run:\n",
       " $ pip install wandb --upgrade"
      ],
      "text/plain": [
       "<IPython.core.display.HTML object>"
      ]
     },
     "metadata": {},
     "output_type": "display_data"
    },
    {
     "data": {
      "text/html": [
       "Tracking run with wandb version 0.16.5"
      ],
      "text/plain": [
       "<IPython.core.display.HTML object>"
      ]
     },
     "metadata": {},
     "output_type": "display_data"
    },
    {
     "data": {
      "text/html": [
       "Run data is saved locally in <code>./wandb/run-20240525_145755-cg214ll1</code>"
      ],
      "text/plain": [
       "<IPython.core.display.HTML object>"
      ]
     },
     "metadata": {},
     "output_type": "display_data"
    },
    {
     "data": {
      "text/html": [
       "Syncing run <strong><a href='https://wandb.ai/heitor57/lightning_logs/runs/cg214ll1/workspace' target=\"_blank\">glorious-sky-37</a></strong> to <a href='https://wandb.ai/heitor57/lightning_logs' target=\"_blank\">Weights & Biases</a> (<a href='https://wandb.me/run' target=\"_blank\">docs</a>)<br/>"
      ],
      "text/plain": [
       "<IPython.core.display.HTML object>"
      ]
     },
     "metadata": {},
     "output_type": "display_data"
    },
    {
     "data": {
      "text/html": [
       " View project at <a href='https://wandb.ai/heitor57/lightning_logs' target=\"_blank\">https://wandb.ai/heitor57/lightning_logs</a>"
      ],
      "text/plain": [
       "<IPython.core.display.HTML object>"
      ]
     },
     "metadata": {},
     "output_type": "display_data"
    },
    {
     "data": {
      "text/html": [
       " View run at <a href='https://wandb.ai/heitor57/lightning_logs/runs/cg214ll1/workspace' target=\"_blank\">https://wandb.ai/heitor57/lightning_logs/runs/cg214ll1/workspace</a>"
      ],
      "text/plain": [
       "<IPython.core.display.HTML object>"
      ]
     },
     "metadata": {},
     "output_type": "display_data"
    },
    {
     "name": "stderr",
     "output_type": "stream",
     "text": [
      "LOCAL_RANK: 0 - CUDA_VISIBLE_DEVICES: [0,1]\n",
      "\n",
      "  | Name  | Type | Params\n",
      "-------------------------------\n",
      "0 | model | FVIT | 7.4 M \n",
      "-------------------------------\n",
      "7.4 M     Trainable params\n",
      "0         Non-trainable params\n",
      "7.4 M     Total params\n",
      "29.449    Total estimated model params size (MB)\n"
     ]
    },
    {
     "data": {
      "application/vnd.jupyter.widget-view+json": {
       "model_id": "2c1205281a5f41c68d17afd27b79e090",
       "version_major": 2,
       "version_minor": 0
      },
      "text/plain": [
       "Sanity Checking: |                                                       | 0/? [00:00<?, ?it/s]"
      ]
     },
     "metadata": {},
     "output_type": "display_data"
    },
    {
     "name": "stdout",
     "output_type": "stream",
     "text": [
      "tensor([0, 0, 0, 0, 0], device='cuda:0')\n",
      "tensor([[0.2537, 0.0020, 0.0127, 0.0097, 0.0232, 0.2324, 0.0069, 0.0047, 0.1264,\n",
      "         0.3022, 0.0261],\n",
      "        [0.1416, 0.1385, 0.1128, 0.0804, 0.1161, 0.0754, 0.0691, 0.0824, 0.0491,\n",
      "         0.0586, 0.0759],\n",
      "        [0.1414, 0.1386, 0.1128, 0.0805, 0.1159, 0.0756, 0.0692, 0.0823, 0.0492,\n",
      "         0.0587, 0.0759],\n",
      "        [0.1508, 0.0039, 0.0151, 0.0099, 0.0270, 0.2779, 0.0069, 0.0060, 0.1815,\n",
      "         0.2371, 0.0839],\n",
      "        [0.0389, 0.0791, 0.2561, 0.3380, 0.0865, 0.0158, 0.1590, 0.0041, 0.0045,\n",
      "         0.0099, 0.0081]], device='cuda:0')\n"
     ]
    },
    {
     "data": {
      "application/vnd.jupyter.widget-view+json": {
       "model_id": "e68b0661c0c345bb9da9efaf34dd7fc1",
       "version_major": 2,
       "version_minor": 0
      },
      "text/plain": [
       "Training: |                                                              | 0/? [00:00<?, ?it/s]"
      ]
     },
     "metadata": {},
     "output_type": "display_data"
    },
    {
     "name": "stderr",
     "output_type": "stream",
     "text": [
      "/home/hwerneck/miniconda3/lib/python3.12/site-packages/torch/autograd/graph.py:744: UserWarning: Plan failed with a cudnnException: CUDNN_BACKEND_EXECUTION_PLAN_DESCRIPTOR: cudnnFinalize Descriptor Failed cudnn_status: CUDNN_STATUS_NOT_SUPPORTED (Triggered internally at /opt/conda/conda-bld/pytorch_1712608847532/work/aten/src/ATen/native/cudnn/Conv_v8.cpp:919.)\n",
      "  return Variable._execution_engine.run_backward(  # Calls into the C++ engine to run the backward pass\n"
     ]
    },
    {
     "data": {
      "application/vnd.jupyter.widget-view+json": {
       "model_id": "7680f1a6bf404d999318efcecc517456",
       "version_major": 2,
       "version_minor": 0
      },
      "text/plain": [
       "Validation: |                                                            | 0/? [00:00<?, ?it/s]"
      ]
     },
     "metadata": {},
     "output_type": "display_data"
    },
    {
     "name": "stdout",
     "output_type": "stream",
     "text": [
      "tensor([0, 0, 0, 0, 0], device='cuda:0')\n",
      "tensor([[0.3929, 0.0008, 0.0015, 0.0023, 0.0023, 0.2248, 0.0009, 0.0005, 0.1865,\n",
      "         0.1761, 0.0115],\n",
      "        [0.2335, 0.0825, 0.1138, 0.1181, 0.0899, 0.0403, 0.1411, 0.0412, 0.0584,\n",
      "         0.0367, 0.0444],\n",
      "        [0.2281, 0.0835, 0.1148, 0.1197, 0.0901, 0.0407, 0.1429, 0.0411, 0.0577,\n",
      "         0.0370, 0.0444],\n",
      "        [0.1400, 0.0286, 0.0351, 0.0209, 0.0290, 0.1074, 0.0167, 0.0248, 0.2289,\n",
      "         0.0763, 0.2921],\n",
      "        [0.3876, 0.0545, 0.0896, 0.1218, 0.1010, 0.0035, 0.2154, 0.0067, 0.0087,\n",
      "         0.0032, 0.0079]], device='cuda:0')\n"
     ]
    },
    {
     "data": {
      "application/vnd.jupyter.widget-view+json": {
       "model_id": "b6bb139b03724c87b18ed827111c7058",
       "version_major": 2,
       "version_minor": 0
      },
      "text/plain": [
       "Validation: |                                                            | 0/? [00:00<?, ?it/s]"
      ]
     },
     "metadata": {},
     "output_type": "display_data"
    },
    {
     "name": "stdout",
     "output_type": "stream",
     "text": [
      "tensor([0, 0, 0, 0, 0], device='cuda:0')\n",
      "tensor([[9.9211e-01, 9.6713e-05, 1.2762e-04, 2.0473e-04, 7.7849e-04, 1.8080e-03,\n",
      "         1.7034e-04, 9.6658e-05, 1.5623e-03, 2.5426e-03, 5.0364e-04],\n",
      "        [9.9788e-01, 6.6411e-05, 1.0648e-04, 1.8663e-04, 4.4766e-04, 2.6202e-04,\n",
      "         1.4173e-04, 5.5627e-05, 3.6330e-04, 3.3532e-04, 1.5650e-04],\n",
      "        [9.9482e-01, 1.6666e-04, 2.6717e-04, 4.4194e-04, 1.0538e-03, 7.3566e-04,\n",
      "         3.5996e-04, 1.2340e-04, 7.5100e-04, 9.3963e-04, 3.3699e-04],\n",
      "        [9.9623e-01, 2.1920e-05, 2.5379e-05, 2.9294e-05, 4.7665e-04, 1.0992e-03,\n",
      "         4.1282e-05, 3.7640e-05, 8.5933e-04, 8.7706e-04, 2.9804e-04],\n",
      "        [9.9476e-01, 1.0367e-04, 2.4787e-04, 4.5383e-04, 3.1583e-03, 3.7831e-06,\n",
      "         1.2206e-03, 3.0668e-05, 1.5339e-05, 1.5288e-06, 7.2539e-06]],\n",
      "       device='cuda:0')\n"
     ]
    },
    {
     "data": {
      "application/vnd.jupyter.widget-view+json": {
       "model_id": "6b66d8a02201400db57e9a58b293b33c",
       "version_major": 2,
       "version_minor": 0
      },
      "text/plain": [
       "Validation: |                                                            | 0/? [00:00<?, ?it/s]"
      ]
     },
     "metadata": {},
     "output_type": "display_data"
    },
    {
     "name": "stdout",
     "output_type": "stream",
     "text": [
      "tensor([0, 0, 0, 0, 0], device='cuda:0')\n",
      "tensor([[9.9779e-01, 1.4471e-05, 8.0391e-06, 3.5423e-05, 2.5203e-05, 1.0921e-04,\n",
      "         1.2433e-05, 1.3925e-05, 1.7943e-04, 1.7016e-03, 1.0772e-04],\n",
      "        [9.9946e-01, 6.3229e-06, 3.3335e-06, 1.5513e-05, 1.0091e-05, 2.3557e-05,\n",
      "         4.8234e-06, 6.2011e-06, 5.9695e-05, 3.7472e-04, 3.8978e-05],\n",
      "        [9.9835e-01, 1.2719e-05, 7.1231e-06, 3.1923e-05, 1.9973e-05, 7.6846e-05,\n",
      "         1.0448e-05, 1.1898e-05, 1.4066e-04, 1.2434e-03, 9.0048e-05],\n",
      "        [9.9909e-01, 5.6191e-06, 2.3356e-06, 9.4239e-06, 2.1920e-05, 5.6301e-05,\n",
      "         5.6559e-06, 6.0084e-06, 1.1234e-04, 6.4058e-04, 4.5697e-05],\n",
      "        [9.9900e-01, 6.9372e-05, 2.6290e-05, 1.3891e-04, 5.0255e-04, 6.8550e-08,\n",
      "         2.4707e-04, 1.0660e-05, 2.4322e-06, 4.5079e-07, 2.2852e-06]],\n",
      "       device='cuda:0')\n"
     ]
    },
    {
     "data": {
      "application/vnd.jupyter.widget-view+json": {
       "model_id": "73e930450e644af6bb83b9bfcde583ad",
       "version_major": 2,
       "version_minor": 0
      },
      "text/plain": [
       "Validation: |                                                            | 0/? [00:00<?, ?it/s]"
      ]
     },
     "metadata": {},
     "output_type": "display_data"
    },
    {
     "name": "stdout",
     "output_type": "stream",
     "text": [
      "tensor([0, 0, 0, 0, 0], device='cuda:0')\n",
      "tensor([[9.9989e-01, 2.8832e-08, 5.1523e-09, 3.9474e-08, 6.0195e-08, 1.6103e-08,\n",
      "         2.6739e-08, 1.0874e-07, 9.9258e-07, 1.0650e-04, 3.4133e-07],\n",
      "        [1.0000e+00, 4.5752e-09, 1.0403e-09, 7.7663e-09, 6.2565e-09, 3.7223e-10,\n",
      "         3.0354e-09, 1.8751e-08, 6.9175e-08, 3.5604e-06, 3.7046e-08],\n",
      "        [9.9999e-01, 7.7853e-09, 1.7651e-09, 1.3062e-08, 1.0381e-08, 1.4374e-09,\n",
      "         5.6244e-09, 3.1123e-08, 1.7331e-07, 1.2133e-05, 8.5773e-08],\n",
      "        [9.9994e-01, 1.3872e-07, 8.5531e-08, 7.8360e-08, 2.8520e-07, 4.2559e-09,\n",
      "         2.3400e-08, 4.8802e-07, 2.4201e-05, 4.0506e-07, 3.6237e-05],\n",
      "        [9.9997e-01, 2.0240e-06, 1.3279e-06, 4.5596e-06, 1.0618e-05, 1.5211e-12,\n",
      "         1.2369e-05, 8.1271e-07, 1.6481e-08, 3.3685e-09, 9.1453e-09]],\n",
      "       device='cuda:0')\n"
     ]
    },
    {
     "data": {
      "application/vnd.jupyter.widget-view+json": {
       "model_id": "d5ff89dd0944480a92d091d794ee19bd",
       "version_major": 2,
       "version_minor": 0
      },
      "text/plain": [
       "Validation: |                                                            | 0/? [00:00<?, ?it/s]"
      ]
     },
     "metadata": {},
     "output_type": "display_data"
    },
    {
     "name": "stdout",
     "output_type": "stream",
     "text": [
      "tensor([0, 0, 0, 0, 0], device='cuda:0')\n",
      "tensor([[9.9983e-01, 3.9138e-08, 2.7281e-09, 3.6636e-08, 1.5907e-08, 1.5023e-10,\n",
      "         2.1204e-09, 2.3712e-07, 1.3015e-07, 1.6934e-04, 1.7991e-07],\n",
      "        [9.9995e-01, 2.1394e-08, 2.0661e-09, 2.9074e-08, 6.5284e-09, 3.0476e-11,\n",
      "         1.3384e-09, 1.0109e-07, 3.7273e-08, 5.0296e-05, 7.4495e-08],\n",
      "        [9.9989e-01, 2.2834e-08, 2.0003e-09, 2.9762e-08, 6.4840e-09, 5.9674e-11,\n",
      "         1.3732e-09, 1.1038e-07, 5.7715e-08, 1.0595e-04, 1.0715e-07],\n",
      "        [1.0000e+00, 2.6031e-08, 5.4072e-09, 5.7381e-08, 3.1581e-08, 3.4434e-14,\n",
      "         5.3357e-09, 1.0304e-07, 3.6256e-09, 5.9084e-08, 5.9649e-09],\n",
      "        [9.9990e-01, 1.1964e-05, 1.1860e-05, 3.6167e-05, 2.2621e-05, 4.3979e-13,\n",
      "         7.3054e-06, 8.3868e-06, 4.5630e-08, 2.7477e-08, 5.3553e-08]],\n",
      "       device='cuda:0')\n"
     ]
    },
    {
     "data": {
      "application/vnd.jupyter.widget-view+json": {
       "model_id": "07194986f616452691e4427cb2f6d1a7",
       "version_major": 2,
       "version_minor": 0
      },
      "text/plain": [
       "Validation: |                                                            | 0/? [00:00<?, ?it/s]"
      ]
     },
     "metadata": {},
     "output_type": "display_data"
    },
    {
     "name": "stdout",
     "output_type": "stream",
     "text": [
      "tensor([0, 0, 0, 0, 0], device='cuda:0')\n",
      "tensor([[9.9955e-01, 5.9886e-08, 2.5930e-09, 4.1724e-08, 1.9890e-08, 4.0499e-12,\n",
      "         1.9753e-09, 2.8197e-07, 5.2390e-08, 4.4551e-04, 7.8635e-08],\n",
      "        [9.9993e-01, 1.5219e-08, 8.9555e-10, 1.6448e-08, 3.4779e-09, 1.5848e-13,\n",
      "         5.0072e-10, 5.6637e-08, 5.4918e-09, 6.5421e-05, 1.3002e-08],\n",
      "        [9.9987e-01, 1.3611e-08, 6.8233e-10, 1.4015e-08, 2.7934e-09, 2.3716e-13,\n",
      "         4.1199e-10, 5.3152e-08, 7.1193e-09, 1.3389e-04, 1.6422e-08],\n",
      "        [1.0000e+00, 4.7825e-07, 7.6681e-08, 7.8584e-07, 3.9917e-07, 1.1627e-15,\n",
      "         9.4254e-08, 4.5641e-07, 4.8011e-09, 2.2354e-07, 5.1970e-09],\n",
      "        [9.9960e-01, 8.5378e-05, 3.0070e-05, 1.1588e-04, 1.1138e-04, 2.2684e-14,\n",
      "         3.3146e-05, 2.0365e-05, 4.9825e-08, 1.7368e-07, 5.2215e-08]],\n",
      "       device='cuda:0')\n"
     ]
    },
    {
     "data": {
      "application/vnd.jupyter.widget-view+json": {
       "model_id": "ee10f81ea812473a9a1bacaa7100d78c",
       "version_major": 2,
       "version_minor": 0
      },
      "text/plain": [
       "Validation: |                                                            | 0/? [00:00<?, ?it/s]"
      ]
     },
     "metadata": {},
     "output_type": "display_data"
    },
    {
     "name": "stdout",
     "output_type": "stream",
     "text": [
      "tensor([0, 0, 0, 0, 0], device='cuda:0')\n",
      "tensor([[9.9982e-01, 1.8968e-09, 4.7946e-11, 8.6030e-10, 3.0100e-10, 1.0997e-15,\n",
      "         2.0481e-11, 1.5238e-08, 7.9064e-10, 1.8179e-04, 1.0821e-09],\n",
      "        [9.9997e-01, 3.7588e-10, 1.1327e-11, 2.4359e-10, 3.6976e-11, 2.4138e-17,\n",
      "         4.3056e-12, 2.4249e-09, 8.0263e-11, 2.8596e-05, 1.6866e-10],\n",
      "        [9.9995e-01, 2.9123e-10, 7.1631e-12, 1.7707e-10, 2.6106e-11, 2.5305e-17,\n",
      "         3.0251e-12, 1.9895e-09, 8.1376e-11, 5.3087e-05, 1.6508e-10],\n",
      "        [1.0000e+00, 5.5349e-10, 2.6360e-11, 5.0172e-10, 1.3036e-10, 8.7105e-21,\n",
      "         1.5224e-11, 1.5457e-09, 6.4770e-12, 6.5808e-08, 8.1217e-12],\n",
      "        [9.9999e-01, 4.9637e-06, 5.1017e-07, 3.5859e-06, 2.8244e-06, 8.6140e-18,\n",
      "         8.2755e-07, 1.7671e-06, 2.3549e-09, 1.1971e-07, 1.4713e-09]],\n",
      "       device='cuda:0')\n"
     ]
    },
    {
     "data": {
      "application/vnd.jupyter.widget-view+json": {
       "model_id": "d40912a55e56480d8b4a91c3459fc6fc",
       "version_major": 2,
       "version_minor": 0
      },
      "text/plain": [
       "Validation: |                                                            | 0/? [00:00<?, ?it/s]"
      ]
     },
     "metadata": {},
     "output_type": "display_data"
    },
    {
     "name": "stdout",
     "output_type": "stream",
     "text": [
      "tensor([0, 0, 0, 0, 0], device='cuda:0')\n",
      "tensor([[9.9959e-01, 2.7950e-10, 4.5186e-12, 1.1788e-10, 1.0443e-10, 1.9526e-17,\n",
      "         4.5461e-12, 6.2378e-09, 5.1791e-10, 4.0920e-04, 9.3401e-11],\n",
      "        [9.9993e-01, 1.0729e-11, 1.7887e-13, 7.1693e-12, 1.8765e-12, 6.5973e-20,\n",
      "         1.7941e-13, 2.1770e-10, 1.4156e-11, 7.0425e-05, 4.5644e-12],\n",
      "        [9.9986e-01, 7.7832e-12, 1.0937e-13, 4.8948e-12, 1.1891e-12, 7.4387e-20,\n",
      "         1.1725e-13, 1.7202e-10, 1.6076e-11, 1.4344e-04, 4.7329e-12],\n",
      "        [9.9999e-01, 9.6028e-09, 9.6385e-10, 1.1125e-08, 8.7246e-09, 6.9550e-18,\n",
      "         1.5878e-09, 6.0628e-08, 1.2342e-09, 1.0455e-05, 3.5501e-10],\n",
      "        [9.9992e-01, 1.1933e-05, 3.0250e-06, 1.1882e-05, 2.7953e-05, 8.8720e-16,\n",
      "         5.4547e-06, 1.5815e-05, 6.3684e-08, 4.1039e-06, 1.2075e-08]],\n",
      "       device='cuda:0')\n"
     ]
    },
    {
     "data": {
      "application/vnd.jupyter.widget-view+json": {
       "model_id": "ea996cc190b1479e9e20671867b2b456",
       "version_major": 2,
       "version_minor": 0
      },
      "text/plain": [
       "Validation: |                                                            | 0/? [00:00<?, ?it/s]"
      ]
     },
     "metadata": {},
     "output_type": "display_data"
    },
    {
     "name": "stdout",
     "output_type": "stream",
     "text": [
      "tensor([0, 0, 0, 0, 0], device='cuda:0')\n",
      "tensor([[9.9929e-01, 1.3821e-09, 2.2909e-11, 9.4474e-10, 4.0023e-10, 3.2937e-17,\n",
      "         1.2238e-11, 1.2658e-08, 1.3810e-09, 7.0607e-04, 7.5150e-11],\n",
      "        [9.9993e-01, 1.2410e-10, 2.7558e-12, 1.4415e-10, 2.2647e-11, 2.0773e-19,\n",
      "         1.2738e-12, 1.0699e-09, 6.9719e-11, 6.5275e-05, 6.5226e-12],\n",
      "        [9.9986e-01, 9.3516e-11, 1.6230e-12, 9.9912e-11, 1.5077e-11, 2.1210e-19,\n",
      "         8.6180e-13, 8.5962e-10, 7.2363e-11, 1.4497e-04, 5.9678e-12],\n",
      "        [9.9980e-01, 1.5317e-05, 3.4779e-06, 2.2372e-05, 1.5842e-05, 3.5526e-13,\n",
      "         3.8542e-06, 2.1098e-05, 9.3480e-07, 1.2055e-04, 1.9912e-07],\n",
      "        [9.9942e-01, 1.2321e-04, 2.7587e-05, 1.5711e-04, 1.9625e-04, 9.6246e-16,\n",
      "         2.8486e-05, 4.1956e-05, 1.6798e-07, 1.5916e-06, 1.9753e-08]],\n",
      "       device='cuda:0')\n"
     ]
    },
    {
     "data": {
      "application/vnd.jupyter.widget-view+json": {
       "model_id": "a383a841c6ba4a46b80257fcec67f418",
       "version_major": 2,
       "version_minor": 0
      },
      "text/plain": [
       "Validation: |                                                            | 0/? [00:00<?, ?it/s]"
      ]
     },
     "metadata": {},
     "output_type": "display_data"
    },
    {
     "name": "stdout",
     "output_type": "stream",
     "text": [
      "tensor([0, 0, 0, 0, 0], device='cuda:0')\n",
      "tensor([[9.9992e-01, 6.8289e-11, 1.7107e-13, 1.0914e-11, 4.1757e-12, 5.3564e-22,\n",
      "         1.5646e-13, 6.5543e-10, 2.0553e-10, 8.0797e-05, 1.2558e-12],\n",
      "        [9.9999e-01, 3.4998e-12, 7.3869e-15, 7.6519e-13, 9.7273e-14, 1.3380e-24,\n",
      "         7.7644e-15, 2.8087e-11, 4.8574e-12, 1.3271e-05, 6.2946e-14],\n",
      "        [9.9996e-01, 2.4233e-12, 3.9708e-15, 4.6300e-13, 5.3961e-14, 1.4662e-24,\n",
      "         4.2918e-15, 2.1036e-11, 5.9060e-12, 3.6299e-05, 5.8262e-14],\n",
      "        [1.0000e+00, 8.7816e-10, 7.8928e-12, 2.8248e-10, 6.7288e-11, 3.4465e-23,\n",
      "         1.0875e-11, 2.1958e-09, 8.6378e-11, 3.8223e-07, 3.0207e-12],\n",
      "        [9.9998e-01, 9.4775e-06, 2.9794e-07, 3.7820e-06, 1.9525e-06, 7.1581e-20,\n",
      "         8.0542e-07, 3.0139e-06, 4.0183e-08, 3.1135e-07, 1.6544e-09]],\n",
      "       device='cuda:0')\n"
     ]
    },
    {
     "data": {
      "application/vnd.jupyter.widget-view+json": {
       "model_id": "d6905ee580e8488786356fbf7f190f17",
       "version_major": 2,
       "version_minor": 0
      },
      "text/plain": [
       "Validation: |                                                            | 0/? [00:00<?, ?it/s]"
      ]
     },
     "metadata": {},
     "output_type": "display_data"
    },
    {
     "name": "stdout",
     "output_type": "stream",
     "text": [
      "tensor([0, 0, 0, 0, 0], device='cuda:0')\n",
      "tensor([[9.9698e-01, 4.5437e-12, 1.1349e-14, 1.2128e-12, 1.8642e-13, 2.8591e-23,\n",
      "         6.1773e-15, 6.8575e-11, 2.9092e-11, 3.0165e-03, 7.6957e-14],\n",
      "        [9.9989e-01, 3.5434e-14, 6.8479e-17, 1.6459e-14, 7.0539e-16, 7.2288e-28,\n",
      "         3.3484e-17, 5.0910e-13, 5.9767e-14, 1.0982e-04, 2.8806e-16],\n",
      "        [9.9971e-01, 2.3775e-14, 3.6433e-17, 9.7845e-15, 3.9564e-16, 7.1319e-28,\n",
      "         1.8721e-17, 3.7167e-13, 7.2001e-14, 2.9151e-04, 2.5595e-16],\n",
      "        [9.9997e-01, 1.2668e-12, 7.2189e-15, 5.3107e-13, 5.8823e-14, 1.7270e-25,\n",
      "         6.1252e-15, 2.3677e-11, 7.3526e-12, 3.1319e-05, 1.5622e-13],\n",
      "        [9.9998e-01, 3.7562e-06, 1.2790e-07, 4.9303e-06, 6.0614e-07, 1.5883e-21,\n",
      "         2.3736e-07, 1.1130e-06, 2.3597e-08, 5.4937e-06, 1.2981e-10]],\n",
      "       device='cuda:0')\n"
     ]
    },
    {
     "data": {
      "application/vnd.jupyter.widget-view+json": {
       "model_id": "b5cd86724a8b43f5bf7f0b039f59f159",
       "version_major": 2,
       "version_minor": 0
      },
      "text/plain": [
       "Validation: |                                                            | 0/? [00:00<?, ?it/s]"
      ]
     },
     "metadata": {},
     "output_type": "display_data"
    },
    {
     "name": "stdout",
     "output_type": "stream",
     "text": [
      "tensor([0, 0, 0, 0, 0], device='cuda:0')\n",
      "tensor([[9.9907e-01, 1.1655e-12, 1.7214e-15, 9.6090e-14, 2.3269e-14, 2.9172e-26,\n",
      "         5.0639e-16, 1.0786e-11, 1.1623e-12, 9.2621e-04, 3.5836e-15],\n",
      "        [9.9997e-01, 9.7659e-15, 1.5054e-17, 1.3697e-15, 9.7208e-17, 1.1671e-30,\n",
      "         3.9945e-18, 9.3149e-14, 2.8759e-15, 2.9978e-05, 2.6709e-17],\n",
      "        [9.9993e-01, 5.9668e-15, 6.8494e-18, 7.1108e-16, 4.8977e-17, 8.3577e-31,\n",
      "         2.0051e-18, 5.9127e-14, 2.7269e-15, 7.3435e-05, 1.9223e-17],\n",
      "        [9.9999e-01, 1.4226e-10, 1.0147e-12, 2.0031e-11, 4.7337e-12, 2.2869e-25,\n",
      "         7.3352e-13, 6.8292e-10, 4.7554e-11, 1.3857e-05, 2.3721e-12],\n",
      "        [9.9998e-01, 8.6923e-06, 3.8591e-07, 7.3541e-06, 1.8998e-06, 4.3777e-23,\n",
      "         3.6468e-07, 1.6159e-06, 1.1245e-08, 1.2896e-06, 7.5416e-11]],\n",
      "       device='cuda:0')\n"
     ]
    },
    {
     "data": {
      "application/vnd.jupyter.widget-view+json": {
       "model_id": "6b4ffb1bdaca4589971868b66cf20da7",
       "version_major": 2,
       "version_minor": 0
      },
      "text/plain": [
       "Validation: |                                                            | 0/? [00:00<?, ?it/s]"
      ]
     },
     "metadata": {},
     "output_type": "display_data"
    },
    {
     "name": "stdout",
     "output_type": "stream",
     "text": [
      "tensor([0, 0, 0, 0, 0], device='cuda:0')\n",
      "tensor([[9.9982e-01, 6.5839e-14, 1.7301e-16, 7.7654e-15, 1.2347e-15, 4.1204e-29,\n",
      "         1.7173e-17, 8.0308e-13, 6.0432e-14, 1.7647e-04, 1.2954e-16],\n",
      "        [1.0000e+00, 9.8703e-16, 3.2185e-18, 2.1328e-16, 9.8023e-18, 2.8129e-33,\n",
      "         2.0227e-19, 1.0790e-14, 1.5782e-16, 3.2765e-06, 1.0999e-18],\n",
      "        [9.9999e-01, 5.7668e-16, 1.4051e-18, 1.0702e-16, 4.7849e-18, 1.9571e-33,\n",
      "         9.7320e-20, 6.8034e-15, 1.4773e-16, 8.3455e-06, 7.7439e-19],\n",
      "        [9.9998e-01, 2.6869e-11, 4.1965e-13, 5.9757e-12, 8.8482e-13, 4.2901e-26,\n",
      "         1.0685e-13, 1.7979e-10, 9.3229e-12, 1.9308e-05, 4.6795e-13],\n",
      "        [1.0000e+00, 9.5704e-07, 1.0774e-07, 9.7040e-07, 1.1386e-07, 1.6318e-23,\n",
      "         3.2823e-08, 3.2432e-07, 2.2745e-09, 5.9563e-07, 4.1369e-11]],\n",
      "       device='cuda:0')\n"
     ]
    },
    {
     "data": {
      "application/vnd.jupyter.widget-view+json": {
       "model_id": "684ed5da6cc94d5690a6a2e7828bc0d8",
       "version_major": 2,
       "version_minor": 0
      },
      "text/plain": [
       "Validation: |                                                            | 0/? [00:00<?, ?it/s]"
      ]
     },
     "metadata": {},
     "output_type": "display_data"
    },
    {
     "name": "stdout",
     "output_type": "stream",
     "text": [
      "tensor([0, 0, 0, 0, 0], device='cuda:0')\n",
      "tensor([[9.9970e-01, 3.6151e-16, 2.3409e-19, 1.2717e-17, 1.2045e-18, 3.2210e-35,\n",
      "         3.6794e-20, 6.8692e-15, 2.3872e-16, 2.9876e-04, 9.4720e-19],\n",
      "        [1.0000e+00, 7.1300e-19, 4.6026e-22, 4.3554e-20, 9.8440e-22, 3.8763e-41,\n",
      "         4.3629e-23, 1.5575e-17, 6.2841e-20, 2.8328e-06, 9.9119e-22],\n",
      "        [9.9999e-01, 4.9342e-19, 2.3474e-22, 2.4845e-20, 5.7400e-22, 4.0044e-41,\n",
      "         2.5369e-23, 1.1794e-17, 7.7133e-20, 9.1740e-06, 8.9716e-22],\n",
      "        [9.9999e-01, 5.3002e-11, 1.4847e-12, 6.4220e-12, 1.0638e-12, 9.6947e-27,\n",
      "         4.4487e-13, 7.9066e-10, 1.8107e-10, 1.4104e-05, 1.4598e-10],\n",
      "        [9.9940e-01, 3.2150e-04, 1.6716e-05, 1.4883e-04, 4.3369e-05, 7.1351e-24,\n",
      "         3.2049e-05, 3.3444e-05, 5.9807e-08, 4.0777e-06, 1.0483e-09]],\n",
      "       device='cuda:0')\n"
     ]
    },
    {
     "data": {
      "application/vnd.jupyter.widget-view+json": {
       "model_id": "29b616ee9fb54a75ad76664ecb425ea4",
       "version_major": 2,
       "version_minor": 0
      },
      "text/plain": [
       "Validation: |                                                            | 0/? [00:00<?, ?it/s]"
      ]
     },
     "metadata": {},
     "output_type": "display_data"
    },
    {
     "name": "stdout",
     "output_type": "stream",
     "text": [
      "tensor([0, 0, 0, 0, 0], device='cuda:0')\n",
      "tensor([[1.0000e+00, 1.4498e-21, 2.8076e-23, 3.1071e-22, 6.5190e-23, 0.0000e+00,\n",
      "         1.1732e-28, 5.4092e-16, 1.2450e-22, 9.2575e-07, 1.1052e-25],\n",
      "        [1.0000e+00, 9.8874e-24, 2.8927e-25, 4.2798e-24, 1.8460e-25, 0.0000e+00,\n",
      "         5.3628e-31, 6.3459e-18, 5.1712e-26, 1.2041e-08, 2.4221e-28],\n",
      "        [1.0000e+00, 6.9212e-24, 1.4942e-25, 2.4763e-24, 1.0284e-25, 0.0000e+00,\n",
      "         3.2725e-31, 5.3410e-18, 1.0387e-25, 7.5043e-08, 3.1721e-28],\n",
      "        [1.0000e+00, 1.2197e-13, 2.8989e-14, 4.5576e-14, 2.3115e-14, 6.4102e-38,\n",
      "         4.1601e-17, 1.2508e-10, 8.9688e-15, 1.4540e-07, 3.9042e-15],\n",
      "        [1.0000e+00, 1.8995e-08, 1.8128e-07, 1.3495e-07, 2.4738e-08, 1.8467e-36,\n",
      "         8.4920e-11, 3.8206e-06, 6.2810e-13, 8.1151e-09, 2.0047e-14]],\n",
      "       device='cuda:0')\n"
     ]
    },
    {
     "data": {
      "application/vnd.jupyter.widget-view+json": {
       "model_id": "78e37323be314f8f882d1e55647ef0fd",
       "version_major": 2,
       "version_minor": 0
      },
      "text/plain": [
       "Validation: |                                                            | 0/? [00:00<?, ?it/s]"
      ]
     },
     "metadata": {},
     "output_type": "display_data"
    },
    {
     "name": "stderr",
     "output_type": "stream",
     "text": [
      "/home/hwerneck/miniconda3/lib/python3.12/site-packages/lightning/pytorch/trainer/call.py:54: Detected KeyboardInterrupt, attempting graceful shutdown...\n"
     ]
    }
   ],
   "source": [
    "wandb.finish()\n",
    "wandb_logger = WandbLogger(log_model=\"all\")\n",
    "\n",
    "MAX_EPOCHS=50\n",
    "# timer =  L.pytorch.calalbacks.Timer()\n",
    "def run_fvit_trainer_fit(train_loader,validation_loader,model):\n",
    "    checkpoint_callback = L.pytorch.callbacks.ModelCheckpoint(\n",
    "        monitor='train_loss',\n",
    "        filename='iec104-{epoch:02d}-{loss}',\n",
    "        save_top_k=1,\n",
    "        mode='min',\n",
    "    )\n",
    "\n",
    "    # early_stop_callback = L.pytorch.callbacks.early_stopping.EarlyStopping(monitor=\"val_loss\", min_delta=0.001, patience=3, verbose=False, mode=\"min\")\n",
    "    # cpb=CustomProgressBar()\n",
    "    trainer = L.Trainer(max_epochs=MAX_EPOCHS,callbacks=[checkpoint_callback],accelerator=DEVICE,\n",
    "                        devices=1,log_every_n_steps=10,limit_train_batches=1.0,limit_val_batches=1.0#,max_time={\"minutes\": 60}\n",
    "                        ,logger=wandb_logger)\n",
    "    trainer.fit(model=model, train_dataloaders=train_loader,val_dataloaders=validation_loader)\n",
    "    return checkpoint_callback,trainer\n",
    "checkpoint_callback,trainer=run_fvit_trainer_fit(\n",
    "    train_loader,\n",
    "    validation_loader,\n",
    "     model=model_fvit)"
   ]
  },
  {
   "cell_type": "code",
   "execution_count": null,
   "metadata": {
    "id": "MaBTWcKDFqeZ"
   },
   "outputs": [],
   "source": [
    "from tensorboard.backend.event_processing.event_accumulator import EventAccumulator"
   ]
  },
  {
   "cell_type": "code",
   "execution_count": null,
   "metadata": {
    "colab": {
     "base_uri": "https://localhost:8080/",
     "height": 388
    },
    "id": "2aemPr26XzIW",
    "outputId": "dca3782a-bfd2-40e5-f183-dc0c8bb6bba4"
   },
   "outputs": [
    {
     "ename": "ValueError",
     "evalue": "path must be a valid string",
     "output_type": "error",
     "traceback": [
      "\u001b[0;31m---------------------------------------------------------------------------\u001b[0m",
      "\u001b[0;31mValueError\u001b[0m                                Traceback (most recent call last)",
      "Cell \u001b[0;32mIn[38], line 12\u001b[0m\n\u001b[1;32m     10\u001b[0m metrics\u001b[38;5;241m=\u001b[39m[{\u001b[38;5;124m'\u001b[39m\u001b[38;5;124mname\u001b[39m\u001b[38;5;124m'\u001b[39m:\u001b[38;5;124m'\u001b[39m\u001b[38;5;124mtrain_loss\u001b[39m\u001b[38;5;124m'\u001b[39m,\u001b[38;5;124m'\u001b[39m\u001b[38;5;124mlabel\u001b[39m\u001b[38;5;124m'\u001b[39m:\u001b[38;5;124m'\u001b[39m\u001b[38;5;124mTraining MSE Loss\u001b[39m\u001b[38;5;124m'\u001b[39m},{\u001b[38;5;124m'\u001b[39m\u001b[38;5;124mname\u001b[39m\u001b[38;5;124m'\u001b[39m:\u001b[38;5;124m'\u001b[39m\u001b[38;5;124mval_loss\u001b[39m\u001b[38;5;124m'\u001b[39m,\u001b[38;5;124m'\u001b[39m\u001b[38;5;124mlabel\u001b[39m\u001b[38;5;124m'\u001b[39m:\u001b[38;5;124m'\u001b[39m\u001b[38;5;124mValidation MSE Loss\u001b[39m\u001b[38;5;124m'\u001b[39m}]\n\u001b[1;32m     11\u001b[0m fig,ax \u001b[38;5;241m=\u001b[39m plt\u001b[38;5;241m.\u001b[39msubplots(ncols\u001b[38;5;241m=\u001b[39m\u001b[38;5;28mlen\u001b[39m(metrics),figsize\u001b[38;5;241m=\u001b[39m(\u001b[38;5;241m15\u001b[39m,\u001b[38;5;241m4\u001b[39m))\n\u001b[0;32m---> 12\u001b[0m \u001b[43mplot_training_metrics\u001b[49m\u001b[43m(\u001b[49m\u001b[43mtrainer\u001b[49m\u001b[43m,\u001b[49m\u001b[43mmetrics\u001b[49m\u001b[43m,\u001b[49m\u001b[43max\u001b[49m\u001b[43m)\u001b[49m\n",
      "Cell \u001b[0;32mIn[38], line 2\u001b[0m, in \u001b[0;36mplot_training_metrics\u001b[0;34m(trainer, metrics, ax)\u001b[0m\n\u001b[1;32m      1\u001b[0m \u001b[38;5;28;01mdef\u001b[39;00m \u001b[38;5;21mplot_training_metrics\u001b[39m(trainer,metrics,ax):\n\u001b[0;32m----> 2\u001b[0m     event_acc \u001b[38;5;241m=\u001b[39m \u001b[43mEventAccumulator\u001b[49m\u001b[43m(\u001b[49m\u001b[43mtrainer\u001b[49m\u001b[38;5;241;43m.\u001b[39;49m\u001b[43mlogger\u001b[49m\u001b[38;5;241;43m.\u001b[39;49m\u001b[43mlog_dir\u001b[49m\u001b[43m)\u001b[49m\n\u001b[1;32m      3\u001b[0m     event_acc\u001b[38;5;241m.\u001b[39mReload()\n\u001b[1;32m      4\u001b[0m     \u001b[38;5;28;01mfor\u001b[39;00m i \u001b[38;5;129;01min\u001b[39;00m \u001b[38;5;28mrange\u001b[39m(\u001b[38;5;28mlen\u001b[39m(metrics)):\n",
      "File \u001b[0;32m~/miniconda3/lib/python3.12/site-packages/tensorboard/backend/event_processing/event_accumulator.py:312\u001b[0m, in \u001b[0;36mEventAccumulator.__init__\u001b[0;34m(self, path, size_guidance, compression_bps, purge_orphaned_data)\u001b[0m\n\u001b[1;32m    310\u001b[0m \u001b[38;5;28mself\u001b[39m\u001b[38;5;241m.\u001b[39m_generator_mutex \u001b[38;5;241m=\u001b[39m threading\u001b[38;5;241m.\u001b[39mLock()\n\u001b[1;32m    311\u001b[0m \u001b[38;5;28mself\u001b[39m\u001b[38;5;241m.\u001b[39mpath \u001b[38;5;241m=\u001b[39m path\n\u001b[0;32m--> 312\u001b[0m \u001b[38;5;28mself\u001b[39m\u001b[38;5;241m.\u001b[39m_generator \u001b[38;5;241m=\u001b[39m \u001b[43m_GeneratorFromPath\u001b[49m\u001b[43m(\u001b[49m\u001b[43mpath\u001b[49m\u001b[43m)\u001b[49m\n\u001b[1;32m    314\u001b[0m \u001b[38;5;28mself\u001b[39m\u001b[38;5;241m.\u001b[39m_compression_bps \u001b[38;5;241m=\u001b[39m compression_bps\n\u001b[1;32m    315\u001b[0m \u001b[38;5;28mself\u001b[39m\u001b[38;5;241m.\u001b[39mpurge_orphaned_data \u001b[38;5;241m=\u001b[39m purge_orphaned_data\n",
      "File \u001b[0;32m~/miniconda3/lib/python3.12/site-packages/tensorboard/backend/event_processing/event_accumulator.py:943\u001b[0m, in \u001b[0;36m_GeneratorFromPath\u001b[0;34m(path)\u001b[0m\n\u001b[1;32m    941\u001b[0m \u001b[38;5;250m\u001b[39m\u001b[38;5;124;03m\"\"\"Create an event generator for file or directory at given path string.\"\"\"\u001b[39;00m\n\u001b[1;32m    942\u001b[0m \u001b[38;5;28;01mif\u001b[39;00m \u001b[38;5;129;01mnot\u001b[39;00m path:\n\u001b[0;32m--> 943\u001b[0m     \u001b[38;5;28;01mraise\u001b[39;00m \u001b[38;5;167;01mValueError\u001b[39;00m(\u001b[38;5;124m\"\u001b[39m\u001b[38;5;124mpath must be a valid string\u001b[39m\u001b[38;5;124m\"\u001b[39m)\n\u001b[1;32m    944\u001b[0m \u001b[38;5;28;01mif\u001b[39;00m io_wrapper\u001b[38;5;241m.\u001b[39mIsSummaryEventsFile(path):\n\u001b[1;32m    945\u001b[0m     \u001b[38;5;28;01mreturn\u001b[39;00m event_file_loader\u001b[38;5;241m.\u001b[39mLegacyEventFileLoader(path)\n",
      "\u001b[0;31mValueError\u001b[0m: path must be a valid string"
     ]
    },
    {
     "data": {
      "image/png": "[encoded data removed]",
      "text/plain": [
       "<Figure size 1500x400 with 2 Axes>"
      ]
     },
     "metadata": {},
     "output_type": "display_data"
    }
   ],
   "source": [
    "def plot_training_metrics(trainer,metrics,ax):\n",
    "    event_acc = EventAccumulator(trainer.logger.log_dir)\n",
    "    event_acc.Reload()\n",
    "    for i in range(len(metrics)):\n",
    "        y=[i.value for i in event_acc.Scalars(metrics[i]['name'])]\n",
    "        x=np.arange(len(y))+1\n",
    "        ax[i].plot(x,y,marker='.')\n",
    "        ax[i].set_xlabel(\"Epoch\")\n",
    "        ax[i].set_ylabel(metrics[i]['label'])\n",
    "metrics=[{'name':'train_loss','label':'Training MSE Loss'},{'name':'val_loss','label':'Validation MSE Loss'}]\n",
    "fig,ax = plt.subplots(ncols=len(metrics),figsize=(15,4))\n",
    "plot_training_metrics(trainer,metrics,ax)"
   ]
  },
  {
   "cell_type": "code",
   "execution_count": null,
   "metadata": {},
   "outputs": [],
   "source": [
    "metrics=[{'name':'train_accuracy','label':'Training Accuracy'},{'name':'val_accuracy','label':'Validation Accuracy'}]\n",
    "fig,ax = plt.subplots(ncols=len(metrics),figsize=(15,4))\n",
    "plot_training_metrics(trainer,metrics,ax)"
   ]
  },
  {
   "cell_type": "code",
   "execution_count": null,
   "metadata": {},
   "outputs": [],
   "source": [
    "trainer.test(ckpt_path=\"best\",dataloaders=test_loader)"
   ]
  },
  {
   "cell_type": "code",
   "execution_count": null,
   "metadata": {},
   "outputs": [],
   "source": [
    "# class ImageFCN(nn.Module):\n",
    "#     def __init__(self,fcn):\n",
    "#         super(FVIT, self).__init__()\n",
    "#         self.fcn = fcn\n",
    "\n",
    "#     def forward(self, x):\n",
    "#         return self.fcn(torch.flatten(x))\n",
    "# ImageFCN(FullyConnectedNet())"
   ]
  },
  {
   "cell_type": "code",
   "execution_count": null,
   "metadata": {},
   "outputs": [],
   "source": [
    "# MAX_EPOCHS=50\n",
    "# # timer =  L.pytorch.calalbacks.Timer()\n",
    "# def run_fvit_trainer_fit(train_loader,validation_loader,model):\n",
    "#     checkpoint_callback = L.pytorch.callbacks.ModelCheckpoint(\n",
    "#         monitor='train_loss',\n",
    "#         filename='iec104-{epoch:02d}-{loss:.2f}',\n",
    "#         save_top_k=3,\n",
    "#         mode='min',\n",
    "#     )\n",
    "\n",
    "#     early_stop_callback = L.pytorch.callbacks.early_stopping.EarlyStopping(monitor=\"val_loss\", min_delta=0.001, patience=3, verbose=False, mode=\"min\")\n",
    "#     # cpb=CustomProgressBar()\n",
    "#     trainer = L.Trainer(max_epochs=MAX_EPOCHS,callbacks=[checkpoint_callback,early_stop_callback],accelerator=DEVICE,\n",
    "#                         devices=1,log_every_n_steps=10,limit_train_batches=0.1,limit_val_batches=0.1,max_time={\"minutes\": 5})\n",
    "#     trainer.fit(model=model, train_dataloaders=train_loader,val_dataloaders=validation_loader)\n",
    "#     return checkpoint_callback,trainer\n",
    "# checkpoint_callback,trainer=run_fvit_trainer_fit(\n",
    "#     train_loader,\n",
    "#     validation_loader,\n",
    "#      model=model_fvit)"
   ]
  },
  {
   "cell_type": "code",
   "execution_count": null,
   "metadata": {},
   "outputs": [],
   "source": [
    "class FVIT(nn.Module):\n",
    "    def __init__(self,encoder,decoder):\n",
    "        super(FVIT, self).__init__()\n",
    "        self.encoder = encoder\n",
    "        self.decoder = decoder\n",
    "\n",
    "    def forward(self, x):\n",
    "        hidden_states=self.encoder(x[0]).last_hidden_state\n",
    "        # print(\"Hidden states shape:\", hidden_states.shape)\n",
    "        # print(\"Additional input shape:\", x[1].shape)\n",
    "        # print(\"Concatenated input shape:\", concatenated_input.shape)\n",
    "        return self.decoder(hidden_states)\n",
    "decoder= nn.Sequential(nn.Flatten(),\n",
    "                       nn.Linear(512*8*8, NUM_CLASSES),\n",
    "                         nn.Softmax(dim=1)\n",
    "                   )\n",
    "# model_fvit=FVIT(model_vitv2,decoder)"
   ]
  },
  {
   "cell_type": "code",
   "execution_count": null,
   "metadata": {},
   "outputs": [],
   "source": [
    "fvit = FVIT(model_vitv2,decoder)\n",
    "model_fvit = LFVIT(fvit)"
   ]
  },
  {
   "cell_type": "code",
   "execution_count": null,
   "metadata": {},
   "outputs": [],
   "source": [
    "MAX_EPOCHS=50\n",
    "# timer =  L.pytorch.calalbacks.Timer()\n",
    "def run_fvit_trainer_fit(train_loader,validation_loader,model):\n",
    "    checkpoint_callback = L.pytorch.callbacks.ModelCheckpoint(\n",
    "        monitor='train_loss',\n",
    "        filename='iec104-{epoch:02d}-{loss}',\n",
    "        save_top_k=3,\n",
    "        mode='min',\n",
    "    )\n",
    "\n",
    "    # early_stop_callback = L.pytorch.callbacks.early_stopping.EarlyStopping(monitor=\"val_loss\", min_delta=0.001, patience=3, verbose=False, mode=\"min\")\n",
    "    # cpb=CustomProgressBar()\n",
    "    trainer = L.Trainer(max_epochs=MAX_EPOCHS,callbacks=[checkpoint_callback],accelerator=DEVICE,\n",
    "                        devices=1,log_every_n_steps=10,limit_train_batches=0.1,limit_val_batches=0.1,max_time={\"minutes\": 5})\n",
    "    trainer.fit(model=model, train_dataloaders=train_loader,val_dataloaders=validation_loader)\n",
    "    return checkpoint_callback,trainer\n",
    "checkpoint_callback,trainer=run_fvit_trainer_fit(\n",
    "    train_loader,\n",
    "    validation_loader,\n",
    "     model=model_fvit)"
   ]
  },
  {
   "cell_type": "code",
   "execution_count": null,
   "metadata": {},
   "outputs": [],
   "source": [
    "trainer.test(ckpt_path=\"best\",dataloaders=test_loader)"
   ]
  },
  {
   "cell_type": "code",
   "execution_count": null,
   "metadata": {},
   "outputs": [],
   "source": []
  },
  {
   "cell_type": "code",
   "execution_count": null,
   "metadata": {},
   "outputs": [],
   "source": [
    "# class FVIT(nn.Module):\n",
    "#     def __init__(self,encoder,decoder):\n",
    "#         super(FVIT, self).__init__()\n",
    "#         self.encoder = encoder\n",
    "#         self.decoder = decoder\n",
    "\n",
    "#     def forward(self, x):\n",
    "#         hidden_states=self.encoder(x[0]).last_hidden_state\n",
    "#         # print(\"Hidden states shape:\", hidden_states.shape)\n",
    "#         # print(\"Additional input shape:\", x[1].shape)\n",
    "#         # print(\"Concatenated input shape:\", concatenated_input.shape)\n",
    "#         return self.decoder(hidden_states)\n",
    "decoder= nn.Sequential(nn.Flatten(),\n",
    "                       nn.Linear(512*8*8, 100),            nn.ReLU(),\n",
    "                         \n",
    "            nn.Linear(100, 50),\n",
    "nn.Softmax(dim=1),\n",
    "                   )\n",
    "# model_fvit=FVIT(model_vitv2,decoder)"
   ]
  }
 ],
 "metadata": {
  "accelerator": "GPU",
  "colab": {
   "gpuType": "T4",
   "provenance": []
  },
  "kernelspec": {
   "display_name": "Python 3 (ipykernel)",
   "language": "python",
   "name": "python3"
  },
  "widgets": {
   "application/vnd.jupyter.widget-state+json": {
    "009666ee40b94f058e2c62ddb22146fc": {
     "model_module": "@jupyter-widgets/controls",
     "model_module_version": "1.5.0",
     "model_name": "HTMLModel",
     "state": {
      "_dom_classes": [],
      "_model_module": "@jupyter-widgets/controls",
      "_model_module_version": "1.5.0",
      "_model_name": "HTMLModel",
      "_view_count": null,
      "_view_module": "@jupyter-widgets/controls",
      "_view_module_version": "1.5.0",
      "_view_name": "HTMLView",
      "description": "",
      "description_tooltip": null,
      "layout": "IPY_MODEL_ddaaf2ef9e6d4e5ebaaee489b515a1c0",
      "placeholder": "​",
      "style": "IPY_MODEL_97870065ddc6420b81c31fb0e3b00f41",
      "value": "Validation DataLoader 0: 100%"
     }
    },
    "021a87e515cf4647ad3436d3e38c9176": {
     "model_module": "@jupyter-widgets/controls",
     "model_module_version": "1.5.0",
     "model_name": "ProgressStyleModel",
     "state": {
      "_model_module": "@jupyter-widgets/controls",
      "_model_module_version": "1.5.0",
      "_model_name": "ProgressStyleModel",
      "_view_count": null,
      "_view_module": "@jupyter-widgets/base",
      "_view_module_version": "1.2.0",
      "_view_name": "StyleView",
      "bar_color": null,
      "description_width": ""
     }
    },
    "021ebbb9ff6c49e6bf8578278fc7502b": {
     "model_module": "@jupyter-widgets/controls",
     "model_module_version": "1.5.0",
     "model_name": "DescriptionStyleModel",
     "state": {
      "_model_module": "@jupyter-widgets/controls",
      "_model_module_version": "1.5.0",
      "_model_name": "DescriptionStyleModel",
      "_view_count": null,
      "_view_module": "@jupyter-widgets/base",
      "_view_module_version": "1.2.0",
      "_view_name": "StyleView",
      "description_width": ""
     }
    },
    "0282077701744dad85ba9aa8ee121dae": {
     "model_module": "@jupyter-widgets/controls",
     "model_module_version": "1.5.0",
     "model_name": "FloatProgressModel",
     "state": {
      "_dom_classes": [],
      "_model_module": "@jupyter-widgets/controls",
      "_model_module_version": "1.5.0",
      "_model_name": "FloatProgressModel",
      "_view_count": null,
      "_view_module": "@jupyter-widgets/controls",
      "_view_module_version": "1.5.0",
      "_view_name": "ProgressView",
      "bar_style": "success",
      "description": "",
      "description_tooltip": null,
      "layout": "IPY_MODEL_43efe1e0dc5d459ab3380bccb25842a0",
      "max": 131,
      "min": 0,
      "orientation": "horizontal",
      "style": "IPY_MODEL_de411f5cee064afb81f239b6b6950fe0",
      "value": 131
     }
    },
    "02b01aa8b8e44b65b1761bd8b6f578a0": {
     "model_module": "@jupyter-widgets/controls",
     "model_module_version": "1.5.0",
     "model_name": "ProgressStyleModel",
     "state": {
      "_model_module": "@jupyter-widgets/controls",
      "_model_module_version": "1.5.0",
      "_model_name": "ProgressStyleModel",
      "_view_count": null,
      "_view_module": "@jupyter-widgets/base",
      "_view_module_version": "1.2.0",
      "_view_name": "StyleView",
      "bar_color": null,
      "description_width": ""
     }
    },
    "095e6be8c5334b26b0b68f3eba5f810d": {
     "model_module": "@jupyter-widgets/controls",
     "model_module_version": "1.5.0",
     "model_name": "DescriptionStyleModel",
     "state": {
      "_model_module": "@jupyter-widgets/controls",
      "_model_module_version": "1.5.0",
      "_model_name": "DescriptionStyleModel",
      "_view_count": null,
      "_view_module": "@jupyter-widgets/base",
      "_view_module_version": "1.2.0",
      "_view_name": "StyleView",
      "description_width": ""
     }
    },
    "0a730dd018c14709ab3aa6aab7e125e4": {
     "model_module": "@jupyter-widgets/base",
     "model_module_version": "1.2.0",
     "model_name": "LayoutModel",
     "state": {
      "_model_module": "@jupyter-widgets/base",
      "_model_module_version": "1.2.0",
      "_model_name": "LayoutModel",
      "_view_count": null,
      "_view_module": "@jupyter-widgets/base",
      "_view_module_version": "1.2.0",
      "_view_name": "LayoutView",
      "align_content": null,
      "align_items": null,
      "align_self": null,
      "border": null,
      "bottom": null,
      "display": null,
      "flex": "2",
      "flex_flow": null,
      "grid_area": null,
      "grid_auto_columns": null,
      "grid_auto_flow": null,
      "grid_auto_rows": null,
      "grid_column": null,
      "grid_gap": null,
      "grid_row": null,
      "grid_template_areas": null,
      "grid_template_columns": null,
      "grid_template_rows": null,
      "height": null,
      "justify_content": null,
      "justify_items": null,
      "left": null,
      "margin": null,
      "max_height": null,
      "max_width": null,
      "min_height": null,
      "min_width": null,
      "object_fit": null,
      "object_position": null,
      "order": null,
      "overflow": null,
      "overflow_x": null,
      "overflow_y": null,
      "padding": null,
      "right": null,
      "top": null,
      "visibility": null,
      "width": null
     }
    },
    "0cd3593c37c54f108d2d9233511b6c18": {
     "model_module": "@jupyter-widgets/base",
     "model_module_version": "1.2.0",
     "model_name": "LayoutModel",
     "state": {
      "_model_module": "@jupyter-widgets/base",
      "_model_module_version": "1.2.0",
      "_model_name": "LayoutModel",
      "_view_count": null,
      "_view_module": "@jupyter-widgets/base",
      "_view_module_version": "1.2.0",
      "_view_name": "LayoutView",
      "align_content": null,
      "align_items": null,
      "align_self": null,
      "border": null,
      "bottom": null,
      "display": null,
      "flex": null,
      "flex_flow": null,
      "grid_area": null,
      "grid_auto_columns": null,
      "grid_auto_flow": null,
      "grid_auto_rows": null,
      "grid_column": null,
      "grid_gap": null,
      "grid_row": null,
      "grid_template_areas": null,
      "grid_template_columns": null,
      "grid_template_rows": null,
      "height": null,
      "justify_content": null,
      "justify_items": null,
      "left": null,
      "margin": null,
      "max_height": null,
      "max_width": null,
      "min_height": null,
      "min_width": null,
      "object_fit": null,
      "object_position": null,
      "order": null,
      "overflow": null,
      "overflow_x": null,
      "overflow_y": null,
      "padding": null,
      "right": null,
      "top": null,
      "visibility": null,
      "width": null
     }
    },
    "106b892bf4584e7d8be1e5e8f49e2f00": {
     "model_module": "@jupyter-widgets/controls",
     "model_module_version": "1.5.0",
     "model_name": "HTMLModel",
     "state": {
      "_dom_classes": [],
      "_model_module": "@jupyter-widgets/controls",
      "_model_module_version": "1.5.0",
      "_model_name": "HTMLModel",
      "_view_count": null,
      "_view_module": "@jupyter-widgets/controls",
      "_view_module_version": "1.5.0",
      "_view_name": "HTMLView",
      "description": "",
      "description_tooltip": null,
      "layout": "IPY_MODEL_2ea43c564f3143e6a9118a0dcd867da4",
      "placeholder": "​",
      "style": "IPY_MODEL_dd9b7673da3748c6a67788fd312cbe6b",
      "value": " 20/20 [00:03&lt;00:00,  6.60it/s]"
     }
    },
    "112aa81085bb4649966d6a023a55c13e": {
     "model_module": "@jupyter-widgets/base",
     "model_module_version": "1.2.0",
     "model_name": "LayoutModel",
     "state": {
      "_model_module": "@jupyter-widgets/base",
      "_model_module_version": "1.2.0",
      "_model_name": "LayoutModel",
      "_view_count": null,
      "_view_module": "@jupyter-widgets/base",
      "_view_module_version": "1.2.0",
      "_view_name": "LayoutView",
      "align_content": null,
      "align_items": null,
      "align_self": null,
      "border": null,
      "bottom": null,
      "display": null,
      "flex": "2",
      "flex_flow": null,
      "grid_area": null,
      "grid_auto_columns": null,
      "grid_auto_flow": null,
      "grid_auto_rows": null,
      "grid_column": null,
      "grid_gap": null,
      "grid_row": null,
      "grid_template_areas": null,
      "grid_template_columns": null,
      "grid_template_rows": null,
      "height": null,
      "justify_content": null,
      "justify_items": null,
      "left": null,
      "margin": null,
      "max_height": null,
      "max_width": null,
      "min_height": null,
      "min_width": null,
      "object_fit": null,
      "object_position": null,
      "order": null,
      "overflow": null,
      "overflow_x": null,
      "overflow_y": null,
      "padding": null,
      "right": null,
      "top": null,
      "visibility": null,
      "width": null
     }
    },
    "1165d225e61c486ead33c4404ce931a2": {
     "model_module": "@jupyter-widgets/base",
     "model_module_version": "1.2.0",
     "model_name": "LayoutModel",
     "state": {
      "_model_module": "@jupyter-widgets/base",
      "_model_module_version": "1.2.0",
      "_model_name": "LayoutModel",
      "_view_count": null,
      "_view_module": "@jupyter-widgets/base",
      "_view_module_version": "1.2.0",
      "_view_name": "LayoutView",
      "align_content": null,
      "align_items": null,
      "align_self": null,
      "border": null,
      "bottom": null,
      "display": null,
      "flex": null,
      "flex_flow": null,
      "grid_area": null,
      "grid_auto_columns": null,
      "grid_auto_flow": null,
      "grid_auto_rows": null,
      "grid_column": null,
      "grid_gap": null,
      "grid_row": null,
      "grid_template_areas": null,
      "grid_template_columns": null,
      "grid_template_rows": null,
      "height": null,
      "justify_content": null,
      "justify_items": null,
      "left": null,
      "margin": null,
      "max_height": null,
      "max_width": null,
      "min_height": null,
      "min_width": null,
      "object_fit": null,
      "object_position": null,
      "order": null,
      "overflow": null,
      "overflow_x": null,
      "overflow_y": null,
      "padding": null,
      "right": null,
      "top": null,
      "visibility": null,
      "width": null
     }
    },
    "12663cb80d8e49c5aae07de2a6fbd355": {
     "model_module": "@jupyter-widgets/controls",
     "model_module_version": "1.5.0",
     "model_name": "HTMLModel",
     "state": {
      "_dom_classes": [],
      "_model_module": "@jupyter-widgets/controls",
      "_model_module_version": "1.5.0",
      "_model_name": "HTMLModel",
      "_view_count": null,
      "_view_module": "@jupyter-widgets/controls",
      "_view_module_version": "1.5.0",
      "_view_name": "HTMLView",
      "description": "",
      "description_tooltip": null,
      "layout": "IPY_MODEL_f995d08b430d4f5db52bd872138c090f",
      "placeholder": "​",
      "style": "IPY_MODEL_a292d656bdad4d86a3d0ddf90f4c46b9",
      "value": "Validation DataLoader 0: 100%"
     }
    },
    "136b9dc9844c48c9b9898ef0645562ed": {
     "model_module": "@jupyter-widgets/controls",
     "model_module_version": "1.5.0",
     "model_name": "DescriptionStyleModel",
     "state": {
      "_model_module": "@jupyter-widgets/controls",
      "_model_module_version": "1.5.0",
      "_model_name": "DescriptionStyleModel",
      "_view_count": null,
      "_view_module": "@jupyter-widgets/base",
      "_view_module_version": "1.2.0",
      "_view_name": "StyleView",
      "description_width": ""
     }
    },
    "1766e27c6a0e47d4b759efd9f6abdfe4": {
     "model_module": "@jupyter-widgets/base",
     "model_module_version": "1.2.0",
     "model_name": "LayoutModel",
     "state": {
      "_model_module": "@jupyter-widgets/base",
      "_model_module_version": "1.2.0",
      "_model_name": "LayoutModel",
      "_view_count": null,
      "_view_module": "@jupyter-widgets/base",
      "_view_module_version": "1.2.0",
      "_view_name": "LayoutView",
      "align_content": null,
      "align_items": null,
      "align_self": null,
      "border": null,
      "bottom": null,
      "display": "inline-flex",
      "flex": null,
      "flex_flow": "row wrap",
      "grid_area": null,
      "grid_auto_columns": null,
      "grid_auto_flow": null,
      "grid_auto_rows": null,
      "grid_column": null,
      "grid_gap": null,
      "grid_row": null,
      "grid_template_areas": null,
      "grid_template_columns": null,
      "grid_template_rows": null,
      "height": null,
      "justify_content": null,
      "justify_items": null,
      "left": null,
      "margin": null,
      "max_height": null,
      "max_width": null,
      "min_height": null,
      "min_width": null,
      "object_fit": null,
      "object_position": null,
      "order": null,
      "overflow": null,
      "overflow_x": null,
      "overflow_y": null,
      "padding": null,
      "right": null,
      "top": null,
      "visibility": "hidden",
      "width": "100%"
     }
    },
    "177638985c824fce88ef163c06a13688": {
     "model_module": "@jupyter-widgets/controls",
     "model_module_version": "1.5.0",
     "model_name": "DescriptionStyleModel",
     "state": {
      "_model_module": "@jupyter-widgets/controls",
      "_model_module_version": "1.5.0",
      "_model_name": "DescriptionStyleModel",
      "_view_count": null,
      "_view_module": "@jupyter-widgets/base",
      "_view_module_version": "1.2.0",
      "_view_name": "StyleView",
      "description_width": ""
     }
    },
    "19e26262fb54468fb5846435e066f094": {
     "model_module": "@jupyter-widgets/base",
     "model_module_version": "1.2.0",
     "model_name": "LayoutModel",
     "state": {
      "_model_module": "@jupyter-widgets/base",
      "_model_module_version": "1.2.0",
      "_model_name": "LayoutModel",
      "_view_count": null,
      "_view_module": "@jupyter-widgets/base",
      "_view_module_version": "1.2.0",
      "_view_name": "LayoutView",
      "align_content": null,
      "align_items": null,
      "align_self": null,
      "border": null,
      "bottom": null,
      "display": null,
      "flex": "2",
      "flex_flow": null,
      "grid_area": null,
      "grid_auto_columns": null,
      "grid_auto_flow": null,
      "grid_auto_rows": null,
      "grid_column": null,
      "grid_gap": null,
      "grid_row": null,
      "grid_template_areas": null,
      "grid_template_columns": null,
      "grid_template_rows": null,
      "height": null,
      "justify_content": null,
      "justify_items": null,
      "left": null,
      "margin": null,
      "max_height": null,
      "max_width": null,
      "min_height": null,
      "min_width": null,
      "object_fit": null,
      "object_position": null,
      "order": null,
      "overflow": null,
      "overflow_x": null,
      "overflow_y": null,
      "padding": null,
      "right": null,
      "top": null,
      "visibility": null,
      "width": null
     }
    },
    "1c5151e4b7c14cb69716328efe4abca7": {
     "model_module": "@jupyter-widgets/controls",
     "model_module_version": "1.5.0",
     "model_name": "DescriptionStyleModel",
     "state": {
      "_model_module": "@jupyter-widgets/controls",
      "_model_module_version": "1.5.0",
      "_model_name": "DescriptionStyleModel",
      "_view_count": null,
      "_view_module": "@jupyter-widgets/base",
      "_view_module_version": "1.2.0",
      "_view_name": "StyleView",
      "description_width": ""
     }
    },
    "223279094cb64846a4bec0ba41094ebe": {
     "model_module": "@jupyter-widgets/base",
     "model_module_version": "1.2.0",
     "model_name": "LayoutModel",
     "state": {
      "_model_module": "@jupyter-widgets/base",
      "_model_module_version": "1.2.0",
      "_model_name": "LayoutModel",
      "_view_count": null,
      "_view_module": "@jupyter-widgets/base",
      "_view_module_version": "1.2.0",
      "_view_name": "LayoutView",
      "align_content": null,
      "align_items": null,
      "align_self": null,
      "border": null,
      "bottom": null,
      "display": null,
      "flex": null,
      "flex_flow": null,
      "grid_area": null,
      "grid_auto_columns": null,
      "grid_auto_flow": null,
      "grid_auto_rows": null,
      "grid_column": null,
      "grid_gap": null,
      "grid_row": null,
      "grid_template_areas": null,
      "grid_template_columns": null,
      "grid_template_rows": null,
      "height": null,
      "justify_content": null,
      "justify_items": null,
      "left": null,
      "margin": null,
      "max_height": null,
      "max_width": null,
      "min_height": null,
      "min_width": null,
      "object_fit": null,
      "object_position": null,
      "order": null,
      "overflow": null,
      "overflow_x": null,
      "overflow_y": null,
      "padding": null,
      "right": null,
      "top": null,
      "visibility": null,
      "width": null
     }
    },
    "227701f52ca84010a57374b7c1dea088": {
     "model_module": "@jupyter-widgets/controls",
     "model_module_version": "1.5.0",
     "model_name": "DescriptionStyleModel",
     "state": {
      "_model_module": "@jupyter-widgets/controls",
      "_model_module_version": "1.5.0",
      "_model_name": "DescriptionStyleModel",
      "_view_count": null,
      "_view_module": "@jupyter-widgets/base",
      "_view_module_version": "1.2.0",
      "_view_name": "StyleView",
      "description_width": ""
     }
    },
    "259b3024e9724e5c8361888ecc280ab1": {
     "model_module": "@jupyter-widgets/base",
     "model_module_version": "1.2.0",
     "model_name": "LayoutModel",
     "state": {
      "_model_module": "@jupyter-widgets/base",
      "_model_module_version": "1.2.0",
      "_model_name": "LayoutModel",
      "_view_count": null,
      "_view_module": "@jupyter-widgets/base",
      "_view_module_version": "1.2.0",
      "_view_name": "LayoutView",
      "align_content": null,
      "align_items": null,
      "align_self": null,
      "border": null,
      "bottom": null,
      "display": null,
      "flex": "2",
      "flex_flow": null,
      "grid_area": null,
      "grid_auto_columns": null,
      "grid_auto_flow": null,
      "grid_auto_rows": null,
      "grid_column": null,
      "grid_gap": null,
      "grid_row": null,
      "grid_template_areas": null,
      "grid_template_columns": null,
      "grid_template_rows": null,
      "height": null,
      "justify_content": null,
      "justify_items": null,
      "left": null,
      "margin": null,
      "max_height": null,
      "max_width": null,
      "min_height": null,
      "min_width": null,
      "object_fit": null,
      "object_position": null,
      "order": null,
      "overflow": null,
      "overflow_x": null,
      "overflow_y": null,
      "padding": null,
      "right": null,
      "top": null,
      "visibility": null,
      "width": null
     }
    },
    "28c37ae7c6514df2bd0824670321e314": {
     "model_module": "@jupyter-widgets/controls",
     "model_module_version": "1.5.0",
     "model_name": "HTMLModel",
     "state": {
      "_dom_classes": [],
      "_model_module": "@jupyter-widgets/controls",
      "_model_module_version": "1.5.0",
      "_model_name": "HTMLModel",
      "_view_count": null,
      "_view_module": "@jupyter-widgets/controls",
      "_view_module_version": "1.5.0",
      "_view_name": "HTMLView",
      "description": "",
      "description_tooltip": null,
      "layout": "IPY_MODEL_c54aa7a111f74825ba332b0778d63473",
      "placeholder": "​",
      "style": "IPY_MODEL_d6585ed9890c4741b4639ef75502f569",
      "value": "Sanity Checking DataLoader 0: 100%"
     }
    },
    "298ef5b11dca45ee8e14ab296555f3bc": {
     "model_module": "@jupyter-widgets/controls",
     "model_module_version": "1.5.0",
     "model_name": "DescriptionStyleModel",
     "state": {
      "_model_module": "@jupyter-widgets/controls",
      "_model_module_version": "1.5.0",
      "_model_name": "DescriptionStyleModel",
      "_view_count": null,
      "_view_module": "@jupyter-widgets/base",
      "_view_module_version": "1.2.0",
      "_view_name": "StyleView",
      "description_width": ""
     }
    },
    "2ea43c564f3143e6a9118a0dcd867da4": {
     "model_module": "@jupyter-widgets/base",
     "model_module_version": "1.2.0",
     "model_name": "LayoutModel",
     "state": {
      "_model_module": "@jupyter-widgets/base",
      "_model_module_version": "1.2.0",
      "_model_name": "LayoutModel",
      "_view_count": null,
      "_view_module": "@jupyter-widgets/base",
      "_view_module_version": "1.2.0",
      "_view_name": "LayoutView",
      "align_content": null,
      "align_items": null,
      "align_self": null,
      "border": null,
      "bottom": null,
      "display": null,
      "flex": null,
      "flex_flow": null,
      "grid_area": null,
      "grid_auto_columns": null,
      "grid_auto_flow": null,
      "grid_auto_rows": null,
      "grid_column": null,
      "grid_gap": null,
      "grid_row": null,
      "grid_template_areas": null,
      "grid_template_columns": null,
      "grid_template_rows": null,
      "height": null,
      "justify_content": null,
      "justify_items": null,
      "left": null,
      "margin": null,
      "max_height": null,
      "max_width": null,
      "min_height": null,
      "min_width": null,
      "object_fit": null,
      "object_position": null,
      "order": null,
      "overflow": null,
      "overflow_x": null,
      "overflow_y": null,
      "padding": null,
      "right": null,
      "top": null,
      "visibility": null,
      "width": null
     }
    },
    "2f75632040894f37b065ec73779371f9": {
     "model_module": "@jupyter-widgets/controls",
     "model_module_version": "1.5.0",
     "model_name": "HBoxModel",
     "state": {
      "_dom_classes": [],
      "_model_module": "@jupyter-widgets/controls",
      "_model_module_version": "1.5.0",
      "_model_name": "HBoxModel",
      "_view_count": null,
      "_view_module": "@jupyter-widgets/controls",
      "_view_module_version": "1.5.0",
      "_view_name": "HBoxView",
      "box_style": "",
      "children": [
       "IPY_MODEL_b33e09543ffb464da327a3ad1b8be804",
       "IPY_MODEL_b3e36b62346f4b9ea40a3d7b32028229",
       "IPY_MODEL_717c00315e744f7e8488c7f3baac115a"
      ],
      "layout": "IPY_MODEL_c542dc43df5340fe90e7a7e552002e3c"
     }
    },
    "2fb29d1179d5440bb8a83e28e6f80bde": {
     "model_module": "@jupyter-widgets/base",
     "model_module_version": "1.2.0",
     "model_name": "LayoutModel",
     "state": {
      "_model_module": "@jupyter-widgets/base",
      "_model_module_version": "1.2.0",
      "_model_name": "LayoutModel",
      "_view_count": null,
      "_view_module": "@jupyter-widgets/base",
      "_view_module_version": "1.2.0",
      "_view_name": "LayoutView",
      "align_content": null,
      "align_items": null,
      "align_self": null,
      "border": null,
      "bottom": null,
      "display": null,
      "flex": null,
      "flex_flow": null,
      "grid_area": null,
      "grid_auto_columns": null,
      "grid_auto_flow": null,
      "grid_auto_rows": null,
      "grid_column": null,
      "grid_gap": null,
      "grid_row": null,
      "grid_template_areas": null,
      "grid_template_columns": null,
      "grid_template_rows": null,
      "height": null,
      "justify_content": null,
      "justify_items": null,
      "left": null,
      "margin": null,
      "max_height": null,
      "max_width": null,
      "min_height": null,
      "min_width": null,
      "object_fit": null,
      "object_position": null,
      "order": null,
      "overflow": null,
      "overflow_x": null,
      "overflow_y": null,
      "padding": null,
      "right": null,
      "top": null,
      "visibility": null,
      "width": null
     }
    },
    "336c17ffaf0d48c3ae09856c626d1188": {
     "model_module": "@jupyter-widgets/controls",
     "model_module_version": "1.5.0",
     "model_name": "FloatProgressModel",
     "state": {
      "_dom_classes": [],
      "_model_module": "@jupyter-widgets/controls",
      "_model_module_version": "1.5.0",
      "_model_name": "FloatProgressModel",
      "_view_count": null,
      "_view_module": "@jupyter-widgets/controls",
      "_view_module_version": "1.5.0",
      "_view_name": "ProgressView",
      "bar_style": "",
      "description": "",
      "description_tooltip": null,
      "layout": "IPY_MODEL_4dff1aedfb43456089d4c42f331567c5",
      "max": 20,
      "min": 0,
      "orientation": "horizontal",
      "style": "IPY_MODEL_eebddd07b83d4d8b80ab2669a534c239",
      "value": 20
     }
    },
    "355b604cca854bbd9b2bc7e5fdb5afb7": {
     "model_module": "@jupyter-widgets/base",
     "model_module_version": "1.2.0",
     "model_name": "LayoutModel",
     "state": {
      "_model_module": "@jupyter-widgets/base",
      "_model_module_version": "1.2.0",
      "_model_name": "LayoutModel",
      "_view_count": null,
      "_view_module": "@jupyter-widgets/base",
      "_view_module_version": "1.2.0",
      "_view_name": "LayoutView",
      "align_content": null,
      "align_items": null,
      "align_self": null,
      "border": null,
      "bottom": null,
      "display": null,
      "flex": null,
      "flex_flow": null,
      "grid_area": null,
      "grid_auto_columns": null,
      "grid_auto_flow": null,
      "grid_auto_rows": null,
      "grid_column": null,
      "grid_gap": null,
      "grid_row": null,
      "grid_template_areas": null,
      "grid_template_columns": null,
      "grid_template_rows": null,
      "height": null,
      "justify_content": null,
      "justify_items": null,
      "left": null,
      "margin": null,
      "max_height": null,
      "max_width": null,
      "min_height": null,
      "min_width": null,
      "object_fit": null,
      "object_position": null,
      "order": null,
      "overflow": null,
      "overflow_x": null,
      "overflow_y": null,
      "padding": null,
      "right": null,
      "top": null,
      "visibility": null,
      "width": null
     }
    },
    "35e5bbed9b17422796eaba0bb28f6450": {
     "model_module": "@jupyter-widgets/controls",
     "model_module_version": "1.5.0",
     "model_name": "ProgressStyleModel",
     "state": {
      "_model_module": "@jupyter-widgets/controls",
      "_model_module_version": "1.5.0",
      "_model_name": "ProgressStyleModel",
      "_view_count": null,
      "_view_module": "@jupyter-widgets/base",
      "_view_module_version": "1.2.0",
      "_view_name": "StyleView",
      "bar_color": null,
      "description_width": ""
     }
    },
    "382311c1966449c2b64976ff7e0fb22d": {
     "model_module": "@jupyter-widgets/base",
     "model_module_version": "1.2.0",
     "model_name": "LayoutModel",
     "state": {
      "_model_module": "@jupyter-widgets/base",
      "_model_module_version": "1.2.0",
      "_model_name": "LayoutModel",
      "_view_count": null,
      "_view_module": "@jupyter-widgets/base",
      "_view_module_version": "1.2.0",
      "_view_name": "LayoutView",
      "align_content": null,
      "align_items": null,
      "align_self": null,
      "border": null,
      "bottom": null,
      "display": null,
      "flex": "2",
      "flex_flow": null,
      "grid_area": null,
      "grid_auto_columns": null,
      "grid_auto_flow": null,
      "grid_auto_rows": null,
      "grid_column": null,
      "grid_gap": null,
      "grid_row": null,
      "grid_template_areas": null,
      "grid_template_columns": null,
      "grid_template_rows": null,
      "height": null,
      "justify_content": null,
      "justify_items": null,
      "left": null,
      "margin": null,
      "max_height": null,
      "max_width": null,
      "min_height": null,
      "min_width": null,
      "object_fit": null,
      "object_position": null,
      "order": null,
      "overflow": null,
      "overflow_x": null,
      "overflow_y": null,
      "padding": null,
      "right": null,
      "top": null,
      "visibility": null,
      "width": null
     }
    },
    "3a937e7b6d8b4d87825432114143c02f": {
     "model_module": "@jupyter-widgets/controls",
     "model_module_version": "1.5.0",
     "model_name": "HTMLModel",
     "state": {
      "_dom_classes": [],
      "_model_module": "@jupyter-widgets/controls",
      "_model_module_version": "1.5.0",
      "_model_name": "HTMLModel",
      "_view_count": null,
      "_view_module": "@jupyter-widgets/controls",
      "_view_module_version": "1.5.0",
      "_view_name": "HTMLView",
      "description": "",
      "description_tooltip": null,
      "layout": "IPY_MODEL_1165d225e61c486ead33c4404ce931a2",
      "placeholder": "​",
      "style": "IPY_MODEL_8a8f9fa017714d4488ccc9aa37d48439",
      "value": " 20/20 [00:03&lt;00:00,  6.39it/s]"
     }
    },
    "3dd36e594d0743a8b63f9af381e3d74c": {
     "model_module": "@jupyter-widgets/base",
     "model_module_version": "1.2.0",
     "model_name": "LayoutModel",
     "state": {
      "_model_module": "@jupyter-widgets/base",
      "_model_module_version": "1.2.0",
      "_model_name": "LayoutModel",
      "_view_count": null,
      "_view_module": "@jupyter-widgets/base",
      "_view_module_version": "1.2.0",
      "_view_name": "LayoutView",
      "align_content": null,
      "align_items": null,
      "align_self": null,
      "border": null,
      "bottom": null,
      "display": "inline-flex",
      "flex": null,
      "flex_flow": "row wrap",
      "grid_area": null,
      "grid_auto_columns": null,
      "grid_auto_flow": null,
      "grid_auto_rows": null,
      "grid_column": null,
      "grid_gap": null,
      "grid_row": null,
      "grid_template_areas": null,
      "grid_template_columns": null,
      "grid_template_rows": null,
      "height": null,
      "justify_content": null,
      "justify_items": null,
      "left": null,
      "margin": null,
      "max_height": null,
      "max_width": null,
      "min_height": null,
      "min_width": null,
      "object_fit": null,
      "object_position": null,
      "order": null,
      "overflow": null,
      "overflow_x": null,
      "overflow_y": null,
      "padding": null,
      "right": null,
      "top": null,
      "visibility": "hidden",
      "width": "100%"
     }
    },
    "407b604f5c6c410e9dbb66ec8552777b": {
     "model_module": "@jupyter-widgets/controls",
     "model_module_version": "1.5.0",
     "model_name": "DescriptionStyleModel",
     "state": {
      "_model_module": "@jupyter-widgets/controls",
      "_model_module_version": "1.5.0",
      "_model_name": "DescriptionStyleModel",
      "_view_count": null,
      "_view_module": "@jupyter-widgets/base",
      "_view_module_version": "1.2.0",
      "_view_name": "StyleView",
      "description_width": ""
     }
    },
    "42850df8f2bf4d0cb8c4d3f9c085f7d5": {
     "model_module": "@jupyter-widgets/base",
     "model_module_version": "1.2.0",
     "model_name": "LayoutModel",
     "state": {
      "_model_module": "@jupyter-widgets/base",
      "_model_module_version": "1.2.0",
      "_model_name": "LayoutModel",
      "_view_count": null,
      "_view_module": "@jupyter-widgets/base",
      "_view_module_version": "1.2.0",
      "_view_name": "LayoutView",
      "align_content": null,
      "align_items": null,
      "align_self": null,
      "border": null,
      "bottom": null,
      "display": null,
      "flex": null,
      "flex_flow": null,
      "grid_area": null,
      "grid_auto_columns": null,
      "grid_auto_flow": null,
      "grid_auto_rows": null,
      "grid_column": null,
      "grid_gap": null,
      "grid_row": null,
      "grid_template_areas": null,
      "grid_template_columns": null,
      "grid_template_rows": null,
      "height": null,
      "justify_content": null,
      "justify_items": null,
      "left": null,
      "margin": null,
      "max_height": null,
      "max_width": null,
      "min_height": null,
      "min_width": null,
      "object_fit": null,
      "object_position": null,
      "order": null,
      "overflow": null,
      "overflow_x": null,
      "overflow_y": null,
      "padding": null,
      "right": null,
      "top": null,
      "visibility": null,
      "width": null
     }
    },
    "43efe1e0dc5d459ab3380bccb25842a0": {
     "model_module": "@jupyter-widgets/base",
     "model_module_version": "1.2.0",
     "model_name": "LayoutModel",
     "state": {
      "_model_module": "@jupyter-widgets/base",
      "_model_module_version": "1.2.0",
      "_model_name": "LayoutModel",
      "_view_count": null,
      "_view_module": "@jupyter-widgets/base",
      "_view_module_version": "1.2.0",
      "_view_name": "LayoutView",
      "align_content": null,
      "align_items": null,
      "align_self": null,
      "border": null,
      "bottom": null,
      "display": null,
      "flex": "2",
      "flex_flow": null,
      "grid_area": null,
      "grid_auto_columns": null,
      "grid_auto_flow": null,
      "grid_auto_rows": null,
      "grid_column": null,
      "grid_gap": null,
      "grid_row": null,
      "grid_template_areas": null,
      "grid_template_columns": null,
      "grid_template_rows": null,
      "height": null,
      "justify_content": null,
      "justify_items": null,
      "left": null,
      "margin": null,
      "max_height": null,
      "max_width": null,
      "min_height": null,
      "min_width": null,
      "object_fit": null,
      "object_position": null,
      "order": null,
      "overflow": null,
      "overflow_x": null,
      "overflow_y": null,
      "padding": null,
      "right": null,
      "top": null,
      "visibility": null,
      "width": null
     }
    },
    "4505df98394742c1a8b00a086de159cc": {
     "model_module": "@jupyter-widgets/base",
     "model_module_version": "1.2.0",
     "model_name": "LayoutModel",
     "state": {
      "_model_module": "@jupyter-widgets/base",
      "_model_module_version": "1.2.0",
      "_model_name": "LayoutModel",
      "_view_count": null,
      "_view_module": "@jupyter-widgets/base",
      "_view_module_version": "1.2.0",
      "_view_name": "LayoutView",
      "align_content": null,
      "align_items": null,
      "align_self": null,
      "border": null,
      "bottom": null,
      "display": null,
      "flex": null,
      "flex_flow": null,
      "grid_area": null,
      "grid_auto_columns": null,
      "grid_auto_flow": null,
      "grid_auto_rows": null,
      "grid_column": null,
      "grid_gap": null,
      "grid_row": null,
      "grid_template_areas": null,
      "grid_template_columns": null,
      "grid_template_rows": null,
      "height": null,
      "justify_content": null,
      "justify_items": null,
      "left": null,
      "margin": null,
      "max_height": null,
      "max_width": null,
      "min_height": null,
      "min_width": null,
      "object_fit": null,
      "object_position": null,
      "order": null,
      "overflow": null,
      "overflow_x": null,
      "overflow_y": null,
      "padding": null,
      "right": null,
      "top": null,
      "visibility": null,
      "width": null
     }
    },
    "4566b338078c48d29c855f54fcd0b9e2": {
     "model_module": "@jupyter-widgets/controls",
     "model_module_version": "1.5.0",
     "model_name": "HBoxModel",
     "state": {
      "_dom_classes": [],
      "_model_module": "@jupyter-widgets/controls",
      "_model_module_version": "1.5.0",
      "_model_name": "HBoxModel",
      "_view_count": null,
      "_view_module": "@jupyter-widgets/controls",
      "_view_module_version": "1.5.0",
      "_view_name": "HBoxView",
      "box_style": "",
      "children": [
       "IPY_MODEL_7d205400958a4ca982632403bedeafc3",
       "IPY_MODEL_547174c2cf2548749fae663255a4e8bd",
       "IPY_MODEL_106b892bf4584e7d8be1e5e8f49e2f00"
      ],
      "layout": "IPY_MODEL_f8ffdd67f54843e69813c9384045c44c"
     }
    },
    "462e582742274cc299a4d6a158d0ad53": {
     "model_module": "@jupyter-widgets/base",
     "model_module_version": "1.2.0",
     "model_name": "LayoutModel",
     "state": {
      "_model_module": "@jupyter-widgets/base",
      "_model_module_version": "1.2.0",
      "_model_name": "LayoutModel",
      "_view_count": null,
      "_view_module": "@jupyter-widgets/base",
      "_view_module_version": "1.2.0",
      "_view_name": "LayoutView",
      "align_content": null,
      "align_items": null,
      "align_self": null,
      "border": null,
      "bottom": null,
      "display": null,
      "flex": "2",
      "flex_flow": null,
      "grid_area": null,
      "grid_auto_columns": null,
      "grid_auto_flow": null,
      "grid_auto_rows": null,
      "grid_column": null,
      "grid_gap": null,
      "grid_row": null,
      "grid_template_areas": null,
      "grid_template_columns": null,
      "grid_template_rows": null,
      "height": null,
      "justify_content": null,
      "justify_items": null,
      "left": null,
      "margin": null,
      "max_height": null,
      "max_width": null,
      "min_height": null,
      "min_width": null,
      "object_fit": null,
      "object_position": null,
      "order": null,
      "overflow": null,
      "overflow_x": null,
      "overflow_y": null,
      "padding": null,
      "right": null,
      "top": null,
      "visibility": null,
      "width": null
     }
    },
    "47c79cc35e394270ab9bdd945bb80be8": {
     "model_module": "@jupyter-widgets/base",
     "model_module_version": "1.2.0",
     "model_name": "LayoutModel",
     "state": {
      "_model_module": "@jupyter-widgets/base",
      "_model_module_version": "1.2.0",
      "_model_name": "LayoutModel",
      "_view_count": null,
      "_view_module": "@jupyter-widgets/base",
      "_view_module_version": "1.2.0",
      "_view_name": "LayoutView",
      "align_content": null,
      "align_items": null,
      "align_self": null,
      "border": null,
      "bottom": null,
      "display": null,
      "flex": null,
      "flex_flow": null,
      "grid_area": null,
      "grid_auto_columns": null,
      "grid_auto_flow": null,
      "grid_auto_rows": null,
      "grid_column": null,
      "grid_gap": null,
      "grid_row": null,
      "grid_template_areas": null,
      "grid_template_columns": null,
      "grid_template_rows": null,
      "height": null,
      "justify_content": null,
      "justify_items": null,
      "left": null,
      "margin": null,
      "max_height": null,
      "max_width": null,
      "min_height": null,
      "min_width": null,
      "object_fit": null,
      "object_position": null,
      "order": null,
      "overflow": null,
      "overflow_x": null,
      "overflow_y": null,
      "padding": null,
      "right": null,
      "top": null,
      "visibility": null,
      "width": null
     }
    },
    "49a83a97dd96438da12bb55e3e40a64e": {
     "model_module": "@jupyter-widgets/controls",
     "model_module_version": "1.5.0",
     "model_name": "ProgressStyleModel",
     "state": {
      "_model_module": "@jupyter-widgets/controls",
      "_model_module_version": "1.5.0",
      "_model_name": "ProgressStyleModel",
      "_view_count": null,
      "_view_module": "@jupyter-widgets/base",
      "_view_module_version": "1.2.0",
      "_view_name": "StyleView",
      "bar_color": null,
      "description_width": ""
     }
    },
    "4cfe3e99f2e0433babfaac6f09f8cba9": {
     "model_module": "@jupyter-widgets/controls",
     "model_module_version": "1.5.0",
     "model_name": "DescriptionStyleModel",
     "state": {
      "_model_module": "@jupyter-widgets/controls",
      "_model_module_version": "1.5.0",
      "_model_name": "DescriptionStyleModel",
      "_view_count": null,
      "_view_module": "@jupyter-widgets/base",
      "_view_module_version": "1.2.0",
      "_view_name": "StyleView",
      "description_width": ""
     }
    },
    "4dff1aedfb43456089d4c42f331567c5": {
     "model_module": "@jupyter-widgets/base",
     "model_module_version": "1.2.0",
     "model_name": "LayoutModel",
     "state": {
      "_model_module": "@jupyter-widgets/base",
      "_model_module_version": "1.2.0",
      "_model_name": "LayoutModel",
      "_view_count": null,
      "_view_module": "@jupyter-widgets/base",
      "_view_module_version": "1.2.0",
      "_view_name": "LayoutView",
      "align_content": null,
      "align_items": null,
      "align_self": null,
      "border": null,
      "bottom": null,
      "display": null,
      "flex": "2",
      "flex_flow": null,
      "grid_area": null,
      "grid_auto_columns": null,
      "grid_auto_flow": null,
      "grid_auto_rows": null,
      "grid_column": null,
      "grid_gap": null,
      "grid_row": null,
      "grid_template_areas": null,
      "grid_template_columns": null,
      "grid_template_rows": null,
      "height": null,
      "justify_content": null,
      "justify_items": null,
      "left": null,
      "margin": null,
      "max_height": null,
      "max_width": null,
      "min_height": null,
      "min_width": null,
      "object_fit": null,
      "object_position": null,
      "order": null,
      "overflow": null,
      "overflow_x": null,
      "overflow_y": null,
      "padding": null,
      "right": null,
      "top": null,
      "visibility": null,
      "width": null
     }
    },
    "4e723165fb6a4339b341c6816bc48860": {
     "model_module": "@jupyter-widgets/controls",
     "model_module_version": "1.5.0",
     "model_name": "HBoxModel",
     "state": {
      "_dom_classes": [],
      "_model_module": "@jupyter-widgets/controls",
      "_model_module_version": "1.5.0",
      "_model_name": "HBoxModel",
      "_view_count": null,
      "_view_module": "@jupyter-widgets/controls",
      "_view_module_version": "1.5.0",
      "_view_name": "HBoxView",
      "box_style": "",
      "children": [
       "IPY_MODEL_8dd3555a6e07451f9cdd7b9e81af7e34",
       "IPY_MODEL_643f0f8c7fca4e1886c7f8e6b9d59588",
       "IPY_MODEL_9fae219ebd9f4342b0c00d1b85898e69"
      ],
      "layout": "IPY_MODEL_9cba5c3ed7af4f0a932e175ff12f38d5"
     }
    },
    "547174c2cf2548749fae663255a4e8bd": {
     "model_module": "@jupyter-widgets/controls",
     "model_module_version": "1.5.0",
     "model_name": "FloatProgressModel",
     "state": {
      "_dom_classes": [],
      "_model_module": "@jupyter-widgets/controls",
      "_model_module_version": "1.5.0",
      "_model_name": "FloatProgressModel",
      "_view_count": null,
      "_view_module": "@jupyter-widgets/controls",
      "_view_module_version": "1.5.0",
      "_view_name": "ProgressView",
      "bar_style": "",
      "description": "",
      "description_tooltip": null,
      "layout": "IPY_MODEL_462e582742274cc299a4d6a158d0ad53",
      "max": 20,
      "min": 0,
      "orientation": "horizontal",
      "style": "IPY_MODEL_35e5bbed9b17422796eaba0bb28f6450",
      "value": 20
     }
    },
    "562febfc4d1647cd8ae1d9006244263c": {
     "model_module": "@jupyter-widgets/base",
     "model_module_version": "1.2.0",
     "model_name": "LayoutModel",
     "state": {
      "_model_module": "@jupyter-widgets/base",
      "_model_module_version": "1.2.0",
      "_model_name": "LayoutModel",
      "_view_count": null,
      "_view_module": "@jupyter-widgets/base",
      "_view_module_version": "1.2.0",
      "_view_name": "LayoutView",
      "align_content": null,
      "align_items": null,
      "align_self": null,
      "border": null,
      "bottom": null,
      "display": "inline-flex",
      "flex": null,
      "flex_flow": "row wrap",
      "grid_area": null,
      "grid_auto_columns": null,
      "grid_auto_flow": null,
      "grid_auto_rows": null,
      "grid_column": null,
      "grid_gap": null,
      "grid_row": null,
      "grid_template_areas": null,
      "grid_template_columns": null,
      "grid_template_rows": null,
      "height": null,
      "justify_content": null,
      "justify_items": null,
      "left": null,
      "margin": null,
      "max_height": null,
      "max_width": null,
      "min_height": null,
      "min_width": null,
      "object_fit": null,
      "object_position": null,
      "order": null,
      "overflow": null,
      "overflow_x": null,
      "overflow_y": null,
      "padding": null,
      "right": null,
      "top": null,
      "visibility": null,
      "width": "100%"
     }
    },
    "58146abc04ae41d7aea16647cee9d8f4": {
     "model_module": "@jupyter-widgets/controls",
     "model_module_version": "1.5.0",
     "model_name": "HBoxModel",
     "state": {
      "_dom_classes": [],
      "_model_module": "@jupyter-widgets/controls",
      "_model_module_version": "1.5.0",
      "_model_name": "HBoxModel",
      "_view_count": null,
      "_view_module": "@jupyter-widgets/controls",
      "_view_module_version": "1.5.0",
      "_view_name": "HBoxView",
      "box_style": "",
      "children": [
       "IPY_MODEL_eb5a3aef28774f2faca6b1a473b5c3fa",
       "IPY_MODEL_be87a5dc54c8457a9aac351f3d1c50ea",
       "IPY_MODEL_708b7da86c7542389029c2b8c200e9b4"
      ],
      "layout": "IPY_MODEL_794a4dba56174a8da81c492d45981b79"
     }
    },
    "599c5456ac924283a3d2f36cc6ba3fa3": {
     "model_module": "@jupyter-widgets/controls",
     "model_module_version": "1.5.0",
     "model_name": "ProgressStyleModel",
     "state": {
      "_model_module": "@jupyter-widgets/controls",
      "_model_module_version": "1.5.0",
      "_model_name": "ProgressStyleModel",
      "_view_count": null,
      "_view_module": "@jupyter-widgets/base",
      "_view_module_version": "1.2.0",
      "_view_name": "StyleView",
      "bar_color": null,
      "description_width": ""
     }
    },
    "5f317ddbed8343eba96b5af5d6e91c5b": {
     "model_module": "@jupyter-widgets/controls",
     "model_module_version": "1.5.0",
     "model_name": "HTMLModel",
     "state": {
      "_dom_classes": [],
      "_model_module": "@jupyter-widgets/controls",
      "_model_module_version": "1.5.0",
      "_model_name": "HTMLModel",
      "_view_count": null,
      "_view_module": "@jupyter-widgets/controls",
      "_view_module_version": "1.5.0",
      "_view_name": "HTMLView",
      "description": "",
      "description_tooltip": null,
      "layout": "IPY_MODEL_dd38a9361e664e078c9a70b7dea9b0a4",
      "placeholder": "​",
      "style": "IPY_MODEL_dd1d13e06c6742b486e321a61c0fa3c2",
      "value": " 20/20 [00:01&lt;00:00, 10.09it/s]"
     }
    },
    "643f0f8c7fca4e1886c7f8e6b9d59588": {
     "model_module": "@jupyter-widgets/controls",
     "model_module_version": "1.5.0",
     "model_name": "FloatProgressModel",
     "state": {
      "_dom_classes": [],
      "_model_module": "@jupyter-widgets/controls",
      "_model_module_version": "1.5.0",
      "_model_name": "FloatProgressModel",
      "_view_count": null,
      "_view_module": "@jupyter-widgets/controls",
      "_view_module_version": "1.5.0",
      "_view_name": "ProgressView",
      "bar_style": "success",
      "description": "",
      "description_tooltip": null,
      "layout": "IPY_MODEL_259b3024e9724e5c8361888ecc280ab1",
      "max": 105,
      "min": 0,
      "orientation": "horizontal",
      "style": "IPY_MODEL_02b01aa8b8e44b65b1761bd8b6f578a0",
      "value": 105
     }
    },
    "69f86cf58a7843be9c5d412cb6eb7fe4": {
     "model_module": "@jupyter-widgets/controls",
     "model_module_version": "1.5.0",
     "model_name": "HTMLModel",
     "state": {
      "_dom_classes": [],
      "_model_module": "@jupyter-widgets/controls",
      "_model_module_version": "1.5.0",
      "_model_name": "HTMLModel",
      "_view_count": null,
      "_view_module": "@jupyter-widgets/controls",
      "_view_module_version": "1.5.0",
      "_view_name": "HTMLView",
      "description": "",
      "description_tooltip": null,
      "layout": "IPY_MODEL_223279094cb64846a4bec0ba41094ebe",
      "placeholder": "​",
      "style": "IPY_MODEL_021ebbb9ff6c49e6bf8578278fc7502b",
      "value": "Validation DataLoader 0: 100%"
     }
    },
    "6a431b55ecd64db98f2ca86114db2b94": {
     "model_module": "@jupyter-widgets/controls",
     "model_module_version": "1.5.0",
     "model_name": "HBoxModel",
     "state": {
      "_dom_classes": [],
      "_model_module": "@jupyter-widgets/controls",
      "_model_module_version": "1.5.0",
      "_model_name": "HBoxModel",
      "_view_count": null,
      "_view_module": "@jupyter-widgets/controls",
      "_view_module_version": "1.5.0",
      "_view_name": "HBoxView",
      "box_style": "",
      "children": [
       "IPY_MODEL_ba9cf5caa6384c41a19f42794b8e402a",
       "IPY_MODEL_0282077701744dad85ba9aa8ee121dae",
       "IPY_MODEL_e376e7befb6a4307b192719039602c43"
      ],
      "layout": "IPY_MODEL_562febfc4d1647cd8ae1d9006244263c"
     }
    },
    "6d7c516774ea41dcaae6640bf2685665": {
     "model_module": "@jupyter-widgets/controls",
     "model_module_version": "1.5.0",
     "model_name": "DescriptionStyleModel",
     "state": {
      "_model_module": "@jupyter-widgets/controls",
      "_model_module_version": "1.5.0",
      "_model_name": "DescriptionStyleModel",
      "_view_count": null,
      "_view_module": "@jupyter-widgets/base",
      "_view_module_version": "1.2.0",
      "_view_name": "StyleView",
      "description_width": ""
     }
    },
    "708b7da86c7542389029c2b8c200e9b4": {
     "model_module": "@jupyter-widgets/controls",
     "model_module_version": "1.5.0",
     "model_name": "HTMLModel",
     "state": {
      "_dom_classes": [],
      "_model_module": "@jupyter-widgets/controls",
      "_model_module_version": "1.5.0",
      "_model_name": "HTMLModel",
      "_view_count": null,
      "_view_module": "@jupyter-widgets/controls",
      "_view_module_version": "1.5.0",
      "_view_name": "HTMLView",
      "description": "",
      "description_tooltip": null,
      "layout": "IPY_MODEL_42850df8f2bf4d0cb8c4d3f9c085f7d5",
      "placeholder": "​",
      "style": "IPY_MODEL_4cfe3e99f2e0433babfaac6f09f8cba9",
      "value": " 20/20 [00:03&lt;00:00,  6.45it/s]"
     }
    },
    "708fb059b2304740a110ad7e48126662": {
     "model_module": "@jupyter-widgets/controls",
     "model_module_version": "1.5.0",
     "model_name": "DescriptionStyleModel",
     "state": {
      "_model_module": "@jupyter-widgets/controls",
      "_model_module_version": "1.5.0",
      "_model_name": "DescriptionStyleModel",
      "_view_count": null,
      "_view_module": "@jupyter-widgets/base",
      "_view_module_version": "1.2.0",
      "_view_name": "StyleView",
      "description_width": ""
     }
    },
    "70dc9a761141455ea70d73ea5a885992": {
     "model_module": "@jupyter-widgets/controls",
     "model_module_version": "1.5.0",
     "model_name": "HTMLModel",
     "state": {
      "_dom_classes": [],
      "_model_module": "@jupyter-widgets/controls",
      "_model_module_version": "1.5.0",
      "_model_name": "HTMLModel",
      "_view_count": null,
      "_view_module": "@jupyter-widgets/controls",
      "_view_module_version": "1.5.0",
      "_view_name": "HTMLView",
      "description": "",
      "description_tooltip": null,
      "layout": "IPY_MODEL_bdb470581787465ebc0800744ec0bf90",
      "placeholder": "​",
      "style": "IPY_MODEL_ffeeb41db74b401591828ed6e0074359",
      "value": " 20/20 [00:02&lt;00:00,  7.08it/s]"
     }
    },
    "717c00315e744f7e8488c7f3baac115a": {
     "model_module": "@jupyter-widgets/controls",
     "model_module_version": "1.5.0",
     "model_name": "HTMLModel",
     "state": {
      "_dom_classes": [],
      "_model_module": "@jupyter-widgets/controls",
      "_model_module_version": "1.5.0",
      "_model_name": "HTMLModel",
      "_view_count": null,
      "_view_module": "@jupyter-widgets/controls",
      "_view_module_version": "1.5.0",
      "_view_name": "HTMLView",
      "description": "",
      "description_tooltip": null,
      "layout": "IPY_MODEL_75d83d696c964a0e9d0583e164904602",
      "placeholder": "​",
      "style": "IPY_MODEL_708fb059b2304740a110ad7e48126662",
      "value": " 20/20 [00:02&lt;00:00,  8.68it/s]"
     }
    },
    "748cb6e52d8f4b51b840f6de1e3ac01e": {
     "model_module": "@jupyter-widgets/controls",
     "model_module_version": "1.5.0",
     "model_name": "DescriptionStyleModel",
     "state": {
      "_model_module": "@jupyter-widgets/controls",
      "_model_module_version": "1.5.0",
      "_model_name": "DescriptionStyleModel",
      "_view_count": null,
      "_view_module": "@jupyter-widgets/base",
      "_view_module_version": "1.2.0",
      "_view_name": "StyleView",
      "description_width": ""
     }
    },
    "75d83d696c964a0e9d0583e164904602": {
     "model_module": "@jupyter-widgets/base",
     "model_module_version": "1.2.0",
     "model_name": "LayoutModel",
     "state": {
      "_model_module": "@jupyter-widgets/base",
      "_model_module_version": "1.2.0",
      "_model_name": "LayoutModel",
      "_view_count": null,
      "_view_module": "@jupyter-widgets/base",
      "_view_module_version": "1.2.0",
      "_view_name": "LayoutView",
      "align_content": null,
      "align_items": null,
      "align_self": null,
      "border": null,
      "bottom": null,
      "display": null,
      "flex": null,
      "flex_flow": null,
      "grid_area": null,
      "grid_auto_columns": null,
      "grid_auto_flow": null,
      "grid_auto_rows": null,
      "grid_column": null,
      "grid_gap": null,
      "grid_row": null,
      "grid_template_areas": null,
      "grid_template_columns": null,
      "grid_template_rows": null,
      "height": null,
      "justify_content": null,
      "justify_items": null,
      "left": null,
      "margin": null,
      "max_height": null,
      "max_width": null,
      "min_height": null,
      "min_width": null,
      "object_fit": null,
      "object_position": null,
      "order": null,
      "overflow": null,
      "overflow_x": null,
      "overflow_y": null,
      "padding": null,
      "right": null,
      "top": null,
      "visibility": null,
      "width": null
     }
    },
    "76f6bc555d1b497cad5c8a0202a01321": {
     "model_module": "@jupyter-widgets/controls",
     "model_module_version": "1.5.0",
     "model_name": "HTMLModel",
     "state": {
      "_dom_classes": [],
      "_model_module": "@jupyter-widgets/controls",
      "_model_module_version": "1.5.0",
      "_model_name": "HTMLModel",
      "_view_count": null,
      "_view_module": "@jupyter-widgets/controls",
      "_view_module_version": "1.5.0",
      "_view_name": "HTMLView",
      "description": "",
      "description_tooltip": null,
      "layout": "IPY_MODEL_47c79cc35e394270ab9bdd945bb80be8",
      "placeholder": "​",
      "style": "IPY_MODEL_6d7c516774ea41dcaae6640bf2685665",
      "value": " 20/20 [00:03&lt;00:00,  5.55it/s]"
     }
    },
    "77cb668281264e3cbf7e55ce3b6c3da2": {
     "model_module": "@jupyter-widgets/controls",
     "model_module_version": "1.5.0",
     "model_name": "HBoxModel",
     "state": {
      "_dom_classes": [],
      "_model_module": "@jupyter-widgets/controls",
      "_model_module_version": "1.5.0",
      "_model_name": "HBoxModel",
      "_view_count": null,
      "_view_module": "@jupyter-widgets/controls",
      "_view_module_version": "1.5.0",
      "_view_name": "HBoxView",
      "box_style": "",
      "children": [
       "IPY_MODEL_12663cb80d8e49c5aae07de2a6fbd355",
       "IPY_MODEL_7e8ab03ea04d4543a904c2b40696037d",
       "IPY_MODEL_3a937e7b6d8b4d87825432114143c02f"
      ],
      "layout": "IPY_MODEL_a353486d2fc3421d96a7f84ea4a8623e"
     }
    },
    "794a4dba56174a8da81c492d45981b79": {
     "model_module": "@jupyter-widgets/base",
     "model_module_version": "1.2.0",
     "model_name": "LayoutModel",
     "state": {
      "_model_module": "@jupyter-widgets/base",
      "_model_module_version": "1.2.0",
      "_model_name": "LayoutModel",
      "_view_count": null,
      "_view_module": "@jupyter-widgets/base",
      "_view_module_version": "1.2.0",
      "_view_name": "LayoutView",
      "align_content": null,
      "align_items": null,
      "align_self": null,
      "border": null,
      "bottom": null,
      "display": "inline-flex",
      "flex": null,
      "flex_flow": "row wrap",
      "grid_area": null,
      "grid_auto_columns": null,
      "grid_auto_flow": null,
      "grid_auto_rows": null,
      "grid_column": null,
      "grid_gap": null,
      "grid_row": null,
      "grid_template_areas": null,
      "grid_template_columns": null,
      "grid_template_rows": null,
      "height": null,
      "justify_content": null,
      "justify_items": null,
      "left": null,
      "margin": null,
      "max_height": null,
      "max_width": null,
      "min_height": null,
      "min_width": null,
      "object_fit": null,
      "object_position": null,
      "order": null,
      "overflow": null,
      "overflow_x": null,
      "overflow_y": null,
      "padding": null,
      "right": null,
      "top": null,
      "visibility": "hidden",
      "width": "100%"
     }
    },
    "7d205400958a4ca982632403bedeafc3": {
     "model_module": "@jupyter-widgets/controls",
     "model_module_version": "1.5.0",
     "model_name": "HTMLModel",
     "state": {
      "_dom_classes": [],
      "_model_module": "@jupyter-widgets/controls",
      "_model_module_version": "1.5.0",
      "_model_name": "HTMLModel",
      "_view_count": null,
      "_view_module": "@jupyter-widgets/controls",
      "_view_module_version": "1.5.0",
      "_view_name": "HTMLView",
      "description": "",
      "description_tooltip": null,
      "layout": "IPY_MODEL_0cd3593c37c54f108d2d9233511b6c18",
      "placeholder": "​",
      "style": "IPY_MODEL_407b604f5c6c410e9dbb66ec8552777b",
      "value": "Validation DataLoader 0: 100%"
     }
    },
    "7e8ab03ea04d4543a904c2b40696037d": {
     "model_module": "@jupyter-widgets/controls",
     "model_module_version": "1.5.0",
     "model_name": "FloatProgressModel",
     "state": {
      "_dom_classes": [],
      "_model_module": "@jupyter-widgets/controls",
      "_model_module_version": "1.5.0",
      "_model_name": "FloatProgressModel",
      "_view_count": null,
      "_view_module": "@jupyter-widgets/controls",
      "_view_module_version": "1.5.0",
      "_view_name": "ProgressView",
      "bar_style": "",
      "description": "",
      "description_tooltip": null,
      "layout": "IPY_MODEL_cb32b3b5cb6c459f9fb6ebba41b14179",
      "max": 20,
      "min": 0,
      "orientation": "horizontal",
      "style": "IPY_MODEL_bf16a8e95bf041e1b32b64ca0f8227a6",
      "value": 20
     }
    },
    "83ed3e007f084987a13e9c3c1fff4766": {
     "model_module": "@jupyter-widgets/controls",
     "model_module_version": "1.5.0",
     "model_name": "HBoxModel",
     "state": {
      "_dom_classes": [],
      "_model_module": "@jupyter-widgets/controls",
      "_model_module_version": "1.5.0",
      "_model_name": "HBoxModel",
      "_view_count": null,
      "_view_module": "@jupyter-widgets/controls",
      "_view_module_version": "1.5.0",
      "_view_name": "HBoxView",
      "box_style": "",
      "children": [
       "IPY_MODEL_009666ee40b94f058e2c62ddb22146fc",
       "IPY_MODEL_b7d836c03c6149d3b78b9286cb439d74",
       "IPY_MODEL_76f6bc555d1b497cad5c8a0202a01321"
      ],
      "layout": "IPY_MODEL_3dd36e594d0743a8b63f9af381e3d74c"
     }
    },
    "8a8f9fa017714d4488ccc9aa37d48439": {
     "model_module": "@jupyter-widgets/controls",
     "model_module_version": "1.5.0",
     "model_name": "DescriptionStyleModel",
     "state": {
      "_model_module": "@jupyter-widgets/controls",
      "_model_module_version": "1.5.0",
      "_model_name": "DescriptionStyleModel",
      "_view_count": null,
      "_view_module": "@jupyter-widgets/base",
      "_view_module_version": "1.2.0",
      "_view_name": "StyleView",
      "description_width": ""
     }
    },
    "8dd3555a6e07451f9cdd7b9e81af7e34": {
     "model_module": "@jupyter-widgets/controls",
     "model_module_version": "1.5.0",
     "model_name": "HTMLModel",
     "state": {
      "_dom_classes": [],
      "_model_module": "@jupyter-widgets/controls",
      "_model_module_version": "1.5.0",
      "_model_name": "HTMLModel",
      "_view_count": null,
      "_view_module": "@jupyter-widgets/controls",
      "_view_module_version": "1.5.0",
      "_view_name": "HTMLView",
      "description": "",
      "description_tooltip": null,
      "layout": "IPY_MODEL_a0b7ee4fc9de42c5bf6b6c3410a905c7",
      "placeholder": "​",
      "style": "IPY_MODEL_1c5151e4b7c14cb69716328efe4abca7",
      "value": "Epoch 6: 100%"
     }
    },
    "92a30638b173469c8ba5310a7375d661": {
     "model_module": "@jupyter-widgets/controls",
     "model_module_version": "1.5.0",
     "model_name": "HTMLModel",
     "state": {
      "_dom_classes": [],
      "_model_module": "@jupyter-widgets/controls",
      "_model_module_version": "1.5.0",
      "_model_name": "HTMLModel",
      "_view_count": null,
      "_view_module": "@jupyter-widgets/controls",
      "_view_module_version": "1.5.0",
      "_view_name": "HTMLView",
      "description": "",
      "description_tooltip": null,
      "layout": "IPY_MODEL_97ba0548b7fb44c181ca2220715e9bda",
      "placeholder": "​",
      "style": "IPY_MODEL_298ef5b11dca45ee8e14ab296555f3bc",
      "value": " 2/2 [00:00&lt;00:00,  9.19it/s]"
     }
    },
    "97870065ddc6420b81c31fb0e3b00f41": {
     "model_module": "@jupyter-widgets/controls",
     "model_module_version": "1.5.0",
     "model_name": "DescriptionStyleModel",
     "state": {
      "_model_module": "@jupyter-widgets/controls",
      "_model_module_version": "1.5.0",
      "_model_name": "DescriptionStyleModel",
      "_view_count": null,
      "_view_module": "@jupyter-widgets/base",
      "_view_module_version": "1.2.0",
      "_view_name": "StyleView",
      "description_width": ""
     }
    },
    "97ba0548b7fb44c181ca2220715e9bda": {
     "model_module": "@jupyter-widgets/base",
     "model_module_version": "1.2.0",
     "model_name": "LayoutModel",
     "state": {
      "_model_module": "@jupyter-widgets/base",
      "_model_module_version": "1.2.0",
      "_model_name": "LayoutModel",
      "_view_count": null,
      "_view_module": "@jupyter-widgets/base",
      "_view_module_version": "1.2.0",
      "_view_name": "LayoutView",
      "align_content": null,
      "align_items": null,
      "align_self": null,
      "border": null,
      "bottom": null,
      "display": null,
      "flex": null,
      "flex_flow": null,
      "grid_area": null,
      "grid_auto_columns": null,
      "grid_auto_flow": null,
      "grid_auto_rows": null,
      "grid_column": null,
      "grid_gap": null,
      "grid_row": null,
      "grid_template_areas": null,
      "grid_template_columns": null,
      "grid_template_rows": null,
      "height": null,
      "justify_content": null,
      "justify_items": null,
      "left": null,
      "margin": null,
      "max_height": null,
      "max_width": null,
      "min_height": null,
      "min_width": null,
      "object_fit": null,
      "object_position": null,
      "order": null,
      "overflow": null,
      "overflow_x": null,
      "overflow_y": null,
      "padding": null,
      "right": null,
      "top": null,
      "visibility": null,
      "width": null
     }
    },
    "99c5e1c1e6d64113ac527022e67e7bfa": {
     "model_module": "@jupyter-widgets/controls",
     "model_module_version": "1.5.0",
     "model_name": "HBoxModel",
     "state": {
      "_dom_classes": [],
      "_model_module": "@jupyter-widgets/controls",
      "_model_module_version": "1.5.0",
      "_model_name": "HBoxModel",
      "_view_count": null,
      "_view_module": "@jupyter-widgets/controls",
      "_view_module_version": "1.5.0",
      "_view_name": "HBoxView",
      "box_style": "",
      "children": [
       "IPY_MODEL_69f86cf58a7843be9c5d412cb6eb7fe4",
       "IPY_MODEL_e4cce3454bab486fbd7dbf83caaf5931",
       "IPY_MODEL_5f317ddbed8343eba96b5af5d6e91c5b"
      ],
      "layout": "IPY_MODEL_cf5a20fda1524664bc3a270e2d22247c"
     }
    },
    "9cba5c3ed7af4f0a932e175ff12f38d5": {
     "model_module": "@jupyter-widgets/base",
     "model_module_version": "1.2.0",
     "model_name": "LayoutModel",
     "state": {
      "_model_module": "@jupyter-widgets/base",
      "_model_module_version": "1.2.0",
      "_model_name": "LayoutModel",
      "_view_count": null,
      "_view_module": "@jupyter-widgets/base",
      "_view_module_version": "1.2.0",
      "_view_name": "LayoutView",
      "align_content": null,
      "align_items": null,
      "align_self": null,
      "border": null,
      "bottom": null,
      "display": "inline-flex",
      "flex": null,
      "flex_flow": "row wrap",
      "grid_area": null,
      "grid_auto_columns": null,
      "grid_auto_flow": null,
      "grid_auto_rows": null,
      "grid_column": null,
      "grid_gap": null,
      "grid_row": null,
      "grid_template_areas": null,
      "grid_template_columns": null,
      "grid_template_rows": null,
      "height": null,
      "justify_content": null,
      "justify_items": null,
      "left": null,
      "margin": null,
      "max_height": null,
      "max_width": null,
      "min_height": null,
      "min_width": null,
      "object_fit": null,
      "object_position": null,
      "order": null,
      "overflow": null,
      "overflow_x": null,
      "overflow_y": null,
      "padding": null,
      "right": null,
      "top": null,
      "visibility": null,
      "width": "100%"
     }
    },
    "9fae219ebd9f4342b0c00d1b85898e69": {
     "model_module": "@jupyter-widgets/controls",
     "model_module_version": "1.5.0",
     "model_name": "HTMLModel",
     "state": {
      "_dom_classes": [],
      "_model_module": "@jupyter-widgets/controls",
      "_model_module_version": "1.5.0",
      "_model_name": "HTMLModel",
      "_view_count": null,
      "_view_module": "@jupyter-widgets/controls",
      "_view_module_version": "1.5.0",
      "_view_name": "HTMLView",
      "description": "",
      "description_tooltip": null,
      "layout": "IPY_MODEL_b3a14f4ff1814d02bb6b625dddc44839",
      "placeholder": "​",
      "style": "IPY_MODEL_748cb6e52d8f4b51b840f6de1e3ac01e",
      "value": " 105/105 [00:34&lt;00:00,  3.08it/s, v_num=35, val_loss=2.310, val_accuracy=0.213, train_loss=2.310, train_accuracy=0.212]"
     }
    },
    "a0b7ee4fc9de42c5bf6b6c3410a905c7": {
     "model_module": "@jupyter-widgets/base",
     "model_module_version": "1.2.0",
     "model_name": "LayoutModel",
     "state": {
      "_model_module": "@jupyter-widgets/base",
      "_model_module_version": "1.2.0",
      "_model_name": "LayoutModel",
      "_view_count": null,
      "_view_module": "@jupyter-widgets/base",
      "_view_module_version": "1.2.0",
      "_view_name": "LayoutView",
      "align_content": null,
      "align_items": null,
      "align_self": null,
      "border": null,
      "bottom": null,
      "display": null,
      "flex": null,
      "flex_flow": null,
      "grid_area": null,
      "grid_auto_columns": null,
      "grid_auto_flow": null,
      "grid_auto_rows": null,
      "grid_column": null,
      "grid_gap": null,
      "grid_row": null,
      "grid_template_areas": null,
      "grid_template_columns": null,
      "grid_template_rows": null,
      "height": null,
      "justify_content": null,
      "justify_items": null,
      "left": null,
      "margin": null,
      "max_height": null,
      "max_width": null,
      "min_height": null,
      "min_width": null,
      "object_fit": null,
      "object_position": null,
      "order": null,
      "overflow": null,
      "overflow_x": null,
      "overflow_y": null,
      "padding": null,
      "right": null,
      "top": null,
      "visibility": null,
      "width": null
     }
    },
    "a292d656bdad4d86a3d0ddf90f4c46b9": {
     "model_module": "@jupyter-widgets/controls",
     "model_module_version": "1.5.0",
     "model_name": "DescriptionStyleModel",
     "state": {
      "_model_module": "@jupyter-widgets/controls",
      "_model_module_version": "1.5.0",
      "_model_name": "DescriptionStyleModel",
      "_view_count": null,
      "_view_module": "@jupyter-widgets/base",
      "_view_module_version": "1.2.0",
      "_view_name": "StyleView",
      "description_width": ""
     }
    },
    "a353486d2fc3421d96a7f84ea4a8623e": {
     "model_module": "@jupyter-widgets/base",
     "model_module_version": "1.2.0",
     "model_name": "LayoutModel",
     "state": {
      "_model_module": "@jupyter-widgets/base",
      "_model_module_version": "1.2.0",
      "_model_name": "LayoutModel",
      "_view_count": null,
      "_view_module": "@jupyter-widgets/base",
      "_view_module_version": "1.2.0",
      "_view_name": "LayoutView",
      "align_content": null,
      "align_items": null,
      "align_self": null,
      "border": null,
      "bottom": null,
      "display": "inline-flex",
      "flex": null,
      "flex_flow": "row wrap",
      "grid_area": null,
      "grid_auto_columns": null,
      "grid_auto_flow": null,
      "grid_auto_rows": null,
      "grid_column": null,
      "grid_gap": null,
      "grid_row": null,
      "grid_template_areas": null,
      "grid_template_columns": null,
      "grid_template_rows": null,
      "height": null,
      "justify_content": null,
      "justify_items": null,
      "left": null,
      "margin": null,
      "max_height": null,
      "max_width": null,
      "min_height": null,
      "min_width": null,
      "object_fit": null,
      "object_position": null,
      "order": null,
      "overflow": null,
      "overflow_x": null,
      "overflow_y": null,
      "padding": null,
      "right": null,
      "top": null,
      "visibility": "hidden",
      "width": "100%"
     }
    },
    "a96bcc85dc0349ca904a02701b123b3f": {
     "model_module": "@jupyter-widgets/controls",
     "model_module_version": "1.5.0",
     "model_name": "DescriptionStyleModel",
     "state": {
      "_model_module": "@jupyter-widgets/controls",
      "_model_module_version": "1.5.0",
      "_model_name": "DescriptionStyleModel",
      "_view_count": null,
      "_view_module": "@jupyter-widgets/base",
      "_view_module_version": "1.2.0",
      "_view_name": "StyleView",
      "description_width": ""
     }
    },
    "ae0af05cb3ce4b829a58795366fe67bb": {
     "model_module": "@jupyter-widgets/base",
     "model_module_version": "1.2.0",
     "model_name": "LayoutModel",
     "state": {
      "_model_module": "@jupyter-widgets/base",
      "_model_module_version": "1.2.0",
      "_model_name": "LayoutModel",
      "_view_count": null,
      "_view_module": "@jupyter-widgets/base",
      "_view_module_version": "1.2.0",
      "_view_name": "LayoutView",
      "align_content": null,
      "align_items": null,
      "align_self": null,
      "border": null,
      "bottom": null,
      "display": "inline-flex",
      "flex": null,
      "flex_flow": "row wrap",
      "grid_area": null,
      "grid_auto_columns": null,
      "grid_auto_flow": null,
      "grid_auto_rows": null,
      "grid_column": null,
      "grid_gap": null,
      "grid_row": null,
      "grid_template_areas": null,
      "grid_template_columns": null,
      "grid_template_rows": null,
      "height": null,
      "justify_content": null,
      "justify_items": null,
      "left": null,
      "margin": null,
      "max_height": null,
      "max_width": null,
      "min_height": null,
      "min_width": null,
      "object_fit": null,
      "object_position": null,
      "order": null,
      "overflow": null,
      "overflow_x": null,
      "overflow_y": null,
      "padding": null,
      "right": null,
      "top": null,
      "visibility": "hidden",
      "width": "100%"
     }
    },
    "b33e09543ffb464da327a3ad1b8be804": {
     "model_module": "@jupyter-widgets/controls",
     "model_module_version": "1.5.0",
     "model_name": "HTMLModel",
     "state": {
      "_dom_classes": [],
      "_model_module": "@jupyter-widgets/controls",
      "_model_module_version": "1.5.0",
      "_model_name": "HTMLModel",
      "_view_count": null,
      "_view_module": "@jupyter-widgets/controls",
      "_view_module_version": "1.5.0",
      "_view_name": "HTMLView",
      "description": "",
      "description_tooltip": null,
      "layout": "IPY_MODEL_4505df98394742c1a8b00a086de159cc",
      "placeholder": "​",
      "style": "IPY_MODEL_227701f52ca84010a57374b7c1dea088",
      "value": "Validation DataLoader 0: 100%"
     }
    },
    "b3a14f4ff1814d02bb6b625dddc44839": {
     "model_module": "@jupyter-widgets/base",
     "model_module_version": "1.2.0",
     "model_name": "LayoutModel",
     "state": {
      "_model_module": "@jupyter-widgets/base",
      "_model_module_version": "1.2.0",
      "_model_name": "LayoutModel",
      "_view_count": null,
      "_view_module": "@jupyter-widgets/base",
      "_view_module_version": "1.2.0",
      "_view_name": "LayoutView",
      "align_content": null,
      "align_items": null,
      "align_self": null,
      "border": null,
      "bottom": null,
      "display": null,
      "flex": null,
      "flex_flow": null,
      "grid_area": null,
      "grid_auto_columns": null,
      "grid_auto_flow": null,
      "grid_auto_rows": null,
      "grid_column": null,
      "grid_gap": null,
      "grid_row": null,
      "grid_template_areas": null,
      "grid_template_columns": null,
      "grid_template_rows": null,
      "height": null,
      "justify_content": null,
      "justify_items": null,
      "left": null,
      "margin": null,
      "max_height": null,
      "max_width": null,
      "min_height": null,
      "min_width": null,
      "object_fit": null,
      "object_position": null,
      "order": null,
      "overflow": null,
      "overflow_x": null,
      "overflow_y": null,
      "padding": null,
      "right": null,
      "top": null,
      "visibility": null,
      "width": null
     }
    },
    "b3e36b62346f4b9ea40a3d7b32028229": {
     "model_module": "@jupyter-widgets/controls",
     "model_module_version": "1.5.0",
     "model_name": "FloatProgressModel",
     "state": {
      "_dom_classes": [],
      "_model_module": "@jupyter-widgets/controls",
      "_model_module_version": "1.5.0",
      "_model_name": "FloatProgressModel",
      "_view_count": null,
      "_view_module": "@jupyter-widgets/controls",
      "_view_module_version": "1.5.0",
      "_view_name": "ProgressView",
      "bar_style": "",
      "description": "",
      "description_tooltip": null,
      "layout": "IPY_MODEL_19e26262fb54468fb5846435e066f094",
      "max": 20,
      "min": 0,
      "orientation": "horizontal",
      "style": "IPY_MODEL_f1cf8933279a48799a6be829e4201ef3",
      "value": 20
     }
    },
    "b7d836c03c6149d3b78b9286cb439d74": {
     "model_module": "@jupyter-widgets/controls",
     "model_module_version": "1.5.0",
     "model_name": "FloatProgressModel",
     "state": {
      "_dom_classes": [],
      "_model_module": "@jupyter-widgets/controls",
      "_model_module_version": "1.5.0",
      "_model_name": "FloatProgressModel",
      "_view_count": null,
      "_view_module": "@jupyter-widgets/controls",
      "_view_module_version": "1.5.0",
      "_view_name": "ProgressView",
      "bar_style": "",
      "description": "",
      "description_tooltip": null,
      "layout": "IPY_MODEL_0a730dd018c14709ab3aa6aab7e125e4",
      "max": 20,
      "min": 0,
      "orientation": "horizontal",
      "style": "IPY_MODEL_49a83a97dd96438da12bb55e3e40a64e",
      "value": 20
     }
    },
    "ba9cf5caa6384c41a19f42794b8e402a": {
     "model_module": "@jupyter-widgets/controls",
     "model_module_version": "1.5.0",
     "model_name": "HTMLModel",
     "state": {
      "_dom_classes": [],
      "_model_module": "@jupyter-widgets/controls",
      "_model_module_version": "1.5.0",
      "_model_name": "HTMLModel",
      "_view_count": null,
      "_view_module": "@jupyter-widgets/controls",
      "_view_module_version": "1.5.0",
      "_view_name": "HTMLView",
      "description": "",
      "description_tooltip": null,
      "layout": "IPY_MODEL_355b604cca854bbd9b2bc7e5fdb5afb7",
      "placeholder": "​",
      "style": "IPY_MODEL_a96bcc85dc0349ca904a02701b123b3f",
      "value": "Testing DataLoader 0: 100%"
     }
    },
    "bdb470581787465ebc0800744ec0bf90": {
     "model_module": "@jupyter-widgets/base",
     "model_module_version": "1.2.0",
     "model_name": "LayoutModel",
     "state": {
      "_model_module": "@jupyter-widgets/base",
      "_model_module_version": "1.2.0",
      "_model_name": "LayoutModel",
      "_view_count": null,
      "_view_module": "@jupyter-widgets/base",
      "_view_module_version": "1.2.0",
      "_view_name": "LayoutView",
      "align_content": null,
      "align_items": null,
      "align_self": null,
      "border": null,
      "bottom": null,
      "display": null,
      "flex": null,
      "flex_flow": null,
      "grid_area": null,
      "grid_auto_columns": null,
      "grid_auto_flow": null,
      "grid_auto_rows": null,
      "grid_column": null,
      "grid_gap": null,
      "grid_row": null,
      "grid_template_areas": null,
      "grid_template_columns": null,
      "grid_template_rows": null,
      "height": null,
      "justify_content": null,
      "justify_items": null,
      "left": null,
      "margin": null,
      "max_height": null,
      "max_width": null,
      "min_height": null,
      "min_width": null,
      "object_fit": null,
      "object_position": null,
      "order": null,
      "overflow": null,
      "overflow_x": null,
      "overflow_y": null,
      "padding": null,
      "right": null,
      "top": null,
      "visibility": null,
      "width": null
     }
    },
    "be87a5dc54c8457a9aac351f3d1c50ea": {
     "model_module": "@jupyter-widgets/controls",
     "model_module_version": "1.5.0",
     "model_name": "FloatProgressModel",
     "state": {
      "_dom_classes": [],
      "_model_module": "@jupyter-widgets/controls",
      "_model_module_version": "1.5.0",
      "_model_name": "FloatProgressModel",
      "_view_count": null,
      "_view_module": "@jupyter-widgets/controls",
      "_view_module_version": "1.5.0",
      "_view_name": "ProgressView",
      "bar_style": "",
      "description": "",
      "description_tooltip": null,
      "layout": "IPY_MODEL_efa085afd6ef423dbe32df9c8a0047ef",
      "max": 20,
      "min": 0,
      "orientation": "horizontal",
      "style": "IPY_MODEL_021a87e515cf4647ad3436d3e38c9176",
      "value": 20
     }
    },
    "bf16a8e95bf041e1b32b64ca0f8227a6": {
     "model_module": "@jupyter-widgets/controls",
     "model_module_version": "1.5.0",
     "model_name": "ProgressStyleModel",
     "state": {
      "_model_module": "@jupyter-widgets/controls",
      "_model_module_version": "1.5.0",
      "_model_name": "ProgressStyleModel",
      "_view_count": null,
      "_view_module": "@jupyter-widgets/base",
      "_view_module_version": "1.2.0",
      "_view_name": "StyleView",
      "bar_color": null,
      "description_width": ""
     }
    },
    "bf625076aa8f464eb1908772797d20e1": {
     "model_module": "@jupyter-widgets/controls",
     "model_module_version": "1.5.0",
     "model_name": "HTMLModel",
     "state": {
      "_dom_classes": [],
      "_model_module": "@jupyter-widgets/controls",
      "_model_module_version": "1.5.0",
      "_model_name": "HTMLModel",
      "_view_count": null,
      "_view_module": "@jupyter-widgets/controls",
      "_view_module_version": "1.5.0",
      "_view_name": "HTMLView",
      "description": "",
      "description_tooltip": null,
      "layout": "IPY_MODEL_f5c412b4ae1648d7b3c746296ae91b6c",
      "placeholder": "​",
      "style": "IPY_MODEL_136b9dc9844c48c9b9898ef0645562ed",
      "value": "Validation DataLoader 0: 100%"
     }
    },
    "c542dc43df5340fe90e7a7e552002e3c": {
     "model_module": "@jupyter-widgets/base",
     "model_module_version": "1.2.0",
     "model_name": "LayoutModel",
     "state": {
      "_model_module": "@jupyter-widgets/base",
      "_model_module_version": "1.2.0",
      "_model_name": "LayoutModel",
      "_view_count": null,
      "_view_module": "@jupyter-widgets/base",
      "_view_module_version": "1.2.0",
      "_view_name": "LayoutView",
      "align_content": null,
      "align_items": null,
      "align_self": null,
      "border": null,
      "bottom": null,
      "display": "inline-flex",
      "flex": null,
      "flex_flow": "row wrap",
      "grid_area": null,
      "grid_auto_columns": null,
      "grid_auto_flow": null,
      "grid_auto_rows": null,
      "grid_column": null,
      "grid_gap": null,
      "grid_row": null,
      "grid_template_areas": null,
      "grid_template_columns": null,
      "grid_template_rows": null,
      "height": null,
      "justify_content": null,
      "justify_items": null,
      "left": null,
      "margin": null,
      "max_height": null,
      "max_width": null,
      "min_height": null,
      "min_width": null,
      "object_fit": null,
      "object_position": null,
      "order": null,
      "overflow": null,
      "overflow_x": null,
      "overflow_y": null,
      "padding": null,
      "right": null,
      "top": null,
      "visibility": "hidden",
      "width": "100%"
     }
    },
    "c54aa7a111f74825ba332b0778d63473": {
     "model_module": "@jupyter-widgets/base",
     "model_module_version": "1.2.0",
     "model_name": "LayoutModel",
     "state": {
      "_model_module": "@jupyter-widgets/base",
      "_model_module_version": "1.2.0",
      "_model_name": "LayoutModel",
      "_view_count": null,
      "_view_module": "@jupyter-widgets/base",
      "_view_module_version": "1.2.0",
      "_view_name": "LayoutView",
      "align_content": null,
      "align_items": null,
      "align_self": null,
      "border": null,
      "bottom": null,
      "display": null,
      "flex": null,
      "flex_flow": null,
      "grid_area": null,
      "grid_auto_columns": null,
      "grid_auto_flow": null,
      "grid_auto_rows": null,
      "grid_column": null,
      "grid_gap": null,
      "grid_row": null,
      "grid_template_areas": null,
      "grid_template_columns": null,
      "grid_template_rows": null,
      "height": null,
      "justify_content": null,
      "justify_items": null,
      "left": null,
      "margin": null,
      "max_height": null,
      "max_width": null,
      "min_height": null,
      "min_width": null,
      "object_fit": null,
      "object_position": null,
      "order": null,
      "overflow": null,
      "overflow_x": null,
      "overflow_y": null,
      "padding": null,
      "right": null,
      "top": null,
      "visibility": null,
      "width": null
     }
    },
    "cb32b3b5cb6c459f9fb6ebba41b14179": {
     "model_module": "@jupyter-widgets/base",
     "model_module_version": "1.2.0",
     "model_name": "LayoutModel",
     "state": {
      "_model_module": "@jupyter-widgets/base",
      "_model_module_version": "1.2.0",
      "_model_name": "LayoutModel",
      "_view_count": null,
      "_view_module": "@jupyter-widgets/base",
      "_view_module_version": "1.2.0",
      "_view_name": "LayoutView",
      "align_content": null,
      "align_items": null,
      "align_self": null,
      "border": null,
      "bottom": null,
      "display": null,
      "flex": "2",
      "flex_flow": null,
      "grid_area": null,
      "grid_auto_columns": null,
      "grid_auto_flow": null,
      "grid_auto_rows": null,
      "grid_column": null,
      "grid_gap": null,
      "grid_row": null,
      "grid_template_areas": null,
      "grid_template_columns": null,
      "grid_template_rows": null,
      "height": null,
      "justify_content": null,
      "justify_items": null,
      "left": null,
      "margin": null,
      "max_height": null,
      "max_width": null,
      "min_height": null,
      "min_width": null,
      "object_fit": null,
      "object_position": null,
      "order": null,
      "overflow": null,
      "overflow_x": null,
      "overflow_y": null,
      "padding": null,
      "right": null,
      "top": null,
      "visibility": null,
      "width": null
     }
    },
    "cf5a20fda1524664bc3a270e2d22247c": {
     "model_module": "@jupyter-widgets/base",
     "model_module_version": "1.2.0",
     "model_name": "LayoutModel",
     "state": {
      "_model_module": "@jupyter-widgets/base",
      "_model_module_version": "1.2.0",
      "_model_name": "LayoutModel",
      "_view_count": null,
      "_view_module": "@jupyter-widgets/base",
      "_view_module_version": "1.2.0",
      "_view_name": "LayoutView",
      "align_content": null,
      "align_items": null,
      "align_self": null,
      "border": null,
      "bottom": null,
      "display": "inline-flex",
      "flex": null,
      "flex_flow": "row wrap",
      "grid_area": null,
      "grid_auto_columns": null,
      "grid_auto_flow": null,
      "grid_auto_rows": null,
      "grid_column": null,
      "grid_gap": null,
      "grid_row": null,
      "grid_template_areas": null,
      "grid_template_columns": null,
      "grid_template_rows": null,
      "height": null,
      "justify_content": null,
      "justify_items": null,
      "left": null,
      "margin": null,
      "max_height": null,
      "max_width": null,
      "min_height": null,
      "min_width": null,
      "object_fit": null,
      "object_position": null,
      "order": null,
      "overflow": null,
      "overflow_x": null,
      "overflow_y": null,
      "padding": null,
      "right": null,
      "top": null,
      "visibility": "hidden",
      "width": "100%"
     }
    },
    "d6585ed9890c4741b4639ef75502f569": {
     "model_module": "@jupyter-widgets/controls",
     "model_module_version": "1.5.0",
     "model_name": "DescriptionStyleModel",
     "state": {
      "_model_module": "@jupyter-widgets/controls",
      "_model_module_version": "1.5.0",
      "_model_name": "DescriptionStyleModel",
      "_view_count": null,
      "_view_module": "@jupyter-widgets/base",
      "_view_module_version": "1.2.0",
      "_view_name": "StyleView",
      "description_width": ""
     }
    },
    "dd1d13e06c6742b486e321a61c0fa3c2": {
     "model_module": "@jupyter-widgets/controls",
     "model_module_version": "1.5.0",
     "model_name": "DescriptionStyleModel",
     "state": {
      "_model_module": "@jupyter-widgets/controls",
      "_model_module_version": "1.5.0",
      "_model_name": "DescriptionStyleModel",
      "_view_count": null,
      "_view_module": "@jupyter-widgets/base",
      "_view_module_version": "1.2.0",
      "_view_name": "StyleView",
      "description_width": ""
     }
    },
    "dd38a9361e664e078c9a70b7dea9b0a4": {
     "model_module": "@jupyter-widgets/base",
     "model_module_version": "1.2.0",
     "model_name": "LayoutModel",
     "state": {
      "_model_module": "@jupyter-widgets/base",
      "_model_module_version": "1.2.0",
      "_model_name": "LayoutModel",
      "_view_count": null,
      "_view_module": "@jupyter-widgets/base",
      "_view_module_version": "1.2.0",
      "_view_name": "LayoutView",
      "align_content": null,
      "align_items": null,
      "align_self": null,
      "border": null,
      "bottom": null,
      "display": null,
      "flex": null,
      "flex_flow": null,
      "grid_area": null,
      "grid_auto_columns": null,
      "grid_auto_flow": null,
      "grid_auto_rows": null,
      "grid_column": null,
      "grid_gap": null,
      "grid_row": null,
      "grid_template_areas": null,
      "grid_template_columns": null,
      "grid_template_rows": null,
      "height": null,
      "justify_content": null,
      "justify_items": null,
      "left": null,
      "margin": null,
      "max_height": null,
      "max_width": null,
      "min_height": null,
      "min_width": null,
      "object_fit": null,
      "object_position": null,
      "order": null,
      "overflow": null,
      "overflow_x": null,
      "overflow_y": null,
      "padding": null,
      "right": null,
      "top": null,
      "visibility": null,
      "width": null
     }
    },
    "dd9b7673da3748c6a67788fd312cbe6b": {
     "model_module": "@jupyter-widgets/controls",
     "model_module_version": "1.5.0",
     "model_name": "DescriptionStyleModel",
     "state": {
      "_model_module": "@jupyter-widgets/controls",
      "_model_module_version": "1.5.0",
      "_model_name": "DescriptionStyleModel",
      "_view_count": null,
      "_view_module": "@jupyter-widgets/base",
      "_view_module_version": "1.2.0",
      "_view_name": "StyleView",
      "description_width": ""
     }
    },
    "ddaaf2ef9e6d4e5ebaaee489b515a1c0": {
     "model_module": "@jupyter-widgets/base",
     "model_module_version": "1.2.0",
     "model_name": "LayoutModel",
     "state": {
      "_model_module": "@jupyter-widgets/base",
      "_model_module_version": "1.2.0",
      "_model_name": "LayoutModel",
      "_view_count": null,
      "_view_module": "@jupyter-widgets/base",
      "_view_module_version": "1.2.0",
      "_view_name": "LayoutView",
      "align_content": null,
      "align_items": null,
      "align_self": null,
      "border": null,
      "bottom": null,
      "display": null,
      "flex": null,
      "flex_flow": null,
      "grid_area": null,
      "grid_auto_columns": null,
      "grid_auto_flow": null,
      "grid_auto_rows": null,
      "grid_column": null,
      "grid_gap": null,
      "grid_row": null,
      "grid_template_areas": null,
      "grid_template_columns": null,
      "grid_template_rows": null,
      "height": null,
      "justify_content": null,
      "justify_items": null,
      "left": null,
      "margin": null,
      "max_height": null,
      "max_width": null,
      "min_height": null,
      "min_width": null,
      "object_fit": null,
      "object_position": null,
      "order": null,
      "overflow": null,
      "overflow_x": null,
      "overflow_y": null,
      "padding": null,
      "right": null,
      "top": null,
      "visibility": null,
      "width": null
     }
    },
    "de411f5cee064afb81f239b6b6950fe0": {
     "model_module": "@jupyter-widgets/controls",
     "model_module_version": "1.5.0",
     "model_name": "ProgressStyleModel",
     "state": {
      "_model_module": "@jupyter-widgets/controls",
      "_model_module_version": "1.5.0",
      "_model_name": "ProgressStyleModel",
      "_view_count": null,
      "_view_module": "@jupyter-widgets/base",
      "_view_module_version": "1.2.0",
      "_view_name": "StyleView",
      "bar_color": null,
      "description_width": ""
     }
    },
    "deb3bcfeae3b4c1fb81582dedb41f930": {
     "model_module": "@jupyter-widgets/controls",
     "model_module_version": "1.5.0",
     "model_name": "HBoxModel",
     "state": {
      "_dom_classes": [],
      "_model_module": "@jupyter-widgets/controls",
      "_model_module_version": "1.5.0",
      "_model_name": "HBoxModel",
      "_view_count": null,
      "_view_module": "@jupyter-widgets/controls",
      "_view_module_version": "1.5.0",
      "_view_name": "HBoxView",
      "box_style": "",
      "children": [
       "IPY_MODEL_bf625076aa8f464eb1908772797d20e1",
       "IPY_MODEL_336c17ffaf0d48c3ae09856c626d1188",
       "IPY_MODEL_70dc9a761141455ea70d73ea5a885992"
      ],
      "layout": "IPY_MODEL_ae0af05cb3ce4b829a58795366fe67bb"
     }
    },
    "e376e7befb6a4307b192719039602c43": {
     "model_module": "@jupyter-widgets/controls",
     "model_module_version": "1.5.0",
     "model_name": "HTMLModel",
     "state": {
      "_dom_classes": [],
      "_model_module": "@jupyter-widgets/controls",
      "_model_module_version": "1.5.0",
      "_model_name": "HTMLModel",
      "_view_count": null,
      "_view_module": "@jupyter-widgets/controls",
      "_view_module_version": "1.5.0",
      "_view_name": "HTMLView",
      "description": "",
      "description_tooltip": null,
      "layout": "IPY_MODEL_2fb29d1179d5440bb8a83e28e6f80bde",
      "placeholder": "​",
      "style": "IPY_MODEL_177638985c824fce88ef163c06a13688",
      "value": " 131/131 [00:13&lt;00:00,  9.82it/s]"
     }
    },
    "e4cce3454bab486fbd7dbf83caaf5931": {
     "model_module": "@jupyter-widgets/controls",
     "model_module_version": "1.5.0",
     "model_name": "FloatProgressModel",
     "state": {
      "_dom_classes": [],
      "_model_module": "@jupyter-widgets/controls",
      "_model_module_version": "1.5.0",
      "_model_name": "FloatProgressModel",
      "_view_count": null,
      "_view_module": "@jupyter-widgets/controls",
      "_view_module_version": "1.5.0",
      "_view_name": "ProgressView",
      "bar_style": "",
      "description": "",
      "description_tooltip": null,
      "layout": "IPY_MODEL_382311c1966449c2b64976ff7e0fb22d",
      "max": 20,
      "min": 0,
      "orientation": "horizontal",
      "style": "IPY_MODEL_599c5456ac924283a3d2f36cc6ba3fa3",
      "value": 20
     }
    },
    "eb5a3aef28774f2faca6b1a473b5c3fa": {
     "model_module": "@jupyter-widgets/controls",
     "model_module_version": "1.5.0",
     "model_name": "HTMLModel",
     "state": {
      "_dom_classes": [],
      "_model_module": "@jupyter-widgets/controls",
      "_model_module_version": "1.5.0",
      "_model_name": "HTMLModel",
      "_view_count": null,
      "_view_module": "@jupyter-widgets/controls",
      "_view_module_version": "1.5.0",
      "_view_name": "HTMLView",
      "description": "",
      "description_tooltip": null,
      "layout": "IPY_MODEL_f55b1df7bfd74f908032360204b87640",
      "placeholder": "​",
      "style": "IPY_MODEL_095e6be8c5334b26b0b68f3eba5f810d",
      "value": "Validation DataLoader 0: 100%"
     }
    },
    "eebddd07b83d4d8b80ab2669a534c239": {
     "model_module": "@jupyter-widgets/controls",
     "model_module_version": "1.5.0",
     "model_name": "ProgressStyleModel",
     "state": {
      "_model_module": "@jupyter-widgets/controls",
      "_model_module_version": "1.5.0",
      "_model_name": "ProgressStyleModel",
      "_view_count": null,
      "_view_module": "@jupyter-widgets/base",
      "_view_module_version": "1.2.0",
      "_view_name": "StyleView",
      "bar_color": null,
      "description_width": ""
     }
    },
    "efa085afd6ef423dbe32df9c8a0047ef": {
     "model_module": "@jupyter-widgets/base",
     "model_module_version": "1.2.0",
     "model_name": "LayoutModel",
     "state": {
      "_model_module": "@jupyter-widgets/base",
      "_model_module_version": "1.2.0",
      "_model_name": "LayoutModel",
      "_view_count": null,
      "_view_module": "@jupyter-widgets/base",
      "_view_module_version": "1.2.0",
      "_view_name": "LayoutView",
      "align_content": null,
      "align_items": null,
      "align_self": null,
      "border": null,
      "bottom": null,
      "display": null,
      "flex": "2",
      "flex_flow": null,
      "grid_area": null,
      "grid_auto_columns": null,
      "grid_auto_flow": null,
      "grid_auto_rows": null,
      "grid_column": null,
      "grid_gap": null,
      "grid_row": null,
      "grid_template_areas": null,
      "grid_template_columns": null,
      "grid_template_rows": null,
      "height": null,
      "justify_content": null,
      "justify_items": null,
      "left": null,
      "margin": null,
      "max_height": null,
      "max_width": null,
      "min_height": null,
      "min_width": null,
      "object_fit": null,
      "object_position": null,
      "order": null,
      "overflow": null,
      "overflow_x": null,
      "overflow_y": null,
      "padding": null,
      "right": null,
      "top": null,
      "visibility": null,
      "width": null
     }
    },
    "f1cf8933279a48799a6be829e4201ef3": {
     "model_module": "@jupyter-widgets/controls",
     "model_module_version": "1.5.0",
     "model_name": "ProgressStyleModel",
     "state": {
      "_model_module": "@jupyter-widgets/controls",
      "_model_module_version": "1.5.0",
      "_model_name": "ProgressStyleModel",
      "_view_count": null,
      "_view_module": "@jupyter-widgets/base",
      "_view_module_version": "1.2.0",
      "_view_name": "StyleView",
      "bar_color": null,
      "description_width": ""
     }
    },
    "f43758202cae40cc97fd13ee9acd0e43": {
     "model_module": "@jupyter-widgets/controls",
     "model_module_version": "1.5.0",
     "model_name": "ProgressStyleModel",
     "state": {
      "_model_module": "@jupyter-widgets/controls",
      "_model_module_version": "1.5.0",
      "_model_name": "ProgressStyleModel",
      "_view_count": null,
      "_view_module": "@jupyter-widgets/base",
      "_view_module_version": "1.2.0",
      "_view_name": "StyleView",
      "bar_color": null,
      "description_width": ""
     }
    },
    "f4e8fe1c0b1542b8829802147bd0788f": {
     "model_module": "@jupyter-widgets/controls",
     "model_module_version": "1.5.0",
     "model_name": "FloatProgressModel",
     "state": {
      "_dom_classes": [],
      "_model_module": "@jupyter-widgets/controls",
      "_model_module_version": "1.5.0",
      "_model_name": "FloatProgressModel",
      "_view_count": null,
      "_view_module": "@jupyter-widgets/controls",
      "_view_module_version": "1.5.0",
      "_view_name": "ProgressView",
      "bar_style": "",
      "description": "",
      "description_tooltip": null,
      "layout": "IPY_MODEL_112aa81085bb4649966d6a023a55c13e",
      "max": 2,
      "min": 0,
      "orientation": "horizontal",
      "style": "IPY_MODEL_f43758202cae40cc97fd13ee9acd0e43",
      "value": 2
     }
    },
    "f55b1df7bfd74f908032360204b87640": {
     "model_module": "@jupyter-widgets/base",
     "model_module_version": "1.2.0",
     "model_name": "LayoutModel",
     "state": {
      "_model_module": "@jupyter-widgets/base",
      "_model_module_version": "1.2.0",
      "_model_name": "LayoutModel",
      "_view_count": null,
      "_view_module": "@jupyter-widgets/base",
      "_view_module_version": "1.2.0",
      "_view_name": "LayoutView",
      "align_content": null,
      "align_items": null,
      "align_self": null,
      "border": null,
      "bottom": null,
      "display": null,
      "flex": null,
      "flex_flow": null,
      "grid_area": null,
      "grid_auto_columns": null,
      "grid_auto_flow": null,
      "grid_auto_rows": null,
      "grid_column": null,
      "grid_gap": null,
      "grid_row": null,
      "grid_template_areas": null,
      "grid_template_columns": null,
      "grid_template_rows": null,
      "height": null,
      "justify_content": null,
      "justify_items": null,
      "left": null,
      "margin": null,
      "max_height": null,
      "max_width": null,
      "min_height": null,
      "min_width": null,
      "object_fit": null,
      "object_position": null,
      "order": null,
      "overflow": null,
      "overflow_x": null,
      "overflow_y": null,
      "padding": null,
      "right": null,
      "top": null,
      "visibility": null,
      "width": null
     }
    },
    "f5c412b4ae1648d7b3c746296ae91b6c": {
     "model_module": "@jupyter-widgets/base",
     "model_module_version": "1.2.0",
     "model_name": "LayoutModel",
     "state": {
      "_model_module": "@jupyter-widgets/base",
      "_model_module_version": "1.2.0",
      "_model_name": "LayoutModel",
      "_view_count": null,
      "_view_module": "@jupyter-widgets/base",
      "_view_module_version": "1.2.0",
      "_view_name": "LayoutView",
      "align_content": null,
      "align_items": null,
      "align_self": null,
      "border": null,
      "bottom": null,
      "display": null,
      "flex": null,
      "flex_flow": null,
      "grid_area": null,
      "grid_auto_columns": null,
      "grid_auto_flow": null,
      "grid_auto_rows": null,
      "grid_column": null,
      "grid_gap": null,
      "grid_row": null,
      "grid_template_areas": null,
      "grid_template_columns": null,
      "grid_template_rows": null,
      "height": null,
      "justify_content": null,
      "justify_items": null,
      "left": null,
      "margin": null,
      "max_height": null,
      "max_width": null,
      "min_height": null,
      "min_width": null,
      "object_fit": null,
      "object_position": null,
      "order": null,
      "overflow": null,
      "overflow_x": null,
      "overflow_y": null,
      "padding": null,
      "right": null,
      "top": null,
      "visibility": null,
      "width": null
     }
    },
    "f8ffdd67f54843e69813c9384045c44c": {
     "model_module": "@jupyter-widgets/base",
     "model_module_version": "1.2.0",
     "model_name": "LayoutModel",
     "state": {
      "_model_module": "@jupyter-widgets/base",
      "_model_module_version": "1.2.0",
      "_model_name": "LayoutModel",
      "_view_count": null,
      "_view_module": "@jupyter-widgets/base",
      "_view_module_version": "1.2.0",
      "_view_name": "LayoutView",
      "align_content": null,
      "align_items": null,
      "align_self": null,
      "border": null,
      "bottom": null,
      "display": "inline-flex",
      "flex": null,
      "flex_flow": "row wrap",
      "grid_area": null,
      "grid_auto_columns": null,
      "grid_auto_flow": null,
      "grid_auto_rows": null,
      "grid_column": null,
      "grid_gap": null,
      "grid_row": null,
      "grid_template_areas": null,
      "grid_template_columns": null,
      "grid_template_rows": null,
      "height": null,
      "justify_content": null,
      "justify_items": null,
      "left": null,
      "margin": null,
      "max_height": null,
      "max_width": null,
      "min_height": null,
      "min_width": null,
      "object_fit": null,
      "object_position": null,
      "order": null,
      "overflow": null,
      "overflow_x": null,
      "overflow_y": null,
      "padding": null,
      "right": null,
      "top": null,
      "visibility": "hidden",
      "width": "100%"
     }
    },
    "f995d08b430d4f5db52bd872138c090f": {
     "model_module": "@jupyter-widgets/base",
     "model_module_version": "1.2.0",
     "model_name": "LayoutModel",
     "state": {
      "_model_module": "@jupyter-widgets/base",
      "_model_module_version": "1.2.0",
      "_model_name": "LayoutModel",
      "_view_count": null,
      "_view_module": "@jupyter-widgets/base",
      "_view_module_version": "1.2.0",
      "_view_name": "LayoutView",
      "align_content": null,
      "align_items": null,
      "align_self": null,
      "border": null,
      "bottom": null,
      "display": null,
      "flex": null,
      "flex_flow": null,
      "grid_area": null,
      "grid_auto_columns": null,
      "grid_auto_flow": null,
      "grid_auto_rows": null,
      "grid_column": null,
      "grid_gap": null,
      "grid_row": null,
      "grid_template_areas": null,
      "grid_template_columns": null,
      "grid_template_rows": null,
      "height": null,
      "justify_content": null,
      "justify_items": null,
      "left": null,
      "margin": null,
      "max_height": null,
      "max_width": null,
      "min_height": null,
      "min_width": null,
      "object_fit": null,
      "object_position": null,
      "order": null,
      "overflow": null,
      "overflow_x": null,
      "overflow_y": null,
      "padding": null,
      "right": null,
      "top": null,
      "visibility": null,
      "width": null
     }
    },
    "ffd518597146417eab21bdd7081cc520": {
     "model_module": "@jupyter-widgets/controls",
     "model_module_version": "1.5.0",
     "model_name": "HBoxModel",
     "state": {
      "_dom_classes": [],
      "_model_module": "@jupyter-widgets/controls",
      "_model_module_version": "1.5.0",
      "_model_name": "HBoxModel",
      "_view_count": null,
      "_view_module": "@jupyter-widgets/controls",
      "_view_module_version": "1.5.0",
      "_view_name": "HBoxView",
      "box_style": "",
      "children": [
       "IPY_MODEL_28c37ae7c6514df2bd0824670321e314",
       "IPY_MODEL_f4e8fe1c0b1542b8829802147bd0788f",
       "IPY_MODEL_92a30638b173469c8ba5310a7375d661"
      ],
      "layout": "IPY_MODEL_1766e27c6a0e47d4b759efd9f6abdfe4"
     }
    },
    "ffeeb41db74b401591828ed6e0074359": {
     "model_module": "@jupyter-widgets/controls",
     "model_module_version": "1.5.0",
     "model_name": "DescriptionStyleModel",
     "state": {
      "_model_module": "@jupyter-widgets/controls",
      "_model_module_version": "1.5.0",
      "_model_name": "DescriptionStyleModel",
      "_view_count": null,
      "_view_module": "@jupyter-widgets/base",
      "_view_module_version": "1.2.0",
      "_view_name": "StyleView",
      "description_width": ""
     }
    }
   }
  }
 },
 "nbformat": 4,
 "nbformat_minor": 4
}
